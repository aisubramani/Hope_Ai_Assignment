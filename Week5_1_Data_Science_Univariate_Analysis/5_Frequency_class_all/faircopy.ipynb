{
 "cells": [
  {
   "cell_type": "code",
   "execution_count": 1,
   "id": "921ed5a9-1e37-471d-a224-774f5a0b35a9",
   "metadata": {},
   "outputs": [],
   "source": [
    "from my_class_univariate import myunivariate\n",
    "import pandas as pd\n",
    "import numpy as np\n",
    "dataset = pd.read_csv(\"Placement.csv\")"
   ]
  },
  {
   "cell_type": "code",
   "execution_count": 2,
   "id": "2e400aa4-c0ec-4225-9769-7bc082027176",
   "metadata": {},
   "outputs": [
    {
     "name": "stdout",
     "output_type": "stream",
     "text": [
      "['ssc_p', 'hsc_p', 'degree_p', 'etest_p', 'mba_p', 'salary']\n"
     ]
    }
   ],
   "source": [
    "# Get quantitative and qualitative columns\n",
    "quan, qual = myunivariate.QuanQual(dataset)\n",
    "quan.remove(\"sl_no\")\n",
    "print(quan)"
   ]
  },
  {
   "cell_type": "code",
   "execution_count": 3,
   "id": "0decef2c-2d06-4305-b7bc-dbe0ff939222",
   "metadata": {},
   "outputs": [
    {
     "name": "stdout",
     "output_type": "stream",
     "text": [
      "\n",
      "-------------- Outlier info --------------\n",
      "\n",
      "Lower outlier in :'hsc_p' value : 37.0\n",
      "Upper outlier in :'hsc_p' value : 97.7\n",
      "Upper outlier in :'degree_p' value : 91.0\n",
      "Upper outlier in :'salary' value : 940000.0\n",
      "Lesser outlier : ['hsc_p'] \n",
      "Greater outlier: ['hsc_p', 'degree_p', 'salary']\n",
      "\n",
      "-------------- Univariate Table  --------------\n",
      "\n",
      "             ssc_p  hsc_p degree_p etest_p   mba_p     salary\n",
      "Mean          67.3  66.33    66.37    72.1   62.28  288655.41\n",
      "Median        67.0   65.0     66.0    71.0    62.0   265000.0\n",
      "Mode          62.0   63.0     65.0    60.0    56.7   300000.0\n",
      "Min          40.89   37.0     50.0    50.0   51.21   200000.0\n",
      "Q1-25%        60.6   60.9     61.0    60.0  57.945   240000.0\n",
      "Q2-50%        67.0   65.0     66.0    71.0    62.0   265000.0\n",
      "Q3-75%        75.7   73.0     72.0    83.5  66.255   300000.0\n",
      "Max           89.4   97.7     91.0    98.0   77.89   940000.0\n",
      "IQR           15.1   12.1     11.0    23.5    8.31    60000.0\n",
      "1.5-Rule     22.65  18.15     16.5   35.25  12.465    90000.0\n",
      "Lower-Bound  37.95  42.75     44.5   24.75   45.48   150000.0\n",
      "Upper-Bound  98.35  91.15     88.5  118.75   78.72   390000.0\n"
     ]
    }
   ],
   "source": [
    "# Descriptive statistics\n",
    "desc = myunivariate.UnivariateTable(dataset,quan)\n",
    "print(desc)"
   ]
  },
  {
   "cell_type": "code",
   "execution_count": 5,
   "id": "0821c5f5-da89-4773-9b1a-7492fce3d7fc",
   "metadata": {},
   "outputs": [
    {
     "name": "stdout",
     "output_type": "stream",
     "text": [
      "\n",
      "-------------- Outliers Replaced info --------------\n",
      "\n",
      "sl_no: Outliers replaced → lower < -106.00, upper > 322.00\n",
      "ssc_p: Outliers replaced → lower < 37.95, upper > 98.35\n",
      "hsc_p: Outliers replaced → lower < 42.75, upper > 91.15\n",
      "degree_p: Outliers replaced → lower < 44.50, upper > 88.50\n",
      "etest_p: Outliers replaced → lower < 24.75, upper > 118.75\n",
      "mba_p: Outliers replaced → lower < 45.48, upper > 78.72\n",
      "salary: Outliers replaced → lower < 150000.00, upper > 390000.00\n"
     ]
    }
   ],
   "source": [
    "# Replace outliers\n",
    "cleaned_dataset = myunivariate.replace_outliers(dataset)"
   ]
  },
  {
   "cell_type": "code",
   "execution_count": 6,
   "id": "068f77bd-17a4-49ff-92be-2b244ade9a87",
   "metadata": {},
   "outputs": [
    {
     "name": "stdout",
     "output_type": "stream",
     "text": [
      "\n",
      "-------------- Outlier info --------------\n",
      "\n",
      "Lesser outlier : [] \n",
      "Greater outlier: []\n",
      "\n",
      "-------------- Univariate Table  --------------\n",
      "\n",
      "             ssc_p  hsc_p degree_p etest_p   mba_p     salary\n",
      "Mean          67.3  66.33    66.36    72.1   62.28  277648.65\n",
      "Median        67.0   65.0     66.0    71.0    62.0   265000.0\n",
      "Mode          62.0   63.0     65.0    60.0    56.7   300000.0\n",
      "Min          40.89  42.75     50.0    50.0   51.21   200000.0\n",
      "Q1-25%        60.6   60.9     61.0    60.0  57.945   240000.0\n",
      "Q2-50%        67.0   65.0     66.0    71.0    62.0   265000.0\n",
      "Q3-75%        75.7   73.0     72.0    83.5  66.255   300000.0\n",
      "Max           89.4  91.15     88.5    98.0   77.89   390000.0\n",
      "IQR           15.1   12.1     11.0    23.5    8.31    60000.0\n",
      "1.5-Rule     22.65  18.15     16.5   35.25  12.465    90000.0\n",
      "Lower-Bound  37.95  42.75     44.5   24.75   45.48   150000.0\n",
      "Upper-Bound  98.35  91.15     88.5  118.75   78.72   390000.0\n"
     ]
    }
   ],
   "source": [
    "# Descriptive statistics\n",
    "desc = myunivariate.UnivariateTable(cleaned_dataset,quan)\n",
    "print(desc)"
   ]
  },
  {
   "cell_type": "code",
   "execution_count": 7,
   "id": "97c1ad54-d969-4fe0-96ca-3979bf5e3577",
   "metadata": {},
   "outputs": [
    {
     "name": "stdout",
     "output_type": "stream",
     "text": [
      "\n",
      "---- Frequency Table for 'ssc_p'------\n",
      "\n",
      "     Unique_Values  Frequency  Relative_Frequency  Cumulative_Rel_Freq\n",
      "0            62.00         11            0.051163             0.051163\n",
      "1            63.00         10            0.046512             0.097674\n",
      "2            67.00          9            0.041860             0.139535\n",
      "3            73.00          9            0.041860             0.181395\n",
      "4            52.00          9            0.041860             0.223256\n",
      "..             ...        ...                 ...                  ...\n",
      "98           55.68          1            0.004651             0.981395\n",
      "99           41.00          1            0.004651             0.986047\n",
      "100          83.33          1            0.004651             0.990698\n",
      "101          43.00          1            0.004651             0.995349\n",
      "102          80.60          1            0.004651             1.000000\n",
      "\n",
      "[103 rows x 4 columns]\n",
      "\n",
      "---- Frequency Table for 'hsc_p'------\n",
      "\n",
      "    Unique_Values  Frequency  Relative_Frequency  Cumulative_Rel_Freq\n",
      "0           63.00         14            0.065116             0.065116\n",
      "1           62.00         12            0.055814             0.120930\n",
      "2           67.00          9            0.041860             0.162791\n",
      "3           60.00          9            0.041860             0.204651\n",
      "4           70.00          8            0.037209             0.241860\n",
      "..            ...        ...                 ...                  ...\n",
      "86          65.50          1            0.004651             0.981395\n",
      "87          77.60          1            0.004651             0.986047\n",
      "88          70.20          1            0.004651             0.990698\n",
      "89          61.40          1            0.004651             0.995349\n",
      "90          61.33          1            0.004651             1.000000\n",
      "\n",
      "[91 rows x 4 columns]\n",
      "\n",
      "---- Frequency Table for 'degree_p'------\n",
      "\n",
      "    Unique_Values  Frequency  Relative_Frequency  Cumulative_Rel_Freq\n",
      "0           65.00         20            0.093023             0.093023\n",
      "1           66.00         13            0.060465             0.153488\n",
      "2           72.00         12            0.055814             0.209302\n",
      "3           64.00         11            0.051163             0.260465\n",
      "4           58.00          9            0.041860             0.302326\n",
      "..            ...        ...                 ...                  ...\n",
      "84          64.80          1            0.004651             0.981395\n",
      "85          56.30          1            0.004651             0.986047\n",
      "86          88.50          1            0.004651             0.990698\n",
      "87          56.87          1            0.004651             0.995349\n",
      "88          77.60          1            0.004651             1.000000\n",
      "\n",
      "[89 rows x 4 columns]\n",
      "\n",
      "---- Frequency Table for 'etest_p'------\n",
      "\n",
      "    Unique_Values  Frequency  Relative_Frequency  Cumulative_Rel_Freq\n",
      "0           60.00         14            0.065116             0.065116\n",
      "1           80.00          8            0.037209             0.102326\n",
      "2           67.00          7            0.032558             0.134884\n",
      "3           75.00          7            0.032558             0.167442\n",
      "4           89.00          6            0.027907             0.195349\n",
      "..            ...        ...                 ...                  ...\n",
      "95          87.55          1            0.004651             0.981395\n",
      "96          61.28          1            0.004651             0.986047\n",
      "97          88.56          1            0.004651             0.990698\n",
      "98          92.66          1            0.004651             0.995349\n",
      "99          91.00          1            0.004651             1.000000\n",
      "\n",
      "[100 rows x 4 columns]\n",
      "\n",
      "---- Frequency Table for 'mba_p'------\n",
      "\n",
      "     Unique_Values  Frequency  Relative_Frequency  Cumulative_Rel_Freq\n",
      "0            56.70          3            0.013953             0.013953\n",
      "1            62.48          2            0.009302             0.023256\n",
      "2            64.15          2            0.009302             0.032558\n",
      "3            64.08          2            0.009302             0.041860\n",
      "4            61.29          2            0.009302             0.051163\n",
      "..             ...        ...                 ...                  ...\n",
      "200          74.49          1            0.004651             0.981395\n",
      "201          53.62          1            0.004651             0.986047\n",
      "202          69.72          1            0.004651             0.990698\n",
      "203          60.23          1            0.004651             0.995349\n",
      "204          60.22          1            0.004651             1.000000\n",
      "\n",
      "[205 rows x 4 columns]\n",
      "\n",
      "---- Frequency Table for 'salary'------\n",
      "\n",
      "    Unique_Values  Frequency  Relative_Frequency  Cumulative_Rel_Freq\n",
      "0        300000.0         22            0.148649             0.148649\n",
      "1        250000.0         18            0.121622             0.270270\n",
      "2        240000.0         15            0.101351             0.371622\n",
      "3        390000.0         15            0.101351             0.472973\n",
      "4        260000.0          7            0.047297             0.520270\n",
      "5        200000.0          6            0.040541             0.560811\n",
      "6        360000.0          6            0.040541             0.601351\n",
      "7        265000.0          6            0.040541             0.641892\n",
      "8        275000.0          5            0.033784             0.675676\n",
      "9        220000.0          5            0.033784             0.709459\n",
      "10       270000.0          4            0.027027             0.736486\n",
      "11       210000.0          4            0.027027             0.763514\n",
      "12       350000.0          3            0.020270             0.783784\n",
      "13       216000.0          3            0.020270             0.804054\n",
      "14       204000.0          2            0.013514             0.817568\n",
      "15       236000.0          2            0.013514             0.831081\n",
      "16       230000.0          2            0.013514             0.844595\n",
      "17       280000.0          2            0.013514             0.858108\n",
      "18       218000.0          2            0.013514             0.871622\n",
      "19       252000.0          2            0.013514             0.885135\n",
      "20       276000.0          2            0.013514             0.898649\n",
      "21       320000.0          1            0.006757             0.905405\n",
      "22       278000.0          1            0.006757             0.912162\n",
      "23       231000.0          1            0.006757             0.918919\n",
      "24       287000.0          1            0.006757             0.925676\n",
      "25       268000.0          1            0.006757             0.932432\n",
      "26       336000.0          1            0.006757             0.939189\n",
      "27       380000.0          1            0.006757             0.945946\n",
      "28       225000.0          1            0.006757             0.952703\n",
      "29       233000.0          1            0.006757             0.959459\n",
      "30       340000.0          1            0.006757             0.966216\n",
      "31       255000.0          1            0.006757             0.972973\n",
      "32       285000.0          1            0.006757             0.979730\n",
      "33       290000.0          1            0.006757             0.986486\n",
      "34       264000.0          1            0.006757             0.993243\n",
      "35       295000.0          1            0.006757             1.000000\n"
     ]
    }
   ],
   "source": [
    "# Frequency table\n",
    "#freq = myunivariate.FreqTable(cleaned_dataset,\"ssc_p\")\n",
    "#print(freq)\n",
    "\n",
    "for x in quan:\n",
    "    freq = myunivariate.FreqTable(cleaned_dataset,x)\n",
    "    print(freq)"
   ]
  },
  {
   "cell_type": "code",
   "execution_count": null,
   "id": "2a7ee12f-38c2-4e9f-91db-5e09af9f2d64",
   "metadata": {},
   "outputs": [],
   "source": []
  }
 ],
 "metadata": {
  "kernelspec": {
   "display_name": "Python 3 (ipykernel)",
   "language": "python",
   "name": "python3"
  },
  "language_info": {
   "codemirror_mode": {
    "name": "ipython",
    "version": 3
   },
   "file_extension": ".py",
   "mimetype": "text/x-python",
   "name": "python",
   "nbconvert_exporter": "python",
   "pygments_lexer": "ipython3",
   "version": "3.13.7"
  }
 },
 "nbformat": 4,
 "nbformat_minor": 5
}
