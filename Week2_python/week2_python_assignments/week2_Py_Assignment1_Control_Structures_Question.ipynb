{
 "cells": [
  {
   "cell_type": "code",
   "execution_count": 1,
   "id": "c014aea9-2331-455e-8acd-2a994945f6cb",
   "metadata": {},
   "outputs": [
    {
     "name": "stdout",
     "output_type": "stream",
     "text": [
      "Welcome to Assignment-1 (Week-2-Python)\n"
     ]
    }
   ],
   "source": [
    "#print statement\n",
    "print(\"Welcome to Assignment-1 (Week-2-Python)\")"
   ]
  },
  {
   "cell_type": "code",
   "execution_count": 2,
   "id": "8b40a843-55a4-41c1-af0e-e67a06153970",
   "metadata": {},
   "outputs": [
    {
     "name": "stdout",
     "output_type": "stream",
     "text": [
      "Number1 = 10\n",
      "Number2 = 30\n",
      "Addition = 40\n"
     ]
    }
   ],
   "source": [
    "#Addition\n",
    "my_number1=10\n",
    "my_number2=30\n",
    "print(\"Number1 =\",my_number1)\n",
    "print(\"Number2 =\",my_number2)\n",
    "print(\"Addition =\",my_number1+my_number2)"
   ]
  },
  {
   "cell_type": "code",
   "execution_count": 10,
   "id": "4aa9c88e-f1fa-4dd7-a2bb-f57e44f9cd88",
   "metadata": {},
   "outputs": [
    {
     "name": "stdin",
     "output_type": "stream",
     "text": [
      "Enter the BMI Index: 35\n"
     ]
    },
    {
     "name": "stdout",
     "output_type": "stream",
     "text": [
      "You are 'Obese Class II' (BMI 35-39.9)\n"
     ]
    }
   ],
   "source": [
    "#Body Mass Index\n",
    "my_bmi=float(input(\"Enter the BMI Index:\"))\n",
    "if(my_bmi<18.5):\n",
    "    print(\"You are 'Underweight' (BMI below 18.5)\")\n",
    "elif(my_bmi<24.9):\n",
    "    print(\"You are 'Normal Range' (BMI 18.5-24.9)\")\n",
    "elif(my_bmi<29.9):\n",
    "    print(\"You are 'Overweight' (BMI 25-29.9)\")\n",
    "else:\n",
    "    if(my_bmi<34.9):\n",
    "        print(\"You are 'Obese Class I' (BMI 30-34.9)\")\n",
    "    elif(my_bmi<39.9):\n",
    "        print(\"You are 'Obese Class II' (BMI 35-39.9)\")\n",
    "    else:\n",
    "        print(\"You are 'Obese Class III' (BMI more than 40)\")\n"
   ]
  },
  {
   "cell_type": "code",
   "execution_count": null,
   "id": "916d0f5d-ab4f-4a5e-98b0-62cfcca33b54",
   "metadata": {},
   "outputs": [],
   "source": []
  }
 ],
 "metadata": {
  "kernelspec": {
   "display_name": "Python [conda env:base] *",
   "language": "python",
   "name": "conda-base-py"
  },
  "language_info": {
   "codemirror_mode": {
    "name": "ipython",
    "version": 3
   },
   "file_extension": ".py",
   "mimetype": "text/x-python",
   "name": "python",
   "nbconvert_exporter": "python",
   "pygments_lexer": "ipython3",
   "version": "3.13.5"
  }
 },
 "nbformat": 4,
 "nbformat_minor": 5
}
