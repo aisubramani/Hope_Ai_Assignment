{
 "cells": [
  {
   "cell_type": "code",
   "execution_count": 2,
   "id": "94f8b344-f572-42c6-829a-36f85408b519",
   "metadata": {},
   "outputs": [
    {
     "name": "stdout",
     "output_type": "stream",
     "text": [
      "40\n",
      "40\n"
     ]
    }
   ],
   "source": [
    "num1=10\n",
    "num2=30\n",
    "add=num1+num2\n",
    "print(add)\n",
    "print(num1+num2)\n"
   ]
  },
  {
   "cell_type": "code",
   "execution_count": 3,
   "id": "044c80f0-ff96-452c-b22d-bee310a33b24",
   "metadata": {},
   "outputs": [
    {
     "name": "stdout",
     "output_type": "stream",
     "text": [
      "10\n",
      "30\n",
      "subramani 10\n",
      "a1 b2 c3\n",
      "a1b2c3\n"
     ]
    }
   ],
   "source": [
    "a=b=c=10\n",
    "my_name=\"subramani\"\n",
    "print(a)\n",
    "print(a+b+c)\n",
    "print(my_name,a)\n",
    "my_list=[\"a1\",\"b2\",\"c3\"]\n",
    "a,b,c=my_list\n",
    "print(a,b,c)\n",
    "print(a+b+c)\n"
   ]
  },
  {
   "cell_type": "code",
   "execution_count": 4,
   "id": "9186762c-dfda-4b56-a57b-1e98cc2bd545",
   "metadata": {},
   "outputs": [
    {
     "name": "stdout",
     "output_type": "stream",
     "text": [
      "add\n",
      "40\n"
     ]
    }
   ],
   "source": [
    "num1=10\n",
    "num2=30\n",
    "add=num1+num2\n",
    "print(\"add\")\n",
    "print(add)"
   ]
  },
  {
   "cell_type": "code",
   "execution_count": 5,
   "id": "08a18719-2068-4791-953b-de1c0f506734",
   "metadata": {},
   "outputs": [
    {
     "name": "stdout",
     "output_type": "stream",
     "text": [
      "The addition of two numbers\n",
      "The Number1: 10\n",
      "The Number2: 20\n",
      "The Answer: 30\n"
     ]
    }
   ],
   "source": [
    "#The addition of two number\n",
    "my_number1=10\n",
    "my_number2=20\n",
    "print(\"The addition of two numbers\")\n",
    "print(\"The Number1:\",my_number1)\n",
    "print(\"The Number2:\",my_number2)\n",
    "print(\"The Answer:\",my_number1+my_number2)"
   ]
  },
  {
   "cell_type": "code",
   "execution_count": 6,
   "id": "6590320b-99f5-4b5a-a002-062b4f8ba315",
   "metadata": {},
   "outputs": [
    {
     "name": "stdin",
     "output_type": "stream",
     "text": [
      "Enter the Num1: 10\n",
      "Enter the Num2: 20\n"
     ]
    },
    {
     "name": "stdout",
     "output_type": "stream",
     "text": [
      "1020\n"
     ]
    },
    {
     "name": "stdin",
     "output_type": "stream",
     "text": [
      "Enter the Num1: 10\n",
      "Enter the Num2: 20\n"
     ]
    },
    {
     "name": "stdout",
     "output_type": "stream",
     "text": [
      "30\n"
     ]
    }
   ],
   "source": [
    "my_num1=input(\"Enter the Num1:\")\n",
    "my_num2=input(\"Enter the Num2:\")\n",
    "print(my_num1+my_num2)\n",
    "my_num1=int(input(\"Enter the Num1:\"))\n",
    "my_num2=int(input(\"Enter the Num2:\"))\n",
    "print(my_num1+my_num2)"
   ]
  },
  {
   "cell_type": "code",
   "execution_count": 9,
   "id": "421cd787-18b2-41c3-aef5-e65471fef0d5",
   "metadata": {},
   "outputs": [
    {
     "name": "stdin",
     "output_type": "stream",
     "text": [
      "Enter your number 10\n",
      "Enter your name man\n"
     ]
    },
    {
     "name": "stdout",
     "output_type": "stream",
     "text": [
      "10 man\n"
     ]
    }
   ],
   "source": [
    "my_num1=int(input(\"Enter your number\"))\n",
    "my_num2=str(input(\"Enter your name\"))\n",
    "\n",
    "print(my_num1,my_num2)"
   ]
  },
  {
   "cell_type": "code",
   "execution_count": null,
   "id": "9b0fd638-def1-49b6-b693-709518e35909",
   "metadata": {},
   "outputs": [],
   "source": []
  }
 ],
 "metadata": {
  "kernelspec": {
   "display_name": "Python [conda env:base] *",
   "language": "python",
   "name": "conda-base-py"
  },
  "language_info": {
   "codemirror_mode": {
    "name": "ipython",
    "version": 3
   },
   "file_extension": ".py",
   "mimetype": "text/x-python",
   "name": "python",
   "nbconvert_exporter": "python",
   "pygments_lexer": "ipython3",
   "version": "3.13.5"
  }
 },
 "nbformat": 4,
 "nbformat_minor": 5
}
