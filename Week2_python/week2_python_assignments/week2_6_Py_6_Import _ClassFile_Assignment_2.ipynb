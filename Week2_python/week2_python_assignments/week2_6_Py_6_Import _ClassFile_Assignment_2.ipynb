{
 "cells": [
  {
   "cell_type": "code",
   "execution_count": 2,
   "id": "a97ed262-6c53-4dac-9ddc-85732bcdece7",
   "metadata": {},
   "outputs": [],
   "source": [
    "from MultipleFunctionFile import multipleFunction"
   ]
  },
  {
   "cell_type": "code",
   "execution_count": 3,
   "id": "bd1f0d77-c604-47fd-8d45-6dffcfe13649",
   "metadata": {},
   "outputs": [
    {
     "name": "stdout",
     "output_type": "stream",
     "text": [
      "Sub-fields in AI are:\n",
      " Machine Learning\n",
      " Neural Networks\n",
      " Vision\n",
      " Robotics\n",
      " Speech Processing\n",
      " Natural Language Processing\n"
     ]
    }
   ],
   "source": [
    "multipleFunction.subfields()"
   ]
  },
  {
   "cell_type": "code",
   "execution_count": 4,
   "id": "3506c6ff-e253-44fd-8916-81bb17d95a2a",
   "metadata": {},
   "outputs": [
    {
     "name": "stdin",
     "output_type": "stream",
     "text": [
      "Enter Number: 89\n"
     ]
    },
    {
     "name": "stdout",
     "output_type": "stream",
     "text": [
      "89 is Odd Number\n"
     ]
    },
    {
     "data": {
      "text/plain": [
       "'Even Number'"
      ]
     },
     "execution_count": 4,
     "metadata": {},
     "output_type": "execute_result"
    }
   ],
   "source": [
    "multipleFunction.oddEven()"
   ]
  },
  {
   "cell_type": "code",
   "execution_count": 5,
   "id": "2a235731-52ad-4421-bf24-01c7578f1a20",
   "metadata": {},
   "outputs": [
    {
     "name": "stdin",
     "output_type": "stream",
     "text": [
      "Your Gender: Male\n",
      "Your Age: 18\n"
     ]
    },
    {
     "name": "stdout",
     "output_type": "stream",
     "text": [
      "MALE 18 age is NOT Eligible\n"
     ]
    }
   ],
   "source": [
    "multipleFunction.MarriageElegible()"
   ]
  },
  {
   "cell_type": "code",
   "execution_count": 6,
   "id": "b34b6ecb-e9bc-46c8-b97e-728d20d70d97",
   "metadata": {},
   "outputs": [
    {
     "name": "stdin",
     "output_type": "stream",
     "text": [
      "Subject1=  78\n",
      "Subject2=  98\n",
      "Subject3=  67\n",
      "Subject4=  87\n",
      "Subject5=  69\n"
     ]
    },
    {
     "name": "stdout",
     "output_type": "stream",
     "text": [
      "Total :  399\n",
      "Percentage : 79.8 %\n"
     ]
    }
   ],
   "source": [
    "multipleFunction.percentage()"
   ]
  },
  {
   "cell_type": "code",
   "execution_count": 7,
   "id": "37b22dfa-1d27-4f1b-b3d5-9885ed70d3b5",
   "metadata": {},
   "outputs": [
    {
     "name": "stdout",
     "output_type": "stream",
     "text": [
      "Height: 5\n",
      "Breadth: 7\n",
      "Area formula:(Height*Breadth)/2\n",
      "Area of Triangle: 17.5\n"
     ]
    }
   ],
   "source": [
    "multipleFunction.Areaformula(5,7)"
   ]
  },
  {
   "cell_type": "code",
   "execution_count": 8,
   "id": "05bb41bc-8b36-434f-9dda-8827a73552e7",
   "metadata": {},
   "outputs": [
    {
     "name": "stdout",
     "output_type": "stream",
     "text": [
      "Height1: 8\n",
      "Height2: 3\n",
      "Breadth: 5\n",
      "Perimeter formula: Height1+Height2+Breadth\n",
      "Perimeter of Triangle: 16\n"
     ]
    }
   ],
   "source": [
    "multipleFunction.Perimeter(8,3,5)"
   ]
  },
  {
   "cell_type": "code",
   "execution_count": 9,
   "id": "a013b49c-9ebc-4ef9-80c7-8f8e1646ac8f",
   "metadata": {},
   "outputs": [
    {
     "name": "stdin",
     "output_type": "stream",
     "text": [
      "Enter the BMI Index: 30\n"
     ]
    },
    {
     "name": "stdout",
     "output_type": "stream",
     "text": [
      "You are 'Obese Class I' (BMI 30-34.9)\n"
     ]
    },
    {
     "data": {
      "text/plain": [
       "\"You are 'Obese Class I' (BMI 30-34.9)\""
      ]
     },
     "execution_count": 9,
     "metadata": {},
     "output_type": "execute_result"
    }
   ],
   "source": [
    "multipleFunction.BMI()"
   ]
  },
  {
   "cell_type": "code",
   "execution_count": null,
   "id": "ca783a13-b78a-44f6-bf33-5147b3884934",
   "metadata": {},
   "outputs": [],
   "source": []
  }
 ],
 "metadata": {
  "kernelspec": {
   "display_name": "Python [conda env:base] *",
   "language": "python",
   "name": "conda-base-py"
  },
  "language_info": {
   "codemirror_mode": {
    "name": "ipython",
    "version": 3
   },
   "file_extension": ".py",
   "mimetype": "text/x-python",
   "name": "python",
   "nbconvert_exporter": "python",
   "pygments_lexer": "ipython3",
   "version": "3.13.5"
  }
 },
 "nbformat": 4,
 "nbformat_minor": 5
}
