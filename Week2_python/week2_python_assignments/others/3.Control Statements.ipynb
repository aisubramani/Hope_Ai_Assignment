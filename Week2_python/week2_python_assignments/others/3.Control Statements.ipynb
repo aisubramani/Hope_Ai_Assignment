{
 "cells": [
  {
   "cell_type": "code",
   "execution_count": 2,
   "id": "e7761732-e4e4-44bf-8f73-6a4e90d96b53",
   "metadata": {},
   "outputs": [],
   "source": [
    "#if statement\n",
    "if():\n",
    "    print()"
   ]
  },
  {
   "cell_type": "code",
   "execution_count": 5,
   "id": "45472e12-c25f-48ac-bf86-7a3af636a6ae",
   "metadata": {},
   "outputs": [
    {
     "name": "stdin",
     "output_type": "stream",
     "text": [
      "Enter age: 18\n"
     ]
    },
    {
     "name": "stdout",
     "output_type": "stream",
     "text": [
      "Adult\n"
     ]
    }
   ],
   "source": [
    "#if statement\n",
    "my_age=int(input(\"Enter age:\"))\n",
    "if(my_age==18):\n",
    "    print(\"Adult\")"
   ]
  },
  {
   "cell_type": "code",
   "execution_count": null,
   "id": "14b87d8f-635e-46a1-8723-9c21e0b2cf2a",
   "metadata": {},
   "outputs": [],
   "source": [
    "#if statement\n",
    "if(condition):\n",
    "    print()\n",
    "else:\n",
    "    print()"
   ]
  },
  {
   "cell_type": "code",
   "execution_count": 6,
   "id": "6815b512-404a-4df9-b22a-09900e77f959",
   "metadata": {},
   "outputs": [
    {
     "name": "stdout",
     "output_type": "stream",
     "text": [
      "1\n",
      "2\n",
      "3\n",
      "4\n",
      "5\n",
      "6\n",
      "7\n",
      "8\n",
      "9\n"
     ]
    }
   ],
   "source": [
    "for temp in range(1,10):\n",
    "    print(temp)"
   ]
  },
  {
   "cell_type": "code",
   "execution_count": null,
   "id": "9a71b03d-1e79-437e-b9e4-c819fd4f1187",
   "metadata": {},
   "outputs": [],
   "source": [
    "def():\n"
   ]
  },
  {
   "cell_type": "code",
   "execution_count": 11,
   "id": "dd0588bd-97a8-4990-8a58-285cb3f6a198",
   "metadata": {},
   "outputs": [
    {
     "name": "stdin",
     "output_type": "stream",
     "text": [
      "Input age: 18\n"
     ]
    },
    {
     "name": "stdout",
     "output_type": "stream",
     "text": [
      "Adult\n"
     ]
    }
   ],
   "source": [
    "#if-else\n",
    "age=int(input(\"Input age:\"))\n",
    "if(age<18):\n",
    "    print(\"children\")\n",
    "else:\n",
    "    print(\"Adult\")"
   ]
  },
  {
   "cell_type": "code",
   "execution_count": null,
   "id": "7b6e02b5-1ea1-4086-8bc3-9d30eb8341da",
   "metadata": {},
   "outputs": [],
   "source": [
    "#if-elif\n",
    "age=int(input(\"Input age:\"))\n",
    "if(age<18):\n",
    "    print(\"children\")\n",
    "elif(age<35):\n",
    "    print(\"Adult\")\n",
    "elif(age<59):\n",
    "    print(\"Citizen\")    \n",
    "else:\n",
    "    print(\"Senior Citizen\")"
   ]
  },
  {
   "cell_type": "markdown",
   "id": "deb004b0-1516-48d9-970c-0c749aa37ee8",
   "metadata": {},
   "source": [
    "hi how are\n"
   ]
  },
  {
   "cell_type": "code",
   "execution_count": null,
   "id": "2e97643e-872a-49bb-92dd-b0649d417343",
   "metadata": {},
   "outputs": [],
   "source": [
    "my_list=[10,30,50,20]"
   ]
  },
  {
   "cell_type": "code",
   "execution_count": 18,
   "id": "00f9faba-d5bc-4b4c-95f3-b4441ce56ebe",
   "metadata": {},
   "outputs": [
    {
     "name": "stdout",
     "output_type": "stream",
     "text": [
      "10\n",
      "30\n",
      "50\n",
      "20\n"
     ]
    }
   ],
   "source": [
    "#for loop\n",
    "my_lists=[10,25,45,70]\n",
    "my_main_variables=my_lists;\n",
    "for my_temp_variable in my_main_variables:\n",
    "    print(my_temp_variable)"
   ]
  },
  {
   "cell_type": "code",
   "execution_count": 19,
   "id": "4de7523a-453d-4de8-a0d2-cb98bb7bf4e4",
   "metadata": {},
   "outputs": [
    {
     "name": "stdout",
     "output_type": "stream",
     "text": [
      "10\n",
      "children\n",
      "25\n",
      "Adult\n",
      "45\n",
      "Citizen\n",
      "70\n",
      "Senior Citizen\n"
     ]
    }
   ],
   "source": [
    "my_lists=[10,25,45,70]\n",
    "for my_temp_variable in my_lists:\n",
    "    print(my_temp_variable)\n",
    "    age=my_temp_variable\n",
    "    if(age<18):\n",
    "        print(\"children\")\n",
    "    elif(age<35):\n",
    "        print(\"Adult\")\n",
    "    elif(age<59):\n",
    "        print(\"Citizen\")    \n",
    "    else:\n",
    "        print(\"Senior Citizen\")\n",
    "    "
   ]
  },
  {
   "cell_type": "code",
   "execution_count": 22,
   "id": "4413be7a-0e8a-45ad-9129-3584d0835c04",
   "metadata": {},
   "outputs": [
    {
     "name": "stdin",
     "output_type": "stream",
     "text": [
      "Enter Number: 10\n"
     ]
    },
    {
     "name": "stdout",
     "output_type": "stream",
     "text": [
      "10 is Even Number\n"
     ]
    }
   ],
   "source": [
    "#Find the odd or even number\n",
    "my_number=int(input(\"Enter Number:\"))\n",
    "if((my_number%2)==0):\n",
    "    print(my_number,\"is Even Number\")\n",
    "else:\n",
    "    print(my_number,\"is Odd Number\")"
   ]
  },
  {
   "cell_type": "code",
   "execution_count": 23,
   "id": "71b363ca-e5e4-408f-a4b6-d3d2e6b4eb86",
   "metadata": {},
   "outputs": [
    {
     "name": "stdout",
     "output_type": "stream",
     "text": [
      "1 Module\n",
      "3.5 divison\n"
     ]
    }
   ],
   "source": [
    "my_number=7\n",
    "print(my_number%2,\"Module\")\n",
    "print(my_number/2,\"divison\")"
   ]
  },
  {
   "cell_type": "code",
   "execution_count": 27,
   "id": "fe46c2f2-609d-4c2a-85ce-a07bdc289688",
   "metadata": {},
   "outputs": [
    {
     "name": "stdout",
     "output_type": "stream",
     "text": [
      "1\n",
      "2\n",
      "3\n",
      "4\n"
     ]
    }
   ],
   "source": [
    "#range range(start,stop,step)\n",
    "for num in range(1,5):\n",
    "    print(num)"
   ]
  },
  {
   "cell_type": "code",
   "execution_count": null,
   "id": "921ab584-0bff-49a2-ab7a-c94aba74c3ee",
   "metadata": {},
   "outputs": [],
   "source": [
    "for num in range(-1,5):\n",
    "    print(num)"
   ]
  },
  {
   "cell_type": "code",
   "execution_count": 30,
   "id": "0184a4e7-378d-4d51-b754-9393ef693a7c",
   "metadata": {},
   "outputs": [
    {
     "name": "stdout",
     "output_type": "stream",
     "text": [
      "1\n",
      "3\n"
     ]
    }
   ],
   "source": [
    "for num in range(1,5,2):\n",
    "    print(num)"
   ]
  },
  {
   "cell_type": "code",
   "execution_count": 34,
   "id": "19b119f1-b782-4921-a420-97b78893cecf",
   "metadata": {},
   "outputs": [
    {
     "name": "stdout",
     "output_type": "stream",
     "text": [
      "1\n"
     ]
    }
   ],
   "source": [
    "for num in range(1,3,2):\n",
    "    print(num)"
   ]
  },
  {
   "cell_type": "code",
   "execution_count": 38,
   "id": "4fafc96f-e7a0-4568-a863-9c2767606866",
   "metadata": {},
   "outputs": [
    {
     "name": "stdout",
     "output_type": "stream",
     "text": [
      "('G', 'O', 'D')\n",
      "('D', 'O', 'G')\n",
      "G\n",
      "D\n",
      "('G', 'O')\n",
      "('G', 'O')\n",
      "('GOD', 'Love', 'YES')\n",
      "('GOD',)\n",
      "('Love', 'YES')\n"
     ]
    }
   ],
   "source": [
    "my_tuple=tuple(\"GOD\")\n",
    "print(my_tuple)\n",
    "print(my_tuple[::-1])\n",
    "print(my_tuple[0])\n",
    "print(my_tuple[-1])\n",
    "print(my_tuple[0:2])\n",
    "print(my_tuple[:2])\n",
    "my_tuple1=(\"GOD\",\"Love\",\"YES\")\n",
    "print(my_tuple1)\n",
    "print(my_tuple1[0:1])\n",
    "print(my_tuple1[1:3])"
   ]
  },
  {
   "cell_type": "code",
   "execution_count": null,
   "id": "bcbd90fa-0a9d-4629-912f-e23b8de14e8f",
   "metadata": {},
   "outputs": [],
   "source": [
    "#-------\n"
   ]
  },
  {
   "cell_type": "code",
   "execution_count": 1,
   "id": "a09509d1-f82b-4a79-a1f7-874b44d99089",
   "metadata": {},
   "outputs": [
    {
     "name": "stdout",
     "output_type": "stream",
     "text": [
      "{1: 'GOD', 2: 'is', 3: 'Love'}\n"
     ]
    }
   ],
   "source": [
    "#Python Dictionary\n",
    "#key Value\n",
    "my_dic={1:\"GOD\",2:\"is\",3:\"Love\"}\n",
    "print(my_dic)"
   ]
  },
  {
   "cell_type": "code",
   "execution_count": 27,
   "id": "cf3a154f-f193-4075-bb53-19368ecf516d",
   "metadata": {},
   "outputs": [
    {
     "name": "stdout",
     "output_type": "stream",
     "text": [
      "God is love\n",
      "{1: 'God', 2: 'is', 3: 'Love'}\n",
      "{1: 'God', 2: 'is', 3: {1: 'Love', 2: 'Guru'}}\n",
      "God\n",
      "{'a': 'God', 'b': 'is', 'c': 'Love'}\n",
      "{'name': 'Prajjwal', 1: 'Python', (1, 2): [1, 2, 4]}\n"
     ]
    }
   ],
   "source": [
    "print(\"God is love\")\n",
    "dic={1:\"God\",2:\"is\",3:\"Love\"}\n",
    "print(dic)\n",
    "dic={1:\"God\",2:\"is\",3:{1:\"Love\",2:\"Guru\"}}\n",
    "print(dic)\n",
    "print(dic[1])\n",
    "dic1=dict(a=\"God\",b=\"is\",c=\"Love\")\n",
    "print(dic1)\n",
    "dic1={ \"name\": \"Prajjwal\", 1: \"Python\", (1, 2): [1,2,4] }\n",
    "print(dic1)"
   ]
  },
  {
   "cell_type": "code",
   "execution_count": 5,
   "id": "fadfd6c8-b578-42c9-9dc5-c60bdc9cb960",
   "metadata": {},
   "outputs": [
    {
     "name": "stdout",
     "output_type": "stream",
     "text": [
      "{'name': 'Prajjwal', 1: 'Python', (1, 2): [1, 2, 4]}\n",
      "Prajjwal\n",
      "Prajjwal\n"
     ]
    }
   ],
   "source": [
    "dic1={ \"name\": \"Prajjwal\", 1: \"Python\", (1, 2): [1,2,4] }\n",
    "print(dic1)\n",
    "print(dic1.get(\"name\"))\n",
    "print(dic1[\"name\"])\n"
   ]
  },
  {
   "cell_type": "code",
   "execution_count": 18,
   "id": "0d5c6ce1-48cf-46ee-980e-8389bbdf1649",
   "metadata": {},
   "outputs": [
    {
     "name": "stdout",
     "output_type": "stream",
     "text": [
      "{1: 'God', 2: 'is', 3: 'Love'}\n",
      "{1: 'God', 2: 'is', 3: 'Love', 4: 'Guru'}\n",
      "{1: 'God', 2: 'is', 3: 'Love', 4: 'All'}\n",
      "{'a': 'God', 'b': 'is', 'c': 'Love'}\n",
      "{1: 'God', 2: 'is', 3: 'Love'}\n",
      "{2: 'is', 3: 'Love'}\n",
      "3\n",
      "Key: 3, Value: Love\n",
      "{}\n",
      "{1: 'value', 'b': 'val2'}\n"
     ]
    }
   ],
   "source": [
    "dic={1:\"God\",2:\"is\",3:\"Love\"}\n",
    "print(dic)\n",
    "dic[4]=\"Guru\"\n",
    "print(dic)\n",
    "dic[4]=\"All\"\n",
    "print(dic)\n",
    "dic={'a':\"God\",'b':\"is\",'c':\"Love\"}\n",
    "print(dic)\n",
    "\n",
    "dic={1:\"God\",2:\"is\",3:\"Love\"}\n",
    "print(dic)\n",
    "del dic[1]\n",
    "print(dic)\n",
    "key,val=dic.popitem()\n",
    "print(key)\n",
    "print(f\"Key: {key}, Value: {val}\")\n",
    "dic.clear()\n",
    "print(dic)\n",
    "\n",
    "dic={1:\"value\",\"b\":\"val2\"}\n",
    "print(dic)"
   ]
  },
  {
   "cell_type": "code",
   "execution_count": 25,
   "id": "bfdfc515-0bb6-4ca7-9418-cc2865c2b5e4",
   "metadata": {},
   "outputs": [
    {
     "name": "stdout",
     "output_type": "stream",
     "text": [
      "{'a': 'God', 'b': 'is', 'c': 'Love'}\n",
      "a\n",
      "b\n",
      "c\n",
      "God\n",
      "is\n",
      "Love\n",
      "a God\n",
      "b is\n",
      "c Love\n"
     ]
    }
   ],
   "source": [
    "dic={'a':\"God\",'b':\"is\",'c':\"Love\"}\n",
    "print(dic)\n",
    "for key in dic:\n",
    "    print(key)\n",
    "for val in dic.values():\n",
    "    print(val)\n",
    "for key,val in dic.items():\n",
    "    print(key,val)"
   ]
  },
  {
   "cell_type": "code",
   "execution_count": 40,
   "id": "f2b86401-004d-4e9c-99f1-9f8e056448c6",
   "metadata": {},
   "outputs": [
    {
     "name": "stdout",
     "output_type": "stream",
     "text": [
      "{1: 'God', 2: 'is', 3: {1: 'Love', 2: 'Guru'}}\n",
      "God\n",
      "{2: 'is', 3: {1: 'Love', 2: 'Guru'}}\n",
      "val\n",
      "God\n",
      "{1: 'Love', 2: 'Guru'}\n",
      "Guru\n",
      "{2: 'is'}\n"
     ]
    }
   ],
   "source": [
    "dic={1:\"God\",2:\"is\",3:{1:\"Love\",2:\"Guru\"}}\n",
    "print(dic)\n",
    "print(dic[1])\n",
    "val=dic.pop(1)\n",
    "print(dic)\n",
    "print(\"val\")\n",
    "print(val)\n",
    "print(dic[3])\n",
    "print(dic[3][2])\n",
    "del dic[3]\n",
    "print(dic)"
   ]
  },
  {
   "cell_type": "code",
   "execution_count": 53,
   "id": "62903b57-0238-45b2-953d-12e4f5e3846c",
   "metadata": {},
   "outputs": [
    {
     "name": "stdout",
     "output_type": "stream",
     "text": [
      "{1: 'a', 2: 'b'}\n",
      "{1: 'a', 2: 'b', 3: 'c'}\n",
      "{1: 'a', 2: 'b', 3: 'd'}\n",
      "{1: 'a', 2: 'b'}\n",
      "{1: 'a', 2: 'b', 3: 'c'}\n",
      "1\n",
      "2\n",
      "3\n",
      "a\n",
      "b\n",
      "c\n",
      "1 a\n",
      "2 b\n",
      "3 c\n",
      "{}\n"
     ]
    }
   ],
   "source": [
    "dic={1:\"a\",2:\"b\"}\n",
    "print(dic)\n",
    "dic[3]=\"c\"\n",
    "print(dic)\n",
    "dic[3]=\"d\"\n",
    "print(dic)\n",
    "del dic[3]\n",
    "print(dic)\n",
    "dic[3]=\"c\"\n",
    "print(dic)\n",
    "\n",
    "for key in dic:\n",
    "    print(key)\n",
    "for val in dic.values():\n",
    "    print(val)\n",
    "for key, val in dic.items():\n",
    "    print(key,val)\n",
    "\n",
    "dic.clear()\n",
    "print(dic)\n"
   ]
  },
  {
   "cell_type": "code",
   "execution_count": 76,
   "id": "61a076a5-f40a-470a-8883-586e46d4db7b",
   "metadata": {},
   "outputs": [
    {
     "name": "stdout",
     "output_type": "stream",
     "text": [
      "[1, 2, 'a']\n",
      "1\n",
      "[1, 2, 'a', 'b']\n",
      "[1, 2, 'a', 'd', 'b']\n",
      "[1, 2, 'a', 'd', 'b', 7, 8, 9]\n",
      "1\n",
      "2\n",
      "a\n",
      "d\n",
      "b\n",
      "7\n",
      "8\n",
      "9\n"
     ]
    }
   ],
   "source": [
    "a=[1,2,'a']\n",
    "print(a)\n",
    "print(a[0])\n",
    "a.append('b')\n",
    "print(a)\n",
    "a.insert(3,'d')\n",
    "print(a)\n",
    "a.extend([7,8,9])\n",
    "print(a)\n",
    "for li in a:\n",
    "    print(li)"
   ]
  },
  {
   "cell_type": "code",
   "execution_count": 81,
   "id": "cd2fecef-faf2-42ef-b9b6-37dac5652caf",
   "metadata": {},
   "outputs": [
    {
     "name": "stdout",
     "output_type": "stream",
     "text": [
      "[[1, 2, 3], [4, 5, 6], [7, 8, 9]]\n",
      "3\n",
      "6\n"
     ]
    }
   ],
   "source": [
    "matrix=[[1,2,3],[4,5,6],[7,8,9]]\n",
    "print(matrix)\n",
    "print(matrix[0][2])\n",
    "print(matrix[1][2])"
   ]
  },
  {
   "cell_type": "code",
   "execution_count": 82,
   "id": "3d980d99-bd9f-46ee-a1b3-f93ca6b81009",
   "metadata": {},
   "outputs": [
    {
     "name": "stdout",
     "output_type": "stream",
     "text": [
      "[0, 1, 2, 3, 4, 5, 6, 7, 8, 9]\n"
     ]
    }
   ],
   "source": [
    "a=[i for i in range(10)]\n",
    "print(a)"
   ]
  },
  {
   "cell_type": "code",
   "execution_count": 92,
   "id": "2fa98fa9-7ae8-4581-8178-75208b5d447c",
   "metadata": {},
   "outputs": [
    {
     "name": "stdout",
     "output_type": "stream",
     "text": [
      "[(0, 0), (0, 1), (1, 0), (1, 1)]\n"
     ]
    }
   ],
   "source": [
    "a=[(i,j)for i in range(2) for j in range(2)]\n",
    "print(a)"
   ]
  },
  {
   "cell_type": "code",
   "execution_count": 94,
   "id": "cd4ea183-d401-437b-94ea-2105560928bc",
   "metadata": {},
   "outputs": [
    {
     "name": "stdout",
     "output_type": "stream",
     "text": [
      "<class 'complex'>\n",
      "(2+4j)\n"
     ]
    }
   ],
   "source": [
    "c = 2 + 4j\n",
    "print(type(c))\n",
    "print(c)"
   ]
  },
  {
   "cell_type": "code",
   "execution_count": 106,
   "id": "ac3344f1-0b60-4e44-b974-17c8e01846b8",
   "metadata": {},
   "outputs": [
    {
     "name": "stdout",
     "output_type": "stream",
     "text": [
      "{1: 'a', 2: 'b', 3: 'd'}\n",
      "1\n",
      "2\n",
      "3\n",
      "1 a\n",
      "2 b\n",
      "3 d\n"
     ]
    }
   ],
   "source": [
    "\n",
    "dic={1:\"a\",2:\"b\",3:\"d\"}\n",
    "print(dic)\n",
    "for i in dic:\n",
    "    print(i)\n",
    "\n",
    "for i,j in dic.items():\n",
    "    #print(\"%s  %d\" % (i, d[i]))\n",
    "    print(i,j)"
   ]
  },
  {
   "cell_type": "code",
   "execution_count": 96,
   "id": "5607db61-c759-4950-8c0e-cbd7ae76c7b8",
   "metadata": {},
   "outputs": [
    {
     "name": "stdout",
     "output_type": "stream",
     "text": [
      "1\n",
      "2\n",
      "(2+4j)\n"
     ]
    }
   ],
   "source": []
  },
  {
   "cell_type": "code",
   "execution_count": 108,
   "id": "cc69d486-f664-41d1-8bcb-e8aa8e0b2c0f",
   "metadata": {},
   "outputs": [
    {
     "name": "stdout",
     "output_type": "stream",
     "text": [
      "1\n",
      "2\n",
      "3\n",
      "4\n",
      "5\n"
     ]
    }
   ],
   "source": [
    "for i in range(1,6):\n",
    "    print(i)"
   ]
  },
  {
   "cell_type": "code",
   "execution_count": 110,
   "id": "650eb545-05ce-4093-a2cf-360d7af2c57a",
   "metadata": {},
   "outputs": [
    {
     "name": "stdout",
     "output_type": "stream",
     "text": [
      "1\n",
      "2\n",
      "end\n"
     ]
    }
   ],
   "source": [
    "n=1\n",
    "while(n<3):\n",
    "    print(n)\n",
    "    n+=1\n",
    "else:\n",
    "    print(\"end\")"
   ]
  },
  {
   "cell_type": "code",
   "execution_count": 112,
   "id": "3e9bde96-8131-4e97-a254-dcb743bc6f2a",
   "metadata": {},
   "outputs": [
    {
     "name": "stdout",
     "output_type": "stream",
     "text": [
      "1\n",
      "22\n",
      "333\n",
      "4444\n"
     ]
    }
   ],
   "source": [
    "for i in range(1,5):\n",
    "    for j in range(i):\n",
    "        print(i,end=\"\")\n",
    "    print()"
   ]
  },
  {
   "cell_type": "code",
   "execution_count": 115,
   "id": "44841492-56da-4190-8a84-03e79c715f42",
   "metadata": {},
   "outputs": [
    {
     "name": "stdout",
     "output_type": "stream",
     "text": [
      "L\n",
      "O\n"
     ]
    }
   ],
   "source": [
    "for i in \"LOVE\":\n",
    "    if(i=='V'):\n",
    "        #continue\n",
    "        break\n",
    "    print(i)"
   ]
  },
  {
   "cell_type": "code",
   "execution_count": 128,
   "id": "4d2a7b04-8959-456e-bd86-0ccf86d61226",
   "metadata": {},
   "outputs": [
    {
     "name": "stdout",
     "output_type": "stream",
     "text": [
      "love\n",
      "o\n",
      "Love\n",
      " LOVE YOU \n",
      "10\n",
      " LOVE YOU \n",
      " love you \n",
      "LOVE YOU\n",
      " LOVE YOU  LOVE YOU  LOVE YOU \n"
     ]
    }
   ],
   "source": [
    "a=\"love\"\n",
    "print(a)\n",
    "print(a[1:2])\n",
    "a=\"L\"+a[1:]\n",
    "print(a)\n",
    "a=a.replace(\"Love\",\" LOVE YOU \")\n",
    "print(a)\n",
    "print(len(a))\n",
    "print(a.upper())\n",
    "print(a.lower())\n",
    "print(a.strip())\n",
    "print(a*3)"
   ]
  },
  {
   "cell_type": "code",
   "execution_count": 136,
   "id": "f3a7ac9a-8a62-41ec-bd3f-76ba8908550a",
   "metadata": {},
   "outputs": [
    {
     "name": "stdout",
     "output_type": "stream",
     "text": [
      "<_io.TextIOWrapper name='ssfile.txt' mode='r' encoding='cp1252'>\n",
      "hai I am Subramani\n",
      "inside file\n",
      "Filename: ssfile.txt\n",
      "Mode: r\n",
      "Is Closed? False\n",
      "Is Closed? True\n"
     ]
    }
   ],
   "source": [
    "#file handle\n",
    "f=open(\"ssfile.txt\",\"r\")\n",
    "print(f)\n",
    "content=f.read()\n",
    "print(content)\n",
    "\n",
    "print(\"Filename:\", f.name)\n",
    "print(\"Mode:\", f.mode)\n",
    "print(\"Is Closed?\", f.closed)\n",
    "\n",
    "f.close()\n",
    "print(\"Is Closed?\", f.closed)\n",
    "#for i in content:\n",
    "#    print(i)\n"
   ]
  },
  {
   "cell_type": "code",
   "execution_count": 144,
   "id": "ee471f48-f028-4330-85c2-e50e5a9d990c",
   "metadata": {},
   "outputs": [
    {
     "name": "stdout",
     "output_type": "stream",
     "text": [
      "hai I am Subramani\n",
      "\n",
      "inside file\n"
     ]
    }
   ],
   "source": [
    "try:\n",
    "    file1 = open(\"ssfile.txt\", \"r\")\n",
    "    content = file1.readlines()\n",
    "    for line in content:\n",
    "        print(line)\n",
    "finally:\n",
    "    file1.close()\n"
   ]
  },
  {
   "cell_type": "code",
   "execution_count": 151,
   "id": "f50f957f-9eeb-406b-b1ec-e353eac0d67b",
   "metadata": {},
   "outputs": [
    {
     "name": "stdout",
     "output_type": "stream",
     "text": [
      "hai I am Subramani\n",
      "\n",
      "inside file\n"
     ]
    }
   ],
   "source": [
    "myfile=open(\"ssfile.txt\",\"r\")\n",
    "#print(myfile.read())\n",
    "#print(myfile.readlines())\n",
    "for line in myfile.readlines():\n",
    "    print(line)\n",
    "    \n",
    "myfile.close()"
   ]
  },
  {
   "cell_type": "code",
   "execution_count": 155,
   "id": "75caeafd-283b-442d-b8ea-25b0a610981d",
   "metadata": {},
   "outputs": [],
   "source": [
    "myfile=open(\"ssfile.txt\",\"a\")\n",
    "myfile.write(\"\\nNew line added\")\n",
    "#print(myfile.read())\n",
    "#print(myfile.readlines())\n",
    "#for line in myfile.readlines():\n",
    "#    print(line)\n",
    "    \n",
    "myfile.close()"
   ]
  },
  {
   "cell_type": "code",
   "execution_count": 185,
   "id": "665f7b9c-3ca8-4d23-8039-e1341e8e967d",
   "metadata": {},
   "outputs": [],
   "source": [
    "myfile=open(\"ssfile_new1.txt\",\"x\")\n",
    "myfile.write(\"\\nNew line added2\")\n",
    "#print(myfile.read())\n",
    "#print(myfile.readlines())\n",
    "#for line in myfile.readlines():\n",
    "#    print(line)\n",
    "    \n",
    "myfile.close()"
   ]
  },
  {
   "cell_type": "code",
   "execution_count": 160,
   "id": "e5f49e72-710b-4d5f-8d3e-bb330b441d01",
   "metadata": {},
   "outputs": [
    {
     "name": "stdout",
     "output_type": "stream",
     "text": [
      "0\n",
      "1\n",
      "2\n"
     ]
    }
   ],
   "source": [
    "for i in range(3):\n",
    "    print(i)"
   ]
  },
  {
   "cell_type": "code",
   "execution_count": 161,
   "id": "2bf372f8-817b-458d-b16f-751e5b07d04d",
   "metadata": {},
   "outputs": [
    {
     "name": "stdout",
     "output_type": "stream",
     "text": [
      "ssrr\n"
     ]
    }
   ],
   "source": [
    "print(\"ss\"+\"rr\")"
   ]
  },
  {
   "cell_type": "code",
   "execution_count": 165,
   "id": "6c7463f0-3c5c-40c4-b313-eb809c45cdac",
   "metadata": {},
   "outputs": [
    {
     "name": "stdout",
     "output_type": "stream",
     "text": [
      "world\n"
     ]
    }
   ],
   "source": [
    "if 0:\n",
    "    print(\"hello\")\n",
    "else:\n",
    "    print(\"world\")\n"
   ]
  },
  {
   "cell_type": "code",
   "execution_count": 186,
   "id": "907db9c5-666a-4a83-acdf-c81852bf8d41",
   "metadata": {},
   "outputs": [
    {
     "name": "stdout",
     "output_type": "stream",
     "text": [
      "<function <lambda> at 0x000001DE7A2ABA60>\n",
      "20\n"
     ]
    }
   ],
   "source": [
    "x=lambda a:a+10\n",
    "print(x)\n",
    "print(x(10))\n",
    "#y=lambda a:if(a=="
   ]
  },
  {
   "cell_type": "code",
   "execution_count": 174,
   "id": "b1e31d1e-4607-48f1-b842-8882b8fb60b2",
   "metadata": {},
   "outputs": [
    {
     "name": "stdout",
     "output_type": "stream",
     "text": [
      "['a', 'b', 'c']\n"
     ]
    }
   ],
   "source": [
    "\"\"\"\n",
    "        Python Q/A\n",
    "\"\"\"\n",
    "#1.How do you get a list of all the keys in a dictionary\n",
    "dictionary = {\"a\": 1, \"b\": 2, \"c\": 3}\n",
    "keys = list(dictionary.keys()) \n",
    "print(keys)"
   ]
  },
  {
   "cell_type": "code",
   "execution_count": 176,
   "id": "c36418d8-e3bb-44cc-a464-fdf3b2408b6b",
   "metadata": {},
   "outputs": [
    {
     "name": "stdout",
     "output_type": "stream",
     "text": [
      "(6, 6)\n"
     ]
    }
   ],
   "source": [
    "num=(1,2,4,5,6,6,7,8)\n",
    "div_by_3=tuple(filter(lambda x:x%3==0,num))\n",
    "print(div_by_3)"
   ]
  },
  {
   "cell_type": "code",
   "execution_count": 177,
   "id": "b79c297a-cb6f-4550-a109-4d6787a09541",
   "metadata": {},
   "outputs": [
    {
     "name": "stdout",
     "output_type": "stream",
     "text": [
      "(6, 6)\n"
     ]
    }
   ],
   "source": [
    "'''2. Write a program to filter out the number divisible by 3 from a\n",
    "tuple using lambda function'''\n",
    "num=(1,2,4,5,6,6,7,8)\n",
    "div=lambda x:x%3==0\n",
    "div_by_3=tuple(filter(div,num))\n",
    "print(div_by_3)"
   ]
  },
  {
   "cell_type": "code",
   "execution_count": 183,
   "id": "521d0638-6f78-4582-9c62-55b88a99ebec",
   "metadata": {},
   "outputs": [
    {
     "name": "stdout",
     "output_type": "stream",
     "text": [
      "<class 'int'>\n",
      "<class 'float'>\n",
      "<class 'str'>\n",
      "<class 'list'>\n",
      "<class 'tuple'>\n",
      "<class 'dict'>\n"
     ]
    }
   ],
   "source": [
    "'''3. Why do we need different data types in python\n",
    "Different data types in Python are necessary to handle various\n",
    "kinds of data appropriately, ensuring efficient storage and\n",
    "operations. For example, \n",
    "integers for counting, \n",
    "floats for decimal numbers, \n",
    "strings for text, \n",
    "lists for ordered collections, and\n",
    "dictionaries for key-value pairs'''\n",
    "\n",
    "print(type(23))\n",
    "print(type(23.3))\n",
    "print(type(\"Hello\"))\n",
    "list1=[1,2,3]\n",
    "print(type(list1))\n",
    "tuple1=(1,2,3)\n",
    "print(type(tuple1))\n",
    "dic={1:\"a\",2:\"b\",3:\"c\"}\n",
    "print(type(dic))"
   ]
  },
  {
   "cell_type": "code",
   "execution_count": 187,
   "id": "ea68b61a-1cf3-40c9-8e92-3d0743f2c018",
   "metadata": {},
   "outputs": [
    {
     "name": "stdout",
     "output_type": "stream",
     "text": [
      "[1, 7, 4, 5, 6]\n",
      "[1, 49, 16, 25, 36]\n"
     ]
    }
   ],
   "source": [
    "mylist=[1,7,4,5,6]\n",
    "sqlist=list(map(lambda x:x**2,mylist))\n",
    "print(mylist)\n",
    "print(sqlist)"
   ]
  },
  {
   "cell_type": "code",
   "execution_count": 188,
   "id": "eda52ead-67d1-4ddc-8b4c-385cf3092f55",
   "metadata": {},
   "outputs": [
    {
     "name": "stdout",
     "output_type": "stream",
     "text": [
      "[1, 3, 5, 7]\n",
      "[2, 4, 6]\n"
     ]
    }
   ],
   "source": [
    "mylist=[1,2,3,4,5,6,7]\n",
    "oddlist=list(filter(lambda x:x%2==1,mylist))\n",
    "evenlist=list(filter(lambda x:x%2==0,mylist))\n",
    "print(oddlist)\n",
    "print(evenlist)"
   ]
  },
  {
   "cell_type": "code",
   "execution_count": 189,
   "id": "f35efb98-bedc-4109-b23d-3486bb4fba84",
   "metadata": {},
   "outputs": [
    {
     "name": "stdout",
     "output_type": "stream",
     "text": [
      "[1, 7, 4, 5, 6]\n",
      "[1, 49, 16, 25, 36]\n"
     ]
    }
   ],
   "source": [
    "mylist=[1,7,4,5,6]\n",
    "print(mylist)\n",
    "sq_list=[x**2 for x in mylist]\n",
    "print(sq_list)"
   ]
  },
  {
   "cell_type": "code",
   "execution_count": 191,
   "id": "2fd87674-8220-4c77-aebc-8507b0f77e87",
   "metadata": {},
   "outputs": [
    {
     "name": "stdout",
     "output_type": "stream",
     "text": [
      "[1, 7, 4, 5, 6]\n",
      "[1, 7, 5]\n",
      "[4, 6]\n"
     ]
    }
   ],
   "source": [
    "mylist=[1,7,4,5,6]\n",
    "print(mylist)\n",
    "odd_list=[x for x in mylist if x%2==1]\n",
    "even_list=[x for x in mylist if x%2==0]\n",
    "print(odd_list)\n",
    "print(even_list)"
   ]
  },
  {
   "cell_type": "code",
   "execution_count": 200,
   "id": "d3b0ed39-5a27-4c27-b23e-5ea3cee02183",
   "metadata": {},
   "outputs": [
    {
     "name": "stdout",
     "output_type": "stream",
     "text": [
      "{2, 3, 5, 6, 7, 8}\n",
      "[1, 3, 3, 5, 5, 6, 6]\n",
      "{1, 3, 5, 6}\n",
      "{1, 2, 3, 4} {3, 4, 5, 6}\n",
      "{1, 2, 3, 4, 5, 6}\n",
      "{3, 4}\n",
      "{1, 2}\n",
      "{5, 6}\n",
      "{1, 2, 5, 6}\n"
     ]
    }
   ],
   "source": [
    "#sets\n",
    "myset={2,3,5,5,6,7,8}\n",
    "print(myset)\n",
    "mylist=[1,3,3,5,5,6,6]\n",
    "print(mylist)\n",
    "print(set(mylist))\n",
    "\n",
    "a={1,2,3,4}\n",
    "b={3,4,5,6}\n",
    "print(a,b)\n",
    "print(a | b)   # Union -> {1, 2, 3, 4, 5, 6}\n",
    "print(a & b)   # Intersection -> {3, 4}\n",
    "print(a - b)   # Difference -> {1, 2}\n",
    "print(b - a)   # Difference -> {1, 2}\n",
    "print(a ^ b)   # Symmetric difference -> {1, 2, 5, 6}"
   ]
  },
  {
   "cell_type": "code",
   "execution_count": 192,
   "id": "ccfd9ca3-641b-44b0-95e4-fd268d708b08",
   "metadata": {},
   "outputs": [
    {
     "name": "stdout",
     "output_type": "stream",
     "text": [
      "2054978946848\n",
      "hello world\n",
      "2055044135984\n"
     ]
    }
   ],
   "source": [
    "s = \"hello\"\n",
    "print(id(s))      # memory address\n",
    "s = s + \" world\"  # creates new object\n",
    "print(s)          # \"hello world\"\n",
    "print(id(s))      # different memory address"
   ]
  },
  {
   "cell_type": "code",
   "execution_count": 193,
   "id": "de683fc5-a82b-4900-9e7e-027ba291204a",
   "metadata": {},
   "outputs": [
    {
     "name": "stdout",
     "output_type": "stream",
     "text": [
      "Ram 25\n",
      "Mani 10\n"
     ]
    }
   ],
   "source": [
    "class person:\n",
    "    def __init__(self, name, age):\n",
    "        self.name=name\n",
    "        self.age=age\n",
    "obj1=person(\"Ram\",25)\n",
    "obj2=person(\"Mani\",10)\n",
    "print(obj1.name,obj1.age)\n",
    "print(obj2.name,obj2.age)"
   ]
  },
  {
   "cell_type": "code",
   "execution_count": 201,
   "id": "3ae7e129-52dc-40d0-920a-d41eb41c6f91",
   "metadata": {},
   "outputs": [
    {
     "ename": "ZeroDivisionError",
     "evalue": "division by zero",
     "output_type": "error",
     "traceback": [
      "\u001b[1;31m---------------------------------------------------------------------------\u001b[0m",
      "\u001b[1;31mZeroDivisionError\u001b[0m                         Traceback (most recent call last)",
      "Cell \u001b[1;32mIn[201], line 2\u001b[0m\n\u001b[0;32m      1\u001b[0m \u001b[38;5;66;03m#error handling\u001b[39;00m\n\u001b[1;32m----> 2\u001b[0m \u001b[38;5;28mprint\u001b[39m(\u001b[38;5;241m10\u001b[39m\u001b[38;5;241m/\u001b[39m\u001b[38;5;241m0\u001b[39m)\n\u001b[0;32m      3\u001b[0m \u001b[38;5;28;01mtry\u001b[39;00m:\n\u001b[0;32m      4\u001b[0m     \u001b[38;5;28mprint\u001b[39m(\u001b[38;5;241m10\u001b[39m\u001b[38;5;241m/\u001b[39m\u001b[38;5;241m0\u001b[39m)\n",
      "\u001b[1;31mZeroDivisionError\u001b[0m: division by zero"
     ]
    }
   ],
   "source": [
    "#error handling\n",
    "#print(10/0)\n",
    "try:\n",
    "    print(10/0)\n",
    "except ZeroDivisionError:\n",
    "     print(\"You cannot divide by zero!\")"
   ]
  },
  {
   "cell_type": "code",
   "execution_count": 198,
   "id": "50507b2a-2187-4b3f-a31f-6125efb0e816",
   "metadata": {},
   "outputs": [
    {
     "name": "stdout",
     "output_type": "stream",
     "text": [
      "string can't change into Number\n"
     ]
    }
   ],
   "source": [
    "#a=int(\"subramani\")\n",
    "try:\n",
    "    a=int(\"subramani\")\n",
    "except ValueError:\n",
    "    print(\"string can't change into Number\")"
   ]
  },
  {
   "cell_type": "code",
   "execution_count": 202,
   "id": "b657b6de-8a53-489a-8bda-d4b349ff9244",
   "metadata": {},
   "outputs": [
    {
     "name": "stdout",
     "output_type": "stream",
     "text": [
      "Chirp\n",
      "Bark\n"
     ]
    }
   ],
   "source": [
    "class Bird:\n",
    "    def sound(self):\n",
    "        print(\"Chirp\")\n",
    "\n",
    "class Dog:\n",
    "    def sound(self):\n",
    "        print(\"Bark\")\n",
    "\n",
    "for animal in [Bird(), Dog()]:\n",
    "    animal.sound()"
   ]
  },
  {
   "cell_type": "code",
   "execution_count": 224,
   "id": "d8cfed8a-ea41-4af0-8260-8688c264291c",
   "metadata": {},
   "outputs": [
    {
     "name": "stdout",
     "output_type": "stream",
     "text": [
      "{'cherry': 1, 'banana': 6, 'apple': 2}\n",
      "{'apple': 2, 'banana': 6, 'cherry': 1}\n",
      "{'cherry': 1, 'apple': 2, 'banana': 6}\n",
      "{'cherry': 1, 'banana': 6, 'apple': 2}\n"
     ]
    }
   ],
   "source": [
    "#from collections import OrderedDict\n",
    "\n",
    "od = {}\n",
    "od[\"cherry\"] = 1\n",
    "od[\"banana\"] = 6\n",
    "od[\"apple\"] = 2\n",
    "\n",
    "print(od)\n",
    "print(dict(sorted(od.items())))\n",
    "new=dict(sorted(od.items(), key=lambda item: item[1]))\n",
    "print(new)\n",
    "print(dict(sorted(od.items(),reverse=True)))\n",
    "#print(dict(sorted(od.key()))\n"
   ]
  },
  {
   "cell_type": "code",
   "execution_count": 234,
   "id": "37113959-d5ed-4be8-91d8-a623950737e9",
   "metadata": {},
   "outputs": [
    {
     "name": "stdout",
     "output_type": "stream",
     "text": [
      "{1: 'cherry', 6: 'banana', 2: 'apple'}\n",
      "{1: 'cherry', 2: 'apple', 6: 'banana'}\n",
      "{2: 'apple', 6: 'banana', 1: 'cherry'}\n",
      "{6: 'banana', 2: 'apple', 1: 'cherry'}\n"
     ]
    }
   ],
   "source": [
    "od1 = {}\n",
    "od1[1] = \"cherry\"\n",
    "od1[6] = \"banana\"\n",
    "od1[2] = \"apple\"\n",
    "print(od1)\n",
    "print(dict(sorted(od1.items())))\n",
    "new1=dict(sorted(od1.items(), key=lambda item: item[1]))\n",
    "print(new1)\n",
    "print(dict(sorted(new1.items(),reverse=True)))"
   ]
  },
  {
   "cell_type": "code",
   "execution_count": 240,
   "id": "02fe1f94-0079-40f4-af20-742a9adca1cd",
   "metadata": {},
   "outputs": [
    {
     "name": "stdout",
     "output_type": "stream",
     "text": [
      "{3: 'bee', 1: 'cee', 2: 'aeee'}\n",
      "{1: 'cee', 2: 'aeee', 3: 'bee'}\n",
      "{3: 'bee', 2: 'aeee', 1: 'cee'}\n",
      "{2: 'aeee', 3: 'bee', 1: 'cee'}\n"
     ]
    }
   ],
   "source": [
    "d={3:\"bee\",1:\"cee\",2:\"aeee\"}\n",
    "print(d)\n",
    "print(dict(sorted(d.items())))\n",
    "print(dict(sorted(d.items(),reverse=True)))\n",
    "print(dict(sorted(d.items(),key=lambda item:item[1])))"
   ]
  },
  {
   "cell_type": "code",
   "execution_count": 248,
   "id": "11e0a759-3397-4eee-86cb-d0ec73e2cb7d",
   "metadata": {},
   "outputs": [
    {
     "name": "stdout",
     "output_type": "stream",
     "text": [
      "[3, 4, 5, 5, 2, 1]\n",
      "[1, 2, 3, 4, 5, 5]\n",
      "[5, 5, 4, 3, 2, 1]\n"
     ]
    }
   ],
   "source": [
    "a=[3,4,5,5,2,1]\n",
    "print(a)\n",
    "print(sorted(a))\n",
    "a.sort(reverse=True)\n",
    "print(a)"
   ]
  },
  {
   "cell_type": "code",
   "execution_count": 253,
   "id": "db3809ae-1061-45d1-a681-522d2ae2655d",
   "metadata": {},
   "outputs": [
    {
     "name": "stdout",
     "output_type": "stream",
     "text": [
      "['Aaa', 'err', 'bee']\n",
      "['Aaa', 'bee', 'err']\n",
      "['err', 'bee', 'Aaa']\n"
     ]
    }
   ],
   "source": [
    "a=['Aaa','err','bee']\n",
    "print(a)\n",
    "print(sorted(a))\n",
    "print(sorted(a,reverse=True))"
   ]
  },
  {
   "cell_type": "code",
   "execution_count": 260,
   "id": "2c86754b-1833-4777-a885-f4a9e158771a",
   "metadata": {},
   "outputs": [
    {
     "name": "stdout",
     "output_type": "stream",
     "text": [
      "array('i', [3, 4, 5, 1])\n",
      "<class 'array.array'>\n",
      "[1, 3, 4, 5]\n",
      "[5, 4, 3, 1]\n"
     ]
    }
   ],
   "source": [
    "import array\n",
    "ar=array.array(\"i\",[3,4,5,1])\n",
    "print(ar)\n",
    "print(type(ar))\n",
    "print(sorted(ar))\n",
    "print(sorted(ar,reverse=True))"
   ]
  },
  {
   "cell_type": "code",
   "execution_count": 265,
   "id": "63d3f820-11dd-4221-8fb0-196c2cdf4acc",
   "metadata": {},
   "outputs": [
    {
     "name": "stdout",
     "output_type": "stream",
     "text": [
      "('c', 'a', 'b')\n",
      "<class 'tuple'>\n",
      "['a', 'b', 'c']\n",
      "['c', 'b', 'a']\n"
     ]
    }
   ],
   "source": [
    "tup=(\"c\",\"a\",\"b\")\n",
    "print(tup)\n",
    "print(type(tup))\n",
    "print(sorted(tup))\n",
    "print(sorted(tup,reverse=True))"
   ]
  },
  {
   "cell_type": "code",
   "execution_count": 271,
   "id": "b3c4e674-9190-4df5-9a02-dc8345efbc9f",
   "metadata": {},
   "outputs": [
    {
     "name": "stdout",
     "output_type": "stream",
     "text": [
      "[1, 3, 4, 5, 6]\n",
      "[1, 9, 16, 25, 36]\n",
      "[1, 9, 16, 25, 36]\n"
     ]
    }
   ],
   "source": [
    "ml=[1,3,4,5,6]\n",
    "print(ml)\n",
    "sl=[x**2 for x in ml]\n",
    "print(sl)\n",
    "s2=list(map(lambda x:x**2,ml))\n",
    "print(s2)"
   ]
  },
  {
   "cell_type": "code",
   "execution_count": 278,
   "id": "88943475-e890-44d6-ae6a-a09d3e9ccf50",
   "metadata": {},
   "outputs": [
    {
     "name": "stdout",
     "output_type": "stream",
     "text": [
      "array('i', [1, 9, 5, 2])\n",
      "1\n",
      "array('i', [8, 9, 5, 2])\n",
      "array('i', [9, 5, 2])\n",
      "[9, 5, 2]\n"
     ]
    }
   ],
   "source": [
    "import array\n",
    "a=array.array(\"i\",[1,9,5,2])\n",
    "print(a)\n",
    "print(a[0])\n",
    "a[0]=8\n",
    "print(a)\n",
    "del a[0]\n",
    "print(a)\n",
    "print(sorted(a,reverse=True))"
   ]
  },
  {
   "cell_type": "code",
   "execution_count": 283,
   "id": "80b019ae-9b7e-49f7-8530-ba569457f464",
   "metadata": {},
   "outputs": [
    {
     "name": "stdout",
     "output_type": "stream",
     "text": [
      "[1, 3, 4, 5, 6]\n",
      "1\n",
      "3\n",
      "4\n",
      "5\n",
      "6\n",
      "[1, 3, 4, 6]\n"
     ]
    }
   ],
   "source": [
    "ml=[1,3,4,5,6]\n",
    "print(ml)\n",
    "for ls in ml:\n",
    "    print(ls)\n",
    "ml.remove(5)\n",
    "#del ml\n",
    "print(ml)"
   ]
  },
  {
   "cell_type": "code",
   "execution_count": 285,
   "id": "c65c5e44-581d-4725-b0eb-a8931c790c89",
   "metadata": {},
   "outputs": [
    {
     "name": "stdout",
     "output_type": "stream",
     "text": [
      "(6, 9, 12)\n"
     ]
    }
   ],
   "source": [
    "num=(1,2,4,5,6,9,1,12)\n",
    "d3=tuple(filter(lambda x:x%3==0,num))\n",
    "print(d3)"
   ]
  },
  {
   "cell_type": "code",
   "execution_count": 288,
   "id": "8ad32dd6-974a-46ba-b467-e0ce9c66cc3e",
   "metadata": {},
   "outputs": [
    {
     "name": "stdout",
     "output_type": "stream",
     "text": [
      "['a', 'b', 'c']\n"
     ]
    }
   ],
   "source": [
    "dictionary = {\"a\": 1, \"b\": 2, \"c\": 3}\n",
    "keys = list(dictionary.keys()) \n",
    "print(keys)"
   ]
  },
  {
   "cell_type": "code",
   "execution_count": 290,
   "id": "9aa7335d-f800-4837-9dba-764443607be0",
   "metadata": {},
   "outputs": [
    {
     "name": "stdout",
     "output_type": "stream",
     "text": [
      "yes\n"
     ]
    }
   ],
   "source": [
    "x=2\n",
    "if x<4:\n",
    "    print(\"yes\")"
   ]
  },
  {
   "cell_type": "code",
   "execution_count": 347,
   "id": "99f41784-91fd-4550-b23f-8c982fc910b3",
   "metadata": {},
   "outputs": [
    {
     "name": "stdout",
     "output_type": "stream",
     "text": [
      "11 4 2 Not Prime Number2\n",
      "11 4 3 Not Prime Number2\n"
     ]
    }
   ],
   "source": [
    "#prime or not\n",
    "num=11\n",
    "num1=num\n",
    "if(num>1):\n",
    "    for i in range(2,int(num**0.5) + 1):\n",
    "        temp=int(num1**0.5)+1;\n",
    "        print(num,temp,i,\"Not Prime Number2\")\n",
    "        #for i in range(2,num):\n",
    "           # print(num,int(num**0.5),\"Not Prime Number1\")        \n",
    "else:\n",
    "    print(num,\"Not Prime Number-1\")\n",
    "    \n"
   ]
  },
  {
   "cell_type": "code",
   "execution_count": 350,
   "id": "bc20614e-3c8d-4d0a-942b-4e933bb592d1",
   "metadata": {},
   "outputs": [
    {
     "name": "stdout",
     "output_type": "stream",
     "text": [
      "1 2 6 24 120 720 5040 40320 362880 "
     ]
    }
   ],
   "source": [
    "import math\n",
    "def factorial(n):\n",
    "    if n == 0:\n",
    "        return 1\n",
    "    else:\n",
    "        return n * factorial(n-1)\n",
    "\n",
    "for num in range(1, 10):   # primes between 1 and 50\n",
    "    print(math.factorial(num), end=\" \")\n",
    "    #for num in range(1, 10):\n",
    "#    print(num,math.sqrt(num)+1)\n",
    "#3,5"
   ]
  },
  {
   "cell_type": "code",
   "execution_count": 387,
   "id": "deedca35-3d53-4667-afca-10c31713c625",
   "metadata": {},
   "outputs": [
    {
     "name": "stdout",
     "output_type": "stream",
     "text": [
      "6 Prime\n",
      "Primelast\n"
     ]
    }
   ],
   "source": [
    "import math\n",
    "n=6\n",
    "if(n<=1):\n",
    "    print(n,\"Not Prime\")\n",
    "for i in range(2, int(math.sqrt(n))+1):\n",
    "    print(n,\"Prime\")\n",
    "print(\"Primelast\")"
   ]
  },
  {
   "cell_type": "code",
   "execution_count": null,
   "id": "28f6d99f-3a03-4880-8363-63011c464cbe",
   "metadata": {},
   "outputs": [],
   "source": [
    "#3,5,7"
   ]
  },
  {
   "cell_type": "code",
   "execution_count": 393,
   "id": "2e637482-ae3b-43fb-814a-013d0cc6616b",
   "metadata": {},
   "outputs": [
    {
     "name": "stdout",
     "output_type": "stream",
     "text": [
      "True\n",
      "2 prime\n",
      "3 prime\n",
      "5 prime\n",
      "7 prime\n",
      "11 prime\n",
      "13 prime\n",
      "17 prime\n",
      "19 prime\n"
     ]
    }
   ],
   "source": [
    "def is_prime(n):\n",
    "    if n <= 1:\n",
    "        return False\n",
    "    for i in range(2, int(n**0.5) + 1):\n",
    "        if n % i == 0:\n",
    "            return False\n",
    "    return True\n",
    "print(is_prime(2))   # True\n",
    "for num in range(1, 20):\n",
    "    if is_prime(num):\n",
    "        print(num, \"prime\")"
   ]
  },
  {
   "cell_type": "code",
   "execution_count": 398,
   "id": "cecc151b-5edf-4111-961d-e71877eba1f0",
   "metadata": {},
   "outputs": [
    {
     "name": "stdout",
     "output_type": "stream",
     "text": [
      "2 3 5 7 11 13 True\n"
     ]
    }
   ],
   "source": [
    "import math\n",
    "\n",
    "def is_prime1(n):\n",
    "    if n <= 1:\n",
    "        return False\n",
    "        print(\"Not Prime\")\n",
    "    for i in range(2, int(math.sqrt(n)) + 1):\n",
    "        if n % i == 0:\n",
    "            return False\n",
    "            print(\"Not Prime\")\n",
    "    return True\n",
    "    print(\"Prime\")\n",
    "\n",
    "for num in range(1, 15):\n",
    "    if is_prime1(num):\n",
    "        print(num, end=\" \")\n",
    "print(is_prime1(2))\n",
    "#if is_prime(2):\n",
    "    #print(num, end=\" \")\n",
    "    "
   ]
  },
  {
   "cell_type": "code",
   "execution_count": 409,
   "id": "48ded615-e761-4400-8279-169ca9cb7b41",
   "metadata": {},
   "outputs": [
    {
     "name": "stdout",
     "output_type": "stream",
     "text": [
      "2 Prime Number\n",
      "3 Prime Number\n",
      "5 Prime Number\n",
      "7 Prime Number\n",
      "11 Prime Number\n",
      "13 Prime Number\n",
      "True\n"
     ]
    }
   ],
   "source": [
    "import math\n",
    "def PrimeNum(n):\n",
    "    if(n<=1):\n",
    "        return False\n",
    "    for i in range(2,int(math.sqrt(n))+1):\n",
    "        if n%i==0:\n",
    "            return False\n",
    "    return True\n",
    "for n in range(15):\n",
    "    if(PrimeNum(n)):\n",
    "        print(n,\"Prime Number\")\n",
    "print(PrimeNum(11))        "
   ]
  },
  {
   "cell_type": "code",
   "execution_count": 422,
   "id": "de65b19a-b909-48ee-be38-a2dc8352c9c8",
   "metadata": {},
   "outputs": [
    {
     "name": "stdout",
     "output_type": "stream",
     "text": [
      "120\n"
     ]
    }
   ],
   "source": [
    "def myfactorial(n):\n",
    "    if n==0:\n",
    "        return 1\n",
    "    elif n<0:\n",
    "        return \"\"\n",
    "    else:\n",
    "        return n*myfactorial(n-1)\n",
    "print(myfactorial(5))"
   ]
  },
  {
   "cell_type": "code",
   "execution_count": 424,
   "id": "13198e72-3447-4843-b321-0b75235dcb32",
   "metadata": {},
   "outputs": [
    {
     "name": "stdout",
     "output_type": "stream",
     "text": [
      "1 4 6 8 9 10 "
     ]
    }
   ],
   "source": [
    "#composite number\n",
    "\n",
    "import math\n",
    "def PrimeNum(n):\n",
    "    if(n<=1):\n",
    "        return False\n",
    "    for i in range(2,int(n**0.5)+1):\n",
    "        if n%i==0:\n",
    "            return False\n",
    "    return True\n",
    "\n",
    "for i in range(1,11):\n",
    "    if(PrimeNum(i)==False):\n",
    "        print(i,end=\" \")"
   ]
  },
  {
   "cell_type": "code",
   "execution_count": 426,
   "id": "00e1e006-3037-4869-a9ca-ae48e732c900",
   "metadata": {},
   "outputs": [
    {
     "name": "stdout",
     "output_type": "stream",
     "text": [
      "True\n",
      "False\n",
      "False\n"
     ]
    }
   ],
   "source": [
    "def is_leap_year(year):\n",
    "    return ((year%4==0) and (year%100!=0))or(year%400==0)\n",
    "\n",
    "print(is_leap_year(2024))  # True\n",
    "print(is_leap_year(1900))  # False\n",
    "print(is_leap_year(2025)) # True"
   ]
  },
  {
   "cell_type": "code",
   "execution_count": 431,
   "id": "8c10fd42-3c07-48b0-85e0-10dea36606a2",
   "metadata": {},
   "outputs": [
    {
     "name": "stdout",
     "output_type": "stream",
     "text": [
      "madam Palindrome\n",
      "cool -No-\n",
      "noon Palindrome\n"
     ]
    }
   ],
   "source": [
    "#palindrome\n",
    "def is_palindrome(s):\n",
    "    b=(s==s[::-1])\n",
    "    if(b==True):\n",
    "        return \"Palindrome\"\n",
    "    else:\n",
    "        return \"-No-\"\n",
    "list=[\"madam\",\"cool\",\"noon\"]\n",
    "for n in list:\n",
    "    print(n,is_palindrome(n))"
   ]
  },
  {
   "cell_type": "code",
   "execution_count": 433,
   "id": "bbb43461-286c-49a7-8cb8-240226e997e8",
   "metadata": {},
   "outputs": [
    {
     "name": "stdout",
     "output_type": "stream",
     "text": [
      "6\n"
     ]
    }
   ],
   "source": [
    "from functools import reduce\n",
    "li=[1,2,3]\n",
    "p=reduce(lambda x,y:x*y,li)\n",
    "print(p)"
   ]
  },
  {
   "cell_type": "code",
   "execution_count": 446,
   "id": "33919378-3301-4f8b-b59a-3cf07fad1ac7",
   "metadata": {},
   "outputs": [
    {
     "name": "stdout",
     "output_type": "stream",
     "text": [
      "25\n",
      "[2, 4, 6]\n",
      "[1, 4, 9, 16]\n",
      "120\n"
     ]
    }
   ],
   "source": [
    "square = lambda x: x * x\n",
    "print(square(5))   # 25\n",
    "\n",
    "nums = [1, 2, 3, 4, 5, 6]\n",
    "evens = list(filter(lambda x:x % 2 == 0, nums))\n",
    "print(evens)   # [2, 4, 6]\n",
    "\n",
    "nums = [1, 2, 3, 4]\n",
    "squares = list(map(lambda x: x**2, nums))\n",
    "print(squares)   # [1, 4, 9, 16]\n",
    "\n",
    "from functools import reduce\n",
    "nums = [1, 2, 3, 4, 5]\n",
    "product = reduce(lambda x, y: x * y, nums)\n",
    "print(product)   # 120"
   ]
  },
  {
   "cell_type": "code",
   "execution_count": 445,
   "id": "c5e0f2b0-b440-4e40-8fa0-e48da6f1b6ce",
   "metadata": {},
   "outputs": [
    {
     "name": "stdout",
     "output_type": "stream",
     "text": [
      "[2, 4, 6]\n"
     ]
    }
   ],
   "source": [
    "nums = [1, 2, 3, 4, 5, 6]\n",
    "evens = list(filter(lambda x1:x1 % 2 == 0, nums))\n",
    "print(evens)   # [2, 4, 6]"
   ]
  },
  {
   "cell_type": "code",
   "execution_count": 444,
   "id": "4db122d0-70a2-42d9-9898-bb54a9207024",
   "metadata": {},
   "outputs": [
    {
     "name": "stdout",
     "output_type": "stream",
     "text": [
      "[2, 4, 6]\n"
     ]
    }
   ],
   "source": [
    "# Example: Filter even numbers from a list\n",
    "n = [1, 2, 3, 4, 5, 6]\n",
    "even = filter(lambda x: x % 2 == 0, n)\n",
    "print(list(even))"
   ]
  },
  {
   "cell_type": "code",
   "execution_count": 443,
   "id": "f4085471-d0da-4675-b6e2-7eb5fbdfdfe3",
   "metadata": {},
   "outputs": [
    {
     "name": "stdout",
     "output_type": "stream",
     "text": [
      "[2, 4, 6]\n"
     ]
    }
   ],
   "source": [
    "del list\n",
    "n = [1, 2, 3, 4, 5, 6]\n",
    "even = filter(lambda x: x % 2 == 0, n)\n",
    "print(list(even))"
   ]
  },
  {
   "cell_type": "code",
   "execution_count": 447,
   "id": "7ba21ea4-b66e-47e1-b952-c156700d9aeb",
   "metadata": {},
   "outputs": [
    {
     "name": "stdout",
     "output_type": "stream",
     "text": [
      "3000\n"
     ]
    }
   ],
   "source": [
    "#49.Find the second-highest salary\n",
    "import pandas as pd\n",
    "# Sample data\n",
    "data = {'Employee': ['A', 'B', 'C', 'D'],\n",
    "'Salary': [1000, 2000, 3000, 4000]}\n",
    "df = pd.DataFrame(data)\n",
    "# Find the second-highest salary\n",
    "second_highest_salary = df['Salary'].nlargest(2).iloc[-1]\n",
    "print(second_highest_salary)"
   ]
  },
  {
   "cell_type": "code",
   "execution_count": 488,
   "id": "8657ed42-b709-428c-9b04-173f48103dca",
   "metadata": {},
   "outputs": [
    {
     "name": "stdout",
     "output_type": "stream",
     "text": [
      "{'A': 1000, 'B': 2000, 'C': 3000, 'D': 4000}\n",
      "C\n"
     ]
    }
   ],
   "source": [
    "sal_dic={'A':1000, 'B':2000, 'C':3000, 'D':4000}\n",
    "print(sal_dic)\n",
    "print(sorted(set(sal_dic.keys()))[-2])\n",
    "#mm=[key for key, value in sal_dic]\n",
    "#print((sorted(set(sal_dic.values())))[-1])\n"
   ]
  },
  {
   "cell_type": "code",
   "execution_count": 458,
   "id": "d3130bcb-fdad-4db3-beda-fd1fb9d91cf5",
   "metadata": {},
   "outputs": [
    {
     "name": "stdout",
     "output_type": "stream",
     "text": [
      "[10, 8, 5]\n"
     ]
    }
   ],
   "source": [
    "my_dict = {'apple': 5, 'banana': 10, 'cherry': 10, 'date': 8}\n",
    "sort_val=sorted(set(my_dict.values()),reverse=True)\n",
    "print(sort_val)"
   ]
  },
  {
   "cell_type": "code",
   "execution_count": 487,
   "id": "67d36ba2-0702-41ad-ab77-f9dd2b331777",
   "metadata": {},
   "outputs": [
    {
     "name": "stdout",
     "output_type": "stream",
     "text": [
      "2nd Highest Salary : 3000 to : ['Rani', 'Siva']\n"
     ]
    }
   ],
   "source": [
    "#sample salary data\n",
    "sal_dic={'Ram':1000, 'Raj':2000, 'Rani':3000, 'Mani':4000,'Siva':3000}\n",
    "#find second highest salary\n",
    "sec_high=sorted(set(sal_dic.values()))[-2]\n",
    "print(\"2nd Highest Salary :\",sec_high,\"to :\",end=\" \")\n",
    "print([key for key, value in sal_dic.items() if value == sec_high] )\n"
   ]
  },
  {
   "cell_type": "code",
   "execution_count": 490,
   "id": "2299ed4a-0a58-4274-bdd3-fd6ed66d9d33",
   "metadata": {},
   "outputs": [
    {
     "name": "stdout",
     "output_type": "stream",
     "text": [
      "['b@ex.com', 'a@ex.com']\n"
     ]
    }
   ],
   "source": [
    "emails=['a@ex.com', 'b@ex.com','a@ex.com', 'c@ex.com','a@ex.com','b@ex.com']\n",
    "duplicates=list(set([w for w in emails if emails.count(w)>1]))\n",
    "print(duplicates) "
   ]
  },
  {
   "cell_type": "code",
   "execution_count": 504,
   "id": "c32cddc1-d70c-445d-a335-eaf5150a75ef",
   "metadata": {},
   "outputs": [
    {
     "name": "stdout",
     "output_type": "stream",
     "text": [
      "Counter({'a@eg.com': 3, 'b@eg.com': 2, 'c@eg.com': 1})\n",
      "E-mail: a@eg.com is 3 times\n",
      "E-mail: b@eg.com is 2 times\n"
     ]
    }
   ],
   "source": [
    "from collections import Counter\n",
    "emails=['a@eg.com', 'b@eg.com','a@eg.com', 'c@eg.com','a@eg.com','b@eg.com']\n",
    "e_counts=Counter(emails)\n",
    "print(e_counts)\n",
    "for email,counts in e_counts.items():\n",
    "    if counts>1:\n",
    "        print(f\"E-mail: {email} is {counts} times\")"
   ]
  },
  {
   "cell_type": "code",
   "execution_count": 506,
   "id": "702b3824-789b-4a5f-960f-e1e22977c136",
   "metadata": {},
   "outputs": [
    {
     "name": "stdout",
     "output_type": "stream",
     "text": [
      "Bucket\n",
      "<50      42.857143\n",
      "<75      71.428571\n",
      "<90      85.714286\n",
      "<100    100.000000\n",
      "Name: proportion, dtype: float64\n"
     ]
    }
   ],
   "source": [
    "import pandas as pd\n",
    "# Sample data\n",
    "data = {'Score': [10, 20, 40, 50, 70, 80, 90, 100]}\n",
    "df = pd.DataFrame(data)\n",
    "# Define the bins and labels\n",
    "bins = [0, 50, 75, 90, 100]\n",
    "labels = ['<50', '<75', '<90', '<100']\n",
    "# Create a new column with the bucket labels\n",
    "df['Bucket'] = pd.cut(df['Score'], bins=bins, labels=labels, right=False)\n",
    "# Calculate cumulative percentage\n",
    "cumulative_percentage =df['Bucket'].value_counts(normalize=True).sort_index().cumsum() *100\n",
    "print(cumulative_percentage)"
   ]
  },
  {
   "cell_type": "code",
   "execution_count": 508,
   "id": "04e59c46-cbf4-4cdb-bbac-86f98478b16c",
   "metadata": {},
   "outputs": [
    {
     "name": "stdout",
     "output_type": "stream",
     "text": [
      "[1, 2, 3, [4, 6]]\n",
      "[1, 2, 3, [4, 6], 6, 7]\n"
     ]
    }
   ],
   "source": [
    "a = [1, 2, 3]\n",
    "a.append([4,6])\n",
    "print(a)\n",
    "a.extend([6,7])\n",
    "print(a)"
   ]
  },
  {
   "cell_type": "code",
   "execution_count": 509,
   "id": "77683cce-6a84-4367-9f41-f3a1dd39b961",
   "metadata": {},
   "outputs": [
    {
     "name": "stdout",
     "output_type": "stream",
     "text": [
      "[]\n"
     ]
    }
   ],
   "source": [
    "import numpy as np\n",
    "\n",
    "empty_array=np.array([])\n",
    "print(empty_array)"
   ]
  },
  {
   "cell_type": "code",
   "execution_count": 516,
   "id": "f2630a19-8a3e-450c-960b-124f00c13ab1",
   "metadata": {},
   "outputs": [
    {
     "name": "stdout",
     "output_type": "stream",
     "text": [
      "[[1 2]\n",
      " [4 5]]\n",
      "   A  B\n",
      "0  1  2\n",
      "1  4  5\n"
     ]
    }
   ],
   "source": [
    "import numpy as np\n",
    "import pandas as pd\n",
    "array1 = np.array([[1, 2], [4, 5]])\n",
    "print(array1)\n",
    "# Convert to DataFrame\n",
    "df = pd.DataFrame(array1, columns=['A', 'B'])\n",
    "print(df)"
   ]
  },
  {
   "cell_type": "code",
   "execution_count": 519,
   "id": "fe3e1d68-0cf2-4e7a-ab60-7ce09cdf55a3",
   "metadata": {},
   "outputs": [
    {
     "name": "stdout",
     "output_type": "stream",
     "text": [
      "3    2\n",
      "4    2\n",
      "1    2\n",
      "2    1\n",
      "Name: count, dtype: int64\n"
     ]
    }
   ],
   "source": [
    "import pandas as pd\n",
    "slist=pd.Series([2,3,3,4,4,1,1])\n",
    "fc=slist.value_counts()\n",
    "print(fc)"
   ]
  },
  {
   "cell_type": "code",
   "execution_count": 521,
   "id": "00743f6f-f7a9-4b5a-861f-49a275789cec",
   "metadata": {},
   "outputs": [
    {
     "name": "stdout",
     "output_type": "stream",
     "text": [
      "[]\n",
      "Empty DataFrame\n",
      "Columns: []\n",
      "Index: []\n",
      "Series([], dtype: object)\n"
     ]
    }
   ],
   "source": [
    "import pandas as pd\n",
    "import numpy as np\n",
    "em_array=np.array([])\n",
    "em_df=pd.DataFrame()\n",
    "em_s=pd.Series()\n",
    "print(em_array)\n",
    "print(em_df)\n",
    "print(em_s)"
   ]
  },
  {
   "cell_type": "code",
   "execution_count": 523,
   "id": "092a39a8-35ae-4517-9d3b-2959c5f7e85e",
   "metadata": {},
   "outputs": [
    {
     "name": "stdout",
     "output_type": "stream",
     "text": [
      "[1 2 3]\n",
      "Series([], dtype: object)\n",
      "   0\n",
      "0  1\n",
      "1  2\n",
      "2  3\n"
     ]
    }
   ],
   "source": [
    "import pandas as pd\n",
    "import numpy as np\n",
    "em_array=np.array([1,2,3])\n",
    "em_s=pd.Series()\n",
    "em_df=pd.DataFrame(em_array)\n",
    "\n",
    "print(em_array)\n",
    "print(em_s)\n",
    "print(em_df)\n"
   ]
  },
  {
   "cell_type": "code",
   "execution_count": null,
   "id": "f1a64d4e-52ec-4b25-bf1f-a7958a8b6ef5",
   "metadata": {},
   "outputs": [],
   "source": []
  }
 ],
 "metadata": {
  "kernelspec": {
   "display_name": "Python [conda env:base] *",
   "language": "python",
   "name": "conda-base-py"
  },
  "language_info": {
   "codemirror_mode": {
    "name": "ipython",
    "version": 3
   },
   "file_extension": ".py",
   "mimetype": "text/x-python",
   "name": "python",
   "nbconvert_exporter": "python",
   "pygments_lexer": "ipython3",
   "version": "3.13.5"
  }
 },
 "nbformat": 4,
 "nbformat_minor": 5
}
