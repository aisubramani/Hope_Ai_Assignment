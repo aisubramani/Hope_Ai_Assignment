{
 "cells": [
  {
   "cell_type": "code",
   "execution_count": 2,
   "id": "e7761732-e4e4-44bf-8f73-6a4e90d96b53",
   "metadata": {},
   "outputs": [],
   "source": [
    "#if statement\n",
    "if():\n",
    "    print()"
   ]
  },
  {
   "cell_type": "code",
   "execution_count": 5,
   "id": "45472e12-c25f-48ac-bf86-7a3af636a6ae",
   "metadata": {},
   "outputs": [
    {
     "name": "stdin",
     "output_type": "stream",
     "text": [
      "Enter age: 18\n"
     ]
    },
    {
     "name": "stdout",
     "output_type": "stream",
     "text": [
      "Adult\n"
     ]
    }
   ],
   "source": [
    "#if statement\n",
    "my_age=int(input(\"Enter age:\"))\n",
    "if(my_age==18):\n",
    "    print(\"Adult\")"
   ]
  },
  {
   "cell_type": "code",
   "execution_count": null,
   "id": "14b87d8f-635e-46a1-8723-9c21e0b2cf2a",
   "metadata": {},
   "outputs": [],
   "source": [
    "#if statement\n",
    "if(condition):\n",
    "    print()\n",
    "else:\n",
    "    print()"
   ]
  },
  {
   "cell_type": "code",
   "execution_count": 6,
   "id": "6815b512-404a-4df9-b22a-09900e77f959",
   "metadata": {},
   "outputs": [
    {
     "name": "stdout",
     "output_type": "stream",
     "text": [
      "1\n",
      "2\n",
      "3\n",
      "4\n",
      "5\n",
      "6\n",
      "7\n",
      "8\n",
      "9\n"
     ]
    }
   ],
   "source": [
    "for temp in range(1,10):\n",
    "    print(temp)"
   ]
  },
  {
   "cell_type": "code",
   "execution_count": null,
   "id": "9a71b03d-1e79-437e-b9e4-c819fd4f1187",
   "metadata": {},
   "outputs": [],
   "source": [
    "def():\n"
   ]
  },
  {
   "cell_type": "code",
   "execution_count": 11,
   "id": "dd0588bd-97a8-4990-8a58-285cb3f6a198",
   "metadata": {},
   "outputs": [
    {
     "name": "stdin",
     "output_type": "stream",
     "text": [
      "Input age: 18\n"
     ]
    },
    {
     "name": "stdout",
     "output_type": "stream",
     "text": [
      "Adult\n"
     ]
    }
   ],
   "source": [
    "#if-else\n",
    "age=int(input(\"Input age:\"))\n",
    "if(age<18):\n",
    "    print(\"children\")\n",
    "else:\n",
    "    print(\"Adult\")"
   ]
  },
  {
   "cell_type": "code",
   "execution_count": null,
   "id": "7b6e02b5-1ea1-4086-8bc3-9d30eb8341da",
   "metadata": {},
   "outputs": [],
   "source": [
    "#if-elif\n",
    "age=int(input(\"Input age:\"))\n",
    "if(age<18):\n",
    "    print(\"children\")\n",
    "elif(age<35):\n",
    "    print(\"Adult\")\n",
    "elif(age<59):\n",
    "    print(\"Citizen\")    \n",
    "else:\n",
    "    print(\"Senior Citizen\")"
   ]
  },
  {
   "cell_type": "markdown",
   "id": "deb004b0-1516-48d9-970c-0c749aa37ee8",
   "metadata": {},
   "source": [
    "hi how are\n"
   ]
  },
  {
   "cell_type": "code",
   "execution_count": null,
   "id": "2e97643e-872a-49bb-92dd-b0649d417343",
   "metadata": {},
   "outputs": [],
   "source": [
    "my_list=[10,30,50,20]"
   ]
  },
  {
   "cell_type": "code",
   "execution_count": 18,
   "id": "00f9faba-d5bc-4b4c-95f3-b4441ce56ebe",
   "metadata": {},
   "outputs": [
    {
     "name": "stdout",
     "output_type": "stream",
     "text": [
      "10\n",
      "30\n",
      "50\n",
      "20\n"
     ]
    }
   ],
   "source": [
    "#for loop\n",
    "my_lists=[10,25,45,70]\n",
    "my_main_variables=my_lists;\n",
    "for my_temp_variable in my_main_variables:\n",
    "    print(my_temp_variable)"
   ]
  },
  {
   "cell_type": "code",
   "execution_count": 19,
   "id": "4de7523a-453d-4de8-a0d2-cb98bb7bf4e4",
   "metadata": {},
   "outputs": [
    {
     "name": "stdout",
     "output_type": "stream",
     "text": [
      "10\n",
      "children\n",
      "25\n",
      "Adult\n",
      "45\n",
      "Citizen\n",
      "70\n",
      "Senior Citizen\n"
     ]
    }
   ],
   "source": [
    "my_lists=[10,25,45,70]\n",
    "for my_temp_variable in my_lists:\n",
    "    print(my_temp_variable)\n",
    "    age=my_temp_variable\n",
    "    if(age<18):\n",
    "        print(\"children\")\n",
    "    elif(age<35):\n",
    "        print(\"Adult\")\n",
    "    elif(age<59):\n",
    "        print(\"Citizen\")    \n",
    "    else:\n",
    "        print(\"Senior Citizen\")\n",
    "    "
   ]
  },
  {
   "cell_type": "code",
   "execution_count": 22,
   "id": "4413be7a-0e8a-45ad-9129-3584d0835c04",
   "metadata": {},
   "outputs": [
    {
     "name": "stdin",
     "output_type": "stream",
     "text": [
      "Enter Number: 10\n"
     ]
    },
    {
     "name": "stdout",
     "output_type": "stream",
     "text": [
      "10 is Even Number\n"
     ]
    }
   ],
   "source": [
    "#Find the odd or even number\n",
    "my_number=int(input(\"Enter Number:\"))\n",
    "if((my_number%2)==0):\n",
    "    print(my_number,\"is Even Number\")\n",
    "else:\n",
    "    print(my_number,\"is Odd Number\")"
   ]
  },
  {
   "cell_type": "code",
   "execution_count": 23,
   "id": "71b363ca-e5e4-408f-a4b6-d3d2e6b4eb86",
   "metadata": {},
   "outputs": [
    {
     "name": "stdout",
     "output_type": "stream",
     "text": [
      "1 Module\n",
      "3.5 divison\n"
     ]
    }
   ],
   "source": [
    "my_number=7\n",
    "print(my_number%2,\"Module\")\n",
    "print(my_number/2,\"divison\")"
   ]
  },
  {
   "cell_type": "code",
   "execution_count": 27,
   "id": "fe46c2f2-609d-4c2a-85ce-a07bdc289688",
   "metadata": {},
   "outputs": [
    {
     "name": "stdout",
     "output_type": "stream",
     "text": [
      "1\n",
      "2\n",
      "3\n",
      "4\n"
     ]
    }
   ],
   "source": [
    "#range range(start,stop,step)\n",
    "for num in range(1,5):\n",
    "    print(num)"
   ]
  },
  {
   "cell_type": "code",
   "execution_count": null,
   "id": "921ab584-0bff-49a2-ab7a-c94aba74c3ee",
   "metadata": {},
   "outputs": [],
   "source": [
    "for num in range(-1,5):\n",
    "    print(num)"
   ]
  },
  {
   "cell_type": "code",
   "execution_count": 30,
   "id": "0184a4e7-378d-4d51-b754-9393ef693a7c",
   "metadata": {},
   "outputs": [
    {
     "name": "stdout",
     "output_type": "stream",
     "text": [
      "1\n",
      "3\n"
     ]
    }
   ],
   "source": [
    "for num in range(1,5,2):\n",
    "    print(num)"
   ]
  },
  {
   "cell_type": "code",
   "execution_count": 34,
   "id": "19b119f1-b782-4921-a420-97b78893cecf",
   "metadata": {},
   "outputs": [
    {
     "name": "stdout",
     "output_type": "stream",
     "text": [
      "1\n"
     ]
    }
   ],
   "source": [
    "for num in range(1,3,2):\n",
    "    print(num)"
   ]
  },
  {
   "cell_type": "code",
   "execution_count": 38,
   "id": "4fafc96f-e7a0-4568-a863-9c2767606866",
   "metadata": {},
   "outputs": [
    {
     "name": "stdout",
     "output_type": "stream",
     "text": [
      "('G', 'O', 'D')\n",
      "('D', 'O', 'G')\n",
      "G\n",
      "D\n",
      "('G', 'O')\n",
      "('G', 'O')\n",
      "('GOD', 'Love', 'YES')\n",
      "('GOD',)\n",
      "('Love', 'YES')\n"
     ]
    }
   ],
   "source": [
    "#tuples\n",
    "my_tuple=tuple(\"GOD\")\n",
    "print(my_tuple)\n",
    "print(my_tuple[::-1])\n",
    "print(my_tuple[0])\n",
    "print(my_tuple[-1])\n",
    "print(my_tuple[0:2])\n",
    "print(my_tuple[:2])\n",
    "my_tuple1=(\"GOD\",\"Love\",\"YES\")\n",
    "print(my_tuple1)\n",
    "print(my_tuple1[0:1])\n",
    "print(my_tuple1[1:3])"
   ]
  },
  {
   "cell_type": "code",
   "execution_count": null,
   "id": "bcbd90fa-0a9d-4629-912f-e23b8de14e8f",
   "metadata": {},
   "outputs": [],
   "source": [
    "#-------"
   ]
  },
  {
   "cell_type": "code",
   "execution_count": 5,
   "id": "436f9385-8d6b-4326-8748-75ba6cb3ce55",
   "metadata": {},
   "outputs": [
    {
     "name": "stdout",
     "output_type": "stream",
     "text": [
      "10\n",
      "children\n",
      "25\n",
      "Adult\n",
      "45\n",
      "Citizen\n",
      "70\n",
      "Senior Citizen\n"
     ]
    }
   ],
   "source": [
    "#Function-2\n",
    "my_lists=[10,25,45,70]\n",
    "def AgeCategory():\n",
    "    for my_temp_age in my_lists:\n",
    "        print(my_temp_age)\n",
    "        if(my_temp_age<18):\n",
    "            print(\"children\")\n",
    "        elif(my_temp_age<35):\n",
    "            print(\"Adult\")\n",
    "        elif(my_temp_age<59):\n",
    "            print(\"Citizen\")    \n",
    "        else:\n",
    "            print(\"Senior Citizen\")\n",
    "\n",
    "AgeCategory()   "
   ]
  },
  {
   "cell_type": "code",
   "execution_count": 14,
   "id": "8dd0c3a1-aaf8-4146-b925-f3b33c296985",
   "metadata": {},
   "outputs": [
    {
     "name": "stdin",
     "output_type": "stream",
     "text": [
      "Input age: 40\n"
     ]
    },
    {
     "name": "stdout",
     "output_type": "stream",
     "text": [
      "Citizen\n"
     ]
    }
   ],
   "source": [
    "#Function-3\n",
    "my_temp_age=int(input(\"Input age:\"))\n",
    "def AgeCategory():\n",
    "    \n",
    "        #print(my_temp_age)\n",
    "        if(my_temp_age<18):\n",
    "            \n",
    "            cate=\"children\"\n",
    "        elif(my_temp_age<35):\n",
    "            \n",
    "            cate=\"Adult\"\n",
    "        elif(my_temp_age<59):\n",
    "            \n",
    "            cate=\"Citizen\"\n",
    "        else:\n",
    "            \n",
    "            cate=\"Senior Citizen\"\n",
    "        return cate\n",
    "\n",
    "#AgeCategory()\n",
    "age=AgeCategory()\n",
    "print(age)"
   ]
  },
  {
   "cell_type": "code",
   "execution_count": 15,
   "id": "faa91309-84b2-408d-8416-4d5cb35b1132",
   "metadata": {},
   "outputs": [
    {
     "name": "stdin",
     "output_type": "stream",
     "text": [
      "Input age: 40\n"
     ]
    },
    {
     "name": "stdout",
     "output_type": "stream",
     "text": [
      "None\n"
     ]
    }
   ],
   "source": [
    "my_temp_age=int(input(\"Input age:\"))\n",
    "def AgeCategory():\n",
    "    \n",
    "        #print(my_temp_age)\n",
    "        if(my_temp_age<18):\n",
    "            \n",
    "            cate=\"children\"\n",
    "        elif(my_temp_age<35):\n",
    "            \n",
    "            cate=\"Adult\"\n",
    "        elif(my_temp_age<59):\n",
    "            \n",
    "            cate=\"Citizen\"\n",
    "        else:\n",
    "            \n",
    "            cate=\"Senior Citizen\"\n",
    "        #return cate\n",
    "\n",
    "#AgeCategory()\n",
    "age=AgeCategory()\n",
    "print(age)"
   ]
  },
  {
   "cell_type": "code",
   "execution_count": 17,
   "id": "6e561961-6fb5-44df-82da-4edc6eb46024",
   "metadata": {},
   "outputs": [
    {
     "name": "stdin",
     "output_type": "stream",
     "text": [
      "Enter Number: 13\n"
     ]
    },
    {
     "name": "stdout",
     "output_type": "stream",
     "text": [
      "13 is Odd Number\n"
     ]
    },
    {
     "data": {
      "text/plain": [
       "'Even Number'"
      ]
     },
     "execution_count": 17,
     "metadata": {},
     "output_type": "execute_result"
    }
   ],
   "source": [
    "#function 4\n",
    "\n",
    "def oddEven():\n",
    "    my_number=int(input(\"Enter Number:\"))\n",
    "    if((my_number%2)==0):\n",
    "        print(my_number,\"is Even Number\")\n",
    "        message=\"Even Number\";\n",
    "    else:\n",
    "        print(my_number,\"is Odd Number\")\n",
    "        message=\"Even Number\";\n",
    "    return message\n",
    "\n",
    "oddEven()\n",
    "    "
   ]
  },
  {
   "cell_type": "code",
   "execution_count": 19,
   "id": "2bcc0d69-8c99-4448-b88e-c77155e08480",
   "metadata": {},
   "outputs": [
    {
     "name": "stdout",
     "output_type": "stream",
     "text": [
      "You are 'Underweight' (BMI below 18.5)\n"
     ]
    },
    {
     "data": {
      "text/plain": [
       "\"You are 'Underweight' (BMI below 18.5\""
      ]
     },
     "execution_count": 19,
     "metadata": {},
     "output_type": "execute_result"
    }
   ],
   "source": [
    "#function 5\n",
    "def BMI(my_bmi:float):\n",
    "    if(my_bmi<18.5):\n",
    "        print(\"You are 'Underweight' (BMI below 18.5)\")\n",
    "        message=\"You are 'Underweight' (BMI below 18.5\"\n",
    "    elif(my_bmi<24.9):\n",
    "        print(\"You are 'Normal Range' (BMI 18.5-24.9)\")\n",
    "        message=\"You are 'Normal Range' (BMI 18.5-24.9)\"\n",
    "    elif(my_bmi<29.9):\n",
    "        print(\"You are 'Overweight' (BMI 25-29.9)\")\n",
    "        message=\"You are 'Overweight' (BMI 25-29.9)\"\n",
    "    else:\n",
    "        if(my_bmi<34.9):\n",
    "            print(\"You are 'Obese Class I' (BMI 30-34.9)\")\n",
    "            message=\"You are 'Obese Class I' (BMI 30-34.9)\"\n",
    "        elif(my_bmi<39.9):\n",
    "            print(\"You are 'Obese Class II' (BMI 35-39.9)\")\n",
    "            message=\"You are 'Obese Class II' (BMI 35-39.9)\"\n",
    "        else:\n",
    "            print(\"You are 'Obese Class III' (BMI more than 40)\")\n",
    "            message=\"You are 'Obese Class III' (BMI more than 40)\"\n",
    "    return message\n",
    "\n",
    "BMI(10)"
   ]
  },
  {
   "cell_type": "code",
   "execution_count": null,
   "id": "16b4acc0-31a1-465f-9a7f-3aff767086eb",
   "metadata": {},
   "outputs": [],
   "source": []
  }
 ],
 "metadata": {
  "kernelspec": {
   "display_name": "Python [conda env:base] *",
   "language": "python",
   "name": "conda-base-py"
  },
  "language_info": {
   "codemirror_mode": {
    "name": "ipython",
    "version": 3
   },
   "file_extension": ".py",
   "mimetype": "text/x-python",
   "name": "python",
   "nbconvert_exporter": "python",
   "pygments_lexer": "ipython3",
   "version": "3.13.5"
  }
 },
 "nbformat": 4,
 "nbformat_minor": 5
}
