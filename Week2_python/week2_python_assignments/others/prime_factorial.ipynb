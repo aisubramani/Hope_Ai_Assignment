{
 "cells": [
  {
   "cell_type": "code",
   "execution_count": 25,
   "id": "67990759-4333-47e9-85ee-f4cbcfac19d7",
   "metadata": {},
   "outputs": [
    {
     "name": "stdout",
     "output_type": "stream",
     "text": [
      "True\n",
      "2 prime\n",
      "3 prime\n",
      "5 prime\n",
      "7 prime\n",
      "11 prime\n",
      "13 prime\n",
      "17 prime\n",
      "19 prime\n"
     ]
    }
   ],
   "source": [
    "#prime\n",
    "def is_prime(n):\n",
    "    if n <= 1:\n",
    "        return False\n",
    "    for i in range(2, int(n**0.5) + 1):\n",
    "        if n % i == 0:\n",
    "            return False\n",
    "    return True\n",
    "print(is_prime(7))   # True\n",
    "for num in range(1, 20):\n",
    "    if is_prime(num):\n",
    "        print(num, \"prime\")"
   ]
  },
  {
   "cell_type": "code",
   "execution_count": 28,
   "id": "5130cae5-661f-467e-bca1-1f06cf324fb6",
   "metadata": {},
   "outputs": [
    {
     "name": "stdout",
     "output_type": "stream",
     "text": [
      "1 1\n",
      "2 2\n",
      "3 6\n",
      "4 24\n",
      "5 120\n",
      "6 720\n",
      "7 5040\n",
      "8 40320\n",
      "9 362880\n"
     ]
    }
   ],
   "source": [
    "def factorial(n):\n",
    "    if n == 0 or n == 1:\n",
    "        return 1\n",
    "    return n * factorial(n - 1)\n",
    "#print(factorial(3))  # Output: 120 \n",
    "for num in range(1, 10):\n",
    "    print(num, factorial(num))"
   ]
  },
  {
   "cell_type": "code",
   "execution_count": 29,
   "id": "5547bf7d-0b53-402c-92d0-b5b0fbc8ce73",
   "metadata": {},
   "outputs": [
    {
     "name": "stdout",
     "output_type": "stream",
     "text": [
      "[0, 1, 1, 2, 3, 5, 8, 13, 21, 34]\n"
     ]
    }
   ],
   "source": [
    "'''2.Write a Python program to generate the Fibonacci sequence up to 10 terms.\n",
    "Expected Output:\n",
    "0 1 1 2 3 5 8 13 21 34'''\n",
    "def my_fibonacci(n):\n",
    "    if(n<=1):\n",
    "        return n\n",
    "    return my_fibonacci(n-1)+my_fibonacci(n-2)\n",
    "print([my_fibonacci(i) for i in range(10)])"
   ]
  },
  {
   "cell_type": "code",
   "execution_count": 16,
   "id": "b0e24799-112c-4831-8dd6-f8b35d083b55",
   "metadata": {},
   "outputs": [
    {
     "name": "stdout",
     "output_type": "stream",
     "text": [
      "True\n",
      "False\n",
      "False\n"
     ]
    }
   ],
   "source": [
    "def is_leap_year(year):\n",
    "    return ((year%4==0) and (year%100!=0))or(year%400==0)\n",
    "\n",
    "print(is_leap_year(2024))  # True\n",
    "print(is_leap_year(1900))  # False\n",
    "print(is_leap_year(2025)) # True"
   ]
  },
  {
   "cell_type": "code",
   "execution_count": 17,
   "id": "962b1756-8349-4792-9a70-db21e6075e0f",
   "metadata": {},
   "outputs": [
    {
     "name": "stdout",
     "output_type": "stream",
     "text": [
      "madam Palindrome\n",
      "cool -No-\n",
      "noon Palindrome\n"
     ]
    }
   ],
   "source": [
    "#palindrome\n",
    "def is_palindrome(s):\n",
    "    b=(s==s[::-1])\n",
    "    if(b==True):\n",
    "        return \"Palindrome\"\n",
    "    else:\n",
    "        return \"-No-\"\n",
    "list=[\"madam\",\"cool\",\"noon\"]\n",
    "for n in list:\n",
    "    print(n,is_palindrome(n))"
   ]
  },
  {
   "cell_type": "code",
   "execution_count": 18,
   "id": "7c020a11-9f3d-4a32-8fed-c0dc1dfb25bf",
   "metadata": {},
   "outputs": [
    {
     "name": "stdout",
     "output_type": "stream",
     "text": [
      "Given sentence is a pangram\n"
     ]
    }
   ],
   "source": [
    "#pangram\n",
    "str1=\"The quick brown fox jumps over the lazy dog\"\n",
    "a_z=\"abcdefghijklmnopqrstuvwxyz\"\n",
    "str2=(\"\".join(sorted(set([s.lower() for s in str1]))))\n",
    "if a_z == str2.strip():\n",
    "    print(\"Given sentence is a pangram\")\n",
    "else:\n",
    "    print(\"Given sentence is not a pangram\")"
   ]
  },
  {
   "cell_type": "code",
   "execution_count": 19,
   "id": "1b3bbbda-e7c8-4eb7-ac77-ed06bbb902f2",
   "metadata": {},
   "outputs": [
    {
     "name": "stdout",
     "output_type": "stream",
     "text": [
      "listen silent are Anagrams\n"
     ]
    }
   ],
   "source": [
    "#given strings are anagrams\n",
    "str1=\"listen\"\n",
    "str2=\"silent\"\n",
    "if(len(str1) == len(str2)):\n",
    "    list1=sorted([i.lower() for i in str1])\n",
    "    list2=sorted([i.lower() for i in str2])\n",
    "    if(list1==list2):\n",
    "        print(f\"{str1} {str2} are Anagrams\")\n",
    "    else:\n",
    "        print(f\"{str1} {str2} are NOT Anagrams\")\n",
    "else:\n",
    "    print(f\"'{str1}' '{str2}' are NOT Anagrams\")"
   ]
  },
  {
   "cell_type": "code",
   "execution_count": null,
   "id": "06e445ae-2848-4676-8122-57cc7eb90719",
   "metadata": {},
   "outputs": [],
   "source": []
  }
 ],
 "metadata": {
  "kernelspec": {
   "display_name": "Python [conda env:base] *",
   "language": "python",
   "name": "conda-base-py"
  },
  "language_info": {
   "codemirror_mode": {
    "name": "ipython",
    "version": 3
   },
   "file_extension": ".py",
   "mimetype": "text/x-python",
   "name": "python",
   "nbconvert_exporter": "python",
   "pygments_lexer": "ipython3",
   "version": "3.13.5"
  }
 },
 "nbformat": 4,
 "nbformat_minor": 5
}
