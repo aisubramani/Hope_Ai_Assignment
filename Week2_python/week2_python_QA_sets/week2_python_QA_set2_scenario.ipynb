{
 "cells": [
  {
   "cell_type": "code",
   "execution_count": null,
   "id": "0c75cc4c-74ca-4ab8-9e23-b1be448e29f5",
   "metadata": {},
   "outputs": [],
   "source": [
    "1. Scenario: You are developing a banking application that categorizes transactions based on the amount entered.\n",
    " Write logic to determine whether the amount is positive, negative, or zero.\n",
    "\n",
    "Logic:\n",
    "step 1: Read the input transaction type number\n",
    "step 2: If the number is greater than 0, return positive deposit\n",
    "step 3: Else if the numbe is less than 0, return negative withdrawal\n",
    "step 4: Else return zero no transaction"
   ]
  },
  {
   "cell_type": "code",
   "execution_count": 3,
   "id": "37d7e7ac-7702-47a7-977c-9ab33eed68e9",
   "metadata": {},
   "outputs": [
    {
     "name": "stdin",
     "output_type": "stream",
     "text": [
      "transaction number -1\n"
     ]
    },
    {
     "name": "stdout",
     "output_type": "stream",
     "text": [
      "Negative 'Withdrawal the Amount'\n"
     ]
    }
   ],
   "source": [
    "#python code\n",
    "trans_number=int(input(\"transaction number\"))\n",
    "if trans_number > 0:\n",
    "    print(\"Positive 'Deposit the Amount'\")\n",
    "elif trans_number < 0:\n",
    "    print(\"Negative 'Withdrawal the Amount'\")\n",
    "else:\n",
    "    print(\"Negative 'No Transaction'\")"
   ]
  },
  {
   "cell_type": "code",
   "execution_count": null,
   "id": "2dd2f464-def7-42e0-a8d5-2af075846272",
   "metadata": {},
   "outputs": [],
   "source": [
    "2.\tScenario: A digital locker requires users to enter a numerical passcode. \n",
    "As part of a security feature, the system checks the sum of the digits of the passcode.\n",
    "Write logic to compute the sum of the digits of a given number.\n",
    "\n",
    "Logic:\n",
    "step 1: Get the passcode from the user (as a number or string).\n",
    "step 2: Split the passcode into digits\n",
    "step 3: Convert each digit into an integer.\n",
    "step 4: return sum of all the digits together."
   ]
  },
  {
   "cell_type": "code",
   "execution_count": 16,
   "id": "2b0c604c-1ee3-4949-9387-051bb76a1d86",
   "metadata": {},
   "outputs": [
    {
     "name": "stdin",
     "output_type": "stream",
     "text": [
      "Enter your passcode:  178\n"
     ]
    },
    {
     "name": "stdout",
     "output_type": "stream",
     "text": [
      "178 the Passcode sum of digits is: 16\n"
     ]
    }
   ],
   "source": [
    "#python\n",
    "passcode = input(\"Enter your passcode: \")\n",
    "digit_sum = sum(int(digit) for digit in passcode)\n",
    "print(passcode,\"the Passcode sum of digits is:\", digit_sum)"
   ]
  },
  {
   "cell_type": "code",
   "execution_count": null,
   "id": "f1524d81-6c1e-4752-8f8c-b2ca0fae043e",
   "metadata": {},
   "outputs": [],
   "source": [
    "3.\tScenario: A mobile payment app uses a simple checksum validation where reversing \n",
    "a transaction ID helps detect fraud.\n",
    "Write logic to take a number and return its reverse.\n",
    "\n",
    "Logic:\n",
    "step 1: Read the input number. \n",
    "step 2: Convert the number into a string.\n",
    "step 3: Reverse the string.and Convert it back to a number.\n",
    "step 4: return the Reverse"
   ]
  },
  {
   "cell_type": "code",
   "execution_count": 18,
   "id": "ff2fdbf6-2c18-472c-ad40-5cea53290f65",
   "metadata": {},
   "outputs": [
    {
     "name": "stdin",
     "output_type": "stream",
     "text": [
      "Enter the Number 1234\n"
     ]
    },
    {
     "name": "stdout",
     "output_type": "stream",
     "text": [
      "1234 is 4321\n"
     ]
    }
   ],
   "source": [
    "number = str(input(\"Enter the Number\"))\n",
    "print(number,\"is\",int(number[::-1]))"
   ]
  },
  {
   "cell_type": "code",
   "execution_count": null,
   "id": "4451a6f0-0cfc-4998-86b3-765687101e87",
   "metadata": {},
   "outputs": [],
   "source": [
    "4.\tScenario: In a secure login system, certain features are enabled only for users with prime-numbered user IDs.\n",
    " Write logic to check if a given number is prime.\n",
    "\n",
    "Logic:\n",
    "step 1: Read the input number.\n",
    "step 2: If the number is less than 2, print \"Not Prime\".\n",
    "step 3: Loop from 2 to the square root of the number:\n",
    "step 4: If the number is divisible by any of these values, print \"Not Prime\" and exit.\n",
    "step 5: If no divisors are found, print \"Prime\"."
   ]
  },
  {
   "cell_type": "code",
   "execution_count": 25,
   "id": "7fe85bce-2800-4ffd-b05b-7c02c76702e0",
   "metadata": {},
   "outputs": [
    {
     "name": "stdin",
     "output_type": "stream",
     "text": [
      "Enter the Number 3\n"
     ]
    },
    {
     "name": "stdout",
     "output_type": "stream",
     "text": [
      "3 is Prime number\n"
     ]
    }
   ],
   "source": [
    "def is_prime(n):\n",
    "    if n<=1:\n",
    "        return False\n",
    "    for i in range(2,int(n**0.5)+1):\n",
    "        if n%i==0:\n",
    "            return False\n",
    "    return True\n",
    "number = int(input(\"Enter the Number\"))\n",
    "if is_prime(number)==True:\n",
    "    print(f\"{number} is Prime number\")\n",
    "else:\n",
    "    print(f\"{number} is Not Prime number\")\n"
   ]
  },
  {
   "cell_type": "code",
   "execution_count": null,
   "id": "371443ea-ed23-4ae3-ae14-778ee1d9f142",
   "metadata": {},
   "outputs": [],
   "source": [
    "5.\tScenario: A scientist is working on permutations and needs to calculate the factorial of numbers frequently.\n",
    " Write logic to find the factorial of a given number using recursion.\n",
    "\n",
    "Logic:\n",
    "step 1: Read the number\n",
    "step 2: Define a function: if the number is 0 or 1, return 1.\n",
    "step 3: Otherwise, return the number multiplied by the factorial of (number - 1).\n",
    "step 4: Call the function to compute the factorial.\n"
   ]
  },
  {
   "cell_type": "code",
   "execution_count": 39,
   "id": "311f0db2-7079-4fc3-954c-a46fe7ffabaa",
   "metadata": {},
   "outputs": [
    {
     "name": "stdout",
     "output_type": "stream",
     "text": [
      "1\n"
     ]
    }
   ],
   "source": [
    "def factorial(n):\n",
    "    if n == 0 or n == 1:\n",
    "        return 1\n",
    "    return n * factorial(n - 1)\n",
    "print(factorial(0))  # Output: 120 "
   ]
  },
  {
   "cell_type": "code",
   "execution_count": null,
   "id": "23ee9226-9dc4-4335-83d2-312a76b585d2",
   "metadata": {},
   "outputs": [],
   "source": [
    "6.\tScenario: A unique lottery system assigns ticket numbers where only Armstrong numbers win the jackpot.\n",
    " Write logic to check whether a given number is an Armstrong number.\n",
    "\n",
    "Logic:\n",
    "step 1:Read a number.\n",
    "step 2:Find the number of digits.\n",
    "step 3:Split the number into digits.\n",
    "step 4:Raise each digit to the power of the number of digits.\n",
    "step 5:Find the sum of all powered digits.\n",
    "step 6:If the sum equals the original number "
   ]
  },
  {
   "cell_type": "code",
   "execution_count": 43,
   "id": "3f7fce82-73cc-41a6-baf3-76c5de9308da",
   "metadata": {},
   "outputs": [
    {
     "name": "stdin",
     "output_type": "stream",
     "text": [
      "Enter a number:  153\n"
     ]
    },
    {
     "name": "stdout",
     "output_type": "stream",
     "text": [
      "153 is an Armstrong number\n"
     ]
    }
   ],
   "source": [
    "num = int(input(\"Enter a number: \"))\n",
    "power = len(str(num))\n",
    "total=0\n",
    "for digt in str(num):\n",
    "    total=total+(int(digt)**power)\n",
    "\n",
    "if total == num:\n",
    "    print(num, \"is an Armstrong number\")\n",
    "else:\n",
    "    print(num, \"is not an Armstrong number\")"
   ]
  },
  {
   "cell_type": "code",
   "execution_count": null,
   "id": "7c441dd6-aa69-475f-a574-d6a1c9f7733b",
   "metadata": {},
   "outputs": [],
   "source": [
    "7.\tScenario: A password manager needs to strengthen weak passwords by swapping the \n",
    "first and last characters of user-generated passwords.\n",
    "\n",
    "Logic:\n",
    "step 1:Read the input string. \n",
    "step 2:Get the input string.\n",
    "step 3:If the string length is less than 2, return the string as it is.\n",
    "step 4:Take the first character and the last character.\n",
    "step 5:Swap them while keeping the middle part unchanged.\n",
    "step 6:Return the new string. "
   ]
  },
  {
   "cell_type": "code",
   "execution_count": 53,
   "id": "e886bf41-007e-4a3a-a113-2f52e37c1e28",
   "metadata": {},
   "outputs": [
    {
     "name": "stdin",
     "output_type": "stream",
     "text": [
      "Enter the passcode:  InameA\n"
     ]
    },
    {
     "name": "stdout",
     "output_type": "stream",
     "text": [
      "InameA to new Passcode: AnameI\n"
     ]
    }
   ],
   "source": [
    "passcode = str(input(\"Enter the passcode: \"))\n",
    "if len(passcode) >2:\n",
    "    newpasscode= passcode[-1]+passcode[1:-1]+passcode[0]\n",
    "print(passcode,\"to new Passcode:\",newpasscode)"
   ]
  },
  {
   "cell_type": "code",
   "execution_count": null,
   "id": "53deea07-5e3f-4c99-aabd-6c87b44bfc0b",
   "metadata": {},
   "outputs": [],
   "source": [
    "8.\tScenario: A low-level networking application requires decimal numbers to be converted into binary format before transmission.\n",
    " Write logic to convert a given decimal number into its binary equivalent.\n",
    "\n",
    "Logic:\n",
    "Step 1: Read the decimal number (say n).\n",
    "Step 2: Create an empty string (or list) to store binary digits.\n",
    "Step 3: Repeat until n becomes 0:\n",
    "        Divide n by 2 → store the remainder (0 or 1).\n",
    "        Update n = n // 2 (integer division).\n",
    "Step 4: The binary number is the reverse of the collected remainders.\n",
    "Step 5: Return/print the result.\n"
   ]
  },
  {
   "cell_type": "code",
   "execution_count": 72,
   "id": "7341885a-1b6c-46ab-b6c5-58d3d38a01bf",
   "metadata": {},
   "outputs": [
    {
     "name": "stdout",
     "output_type": "stream",
     "text": [
      "Binary of 25 = 11001\n"
     ]
    }
   ],
   "source": [
    "#python\n",
    "def decimal_to_binary(n):\n",
    "    if n == 0:\n",
    "        return \"0\"\n",
    "    \n",
    "    binary = \"\"\n",
    "    while n > 0:\n",
    "        remainder = n % 2\n",
    "        binary = str(remainder) + binary  # prepend remainder\n",
    "        n = n // 2\n",
    "    return binary\n",
    "\n",
    "num = 25\n",
    "print(f\"Binary of {num} = {decimal_to_binary(num)}\")"
   ]
  },
  {
   "cell_type": "code",
   "execution_count": null,
   "id": "09b91285-ad5e-47fb-be14-a7e9157bbb98",
   "metadata": {},
   "outputs": [],
   "source": [
    "9.\tScenario: A text-processing tool helps summarize articles by identifying the most significant words.\n",
    " Write logic to find the longest word in a sentence.\n",
    "\n",
    "Logic:\n",
    "step 1: read the sentence\n",
    "step 2: split the sentence into list of words\n",
    "step 3: Use a loop to check the length of each word.\n",
    "step 4: find and return the longest word from the list"
   ]
  },
  {
   "cell_type": "code",
   "execution_count": 60,
   "id": "f051572b-e788-4bca-97a0-a510b20e46ce",
   "metadata": {},
   "outputs": [
    {
     "name": "stdin",
     "output_type": "stream",
     "text": [
      "Enter the sentence: I like Python very much\n"
     ]
    },
    {
     "name": "stdout",
     "output_type": "stream",
     "text": [
      "'Python' is longest word in the sentence:\n",
      " I like Python very much\n"
     ]
    }
   ],
   "source": [
    "sen=str(input(\"Enter the sentence:\"))\n",
    "words=sen.split()\n",
    "long_word=\"\"\n",
    "for s in words:\n",
    "    if len(s) > len(long_word):\n",
    "        long_word=s\n",
    "print(f\"'{long_word}' is longest word in the sentence:\\n\",sen)"
   ]
  },
  {
   "cell_type": "code",
   "execution_count": null,
   "id": "2b024fb2-4709-4212-981a-03707d4fab7c",
   "metadata": {},
   "outputs": [],
   "source": [
    "10.\tScenario: A plagiarism detection tool compares words from different documents and checks if they are anagrams (same characters but different order).\n",
    " Write logic to check whether two given strings are anagrams.\n",
    "\n",
    "Logic:\n",
    "Step 1: Read two strings.\n",
    "Step 2: Remove spaces and convert both strings to the same case (lowercase) to ensure uniform comparison.\n",
    "Step 3: Check if the lengths of both strings are the same. If not, they can’t be anagrams.\n",
    "Step 4: Sort the characters of both strings.\n",
    "Step 5: Compare the sorted strings. If they are identical, the strings are anagrams; otherwise, they are not."
   ]
  },
  {
   "cell_type": "code",
   "execution_count": 66,
   "id": "23427fed-31ea-4d57-83c4-7f72d428f44c",
   "metadata": {},
   "outputs": [
    {
     "name": "stdout",
     "output_type": "stream",
     "text": [
      "\"Earth\" and \"Heart\" are anagrams.\n"
     ]
    }
   ],
   "source": [
    "#program\n",
    "def anagrams(str1,str2):\n",
    "    str1 = str1.replace(\" \", \"\").lower()\n",
    "    str2 = str2.replace(\" \", \"\").lower()\n",
    "    if len(str1) != len(str2):\n",
    "        return False\n",
    "    if sorted(str1) == sorted(str2):\n",
    "        return True\n",
    "name1=\"Earth\"\n",
    "name2=\"Heart\"\n",
    "if anagrams(name1,name2):\n",
    "    print(f'\"{name1}\" and \"{name2}\" are anagrams.')\n",
    "else:\n",
    "    print(f'\"{name1}\" and \"{name2}\" are NOT anagrams.')\n",
    "    "
   ]
  },
  {
   "cell_type": "code",
   "execution_count": null,
   "id": "4d4bbb59-fa6a-47bd-9069-b3f2b5e2c859",
   "metadata": {},
   "outputs": [],
   "source": []
  }
 ],
 "metadata": {
  "kernelspec": {
   "display_name": "Python [conda env:base] *",
   "language": "python",
   "name": "conda-base-py"
  },
  "language_info": {
   "codemirror_mode": {
    "name": "ipython",
    "version": 3
   },
   "file_extension": ".py",
   "mimetype": "text/x-python",
   "name": "python",
   "nbconvert_exporter": "python",
   "pygments_lexer": "ipython3",
   "version": "3.13.5"
  }
 },
 "nbformat": 4,
 "nbformat_minor": 5
}
