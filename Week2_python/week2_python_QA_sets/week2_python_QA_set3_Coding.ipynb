{
 "cells": [
  {
   "cell_type": "code",
   "execution_count": 5,
   "id": "511e5dbe",
   "metadata": {},
   "outputs": [
    {
     "name": "stdout",
     "output_type": "stream",
     "text": [
      "1 4 9 16 25\n"
     ]
    }
   ],
   "source": [
    "'''1. Square of Numbers from 1 to 5\n",
    "Output:\n",
    "1 4 9 16 25'''\n",
    "mylist=[i**2 for i in range(1,6)]\n",
    "print(*mylist)"
   ]
  },
  {
   "cell_type": "code",
   "execution_count": 8,
   "id": "e886abee",
   "metadata": {},
   "outputs": [
    {
     "name": "stdout",
     "output_type": "stream",
     "text": [
      "10 5\n"
     ]
    }
   ],
   "source": [
    "'''2.Swap Two Variables Without Using a Temporary Variable\n",
    "Question: Write a Python program to swap two variables a = 5 and b = 10 \n",
    "without using a temporary variable.'''\n",
    "a,b=5,10\n",
    "a,b=b,a\n",
    "print(a,b)"
   ]
  },
  {
   "cell_type": "code",
   "execution_count": 15,
   "id": "adfc0479",
   "metadata": {},
   "outputs": [
    {
     "name": "stdout",
     "output_type": "stream",
     "text": [
      "[12, 24, 40, 56]\n",
      "[17, 19, 35]\n"
     ]
    }
   ],
   "source": [
    "''' #3.Find Even and Odd Numbers in a List\n",
    "Question: Write a Python program to separate even and odd numbers \n",
    "from the list [12, 17, 19, 24, 35, 40, 56].'''\n",
    "mylist=[12, 17, 19, 24, 35, 40, 56]\n",
    "Evenlist=[i for i in mylist if i%2==0]\n",
    "Oddlist=[i for i in mylist if i%2==1]\n",
    "print(Evenlist)\n",
    "print(Oddlist)"
   ]
  },
  {
   "cell_type": "code",
   "execution_count": 18,
   "id": "9bd0afd7",
   "metadata": {},
   "outputs": [
    {
     "name": "stdout",
     "output_type": "stream",
     "text": [
      "54321\n"
     ]
    }
   ],
   "source": [
    "'''4. Reverse a Number\n",
    "Question: Write a Python program to reverse the number 12345.'''\n",
    "\n",
    "num=12345\n",
    "print(str(num)[::-1])"
   ]
  },
  {
   "cell_type": "code",
   "execution_count": 32,
   "id": "baf1f666",
   "metadata": {},
   "outputs": [
    {
     "name": "stdout",
     "output_type": "stream",
     "text": [
      "45\n"
     ]
    }
   ],
   "source": [
    "'''5. Find the Second Largest Number in a List\n",
    "Question: Write a Python program to find the \n",
    "second largest number in the list [12, 45, 98, 34, 23].'''\n",
    "\n",
    "mylist=[12, 45, 98, 34, 23]\n",
    "sec_high=set(mylist)\n",
    "print((sorted(sec_high))[-2])\n"
   ]
  },
  {
   "cell_type": "code",
   "execution_count": null,
   "id": "a73f86c4",
   "metadata": {},
   "outputs": [],
   "source": []
  }
 ],
 "metadata": {
  "kernelspec": {
   "display_name": "Python [conda env:base] *",
   "language": "python",
   "name": "conda-base-py"
  },
  "language_info": {
   "codemirror_mode": {
    "name": "ipython",
    "version": 3
   },
   "file_extension": ".py",
   "mimetype": "text/x-python",
   "name": "python",
   "nbconvert_exporter": "python",
   "pygments_lexer": "ipython3",
   "version": "3.13.5"
  }
 },
 "nbformat": 4,
 "nbformat_minor": 5
}
