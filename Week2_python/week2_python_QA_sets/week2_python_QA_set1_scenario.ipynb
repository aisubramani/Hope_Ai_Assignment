{
 "cells": [
  {
   "cell_type": "code",
   "execution_count": null,
   "id": "beb15a56-6b74-418e-91bd-3342a90b7c09",
   "metadata": {},
   "outputs": [],
   "source": [
    "1. Scenario: A system checks if a user is eligible to vote based on their age.\n",
    " Write logic to ask the user for their age and determine if they are eligible \n",
    " to vote based on whether they are 18 or older.\n",
    "\n",
    "Logic:\n",
    "Step 1: Get age from voter\n",
    "Step 2: Check If age is 18 or older return Eligible to vote\n",
    "Step 3: Check If age is less than 18 return eligible to vote"
   ]
  },
  {
   "cell_type": "code",
   "execution_count": 3,
   "id": "6a0adc34-fbf8-4b67-807d-34a0bc1589c8",
   "metadata": {},
   "outputs": [
    {
     "name": "stdin",
     "output_type": "stream",
     "text": [
      "Enter age: 12\n"
     ]
    },
    {
     "name": "stdout",
     "output_type": "stream",
     "text": [
      "Age 12 is Not Eligible to vote\n"
     ]
    }
   ],
   "source": [
    "#1. python program\n",
    "vote_age=int(input(\"Enter age:\"))\n",
    "if(vote_age >=18):\n",
    "    print(f\"Age {vote_age} is Eligible to vote\")\n",
    "else:\n",
    "    print(f\"Age {vote_age} is Not Eligible to vote\")"
   ]
  },
  {
   "cell_type": "code",
   "execution_count": null,
   "id": "91fcc89b-168b-4e16-b4eb-89aff2b240f5",
   "metadata": {},
   "outputs": [],
   "source": [
    "2.Scenario: A program processes a list of numbers and needs to find the largest value.\n",
    " Write logic to identify and return the largest number from a given list.\n",
    "\n",
    "Logic:\n",
    "Step 1: Read the list of numbers\n",
    "step 2: Assign the 1st number is the largest value\n",
    "step 3: Iterate the list and compare with each current number with largest value\n",
    "step 4: if current number is greate than largest value,update the largest value\n",
    "step 5: return the lagest number"
   ]
  },
  {
   "cell_type": "code",
   "execution_count": 4,
   "id": "6314e15e-a511-4583-9b95-e5911652f970",
   "metadata": {},
   "outputs": [
    {
     "name": "stdout",
     "output_type": "stream",
     "text": [
      "Largest Number is 9\n"
     ]
    }
   ],
   "source": [
    "#2. python program\n",
    "mylist=[3,5,7,9,2,1,7]\n",
    "large_value=0\n",
    "for i in mylist:\n",
    "    if i>large_value:\n",
    "        large_value=i\n",
    "print(\"Largest Number is\",large_value)"
   ]
  },
  {
   "cell_type": "code",
   "execution_count": null,
   "id": "12b74af1-ef2f-47c7-a98b-062e4e1281ee",
   "metadata": {},
   "outputs": [],
   "source": [
    "3.\tScenario: A company provides employees with a 10% bonus if their salary exceeds $50,000.\n",
    " Write logic to determine the bonus amount based on the given salary.\n",
    "\n",
    "Logic:\n",
    "Step 1: Get employees’ salary list\n",
    "Step 2: Check each salary if it is greater than 50,000\n",
    "Step 3: If yes, add 10% bonus to the salary\n",
    "Step 4: Return new salary list\n"
   ]
  },
  {
   "cell_type": "code",
   "execution_count": 6,
   "id": "81d6029d-69c5-4d15-8bc1-5184a24746a5",
   "metadata": {},
   "outputs": [
    {
     "name": "stdout",
     "output_type": "stream",
     "text": [
      "[10000, 20000, 55000.0, 110000.0, 20000]\n"
     ]
    }
   ],
   "source": [
    "# 3 python program\n",
    "salary_list=[10000,20000,50000,100000,20000]\n",
    "new_salary_list=[]\n",
    "for i in salary_list:\n",
    "    if i >=50000:\n",
    "        i=i+(i*0.10)\n",
    "    new_salary_list.append(i)\n",
    "print(new_salary_list)"
   ]
  },
  {
   "cell_type": "code",
   "execution_count": null,
   "id": "d9ee22a5-b4d7-438d-8edf-525f5baab96e",
   "metadata": {},
   "outputs": [],
   "source": [
    "4.\tScenario: A program evaluates a number to determine if it is even or odd.\n",
    " Write logic to check whether a given number is even or odd.\n",
    "\n",
    "Logic:\n",
    "step 1:Get a number from the user\n",
    "step 2:Check if the number is divisible by 2.\n",
    "step 3:If the remainder is 0, the number is even; otherwise, it is odd.\n",
    "step 4:Return whether the number is even or odd."
   ]
  },
  {
   "cell_type": "code",
   "execution_count": 10,
   "id": "06d3f1e1-6f41-418b-bfd2-c8dd3c03e247",
   "metadata": {},
   "outputs": [
    {
     "name": "stdin",
     "output_type": "stream",
     "text": [
      "Enter Number 2\n"
     ]
    },
    {
     "name": "stdout",
     "output_type": "stream",
     "text": [
      "2 is Even Number\n"
     ]
    }
   ],
   "source": [
    "# 4 python program\n",
    "oddEven=int(input(\"Enter Number\"))\n",
    "if oddEven%2 == 0:\n",
    "    print(f\"{oddEven} is Even Number\")\n",
    "else:\n",
    "    print(f\"{oddEven} is Odd Number\")"
   ]
  },
  {
   "cell_type": "code",
   "execution_count": null,
   "id": "3ee000b7-ac82-46b0-97b0-ac7a099acc11",
   "metadata": {},
   "outputs": [],
   "source": [
    "5.\tScenario: A text-processing tool reverses a given word or sentence for formatting purposes.\n",
    " Write logic to take a word or sentence as input and produce its reversed version.\n",
    "\n",
    "Logic:\n",
    "step 1: Get text from the user\n",
    "step 2: split the text into individaul characters \n",
    "step 3: Rearrange the characters in reverse order.\n",
    "step 4: print reversed text"
   ]
  },
  {
   "cell_type": "code",
   "execution_count": 14,
   "id": "f4998ee0-9022-401a-86f5-b6eb919c6b60",
   "metadata": {},
   "outputs": [
    {
     "name": "stdin",
     "output_type": "stream",
     "text": [
      "Enter Text/Sentence World hello\n"
     ]
    },
    {
     "name": "stdout",
     "output_type": "stream",
     "text": [
      "Revered Text:olleh dlroW\n"
     ]
    }
   ],
   "source": [
    "# 5 python program\n",
    "my_name=str(input(\"Enter Text/Sentence\"))\n",
    "rev_name=my_name[::-1]\n",
    "print(f\"Revered Text:{rev_name}\")"
   ]
  },
  {
   "cell_type": "code",
   "execution_count": null,
   "id": "e322aaf9-e35a-49c2-9c7a-586e55635872",
   "metadata": {},
   "outputs": [],
   "source": [
    "6.\tScenario: A grading system determines whether a student has passed or failed based on their score.\n",
    " Write logic to check if a student has passed a subject by scoring at least 40 marks.\n",
    "\n",
    "Logic:\n",
    "step 1: Get teh student's mark \n",
    "step 2: check if the mark is 40 or above\n",
    "step 3: if the mark is 40 or above, return pass; otherwise fail \n"
   ]
  },
  {
   "cell_type": "code",
   "execution_count": 17,
   "id": "88f51d9d-2b88-442d-9b1c-978b81a7e868",
   "metadata": {},
   "outputs": [
    {
     "name": "stdin",
     "output_type": "stream",
     "text": [
      "Enter Student mark 90\n"
     ]
    },
    {
     "name": "stdout",
     "output_type": "stream",
     "text": [
      "90 is Pass\n"
     ]
    }
   ],
   "source": [
    "# 6 python program\n",
    "my_mark=int(input(\"Enter Student mark\"))\n",
    "if my_mark >=40:\n",
    "    print(f\"{my_mark} is Pass\")\n",
    "else:\n",
    "    print(f\"{my_mark} is Fail\")"
   ]
  },
  {
   "cell_type": "code",
   "execution_count": null,
   "id": "b541e0f7-55d6-4806-a610-0876b9eda5ed",
   "metadata": {},
   "outputs": [],
   "source": [
    "7.\tScenario: A retail store offers a 20% discount if a customer’s total order exceeds $100. \n",
    "Write logic to calculate the final amount to be paid after applying the discount.\n",
    "\n",
    "Logic:\n",
    "step 1: Get the customer's total bills\n",
    "step 2: Calculate if the customer total is more than $100, \n",
    "step 3: If it is more than $100; appluy a 20% discount\n",
    "step 4: Return the final total after subtracting the discount."
   ]
  },
  {
   "cell_type": "code",
   "execution_count": 30,
   "id": "ee7284fa-d7e2-44cb-af04-9999f96290a8",
   "metadata": {},
   "outputs": [
    {
     "name": "stdout",
     "output_type": "stream",
     "text": [
      "10 100 200 99 107 \n",
      " 10 80.0 160.0 99 85.6\n"
     ]
    }
   ],
   "source": [
    "# 7 python program\n",
    "mylist=[10,100,200,99,107]\n",
    "newlist=[]\n",
    "for mytotal in mylist:\n",
    "    if mytotal >=100:\n",
    "        mytotal=mytotal-(mytotal*0.20)\n",
    "    newlist.append(mytotal)\n",
    "print(*mylist,\"\\n\",*newlist)\n"
   ]
  },
  {
   "cell_type": "code",
   "execution_count": null,
   "id": "0dcf315b-357e-42df-b9db-9162795a49ef",
   "metadata": {},
   "outputs": [],
   "source": [
    "8.\tScenario: A banking system processes withdrawal requests and ensures the user has enough balance.\n",
    " Write logic to check if a user has enough balance before allowing a withdrawal and update \n",
    "the remaining balance accordingly.\n",
    "\n",
    "Logic:\n",
    "step 1: Enter the withdrawal amount\n",
    "step 2: Check if the withdrawal amount is less than or equal the total balace\n",
    "step 3: If there is enough balance, allow the withdrawal and update the remaining balance.\n",
    "step 4: if the balance is too low, show an insufficient balace warning"
   ]
  },
  {
   "cell_type": "code",
   "execution_count": 26,
   "id": "3c54d40a-108f-413a-9da8-8108139f731c",
   "metadata": {},
   "outputs": [
    {
     "name": "stdin",
     "output_type": "stream",
     "text": [
      "Enter withdrawal amount: 200\n"
     ]
    },
    {
     "name": "stdout",
     "output_type": "stream",
     "text": [
      "Withdrawal amount:200 remaining balance: 1800\n"
     ]
    }
   ],
   "source": [
    "# 8 python program\n",
    "withdrawal=int(input(\"Enter withdrawal amount:\"))\n",
    "Total_balace=2000\n",
    "if withdrawal <= Total_balace:\n",
    "    Total_balace=Total_balace-withdrawal\n",
    "    print(f\"Withdrawal amount:{withdrawal} Remaining balance: {Total_balace}\")\n",
    "else:\n",
    "    print(f\"{Total_balace} insufficient balace\")"
   ]
  },
  {
   "cell_type": "code",
   "execution_count": null,
   "id": "170bb48b-9ee3-4bea-93ed-acd50f26358e",
   "metadata": {},
   "outputs": [],
   "source": [
    "9.\tScenario: A calendar system verifies whether a given year is a leap year based on standard leap year rules.\n",
    " Write logic to determine whether a given year is a leap year.\n",
    "\n",
    "Logic:\n",
    "step 1: Enter the year\n",
    "step 2: Check year is divisible by 4, and Not divisible by 100, unless it is also divisible by 400.\n",
    "step 3: return given year is leaf year or not"
   ]
  },
  {
   "cell_type": "code",
   "execution_count": 33,
   "id": "8a77c953-a2ac-46cd-b325-fbe9440c86de",
   "metadata": {},
   "outputs": [
    {
     "name": "stdin",
     "output_type": "stream",
     "text": [
      "Enter year: 2024\n"
     ]
    },
    {
     "name": "stdout",
     "output_type": "stream",
     "text": [
      "2024 is a leaf year\n"
     ]
    }
   ],
   "source": [
    "# 9 python program\n",
    "my_year=int(input(\"Enter year:\"))\n",
    "if(my_year%4==0 and my_year!= 100) or (my_year%400==0):\n",
    "    print(f\"{my_year} is a leaf year\")\n",
    "else:\n",
    "    print(f\"{my_year} is not a leaf year\")"
   ]
  },
  {
   "cell_type": "code",
   "execution_count": null,
   "id": "6f032ee6-2eb2-4649-b7b5-3db0a6f20880",
   "metadata": {},
   "outputs": [],
   "source": [
    "10.\tScenario: A program filters out only even numbers from a given list.\n",
    " Write logic to extract and return only the even numbers from a list.\n",
    "\n",
    "Logic:\n",
    "step 1: Get a list of numbers and create a  new empty list for assign only even numbers\n",
    "step 2: Check each number,if it is divisible by 2\n",
    "step 3: If number is divisible by 2, it is a even number; otherwise it is a odd number\n",
    "step 4: Return the new filtered even list"
   ]
  },
  {
   "cell_type": "code",
   "execution_count": 38,
   "id": "7ff6fbd0-bef6-41b8-a9b6-0f95366627d3",
   "metadata": {},
   "outputs": [
    {
     "name": "stdout",
     "output_type": "stream",
     "text": [
      "[1, 2, 3, 4, 5, 6, 7, 8, 9, 10, 11, 12, 13] \n",
      " [2, 4, 6, 8, 10, 12]\n"
     ]
    }
   ],
   "source": [
    "# 10 python program\n",
    "mylist=[i for i in range(1,14)]\n",
    "newlist=[]\n",
    "for i in mylist:\n",
    "    if i%2==0:\n",
    "        newlist.append(i)\n",
    "print(mylist,\"\\n\",newlist)"
   ]
  },
  {
   "cell_type": "code",
   "execution_count": null,
   "id": "2d67c704-5918-4db0-9137-5ebe13858d12",
   "metadata": {},
   "outputs": [],
   "source": []
  }
 ],
 "metadata": {
  "kernelspec": {
   "display_name": "Python [conda env:base] *",
   "language": "python",
   "name": "conda-base-py"
  },
  "language_info": {
   "codemirror_mode": {
    "name": "ipython",
    "version": 3
   },
   "file_extension": ".py",
   "mimetype": "text/x-python",
   "name": "python",
   "nbconvert_exporter": "python",
   "pygments_lexer": "ipython3",
   "version": "3.13.5"
  }
 },
 "nbformat": 4,
 "nbformat_minor": 5
}
