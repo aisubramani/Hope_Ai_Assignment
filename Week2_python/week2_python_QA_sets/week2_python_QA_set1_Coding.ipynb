{
 "cells": [
  {
   "cell_type": "code",
   "execution_count": 11,
   "id": "5fd5c475",
   "metadata": {},
   "outputs": [
    {
     "name": "stdout",
     "output_type": "stream",
     "text": [
      "1 2 3 4 5\n"
     ]
    }
   ],
   "source": [
    "'''1.Write a Python program that prints numbers from 1 to 5.\n",
    "Expected Output:\n",
    "1 2 3 4 5'''\n",
    "print(*[i for i in range(1,6)])"
   ]
  },
  {
   "cell_type": "code",
   "execution_count": 28,
   "id": "3c8bc472",
   "metadata": {},
   "outputs": [
    {
     "name": "stdout",
     "output_type": "stream",
     "text": [
      "2 4 6 8 10\n"
     ]
    }
   ],
   "source": [
    "'''2.Write a Python program to print the first 5 even numbers. Expected Output:\n",
    "2 4 6 8 10'''\n",
    "n=5\n",
    "outlist=[i for i in range(2,((n*2)+1),2)]\n",
    "print(*outlist)"
   ]
  },
  {
   "cell_type": "code",
   "execution_count": 35,
   "id": "5e7af211",
   "metadata": {},
   "outputs": [
    {
     "name": "stdout",
     "output_type": "stream",
     "text": [
      "10 sum is = 55\n",
      "sum: 55\n"
     ]
    }
   ],
   "source": [
    "'''3.Write a Python program to print the sum of numbers from 1 to 10. \n",
    "Expected Output:55'''\n",
    "\n",
    "total=0\n",
    "for i in range(1,11):\n",
    "    total+=i\n",
    "print(f\"{i} sum is = {total}\")\n",
    "#or\n",
    "print(\"sum:\",sum(range(1,11)))"
   ]
  },
  {
   "cell_type": "code",
   "execution_count": 43,
   "id": "ac09aa1a",
   "metadata": {},
   "outputs": [
    {
     "name": "stdout",
     "output_type": "stream",
     "text": [
      "\n"
     ]
    }
   ],
   "source": [
    "'''4.Write a Python function to find the factorial of 5. Expected Output:\n",
    "120'''\n",
    "def myfactorial(n):\n",
    "    if n==0:\n",
    "        return 1\n",
    "    elif n<0:\n",
    "        return \"\"\n",
    "    return n*myfactorial(n-1)\n",
    "print(myfactorial(-1))\n"
   ]
  },
  {
   "cell_type": "code",
   "execution_count": 62,
   "id": "8ab9fc8a",
   "metadata": {},
   "outputs": [
    {
     "name": "stdin",
     "output_type": "stream",
     "text": [
      "Enter Number 7\n"
     ]
    },
    {
     "name": "stdout",
     "output_type": "stream",
     "text": [
      "7 is a Prime Number\n"
     ]
    }
   ],
   "source": [
    "'''5.Write a Python program to check if a number is prime. Expected Output (for input 7):\n",
    "7 is a prime number'''\n",
    "def is_prime(n):\n",
    "    if n <= 1:\n",
    "        return False\n",
    "    for i in range(2,int(n**0.5)+1):\n",
    "        if n%i==0:\n",
    "            return False\n",
    "    return True\n",
    "mynum=int(input(\"Enter Number\"))\n",
    "print(f\"{mynum} is a Prime Number\") if is_prime(mynum)==True else print(f\"{mynum} is a Not Prime\")"
   ]
  },
  {
   "cell_type": "code",
   "execution_count": null,
   "id": "e1a7164c-24bc-425b-a68b-ebff12ca7a03",
   "metadata": {},
   "outputs": [],
   "source": []
  }
 ],
 "metadata": {
  "kernelspec": {
   "display_name": "Python [conda env:base] *",
   "language": "python",
   "name": "conda-base-py"
  },
  "language_info": {
   "codemirror_mode": {
    "name": "ipython",
    "version": 3
   },
   "file_extension": ".py",
   "mimetype": "text/x-python",
   "name": "python",
   "nbconvert_exporter": "python",
   "pygments_lexer": "ipython3",
   "version": "3.13.5"
  }
 },
 "nbformat": 4,
 "nbformat_minor": 5
}
