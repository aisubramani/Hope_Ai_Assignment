{
 "cells": [
  {
   "cell_type": "code",
   "execution_count": 15,
   "id": "aba1475d",
   "metadata": {},
   "outputs": [
    {
     "name": "stdin",
     "output_type": "stream",
     "text": [
      "Enter Name: hello\n"
     ]
    },
    {
     "name": "stdout",
     "output_type": "stream",
     "text": [
      "olleh\n"
     ]
    }
   ],
   "source": [
    "'''1.Write a Python program to find the reverse of a string. Expected Output (for input \"hello\"):\n",
    "olleh'''\n",
    "my_str=str(input(\"Enter Name:\"))\n",
    "print(my_str[::-1])"
   ]
  },
  {
   "cell_type": "code",
   "execution_count": 16,
   "id": "5b1ec143",
   "metadata": {},
   "outputs": [
    {
     "name": "stdout",
     "output_type": "stream",
     "text": [
      "[0, 1, 1, 2, 3, 5, 8, 13, 21, 34]\n"
     ]
    }
   ],
   "source": [
    "'''2.Write a Python program to generate the Fibonacci sequence up to 10 terms.\n",
    "Expected Output:\n",
    "0 1 1 2 3 5 8 13 21 34'''\n",
    "def my_fibonacci(n):\n",
    "    if(n<=1):\n",
    "        return n\n",
    "    return my_fibonacci(n-1)+my_fibonacci(n-2)\n",
    "print([my_fibonacci(i) for i in range(10)])\n"
   ]
  },
  {
   "cell_type": "code",
   "execution_count": 28,
   "id": "c656f04a",
   "metadata": {},
   "outputs": [
    {
     "name": "stdin",
     "output_type": "stream",
     "text": [
      "Enter Name : madam\n"
     ]
    },
    {
     "name": "stdout",
     "output_type": "stream",
     "text": [
      "madam is a palindrome\n"
     ]
    }
   ],
   "source": [
    "'''3.Write a Python function to check if a given string is a palindrome.\n",
    "Expected Output (for input \"madam\"):\n",
    "madam is a palindrome'''\n",
    "\n",
    "def palindrome(s):\n",
    "    s=s.upper()\n",
    "    if(s==s[::-1]):\n",
    "        return \"palindrome\"\n",
    "my_name=str(input(\"Enter Name :\"))\n",
    "print(f\"{my_name} is a {palindrome(my_name)}\")"
   ]
  },
  {
   "cell_type": "code",
   "execution_count": 13,
   "id": "cd7b0a78",
   "metadata": {},
   "outputs": [
    {
     "name": "stdin",
     "output_type": "stream",
     "text": [
      "Enter Name: education\n"
     ]
    },
    {
     "name": "stdout",
     "output_type": "stream",
     "text": [
      "Number of vowels  5\n"
     ]
    }
   ],
   "source": [
    "\n",
    "'''4.Write a Python program to count the number of vowels in a given string. \n",
    "Expected Output (for input \"education\"):\n",
    "Number of vowels: 5'''\n",
    "myname=str(input(\"Enter Name:\"))\n",
    "vowels='aeiouAEIOU'\n",
    "v_count=0\n",
    "for char in myname:\n",
    "    if char in vowels:\n",
    "        v_count+=1\n",
    "print(\"Number of vowels \",v_count)"
   ]
  },
  {
   "cell_type": "code",
   "execution_count": 3,
   "id": "bdbb9b19",
   "metadata": {},
   "outputs": [
    {
     "name": "stdout",
     "output_type": "stream",
     "text": [
      "[1, 2, 3, 4, 5]\n"
     ]
    }
   ],
   "source": [
    "'''5.Write a Python program to remove duplicates from a list.\n",
    "Expected Output (for input [1, 2, 2, 3, 4, 4, 5]):\n",
    "[1, 2, 3, 4, 5]'''\n",
    "mylist=[1, 2, 2, 3, 4, 4, 5]\n",
    "print(list(set(mylist)))"
   ]
  },
  {
   "cell_type": "code",
   "execution_count": null,
   "id": "310404ec-b6f8-4df1-9299-7a43e6d9e24d",
   "metadata": {},
   "outputs": [],
   "source": []
  }
 ],
 "metadata": {
  "kernelspec": {
   "display_name": "Python [conda env:base] *",
   "language": "python",
   "name": "conda-base-py"
  },
  "language_info": {
   "codemirror_mode": {
    "name": "ipython",
    "version": 3
   },
   "file_extension": ".py",
   "mimetype": "text/x-python",
   "name": "python",
   "nbconvert_exporter": "python",
   "pygments_lexer": "ipython3",
   "version": "3.13.5"
  }
 },
 "nbformat": 4,
 "nbformat_minor": 5
}
