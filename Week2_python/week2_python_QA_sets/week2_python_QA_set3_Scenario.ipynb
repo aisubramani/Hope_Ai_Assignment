{
 "cells": [
  {
   "cell_type": "code",
   "execution_count": null,
   "id": "4cd089a5-3dc6-46be-93d1-aa99d3842069",
   "metadata": {},
   "outputs": [],
   "source": [
    "1.Scenario: A user is required to enter a valid number in a form, but users\n",
    "sometimes input invalid data.\n",
    "Write logic to repeatedly prompt the user until they enter a valid integer.\n",
    "\n",
    "logic:\n",
    "1.Get input from the user, inside loop\n",
    "2.Check input number is interger or not, \n",
    "3.If number is not a integer, return invalid, and contine the loop until they enter valid integer\n",
    "4.If number is a interger, return valid"
   ]
  },
  {
   "cell_type": "code",
   "execution_count": 1,
   "id": "2c8a4977-d3e7-487f-8944-7eeb7342ff6b",
   "metadata": {},
   "outputs": [
    {
     "name": "stdin",
     "output_type": "stream",
     "text": [
      "Enter an Number hai\n"
     ]
    },
    {
     "name": "stdout",
     "output_type": "stream",
     "text": [
      "Invalid input please enter again\n"
     ]
    },
    {
     "name": "stdin",
     "output_type": "stream",
     "text": [
      "Enter an Number 45\n"
     ]
    },
    {
     "name": "stdout",
     "output_type": "stream",
     "text": [
      "Valid Number: 45\n"
     ]
    }
   ],
   "source": [
    "while True:\n",
    "    value=input(\"Enter an Number\")\n",
    "    try:\n",
    "        num=int(value)\n",
    "        print(\"Valid Number:\",num)\n",
    "        break\n",
    "    except ValueError:\n",
    "        print(\"Invalid input please enter again\")"
   ]
  },
  {
   "cell_type": "code",
   "execution_count": null,
   "id": "d0e5c8fb-1339-4da3-b712-662d49a79f64",
   "metadata": {},
   "outputs": [],
   "source": [
    "2.\tScenario: A data analysis tool processes a list of numbers and needs to \n",
    "identify the most frequently occurring value.\n",
    "Write logic to find the most frequently occurring number in a given list.\n",
    "\n",
    "logic\n",
    "1.Read the list of numbers.\n",
    "2.Count how many times each number appears.\n",
    "3.Find the number with the highest frequency."
   ]
  },
  {
   "cell_type": "code",
   "execution_count": 8,
   "id": "c0b113e3-3e86-403c-b7f4-cdc4b4dfc0b7",
   "metadata": {},
   "outputs": [
    {
     "name": "stdout",
     "output_type": "stream",
     "text": [
      "2 is 3 time\n",
      "3 is 3 time\n",
      "4 is 2 time\n",
      "8 is 1 time\n"
     ]
    }
   ],
   "source": [
    "from collections import Counter\n",
    "numbers = [4, 2, 2, 8, 3, 3, 3, 2, 4]\n",
    "counter1=Counter(numbers)\n",
    "for key,value in sorted(counter1.items()):\n",
    "    print(f\"{key} is {value} time\")"
   ]
  },
  {
   "cell_type": "code",
   "execution_count": null,
   "id": "cdff57a4-ce0c-4c80-aafd-82943ea55a48",
   "metadata": {},
   "outputs": [],
   "source": [
    "3.\tScenario: A text-processing application needs to compare words and check if they \n",
    "are anagrams (contain the same letters in a different order).\n",
    " Write logic to determine whether two given strings are anagrams.\n",
    "\n",
    "logic:\n",
    "1.get two names from user\n",
    "2.Check both are strings or not\n",
    "3.Check both string lenght are equal and make is lower care \n",
    "4.Converted each string's character into list\n",
    "5.Sort the both list and compare \n",
    "6.Both list is true means it is anagrams"
   ]
  },
  {
   "cell_type": "code",
   "execution_count": 27,
   "id": "b69ad1f3-f595-40a0-b81a-8315f60d4801",
   "metadata": {},
   "outputs": [
    {
     "name": "stdout",
     "output_type": "stream",
     "text": [
      "listen silent are Anagrams\n"
     ]
    }
   ],
   "source": [
    "str1=\"listen\"\n",
    "str2=\"silent\"\n",
    "if(len(str1) == len(str2)):\n",
    "    list1=sorted([i.lower() for i in str1])\n",
    "    list2=sorted([i.lower() for i in str2])\n",
    "    if(list1==list2):\n",
    "        print(f\"{str1} {str2} are Anagrams\")\n",
    "    else:\n",
    "        print(f\"{str1} {str2} are NOT Anagrams\")\n",
    "else:\n",
    "    print(f\"'{str1}' '{str2}' are NOT Anagrams\")\n",
    "    "
   ]
  },
  {
   "cell_type": "code",
   "execution_count": null,
   "id": "31df8027-93a1-432b-9d91-7018b9e838e3",
   "metadata": {},
   "outputs": [],
   "source": [
    "4.\tScenario: A speech analysis program needs to count the number of vowel sounds in a given input.\n",
    " Write logic to count the number of vowels in a given string.\n",
    "\n",
    "logic:\n",
    "1.Get a input of string from user\n",
    "2.convert string store into the character list\n",
    "3.each character have to compare with vowel's character \"aeiou'\n",
    "4.if yes count the number of vowels and return it\n"
   ]
  },
  {
   "cell_type": "code",
   "execution_count": 33,
   "id": "b259b230-5e67-420d-abb3-e81019c20f40",
   "metadata": {},
   "outputs": [
    {
     "name": "stdout",
     "output_type": "stream",
     "text": [
      "Number of vowels 5\n"
     ]
    }
   ],
   "source": [
    "str1=\"Hello Ai World\"\n",
    "vowels=\"aeiouAEIOU\"\n",
    "count=sum([1 for ch in str1 if ch in vowels])\n",
    "print(\"Number of vowels\",count)"
   ]
  },
  {
   "cell_type": "code",
   "execution_count": null,
   "id": "4e45a0b0-8f42-4535-811c-d72038f26f90",
   "metadata": {},
   "outputs": [],
   "source": [
    "5.\tScenario: A text-editing software includes a feature to reverse \n",
    "the order of words in a sentence for stylistic effects.\n",
    " Write logic to reverse the order of words in a sentence while keeping the words themselves intact.\n",
    "\n",
    "logic:\n",
    "1. Get the sentence from the user\n",
    "2. Reverse the string\n",
    "3. Return the string"
   ]
  },
  {
   "cell_type": "code",
   "execution_count": 34,
   "id": "baf6a0c1-8833-4868-96d9-8af72dc20d85",
   "metadata": {},
   "outputs": [
    {
     "name": "stdout",
     "output_type": "stream",
     "text": [
      "dlroW iA olleH \n"
     ]
    }
   ],
   "source": [
    "str=\" Hello Ai World\"\n",
    "print(str[::-1])"
   ]
  },
  {
   "cell_type": "code",
   "execution_count": null,
   "id": "b5cab428-dde6-4b7f-bd2d-cc6f11d05bd5",
   "metadata": {},
   "outputs": [],
   "source": [
    "6. Scenario: A missing number is detected in a sequence of values stored in a database.\n",
    " Write logic to find the missing number in a list containing n-1 numbers from 1 to n.\n",
    "\n",
    "logic:\n",
    "1. Get a list\n",
    "2. Assign the n from last number of list\n",
    "3. Create a empty sequence of list is range 1 to n\n",
    "4. compare the missing list with empty list\n",
    "5. return missing number of list"
   ]
  },
  {
   "cell_type": "code",
   "execution_count": 44,
   "id": "c309799f-8cc0-438c-aeec-37d3a37a9ff7",
   "metadata": {},
   "outputs": [
    {
     "name": "stdout",
     "output_type": "stream",
     "text": [
      "[1, 3, 5, 7, 9]\n"
     ]
    }
   ],
   "source": [
    "num=[2,4,6,8,10]\n",
    "n=num[-1]\n",
    "missing_number=[i for i in range(1,n) if i not in num]\n",
    "print(missing_number)"
   ]
  },
  {
   "cell_type": "code",
   "execution_count": null,
   "id": "6798307f-4b06-4afc-a5ae-4fda72419371",
   "metadata": {},
   "outputs": [],
   "source": [
    "7.\tScenario: An ATM machine processes withdrawal requests and needs to ensure \n",
    "that users cannot withdraw more than their account balance.\n",
    " Write logic to allow a withdrawal only if the balance is sufficient."
   ]
  },
  {
   "cell_type": "code",
   "execution_count": 52,
   "id": "b9745c66-f093-4e29-8f1e-29eedf610862",
   "metadata": {},
   "outputs": [
    {
     "name": "stdin",
     "output_type": "stream",
     "text": [
      "Enter the amount 1100\n"
     ]
    },
    {
     "name": "stdout",
     "output_type": "stream",
     "text": [
      "1000 balance is sufficient\n"
     ]
    }
   ],
   "source": [
    "amount=int(input(\"Enter the amount\"))\n",
    "total=1000\n",
    "if total>=amount:\n",
    "    total-=amount\n",
    "    print(f\"Withdrawal amount is {amount} Balace amount {total}\")\n",
    "else:\n",
    "    print(f\"{total} balance is sufficient\")"
   ]
  },
  {
   "cell_type": "code",
   "execution_count": null,
   "id": "f9b7d2cd-1c37-44ce-83ad-ec3a9d49f1a4",
   "metadata": {},
   "outputs": [],
   "source": [
    "8.\tScenario: A system needs to verify whether a given dataset contains duplicate entries.\n",
    " Write logic to check whether a given list contains duplicate values.\n",
    "\n",
    "logic:\n",
    "1.Get a list\n",
    "2.Assign a duplicate list from given list\n",
    "3.Remove the duplicates\n",
    "4.Compare the given list with removed duplicated list with lengh\n",
    "5.if it is length is not equal, return list have duplicate values "
   ]
  },
  {
   "cell_type": "code",
   "execution_count": 65,
   "id": "4fc27457-6cef-4577-a593-11c65d70d889",
   "metadata": {},
   "outputs": [
    {
     "name": "stdout",
     "output_type": "stream",
     "text": [
      "List have duplicate values\n"
     ]
    }
   ],
   "source": [
    "mylist=[1,2,3,1]\n",
    "if len(mylist) != len(set(mylist)):\n",
    "    print(\"List have duplicate values\")\n",
    "else:\n",
    "    print(\"List don't have duplicate values\")"
   ]
  },
  {
   "cell_type": "code",
   "execution_count": null,
   "id": "f7b2d8d3-401e-4e37-85e9-efe47d79505e",
   "metadata": {},
   "outputs": [],
   "source": [
    "9.\tScenario: A digital calculator includes a feature to sum the digits of a number for verification purposes.\n",
    " Write logic to calculate the sum of all digits in a given integer.\n",
    "\n",
    "1. Read the integer\n",
    "2. Extract each digit\n",
    "3. Add them together\n",
    "4. Return the sum"
   ]
  },
  {
   "cell_type": "code",
   "execution_count": 67,
   "id": "0291375a-8d80-4122-8799-97393cdbba60",
   "metadata": {},
   "outputs": [
    {
     "name": "stdin",
     "output_type": "stream",
     "text": [
      "Enter an Number 123\n"
     ]
    },
    {
     "name": "stdout",
     "output_type": "stream",
     "text": [
      "6\n"
     ]
    }
   ],
   "source": [
    "value=int(input(\"Enter an Number\"))\n",
    "digit_sum=sum(int(digit) for digit in str(value))\n",
    "print(digit_sum)"
   ]
  },
  {
   "cell_type": "code",
   "execution_count": null,
   "id": "27ac4a7e-7306-4d43-aeb1-150f188c658d",
   "metadata": {},
   "outputs": [],
   "source": [
    "10.\tScenario: A language-learning app wants to verify whether a given sentence is a pangram \n",
    "(contains every letter of the alphabet at least once).\n",
    " Write logic to check if a given sentence is a pangram.\n",
    "\n",
    "logic:\n",
    "1. get a sentence\n",
    "2. Convert the sentence to lowercase,remove white space,remove dupicate alphabet\n",
    "3. assign a to z in to the new string\n",
    "2. Check if string of a to z match with the sentence.\n",
    "3. If it is match it’s a pangram, else not."
   ]
  },
  {
   "cell_type": "code",
   "execution_count": 82,
   "id": "324a52ee-3833-47cb-ade8-9cdc0db706a1",
   "metadata": {},
   "outputs": [
    {
     "name": "stdout",
     "output_type": "stream",
     "text": [
      "Given sentence is a pangram\n"
     ]
    }
   ],
   "source": [
    "str1=\"The quick brown fox jumps over the lazy dog\"\n",
    "a_z=\"abcdefghijklmnopqrstuvwxyz\"\n",
    "str2=(\"\".join(sorted(set([s.lower() for s in str1]))))\n",
    "if a_z == str2.strip():\n",
    "    print(\"Given sentence is a pangram\")\n",
    "else:\n",
    "    print(\"Given sentence is not a pangram\")"
   ]
  },
  {
   "cell_type": "code",
   "execution_count": null,
   "id": "8acca098-f66d-44ae-8f15-7cd9dcee1560",
   "metadata": {},
   "outputs": [],
   "source": []
  }
 ],
 "metadata": {
  "kernelspec": {
   "display_name": "Python [conda env:base] *",
   "language": "python",
   "name": "conda-base-py"
  },
  "language_info": {
   "codemirror_mode": {
    "name": "ipython",
    "version": 3
   },
   "file_extension": ".py",
   "mimetype": "text/x-python",
   "name": "python",
   "nbconvert_exporter": "python",
   "pygments_lexer": "ipython3",
   "version": "3.13.5"
  }
 },
 "nbformat": 4,
 "nbformat_minor": 5
}
