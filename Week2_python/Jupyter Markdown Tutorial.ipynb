{
 "cells": [
  {
   "cell_type": "markdown",
   "id": "ae6853f7-3aef-4568-b50d-d68950cb4677",
   "metadata": {},
   "source": [
    "# 👉 Press Esc → M → Enter (to convert a cell to Markdown mode)."
   ]
  },
  {
   "cell_type": "code",
   "execution_count": null,
   "id": "88ce5936-21bb-45a7-b7ab-2ffd9fe31cce",
   "metadata": {},
   "outputs": [],
   "source": [
    "# 🪶 1. Basic Text Formatting"
   ]
  },
  {
   "cell_type": "code",
   "execution_count": null,
   "id": "0d5fe772-837b-4ef1-adf1-0d63d5e21f1d",
   "metadata": {},
   "outputs": [],
   "source": [
    "# Heading 1\n",
    "## Heading 2\n",
    "### Heading 3\n",
    "\n",
    "**Bold Text**  \n",
    "*Italic Text*  \n",
    "***Bold & Italic***  \n",
    "~~Strikethrough~~\n",
    "\n",
    "> Blockquote text\n",
    "\n",
    "<span style=\"color:blue; font-weight:bold\">This is blue bold text</span>\n",
    "<span style=\"color:red\">This is red text</span>\n",
    "<h2 style=\"color:purple\"> This H2 color heading </h2>    "
   ]
  },
  {
   "cell_type": "code",
   "execution_count": null,
   "id": "141bd553-4be3-4374-aaf5-6cb0e790eab3",
   "metadata": {},
   "outputs": [],
   "source": [
    "output"
   ]
  },
  {
   "cell_type": "markdown",
   "id": "dec9bc36-82cc-4112-8cb6-b361d7f85cb7",
   "metadata": {},
   "source": [
    "# Heading 1\n",
    "## Heading 2\n",
    "### Heading 3\n",
    "\n",
    "**Bold Text**  \n",
    "*Italic Text*  \n",
    "***Bold & Italic***  \n",
    "~~Strikethrough~~\n",
    "\n",
    "> Blockquote text\n",
    "\n",
    "<span style=\"color:blue; font-weight:bold\">This is blue bold text</span>\n",
    "\n",
    "<span style=\"color:red\">This is red text</span>\n",
    "\n",
    "<h2 style=\"color:purple\"> This H2 heading color heading </h2>   "
   ]
  },
  {
   "cell_type": "markdown",
   "id": "60d582e2-c479-4442-9a27-cd8a72e87c7a",
   "metadata": {},
   "source": [
    "# 📋 2. Lists"
   ]
  },
  {
   "cell_type": "markdown",
   "id": "19ac6d1f-1c94-4b4a-9971-094de98fed28",
   "metadata": {},
   "source": [
    "- Item 1\n",
    "- Item 2\n",
    "  - Sub-item A\n",
    "  - Sub-item B\n",
    "\n",
    "1. Step One\n",
    "2. Step Two\n",
    "3. Step Three\n",
    "\n",
    "* item 1\n",
    "* item 2\n",
    "* item 3\n",
    "* * sub 1\n",
    "  * sub 2"
   ]
  },
  {
   "cell_type": "code",
   "execution_count": null,
   "id": "5c0297c9-4672-4e98-b3dc-7651a3fb7652",
   "metadata": {},
   "outputs": [],
   "source": [
    "output:"
   ]
  },
  {
   "cell_type": "markdown",
   "id": "7a73928c-ef65-4ba0-97bc-0b33881e8e6d",
   "metadata": {},
   "source": [
    "- Item 1\n",
    "- Item 2\n",
    "  - Sub-item A\n",
    "  - Sub-item B\n",
    "\n",
    "1. Step One\n",
    "2. Step Two\n",
    "3. Step Three\n",
    "\n",
    "* item 1\n",
    "* item 2\n",
    "* item 3\n",
    "* * sub 1\n",
    "  * sub 2"
   ]
  },
  {
   "cell_type": "markdown",
   "id": "4cbe491e-6135-4e8b-947b-53611b92e542",
   "metadata": {},
   "source": [
    "# 📊 3. Tables"
   ]
  },
  {
   "cell_type": "code",
   "execution_count": null,
   "id": "bd0e4654-d257-429c-bcbe-6a1d4408def4",
   "metadata": {},
   "outputs": [],
   "source": [
    "| Name  | Age | City     |\n",
    "|-------|-----|----------|\n",
    "| Ram   | 25  | Chennai  |\n",
    "| Priya | 28  | Mumbai   |\n"
   ]
  },
  {
   "cell_type": "code",
   "execution_count": null,
   "id": "da220ecc-bfed-4133-88f7-e76d4998fc6d",
   "metadata": {},
   "outputs": [],
   "source": [
    "Output"
   ]
  },
  {
   "cell_type": "markdown",
   "id": "4a49d1e6-8478-4133-8c9e-ed04f68dc327",
   "metadata": {},
   "source": [
    "| Name  | Age | City     |\n",
    "|-------|-----|----------|\n",
    "| Ram   | 25  | Chennai  |\n",
    "| Priya | 28  | Mumbai   |\n"
   ]
  },
  {
   "cell_type": "markdown",
   "id": "da792194-e205-4de5-a59d-29661a058d89",
   "metadata": {},
   "source": [
    "# 🧮 3. Code & Syntax Highlighting"
   ]
  },
  {
   "cell_type": "code",
   "execution_count": null,
   "id": "b070c28b-5fd9-4f63-a0c1-09b65c107880",
   "metadata": {},
   "outputs": [],
   "source": [
    "To show inline code:\n",
    "`x = 10`\n",
    "\n",
    "multiline code\n",
    "```python\n",
    "print('hello world\")\n",
    "x=1\n",
    "```"
   ]
  },
  {
   "cell_type": "code",
   "execution_count": null,
   "id": "a72b3415-a694-42ef-ada4-a9a1ec5ae5f7",
   "metadata": {},
   "outputs": [],
   "source": [
    "output"
   ]
  },
  {
   "cell_type": "markdown",
   "id": "a4cca4e7-8dbf-4237-a0d0-52ee21d0f642",
   "metadata": {},
   "source": [
    "To show inline code:\n",
    "`x = 10`\n",
    "\n",
    "multiline code\n",
    "```python\n",
    "print('hello world\")\n",
    "x=1\n",
    "```\n"
   ]
  },
  {
   "cell_type": "code",
   "execution_count": null,
   "id": "b87263df-28c6-4321-9272-e440c723d40d",
   "metadata": {},
   "outputs": [],
   "source": [
    "''' \n",
    "#multi line comments\n",
    "import pandas as pd\n",
    "print(\" hello World\")\n",
    "'''\n",
    "# single line comment\n",
    "\n"
   ]
  },
  {
   "cell_type": "markdown",
   "id": "c26c6822-2f2c-4c5f-b43f-1edeb64130ce",
   "metadata": {},
   "source": [
    "# 🧠 5. Math Equations"
   ]
  },
  {
   "cell_type": "code",
   "execution_count": null,
   "id": "8b8488ef-2d95-4af5-9045-8944728f7059",
   "metadata": {},
   "outputs": [],
   "source": [
    "Inline: \\( E = mc^2 \\)\n",
    "\n",
    "Block:\n",
    "$$\n",
    "\\int_0^\\infty e^{-x} dx = 1\n",
    "$$\n"
   ]
  },
  {
   "cell_type": "code",
   "execution_count": null,
   "id": "ac304796-eff5-4f6a-ab20-9c5ae8f36eb5",
   "metadata": {},
   "outputs": [],
   "source": [
    "output"
   ]
  },
  {
   "cell_type": "markdown",
   "id": "446d8e87-ffb2-402a-b982-3ce14ea7a56d",
   "metadata": {},
   "source": [
    "Inline: \\( E = mc^2 \\)\n",
    "\n",
    "Block:\n",
    "$$\n",
    "\\int_0^\\infty e^{-x} dx = 1\n",
    "$$\n"
   ]
  },
  {
   "cell_type": "markdown",
   "id": "c57c6332-3d1f-445c-bfb5-e4f2d41dfb58",
   "metadata": {},
   "source": [
    "# Line"
   ]
  },
  {
   "cell_type": "code",
   "execution_count": null,
   "id": "9e99ba4d-71a7-465c-b8c2-87a94f0f6f82",
   "metadata": {},
   "outputs": [],
   "source": [
    "---"
   ]
  },
  {
   "cell_type": "code",
   "execution_count": null,
   "id": "709f02e0-a375-4d79-8c23-4aef3df94197",
   "metadata": {},
   "outputs": [],
   "source": [
    "output"
   ]
  },
  {
   "cell_type": "markdown",
   "id": "09896a51-4842-4de7-ad8f-cee1346098af",
   "metadata": {},
   "source": [
    "---"
   ]
  },
  {
   "cell_type": "code",
   "execution_count": null,
   "id": "4a641d23-8842-4105-b129-1a0b3903befc",
   "metadata": {},
   "outputs": [],
   "source": []
  }
 ],
 "metadata": {
  "kernelspec": {
   "display_name": "Python 3 (ipykernel)",
   "language": "python",
   "name": "python3"
  },
  "language_info": {
   "codemirror_mode": {
    "name": "ipython",
    "version": 3
   },
   "file_extension": ".py",
   "mimetype": "text/x-python",
   "name": "python",
   "nbconvert_exporter": "python",
   "pygments_lexer": "ipython3",
   "version": "3.13.7"
  }
 },
 "nbformat": 4,
 "nbformat_minor": 5
}
