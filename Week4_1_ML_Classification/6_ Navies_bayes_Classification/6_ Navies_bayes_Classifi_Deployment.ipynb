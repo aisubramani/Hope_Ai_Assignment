{
 "cells": [
  {
   "cell_type": "code",
   "execution_count": 1,
   "id": "fca29563-29bd-4b95-bf35-09d3abe300ee",
   "metadata": {},
   "outputs": [
    {
     "name": "stdout",
     "output_type": "stream",
     "text": [
      "Purchased 1, Not Purchased 0 = [1]\n",
      "Purchased 1, Not Purchased 0 = [0]\n"
     ]
    },
    {
     "name": "stderr",
     "output_type": "stream",
     "text": [
      "C:\\Anaconda3\\Lib\\site-packages\\sklearn\\utils\\validation.py:2739: UserWarning: X does not have valid feature names, but KNeighborsClassifier was fitted with feature names\n",
      "  warnings.warn(\n",
      "C:\\Anaconda3\\Lib\\site-packages\\sklearn\\utils\\validation.py:2739: UserWarning: X does not have valid feature names, but KNeighborsClassifier was fitted with feature names\n",
      "  warnings.warn(\n"
     ]
    }
   ],
   "source": [
    "# Deployment\n",
    "#-----------\n",
    "#pickle is library for save model \n",
    "import pickle\n",
    "#load the model from file.sav :r-read, b binary\n",
    "load_model=pickle.load(open(\"final_Sav_Classification_KNN_Model.sav\",\"rb\"))\n",
    "\n",
    "#get inputs from user for predict the model\n",
    "result=load_model.predict([[46,41000,1]])\n",
    "print(\"Purchased 1, Not Purchased 0 =\",result)\n",
    "result=load_model.predict([[19,19000,0]])\n",
    "print(\"Purchased 1, Not Purchased 0 =\",result)"
   ]
  },
  {
   "cell_type": "code",
   "execution_count": null,
   "id": "77af287e-5ba9-435c-a083-46a8681af469",
   "metadata": {},
   "outputs": [],
   "source": []
  }
 ],
 "metadata": {
  "kernelspec": {
   "display_name": "Python [conda env:base] *",
   "language": "python",
   "name": "conda-base-py"
  },
  "language_info": {
   "codemirror_mode": {
    "name": "ipython",
    "version": 3
   },
   "file_extension": ".py",
   "mimetype": "text/x-python",
   "name": "python",
   "nbconvert_exporter": "python",
   "pygments_lexer": "ipython3",
   "version": "3.13.5"
  }
 },
 "nbformat": 4,
 "nbformat_minor": 5
}
