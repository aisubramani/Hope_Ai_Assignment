{
 "cells": [
  {
   "cell_type": "code",
   "execution_count": 2,
   "id": "16d252db-e148-4ed3-852d-95470b5a4485",
   "metadata": {},
   "outputs": [],
   "source": [
    "#importing the Libraies\n",
    "import numpy as np\n",
    "import matplotlib.pyplot as plt\n",
    "import pandas as pd\n",
    "\n",
    "#data collection\n",
    "dataset=pd.read_csv(\"Social_Network_Ads.csv\")\n",
    "#preprocess\n",
    "#drop/remove user ID, model creation\n",
    "dataset=dataset.drop(\"User ID\",axis=1)\n",
    "#preprocess Gender to 0 or 1\n",
    "dataset=pd.get_dummies(dataset,drop_first=True).astype(int)\n",
    "\n",
    "#input output split\n",
    "independent=dataset[['Age', 'EstimatedSalary', 'Gender_Male']]\n",
    "dependent=dataset[['Purchased']]\n",
    "\n",
    "#Train Test split\n",
    "from sklearn.model_selection import train_test_split\n",
    "X_train,X_test,y_train,y_test=train_test_split(independent, dependent, test_size=0.30,random_state=0)\n",
    "\n",
    "#preprocess standard Scaler\n",
    "from sklearn.preprocessing import StandardScaler\n",
    "sc = StandardScaler()\n",
    "X_train = sc.fit_transform(X_train)\n",
    "X_test = sc.transform(X_test)"
   ]
  },
  {
   "cell_type": "code",
   "execution_count": 3,
   "id": "fca29563-29bd-4b95-bf35-09d3abe300ee",
   "metadata": {},
   "outputs": [
    {
     "name": "stdout",
     "output_type": "stream",
     "text": [
      "Purchased 1, Not Purchased 0 = [0]\n",
      "Purchased 1, Not Purchased 0 = [0]\n"
     ]
    },
    {
     "name": "stderr",
     "output_type": "stream",
     "text": [
      "C:\\Anaconda3\\Lib\\site-packages\\sklearn\\utils\\validation.py:2739: UserWarning: X does not have valid feature names, but StandardScaler was fitted with feature names\n",
      "  warnings.warn(\n",
      "C:\\Anaconda3\\Lib\\site-packages\\sklearn\\utils\\validation.py:2739: UserWarning: X does not have valid feature names, but StandardScaler was fitted with feature names\n",
      "  warnings.warn(\n"
     ]
    }
   ],
   "source": [
    "# Deployment\n",
    "#-----------\n",
    "#pickle is library for save model \n",
    "import pickle\n",
    "#load the model from file.sav :r-read, b binary\n",
    "load_model=pickle.load(open(\"final_Sav_Model.sav\",\"rb\"))\n",
    "\n",
    "#apply StandardScaler to user input\n",
    "preinput=sc.transform([[46,41000,1]])\n",
    "result=load_model.predict(preinput)\n",
    "print(\"Purchased 1, Not Purchased 0 =\",result)\n",
    "\n",
    "preinput=sc.transform([[19,19000,0]])\n",
    "result=load_model.predict(preinput)\n",
    "print(\"Purchased 1, Not Purchased 0 =\",result)\n"
   ]
  },
  {
   "cell_type": "code",
   "execution_count": null,
   "id": "77af287e-5ba9-435c-a083-46a8681af469",
   "metadata": {},
   "outputs": [],
   "source": []
  }
 ],
 "metadata": {
  "kernelspec": {
   "display_name": "Python [conda env:base] *",
   "language": "python",
   "name": "conda-base-py"
  },
  "language_info": {
   "codemirror_mode": {
    "name": "ipython",
    "version": 3
   },
   "file_extension": ".py",
   "mimetype": "text/x-python",
   "name": "python",
   "nbconvert_exporter": "python",
   "pygments_lexer": "ipython3",
   "version": "3.13.5"
  }
 },
 "nbformat": 4,
 "nbformat_minor": 5
}
