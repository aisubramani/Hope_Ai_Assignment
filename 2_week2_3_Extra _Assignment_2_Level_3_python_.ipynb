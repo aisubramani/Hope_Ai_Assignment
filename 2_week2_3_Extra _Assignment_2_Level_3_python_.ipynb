{
 "cells": [
  {
   "cell_type": "code",
   "execution_count": null,
   "id": "1b922d8d-6aec-479b-adfd-6905e3832d89",
   "metadata": {},
   "outputs": [],
   "source": [
    "#week 2.3 Extra Assignment-2-Level-3-python"
   ]
  },
  {
   "cell_type": "code",
   "execution_count": 8,
   "id": "ee1be9a8-6507-4846-b36f-4e378dc88e28",
   "metadata": {},
   "outputs": [
    {
     "name": "stdin",
     "output_type": "stream",
     "text": [
      "Enter Value: 10\n"
     ]
    },
    {
     "name": "stdout",
     "output_type": "stream",
     "text": [
      "Enter Value:  10 \n",
      "Correct\n"
     ]
    }
   ],
   "source": [
    "# print 'CORRECT' if i == 10\n",
    "my_number=int(input(\"Enter Value:\"))\n",
    "if(my_number==10):\n",
    "    print(\"Enter Value: \",my_number,\"\\nCorrect\")\n",
    "else:\n",
    "    print(\"Enter Value: \",my_number,\"\\nWrong\")"
   ]
  },
  {
   "cell_type": "code",
   "execution_count": 11,
   "id": "d3840b4c-94e0-4d08-b484-c1766df53a29",
   "metadata": {},
   "outputs": [
    {
     "name": "stdin",
     "output_type": "stream",
     "text": [
      "Enter the Password: HOPE@123\n"
     ]
    },
    {
     "name": "stdout",
     "output_type": "stream",
     "text": [
      "Your Password is Correct\n"
     ]
    }
   ],
   "source": [
    "# Check the password, using if and else\n",
    "my_password=str(input(\"Enter the Password:\"))\n",
    "if(my_password==\"HOPE@123\"):\n",
    "    print(\"Your Password is Correct\")\n",
    "else:\n",
    "    print(\"Your Password is Wrong\")"
   ]
  },
  {
   "cell_type": "code",
   "execution_count": 15,
   "id": "5c9694d3-afae-41c3-bf64-377aea7d3302",
   "metadata": {},
   "outputs": [
    {
     "name": "stdin",
     "output_type": "stream",
     "text": [
      "Input age: 20\n"
     ]
    },
    {
     "name": "stdout",
     "output_type": "stream",
     "text": [
      "Age: 20\n",
      "Adult\n"
     ]
    }
   ],
   "source": [
    "# Catagory the people by their age like children, adult, citizen, senior citizen...\n",
    "my_age=int(input(\"Input age:\"))\n",
    "print(\"Age:\",my_age)\n",
    "if(my_age<18):\n",
    "    print(\"children\")\n",
    "elif(my_age<35):\n",
    "    print(\"Adult\")\n",
    "elif(my_age<59):\n",
    "    print(\"Citizen\")    \n",
    "else:\n",
    "    print(\"Senior Citizen\")\n"
   ]
  },
  {
   "cell_type": "code",
   "execution_count": 20,
   "id": "4711b251-4e25-40ff-83a0-93bd68e9acd4",
   "metadata": {},
   "outputs": [
    {
     "name": "stdin",
     "output_type": "stream",
     "text": [
      "Enter Any Number: -10\n"
     ]
    },
    {
     "name": "stdout",
     "output_type": "stream",
     "text": [
      "-10 is Negative\n"
     ]
    }
   ],
   "source": [
    "# Find whether given number is positive or negative\n",
    "my_number=int(input(\"Enter Any Number:\"))\n",
    "if(my_number>0):\n",
    "    print(my_number,\"is Positive\")\n",
    "elif(my_number<0):\n",
    "    print(my_number,\"is Negative\")\n",
    "else:\n",
    "    print(my_number,\"is Zero\")\n"
   ]
  },
  {
   "cell_type": "code",
   "execution_count": 23,
   "id": "53a7488e-3233-41c7-8d16-ee378a690fcf",
   "metadata": {},
   "outputs": [
    {
     "name": "stdin",
     "output_type": "stream",
     "text": [
      "Enter a number to check: 31\n"
     ]
    },
    {
     "name": "stdout",
     "output_type": "stream",
     "text": [
      "31 is not divisible by 5\n"
     ]
    }
   ],
   "source": [
    "# Check whether the given number is divisible by 5\n",
    "my_number=int(input(\"Enter a number to check:\"))\n",
    "if((my_number%5)==0):\n",
    "    print(my_number,\"is divisible by 5\")\n",
    "else:\n",
    "    print(my_number,\"is not divisible by 5\")"
   ]
  },
  {
   "cell_type": "code",
   "execution_count": null,
   "id": "5dc8fddb-ac45-4853-b8be-e08947628ed4",
   "metadata": {},
   "outputs": [],
   "source": []
  }
 ],
 "metadata": {
  "kernelspec": {
   "display_name": "Python [conda env:base] *",
   "language": "python",
   "name": "conda-base-py"
  },
  "language_info": {
   "codemirror_mode": {
    "name": "ipython",
    "version": 3
   },
   "file_extension": ".py",
   "mimetype": "text/x-python",
   "name": "python",
   "nbconvert_exporter": "python",
   "pygments_lexer": "ipython3",
   "version": "3.13.5"
  }
 },
 "nbformat": 4,
 "nbformat_minor": 5
}
