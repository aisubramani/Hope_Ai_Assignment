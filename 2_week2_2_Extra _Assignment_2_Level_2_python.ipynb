{
 "cells": [
  {
   "cell_type": "code",
   "execution_count": null,
   "id": "2892f5ce-64a2-423b-a368-ffc4f596e89b",
   "metadata": {},
   "outputs": [],
   "source": [
    "#week 2.2 Extra Assignment-2-Level-2-python"
   ]
  },
  {
   "cell_type": "code",
   "execution_count": 53,
   "id": "a97f3dd3-dbf4-4306-bf5d-22a7bfcc8a56",
   "metadata": {},
   "outputs": [
    {
     "name": "stdout",
     "output_type": "stream",
     "text": [
      "0\n",
      "1\n",
      "2\n",
      "3\n",
      "4\n",
      "5\n",
      "6\n",
      "7\n",
      "8\n",
      "9\n"
     ]
    }
   ],
   "source": [
    "#range\n",
    "for my_temp_i in range(10):\n",
    "    print(my_temp_i)"
   ]
  },
  {
   "cell_type": "code",
   "execution_count": 10,
   "id": "c0d0e255-2fb3-4f9b-a78a-ab6ede423dd1",
   "metadata": {},
   "outputs": [
    {
     "name": "stdout",
     "output_type": "stream",
     "text": [
      "10 11 12 13 14 15 16 17 18 19 "
     ]
    }
   ],
   "source": [
    "#print range 10 to 20\n",
    "for my_temp_i in range(10,20):\n",
    "    print(my_temp_i,end=\" \")"
   ]
  },
  {
   "cell_type": "code",
   "execution_count": 15,
   "id": "ffff6747-caff-4aa6-9202-ec9ff8373c8f",
   "metadata": {},
   "outputs": [
    {
     "name": "stdout",
     "output_type": "stream",
     "text": [
      "[40, 30, 18, 58, 48, 97, 96, 32]\n",
      "Number of item in the List1: 8\n"
     ]
    }
   ],
   "source": [
    "# Print number of items in the list by using 'len'\n",
    "my_list1=[40, 30, 18, 58, 48, 97, 96,32]\n",
    "print(my_list1)\n",
    "print(\"Number of item in the List1:\",len(my_list1))"
   ]
  },
  {
   "cell_type": "code",
   "execution_count": 19,
   "id": "9eb286b6-149f-4b3d-8b14-e30106c8d1a2",
   "metadata": {},
   "outputs": [
    {
     "name": "stdin",
     "output_type": "stream",
     "text": [
      "Enter Name: Ai Subramani\n"
     ]
    },
    {
     "name": "stdout",
     "output_type": "stream",
     "text": [
      "Ai Subramani\n",
      "A\n",
      "i\n",
      " \n",
      "S\n",
      "u\n",
      "b\n",
      "r\n",
      "a\n",
      "m\n",
      "a\n",
      "n\n",
      "i\n"
     ]
    }
   ],
   "source": [
    "#charater split\n",
    "my_name=str(input(\"Enter Name:\"))\n",
    "print(my_name)\n",
    "for my_temp_i in my_name:\n",
    "    print(my_temp_i)"
   ]
  },
  {
   "cell_type": "code",
   "execution_count": 21,
   "id": "ee9285be-ff46-4177-91a0-4113c367edd8",
   "metadata": {},
   "outputs": [
    {
     "name": "stdout",
     "output_type": "stream",
     "text": [
      "-Your Name-\n",
      "-Your Age-\n",
      "-Your Profession-\n"
     ]
    }
   ],
   "source": [
    "# Print datatype using list\n",
    "my_list = [\"-Your Name-\", \"-Your Age-\", \"-Your Profession-\"]\n",
    "for my_temp_i in my_list:\n",
    "    print(my_temp_i)"
   ]
  },
  {
   "cell_type": "code",
   "execution_count": 42,
   "id": "11689304-da62-4f47-97b9-6de8907f06e3",
   "metadata": {},
   "outputs": [
    {
     "name": "stdout",
     "output_type": "stream",
     "text": [
      "(1, 'Welcome', 2, 'Ai Subramani')\n"
     ]
    }
   ],
   "source": [
    "# Print This mixered datatype using Tuples\n",
    "my_tuple = (1, 'Welcome', 2, 'Ai Subramani')\n",
    "print(my_tuple)"
   ]
  },
  {
   "cell_type": "code",
   "execution_count": 46,
   "id": "f0260b75-c839-47aa-9cdc-12b93c6e7523",
   "metadata": {},
   "outputs": [
    {
     "name": "stdout",
     "output_type": "stream",
     "text": [
      "((0, 1, 2, 3), ('python', 'HOPE'))\n"
     ]
    }
   ],
   "source": [
    "# Refer this link : https://www.geeksforgeeks.org/python-tuples/\n",
    "my_tuple1 = (0, 1, 2, 3)\n",
    "my_tuple2 = ('python', 'HOPE')\n",
    "my_tuple3 = (my_tuple1,my_tuple2)\n",
    "print(my_tuple3)"
   ]
  },
  {
   "cell_type": "code",
   "execution_count": 50,
   "id": "b1edf8d7-5607-40ab-b111-59149aca272a",
   "metadata": {},
   "outputs": [
    {
     "name": "stdout",
     "output_type": "stream",
     "text": [
      "(20, 10, 16, 19, 25, 1, 276, 188)\n",
      "19 is odd number\n",
      "25 is odd number\n",
      "1 is odd number\n"
     ]
    }
   ],
   "source": [
    "# print Odd Numbers in the list\n",
    "my_list1=[20,10,16,19,25,1,276,188]\n",
    "print(tuple(my_list1))\n",
    "for my_i in my_list1:\n",
    "    if((my_i%2)==1):\n",
    "        print(my_i,\"is odd number\")"
   ]
  },
  {
   "cell_type": "code",
   "execution_count": 51,
   "id": "8adb5801-a55e-45e9-b760-c88ac56b00da",
   "metadata": {},
   "outputs": [
    {
     "name": "stdout",
     "output_type": "stream",
     "text": [
      "(20, 10, 16, 19, 25, 1, 276, 188)\n",
      "20 is even number\n",
      "10 is even number\n",
      "16 is even number\n",
      "276 is even number\n",
      "188 is even number\n"
     ]
    }
   ],
   "source": [
    "# print even Numbers in the list\n",
    "my_list1=[20,10,16,19,25,1,276,188]\n",
    "print(tuple(my_list1))\n",
    "for my_i in my_list1:\n",
    "    if((my_i%2)==0):\n",
    "        print(my_i,\"is even number\")"
   ]
  },
  {
   "cell_type": "code",
   "execution_count": null,
   "id": "8d061f6a-d0a6-452b-8f52-12c9916c82ba",
   "metadata": {},
   "outputs": [],
   "source": []
  }
 ],
 "metadata": {
  "kernelspec": {
   "display_name": "Python [conda env:base] *",
   "language": "python",
   "name": "conda-base-py"
  },
  "language_info": {
   "codemirror_mode": {
    "name": "ipython",
    "version": 3
   },
   "file_extension": ".py",
   "mimetype": "text/x-python",
   "name": "python",
   "nbconvert_exporter": "python",
   "pygments_lexer": "ipython3",
   "version": "3.13.5"
  }
 },
 "nbformat": 4,
 "nbformat_minor": 5
}
