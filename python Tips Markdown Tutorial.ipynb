{
 "cells": [
  {
   "cell_type": "markdown",
   "id": "ae6853f7-3aef-4568-b50d-d68950cb4677",
   "metadata": {},
   "source": [
    "# 👉 Press Esc → M → Enter (to convert a cell to Markdown mode)."
   ]
  },
  {
   "cell_type": "markdown",
   "id": "4e246b85-14a3-4cf4-b241-276b57b08b53",
   "metadata": {},
   "source": [
    "# 🪶 1. Basic Text Formatting"
   ]
  },
  {
   "cell_type": "code",
   "execution_count": null,
   "id": "0d5fe772-837b-4ef1-adf1-0d63d5e21f1d",
   "metadata": {},
   "outputs": [],
   "source": [
    "# Heading 1\n",
    "## Heading 2\n",
    "### Heading 3\n",
    "\n",
    "**Bold Text**  \n",
    "*Italic Text*  \n",
    "***Bold & Italic***  \n",
    "~~Strikethrough~~\n",
    "\n",
    "> Blockquote text\n",
    "\n",
    "<span style=\"color:blue; font-weight:bold\">This is blue bold text</span>\n",
    "<span style=\"color:red\">This is red text</span>\n",
    "<h2 style=\"color:purple\"> This H2 color heading </h2>    "
   ]
  },
  {
   "cell_type": "code",
   "execution_count": null,
   "id": "e31526be-53d7-4683-9fcf-bb56404314a1",
   "metadata": {},
   "outputs": [],
   "source": [
    "output"
   ]
  },
  {
   "cell_type": "markdown",
   "id": "dec9bc36-82cc-4112-8cb6-b361d7f85cb7",
   "metadata": {},
   "source": [
    "# Heading 1\n",
    "## Heading 2\n",
    "### Heading 3\n",
    "\n",
    "**Bold Text**  \n",
    "*Italic Text*  \n",
    "***Bold & Italic***  \n",
    "~~Strikethrough~~\n",
    "\n",
    "> Blockquote text\n",
    "\n",
    "<span style=\"color:blue; font-weight:bold\">This is blue bold text</span>\n",
    "\n",
    "<span style=\"color:red\">This is red text</span>\n",
    "\n",
    "<h2 style=\"color:purple\"> This H2 heading color heading </h2>   "
   ]
  },
  {
   "cell_type": "markdown",
   "id": "60d582e2-c479-4442-9a27-cd8a72e87c7a",
   "metadata": {},
   "source": [
    "# 📋 2. Lists"
   ]
  },
  {
   "cell_type": "code",
   "execution_count": null,
   "id": "1893768c-85f9-419d-b880-e53e6890d625",
   "metadata": {},
   "outputs": [],
   "source": [
    "- Item 1\n",
    "- Item 2\n",
    "  - Sub-item A\n",
    "  - Sub-item B\n",
    "\n",
    "1. Step One\n",
    "2. Step Two\n",
    "3. Step Three\n",
    "\n",
    "* item 1\n",
    "* item 2\n",
    "* item 3\n",
    "* * sub 1\n",
    "  * sub 2"
   ]
  },
  {
   "cell_type": "code",
   "execution_count": null,
   "id": "fbe58f1f-4b52-4393-a0a5-62f43b6ccd15",
   "metadata": {},
   "outputs": [],
   "source": [
    "output:"
   ]
  },
  {
   "cell_type": "markdown",
   "id": "7a73928c-ef65-4ba0-97bc-0b33881e8e6d",
   "metadata": {},
   "source": [
    "- Item 1\n",
    "- Item 2\n",
    "  - Sub-item A\n",
    "  - Sub-item B\n",
    "\n",
    "1. Step One\n",
    "2. Step Two\n",
    "3. Step Three\n",
    "\n",
    "* item 1\n",
    "* item 2\n",
    "* item 3\n",
    "* * sub 1\n",
    "  * sub 2"
   ]
  },
  {
   "cell_type": "markdown",
   "id": "4cbe491e-6135-4e8b-947b-53611b92e542",
   "metadata": {},
   "source": [
    "# 📊 3. Tables"
   ]
  },
  {
   "cell_type": "code",
   "execution_count": null,
   "id": "bd0e4654-d257-429c-bcbe-6a1d4408def4",
   "metadata": {},
   "outputs": [],
   "source": [
    "| Name  | Age | City     |\n",
    "|-------|-----|----------|\n",
    "| Ram   | 25  | Chennai  |\n",
    "| Priya | 28  | Mumbai   |\n"
   ]
  },
  {
   "cell_type": "code",
   "execution_count": null,
   "id": "26b06815-6328-4296-a5de-1dc72de5bcdf",
   "metadata": {},
   "outputs": [],
   "source": [
    "Output"
   ]
  },
  {
   "cell_type": "markdown",
   "id": "4a49d1e6-8478-4133-8c9e-ed04f68dc327",
   "metadata": {},
   "source": [
    "| Name  | Age | City     |\n",
    "|-------|-----|----------|\n",
    "| Ram   | 25  | Chennai  |\n",
    "| Priya | 28  | Mumbai   |\n"
   ]
  },
  {
   "cell_type": "markdown",
   "id": "da792194-e205-4de5-a59d-29661a058d89",
   "metadata": {},
   "source": [
    "# 🧮 4. Code & Syntax Highlighting"
   ]
  },
  {
   "cell_type": "code",
   "execution_count": null,
   "id": "b070c28b-5fd9-4f63-a0c1-09b65c107880",
   "metadata": {},
   "outputs": [],
   "source": [
    "To show inline code:\n",
    "`x = 10`\n",
    "\n",
    "multiline code\n",
    "```python\n",
    "print('hello world\")\n",
    "x=1\n",
    "```"
   ]
  },
  {
   "cell_type": "code",
   "execution_count": null,
   "id": "98bd9c4c-2a1b-4db2-b922-c2a36176983e",
   "metadata": {},
   "outputs": [],
   "source": [
    "output"
   ]
  },
  {
   "cell_type": "markdown",
   "id": "a4cca4e7-8dbf-4237-a0d0-52ee21d0f642",
   "metadata": {},
   "source": [
    "To show inline code:\n",
    "`x = 10`\n",
    "\n",
    "multiline code\n",
    "```python\n",
    "print('hello world\")\n",
    "x=1\n",
    "```\n"
   ]
  },
  {
   "cell_type": "code",
   "execution_count": null,
   "id": "b87263df-28c6-4321-9272-e440c723d40d",
   "metadata": {},
   "outputs": [],
   "source": [
    "''' \n",
    "#multi line comments\n",
    "import pandas as pd\n",
    "print(\" hello World\")\n",
    "'''\n",
    "# single line comment\n",
    "\n"
   ]
  },
  {
   "cell_type": "markdown",
   "id": "c26c6822-2f2c-4c5f-b43f-1edeb64130ce",
   "metadata": {},
   "source": [
    "# 🧠 5. Math Equations"
   ]
  },
  {
   "cell_type": "code",
   "execution_count": null,
   "id": "8182b0df-0b9e-4ebe-9462-2f24f3bffc7b",
   "metadata": {},
   "outputs": [],
   "source": [
    "$$\n",
    "E = mc^2\n",
    "$$\n",
    "\n",
    "Block:\n",
    "$$\n",
    "\\int_0^\\infty e^{-x} dx = 1\n",
    "$$\n"
   ]
  },
  {
   "cell_type": "code",
   "execution_count": null,
   "id": "ac304796-eff5-4f6a-ab20-9c5ae8f36eb5",
   "metadata": {},
   "outputs": [],
   "source": [
    "output"
   ]
  },
  {
   "cell_type": "markdown",
   "id": "e27f8122-aa09-4dca-a7fd-15c59a5ed512",
   "metadata": {},
   "source": [
    "$$\n",
    "E = mc^2\n",
    "$$\n",
    "Block:\n",
    "$$\n",
    "\\int_0^\\infty e^{-x} dx = 1\n",
    "$$\n"
   ]
  },
  {
   "cell_type": "markdown",
   "id": "c57c6332-3d1f-445c-bfb5-e4f2d41dfb58",
   "metadata": {},
   "source": [
    "# 5. Line"
   ]
  },
  {
   "cell_type": "code",
   "execution_count": null,
   "id": "9e99ba4d-71a7-465c-b8c2-87a94f0f6f82",
   "metadata": {},
   "outputs": [],
   "source": [
    "---"
   ]
  },
  {
   "cell_type": "code",
   "execution_count": null,
   "id": "709f02e0-a375-4d79-8c23-4aef3df94197",
   "metadata": {},
   "outputs": [],
   "source": [
    "output"
   ]
  },
  {
   "cell_type": "markdown",
   "id": "09896a51-4842-4de7-ad8f-cee1346098af",
   "metadata": {},
   "source": [
    "---"
   ]
  },
  {
   "cell_type": "markdown",
   "id": "17437c6a-26c2-4579-9e1f-6e50af9f9886",
   "metadata": {},
   "source": [
    "# 🧭  Keyboard Shortcuts\n",
    "\n",
    "| Action               | Shortcut                   |\n",
    "| -------------------- | -------------------------- |\n",
    "| Run cell             | `Shift + Enter`            |\n",
    "| Run cell and add new | `Alt + Enter`              |\n",
    "| Convert to Markdown  | `Esc` → `M`                |\n",
    "| Convert to Code      | `Esc` → `Y`                |\n",
    "| Insert cell above    | `A`                        |\n",
    "| Insert cell below    | `B`                        |\n",
    "| Delete cell          | `DD`                       |\n",
    "| Undo delete          | `Z`                        |\n",
    "| Comment/Uncomment    | `Ctrl + /`                 |\n",
    "| Move cell up/down    | `Shift + ↑` or `Shift + ↓` |\n"
   ]
  },
  {
   "cell_type": "code",
   "execution_count": 11,
   "id": "929c655f-75c9-412d-ad0a-8dd177580eb2",
   "metadata": {},
   "outputs": [
    {
     "name": "stdout",
     "output_type": "stream",
     "text": [
      "CPU times: total: 0 ns\n",
      "Wall time: 41.2 μs\n"
     ]
    }
   ],
   "source": [
    "%time"
   ]
  },
  {
   "cell_type": "code",
   "execution_count": 16,
   "id": "885c0540-c9d3-44b0-8ce1-eca62a43e16a",
   "metadata": {},
   "outputs": [
    {
     "name": "stdout",
     "output_type": "stream",
     "text": [
      "CPU times: total: 15.6 ms\n",
      "Wall time: 18.3 ms\n"
     ]
    },
    {
     "data": {
      "text/plain": [
       "499999500000"
      ]
     },
     "execution_count": 16,
     "metadata": {},
     "output_type": "execute_result"
    }
   ],
   "source": [
    "%time sum(range(1000000))"
   ]
  },
  {
   "cell_type": "code",
   "execution_count": 17,
   "id": "564a762f-11cb-4b11-ae71-ff4bcc52d687",
   "metadata": {},
   "outputs": [
    {
     "data": {
      "text/markdown": [
       "### 🔍 *Dynamic Markdown inside code cell!*"
      ],
      "text/plain": [
       "<IPython.core.display.Markdown object>"
      ]
     },
     "metadata": {},
     "output_type": "display_data"
    }
   ],
   "source": [
    "# Display HTML or Markdown content\n",
    "from IPython.display import Markdown\n",
    "display(Markdown(\"### 🔍 *Dynamic Markdown inside code cell!*\"))\n"
   ]
  },
  {
   "cell_type": "markdown",
   "id": "834626f1-077c-41ae-b92f-872a3e1e2048",
   "metadata": {},
   "source": [
    "🧩 Multi-language Cells"
   ]
  },
  {
   "cell_type": "code",
   "execution_count": 39,
   "id": "442e87e1-88b6-440b-81ff-77ea8e0fbc98",
   "metadata": {},
   "outputs": [
    {
     "data": {
      "text/html": [
       "<h3 style=\"color:purple;\">This is an HTML cell in Jupyter!</h3>\n"
      ],
      "text/plain": [
       "<IPython.core.display.HTML object>"
      ]
     },
     "metadata": {},
     "output_type": "display_data"
    }
   ],
   "source": [
    "%%html\n",
    "<h3 style=\"color:purple;\">This is an HTML cell in Jupyter!</h3>\n"
   ]
  },
  {
   "cell_type": "code",
   "execution_count": null,
   "id": "a3920b27-2d0b-42fc-b9f0-1de7f202c152",
   "metadata": {},
   "outputs": [],
   "source": [
    "🧮  Magic Commands (%% & %)"
   ]
  },
  {
   "cell_type": "markdown",
   "id": "eba29c50-f310-46fe-b7f0-912e7f5627c0",
   "metadata": {},
   "source": [
    "| Command              | Purpose                                    |\n",
    "| -------------------- | ------------------------------------------ |\n",
    "| `%time`              | Time a single statement                    |\n",
    "| `%%timeit`           | Run code multiple times for average timing |\n",
    "| `%pwd`               | Show current working directory             |\n",
    "| `%ls`                | List files in the current directory        |\n",
    "| `%history`           | Show command history                       |\n",
    "| `%who` / `%whos`     | List variables in memory                   |\n",
    "| `%reset`             | Clear all variables                        |\n",
    "| `%matplotlib inline` | Show plots inside notebook                 |\n",
    "| `%run script.py`     | Run another Python script                  |\n"
   ]
  },
  {
   "cell_type": "code",
   "execution_count": 41,
   "id": "d1bb2314-be27-499a-a804-367e301a6c28",
   "metadata": {},
   "outputs": [
    {
     "data": {
      "text/plain": [
       "'C:\\\\Users\\\\15016\\\\Desktop\\\\HopeAi\\\\python\\\\python\\\\week5_3_Data_Visualization\\\\1_seaborn'"
      ]
     },
     "execution_count": 41,
     "metadata": {},
     "output_type": "execute_result"
    }
   ],
   "source": [
    "%pwd"
   ]
  },
  {
   "cell_type": "markdown",
   "id": "552c3e45-393e-4d8b-967e-653524c4fcb4",
   "metadata": {},
   "source": [
    "# 🧠 Rich Display Options"
   ]
  },
  {
   "cell_type": "code",
   "execution_count": 18,
   "id": "52bd04ea-9b23-4727-a91e-074853a8e09b",
   "metadata": {},
   "outputs": [
    {
     "data": {
      "image/jpeg": "[encoded data removed]",
      "text/html": [
       "\n",
       "        <iframe\n",
       "            width=\"400\"\n",
       "            height=\"250\"\n",
       "            src=\"https://www.youtube.com/embed/dQw4w9WgXcQ\"\n",
       "            frameborder=\"0\"\n",
       "            allowfullscreen\n",
       "            \n",
       "        ></iframe>\n",
       "        "
      ],
      "text/plain": [
       "<IPython.lib.display.YouTubeVideo at 0x1f085269be0>"
      ]
     },
     "execution_count": 18,
     "metadata": {},
     "output_type": "execute_result"
    }
   ],
   "source": [
    "from IPython.display import Image, HTML, Audio, YouTubeVideo\n",
    "\n",
    "# Display images or videos directly\n",
    "Image(\"plot.png\")\n",
    "YouTubeVideo(\"dQw4w9WgXcQ\", width=400, height=250)"
   ]
  },
  {
   "cell_type": "code",
   "execution_count": 21,
   "id": "53de0fdb-4f83-4cb1-80cc-720c8896c729",
   "metadata": {},
   "outputs": [
    {
     "data": {
      "text/html": [
       "<div>\n",
       "<style scoped>\n",
       "    .dataframe tbody tr th:only-of-type {\n",
       "        vertical-align: middle;\n",
       "    }\n",
       "\n",
       "    .dataframe tbody tr th {\n",
       "        vertical-align: top;\n",
       "    }\n",
       "\n",
       "    .dataframe thead th {\n",
       "        text-align: right;\n",
       "    }\n",
       "</style>\n",
       "<table border=\"1\" class=\"dataframe\">\n",
       "  <thead>\n",
       "    <tr style=\"text-align: right;\">\n",
       "      <th></th>\n",
       "      <th>Sno</th>\n",
       "      <th>Name</th>\n",
       "      <th>Mark</th>\n",
       "      <th>Total</th>\n",
       "      <th>City</th>\n",
       "    </tr>\n",
       "  </thead>\n",
       "  <tbody>\n",
       "    <tr>\n",
       "      <th>0</th>\n",
       "      <td>1</td>\n",
       "      <td>Ram</td>\n",
       "      <td>78</td>\n",
       "      <td>95</td>\n",
       "      <td>Chennai</td>\n",
       "    </tr>\n",
       "    <tr>\n",
       "      <th>1</th>\n",
       "      <td>2</td>\n",
       "      <td>Priya</td>\n",
       "      <td>85</td>\n",
       "      <td>100</td>\n",
       "      <td>Mumbai</td>\n",
       "    </tr>\n",
       "    <tr>\n",
       "      <th>2</th>\n",
       "      <td>3</td>\n",
       "      <td>Kumar</td>\n",
       "      <td>67</td>\n",
       "      <td>80</td>\n",
       "      <td>Delhi</td>\n",
       "    </tr>\n",
       "    <tr>\n",
       "      <th>3</th>\n",
       "      <td>4</td>\n",
       "      <td>Anita</td>\n",
       "      <td>92</td>\n",
       "      <td>98</td>\n",
       "      <td>Bangalore</td>\n",
       "    </tr>\n",
       "    <tr>\n",
       "      <th>4</th>\n",
       "      <td>5</td>\n",
       "      <td>Vijay</td>\n",
       "      <td>88</td>\n",
       "      <td>92</td>\n",
       "      <td>Hyderabad</td>\n",
       "    </tr>\n",
       "    <tr>\n",
       "      <th>5</th>\n",
       "      <td>6</td>\n",
       "      <td>Meena</td>\n",
       "      <td>74</td>\n",
       "      <td>88</td>\n",
       "      <td>Pune</td>\n",
       "    </tr>\n",
       "  </tbody>\n",
       "</table>\n",
       "</div>"
      ],
      "text/plain": [
       "   Sno   Name  Mark  Total       City\n",
       "0    1    Ram    78     95    Chennai\n",
       "1    2  Priya    85    100     Mumbai\n",
       "2    3  Kumar    67     80      Delhi\n",
       "3    4  Anita    92     98  Bangalore\n",
       "4    5  Vijay    88     92  Hyderabad\n",
       "5    6  Meena    74     88       Pune"
      ]
     },
     "execution_count": 21,
     "metadata": {},
     "output_type": "execute_result"
    }
   ],
   "source": [
    "import pandas as pd\n",
    "\n",
    "# Create sample data\n",
    "# Create 6-row DataFrame\n",
    "data = {\n",
    "    'Sno': range(1, 7),\n",
    "    'Name': ['Ram', 'Priya', 'Kumar', 'Anita', 'Vijay', 'Meena'],\n",
    "    'Mark': [78, 85, 67, 92, 88, 74],\n",
    "    'Total': [95, 100, 80, 98, 92, 88],\n",
    "    'City': ['Chennai', 'Mumbai', 'Delhi', 'Bangalore', 'Hyderabad', 'Pune']\n",
    "}\n",
    "\n",
    "# Create DataFrame\n",
    "df = pd.DataFrame(data)\n",
    "\n",
    "# Display the table\n",
    "df"
   ]
  },
  {
   "cell_type": "markdown",
   "id": "1f36f1a6-a1b1-4568-8f29-68c56e7e9e0f",
   "metadata": {},
   "source": [
    "# 📊 Display Tricks"
   ]
  },
  {
   "cell_type": "code",
   "execution_count": 22,
   "id": "69b43fcb-ee42-43ca-9c0c-a79a9b435368",
   "metadata": {},
   "outputs": [
    {
     "data": {
      "text/html": [
       "<div>\n",
       "<style scoped>\n",
       "    .dataframe tbody tr th:only-of-type {\n",
       "        vertical-align: middle;\n",
       "    }\n",
       "\n",
       "    .dataframe tbody tr th {\n",
       "        vertical-align: top;\n",
       "    }\n",
       "\n",
       "    .dataframe thead th {\n",
       "        text-align: right;\n",
       "    }\n",
       "</style>\n",
       "<table border=\"1\" class=\"dataframe\">\n",
       "  <thead>\n",
       "    <tr style=\"text-align: right;\">\n",
       "      <th></th>\n",
       "      <th>Sno</th>\n",
       "      <th>Name</th>\n",
       "      <th>Mark</th>\n",
       "      <th>Total</th>\n",
       "      <th>City</th>\n",
       "    </tr>\n",
       "  </thead>\n",
       "  <tbody>\n",
       "    <tr>\n",
       "      <th>0</th>\n",
       "      <td>1</td>\n",
       "      <td>Ram</td>\n",
       "      <td>78</td>\n",
       "      <td>95</td>\n",
       "      <td>Chennai</td>\n",
       "    </tr>\n",
       "    <tr>\n",
       "      <th>1</th>\n",
       "      <td>2</td>\n",
       "      <td>Priya</td>\n",
       "      <td>85</td>\n",
       "      <td>100</td>\n",
       "      <td>Mumbai</td>\n",
       "    </tr>\n",
       "    <tr>\n",
       "      <th>2</th>\n",
       "      <td>3</td>\n",
       "      <td>Kumar</td>\n",
       "      <td>67</td>\n",
       "      <td>80</td>\n",
       "      <td>Delhi</td>\n",
       "    </tr>\n",
       "    <tr>\n",
       "      <th>3</th>\n",
       "      <td>4</td>\n",
       "      <td>Anita</td>\n",
       "      <td>92</td>\n",
       "      <td>98</td>\n",
       "      <td>Bangalore</td>\n",
       "    </tr>\n",
       "    <tr>\n",
       "      <th>4</th>\n",
       "      <td>5</td>\n",
       "      <td>Vijay</td>\n",
       "      <td>88</td>\n",
       "      <td>92</td>\n",
       "      <td>Hyderabad</td>\n",
       "    </tr>\n",
       "  </tbody>\n",
       "</table>\n",
       "</div>"
      ],
      "text/plain": [
       "   Sno   Name  Mark  Total       City\n",
       "0    1    Ram    78     95    Chennai\n",
       "1    2  Priya    85    100     Mumbai\n",
       "2    3  Kumar    67     80      Delhi\n",
       "3    4  Anita    92     98  Bangalore\n",
       "4    5  Vijay    88     92  Hyderabad"
      ]
     },
     "metadata": {},
     "output_type": "display_data"
    },
    {
     "data": {
      "text/html": [
       "<div>\n",
       "<style scoped>\n",
       "    .dataframe tbody tr th:only-of-type {\n",
       "        vertical-align: middle;\n",
       "    }\n",
       "\n",
       "    .dataframe tbody tr th {\n",
       "        vertical-align: top;\n",
       "    }\n",
       "\n",
       "    .dataframe thead th {\n",
       "        text-align: right;\n",
       "    }\n",
       "</style>\n",
       "<table border=\"1\" class=\"dataframe\">\n",
       "  <thead>\n",
       "    <tr style=\"text-align: right;\">\n",
       "      <th></th>\n",
       "      <th>Sno</th>\n",
       "      <th>Mark</th>\n",
       "      <th>Total</th>\n",
       "    </tr>\n",
       "  </thead>\n",
       "  <tbody>\n",
       "    <tr>\n",
       "      <th>count</th>\n",
       "      <td>6.000000</td>\n",
       "      <td>6.000000</td>\n",
       "      <td>6.000000</td>\n",
       "    </tr>\n",
       "    <tr>\n",
       "      <th>mean</th>\n",
       "      <td>3.500000</td>\n",
       "      <td>80.666667</td>\n",
       "      <td>92.166667</td>\n",
       "    </tr>\n",
       "    <tr>\n",
       "      <th>std</th>\n",
       "      <td>1.870829</td>\n",
       "      <td>9.373722</td>\n",
       "      <td>7.332576</td>\n",
       "    </tr>\n",
       "    <tr>\n",
       "      <th>min</th>\n",
       "      <td>1.000000</td>\n",
       "      <td>67.000000</td>\n",
       "      <td>80.000000</td>\n",
       "    </tr>\n",
       "    <tr>\n",
       "      <th>25%</th>\n",
       "      <td>2.250000</td>\n",
       "      <td>75.000000</td>\n",
       "      <td>89.000000</td>\n",
       "    </tr>\n",
       "    <tr>\n",
       "      <th>50%</th>\n",
       "      <td>3.500000</td>\n",
       "      <td>81.500000</td>\n",
       "      <td>93.500000</td>\n",
       "    </tr>\n",
       "    <tr>\n",
       "      <th>75%</th>\n",
       "      <td>4.750000</td>\n",
       "      <td>87.250000</td>\n",
       "      <td>97.250000</td>\n",
       "    </tr>\n",
       "    <tr>\n",
       "      <th>max</th>\n",
       "      <td>6.000000</td>\n",
       "      <td>92.000000</td>\n",
       "      <td>100.000000</td>\n",
       "    </tr>\n",
       "  </tbody>\n",
       "</table>\n",
       "</div>"
      ],
      "text/plain": [
       "            Sno       Mark       Total\n",
       "count  6.000000   6.000000    6.000000\n",
       "mean   3.500000  80.666667   92.166667\n",
       "std    1.870829   9.373722    7.332576\n",
       "min    1.000000  67.000000   80.000000\n",
       "25%    2.250000  75.000000   89.000000\n",
       "50%    3.500000  81.500000   93.500000\n",
       "75%    4.750000  87.250000   97.250000\n",
       "max    6.000000  92.000000  100.000000"
      ]
     },
     "metadata": {},
     "output_type": "display_data"
    }
   ],
   "source": [
    "# Show multiple outputs from one cell\n",
    "from IPython.display import display, HTML\n",
    "\n",
    "display(df.head(), df.describe())\n"
   ]
  },
  {
   "cell_type": "markdown",
   "id": "f42f13d6-4ea1-4a5a-9f79-a626b2bd800c",
   "metadata": {},
   "source": [
    "# 🎨 Plot Styling Tips"
   ]
  },
  {
   "cell_type": "code",
   "execution_count": 27,
   "id": "4ec4483d-fd2d-46be-902b-c4a16defa08e",
   "metadata": {},
   "outputs": [
    {
     "data": {
      "image/png": "[encoded data removed]",
      "text/plain": [
       "<Figure size 800x500 with 1 Axes>"
      ]
     },
     "metadata": {},
     "output_type": "display_data"
    }
   ],
   "source": [
    "import matplotlib.pyplot as plt\n",
    "import seaborn as sns\n",
    "\n",
    "sns.set(style=\"whitegrid\", palette=\"Set2\")\n",
    "plt.figure(figsize=(8,5))\n",
    "sns.histplot(df['Total'], kde=True)\n",
    "plt.title(\"Bill Distribution\", fontsize=14, color=\"blue\")\n",
    "plt.show()\n"
   ]
  },
  {
   "cell_type": "code",
   "execution_count": null,
   "id": "cb5e87de-d2f8-49cc-b35f-165fbefaf5d8",
   "metadata": {},
   "outputs": [],
   "source": [
    "📘 Tip:\n",
    "Try plt.style.available to see all built-in plot themes!"
   ]
  },
  {
   "cell_type": "markdown",
   "id": "46a6b10e-adde-4533-831c-e54396609e28",
   "metadata": {},
   "source": [
    "# 🧾 Create Tables & Highlight Data"
   ]
  },
  {
   "cell_type": "code",
   "execution_count": 28,
   "id": "f95cd067-1028-41af-ac81-2bee6023f5ec",
   "metadata": {},
   "outputs": [
    {
     "data": {
      "text/html": [
       "<style type=\"text/css\">\n",
       "#T_c3fd2_row1_col3, #T_c3fd2_row3_col2, #T_c3fd2_row4_col1, #T_c3fd2_row5_col0, #T_c3fd2_row5_col4 {\n",
       "  background-color: lightgreen;\n",
       "}\n",
       "</style>\n",
       "<table id=\"T_c3fd2\">\n",
       "  <thead>\n",
       "    <tr>\n",
       "      <th class=\"blank level0\" >&nbsp;</th>\n",
       "      <th id=\"T_c3fd2_level0_col0\" class=\"col_heading level0 col0\" >Sno</th>\n",
       "      <th id=\"T_c3fd2_level0_col1\" class=\"col_heading level0 col1\" >Name</th>\n",
       "      <th id=\"T_c3fd2_level0_col2\" class=\"col_heading level0 col2\" >Mark</th>\n",
       "      <th id=\"T_c3fd2_level0_col3\" class=\"col_heading level0 col3\" >Total</th>\n",
       "      <th id=\"T_c3fd2_level0_col4\" class=\"col_heading level0 col4\" >City</th>\n",
       "    </tr>\n",
       "  </thead>\n",
       "  <tbody>\n",
       "    <tr>\n",
       "      <th id=\"T_c3fd2_level0_row0\" class=\"row_heading level0 row0\" >0</th>\n",
       "      <td id=\"T_c3fd2_row0_col0\" class=\"data row0 col0\" >1</td>\n",
       "      <td id=\"T_c3fd2_row0_col1\" class=\"data row0 col1\" >Ram</td>\n",
       "      <td id=\"T_c3fd2_row0_col2\" class=\"data row0 col2\" >78</td>\n",
       "      <td id=\"T_c3fd2_row0_col3\" class=\"data row0 col3\" >95</td>\n",
       "      <td id=\"T_c3fd2_row0_col4\" class=\"data row0 col4\" >Chennai</td>\n",
       "    </tr>\n",
       "    <tr>\n",
       "      <th id=\"T_c3fd2_level0_row1\" class=\"row_heading level0 row1\" >1</th>\n",
       "      <td id=\"T_c3fd2_row1_col0\" class=\"data row1 col0\" >2</td>\n",
       "      <td id=\"T_c3fd2_row1_col1\" class=\"data row1 col1\" >Priya</td>\n",
       "      <td id=\"T_c3fd2_row1_col2\" class=\"data row1 col2\" >85</td>\n",
       "      <td id=\"T_c3fd2_row1_col3\" class=\"data row1 col3\" >100</td>\n",
       "      <td id=\"T_c3fd2_row1_col4\" class=\"data row1 col4\" >Mumbai</td>\n",
       "    </tr>\n",
       "    <tr>\n",
       "      <th id=\"T_c3fd2_level0_row2\" class=\"row_heading level0 row2\" >2</th>\n",
       "      <td id=\"T_c3fd2_row2_col0\" class=\"data row2 col0\" >3</td>\n",
       "      <td id=\"T_c3fd2_row2_col1\" class=\"data row2 col1\" >Kumar</td>\n",
       "      <td id=\"T_c3fd2_row2_col2\" class=\"data row2 col2\" >67</td>\n",
       "      <td id=\"T_c3fd2_row2_col3\" class=\"data row2 col3\" >80</td>\n",
       "      <td id=\"T_c3fd2_row2_col4\" class=\"data row2 col4\" >Delhi</td>\n",
       "    </tr>\n",
       "    <tr>\n",
       "      <th id=\"T_c3fd2_level0_row3\" class=\"row_heading level0 row3\" >3</th>\n",
       "      <td id=\"T_c3fd2_row3_col0\" class=\"data row3 col0\" >4</td>\n",
       "      <td id=\"T_c3fd2_row3_col1\" class=\"data row3 col1\" >Anita</td>\n",
       "      <td id=\"T_c3fd2_row3_col2\" class=\"data row3 col2\" >92</td>\n",
       "      <td id=\"T_c3fd2_row3_col3\" class=\"data row3 col3\" >98</td>\n",
       "      <td id=\"T_c3fd2_row3_col4\" class=\"data row3 col4\" >Bangalore</td>\n",
       "    </tr>\n",
       "    <tr>\n",
       "      <th id=\"T_c3fd2_level0_row4\" class=\"row_heading level0 row4\" >4</th>\n",
       "      <td id=\"T_c3fd2_row4_col0\" class=\"data row4 col0\" >5</td>\n",
       "      <td id=\"T_c3fd2_row4_col1\" class=\"data row4 col1\" >Vijay</td>\n",
       "      <td id=\"T_c3fd2_row4_col2\" class=\"data row4 col2\" >88</td>\n",
       "      <td id=\"T_c3fd2_row4_col3\" class=\"data row4 col3\" >92</td>\n",
       "      <td id=\"T_c3fd2_row4_col4\" class=\"data row4 col4\" >Hyderabad</td>\n",
       "    </tr>\n",
       "    <tr>\n",
       "      <th id=\"T_c3fd2_level0_row5\" class=\"row_heading level0 row5\" >5</th>\n",
       "      <td id=\"T_c3fd2_row5_col0\" class=\"data row5 col0\" >6</td>\n",
       "      <td id=\"T_c3fd2_row5_col1\" class=\"data row5 col1\" >Meena</td>\n",
       "      <td id=\"T_c3fd2_row5_col2\" class=\"data row5 col2\" >74</td>\n",
       "      <td id=\"T_c3fd2_row5_col3\" class=\"data row5 col3\" >88</td>\n",
       "      <td id=\"T_c3fd2_row5_col4\" class=\"data row5 col4\" >Pune</td>\n",
       "    </tr>\n",
       "  </tbody>\n",
       "</table>\n"
      ],
      "text/plain": [
       "<pandas.io.formats.style.Styler at 0x1f0a4eac050>"
      ]
     },
     "execution_count": 28,
     "metadata": {},
     "output_type": "execute_result"
    }
   ],
   "source": [
    "# Highlight max values\n",
    "df.style.highlight_max(color='lightgreen')\n"
   ]
  },
  {
   "cell_type": "code",
   "execution_count": 29,
   "id": "a21dc013-199b-4cba-b201-864af3feda90",
   "metadata": {},
   "outputs": [
    {
     "data": {
      "text/html": [
       "<style type=\"text/css\">\n",
       "#T_9a523_row0_col0, #T_9a523_row2_col2, #T_9a523_row2_col3 {\n",
       "  background-color: #3b4cc0;\n",
       "  color: #f1f1f1;\n",
       "}\n",
       "#T_9a523_row0_col2 {\n",
       "  background-color: #ccd9ed;\n",
       "  color: #000000;\n",
       "}\n",
       "#T_9a523_row0_col3 {\n",
       "  background-color: #f4987a;\n",
       "  color: #000000;\n",
       "}\n",
       "#T_9a523_row1_col0 {\n",
       "  background-color: #7b9ff9;\n",
       "  color: #f1f1f1;\n",
       "}\n",
       "#T_9a523_row1_col2 {\n",
       "  background-color: #f6a586;\n",
       "  color: #000000;\n",
       "}\n",
       "#T_9a523_row1_col3, #T_9a523_row3_col2, #T_9a523_row5_col0 {\n",
       "  background-color: #b40426;\n",
       "  color: #f1f1f1;\n",
       "}\n",
       "#T_9a523_row2_col0, #T_9a523_row5_col3 {\n",
       "  background-color: #c0d4f5;\n",
       "  color: #000000;\n",
       "}\n",
       "#T_9a523_row3_col0, #T_9a523_row4_col3 {\n",
       "  background-color: #f2cbb7;\n",
       "  color: #000000;\n",
       "}\n",
       "#T_9a523_row3_col3 {\n",
       "  background-color: #d65244;\n",
       "  color: #f1f1f1;\n",
       "}\n",
       "#T_9a523_row4_col0 {\n",
       "  background-color: #ee8468;\n",
       "  color: #f1f1f1;\n",
       "}\n",
       "#T_9a523_row4_col2 {\n",
       "  background-color: #e57058;\n",
       "  color: #f1f1f1;\n",
       "}\n",
       "#T_9a523_row5_col2 {\n",
       "  background-color: #97b8ff;\n",
       "  color: #000000;\n",
       "}\n",
       "</style>\n",
       "<table id=\"T_9a523\">\n",
       "  <thead>\n",
       "    <tr>\n",
       "      <th class=\"blank level0\" >&nbsp;</th>\n",
       "      <th id=\"T_9a523_level0_col0\" class=\"col_heading level0 col0\" >Sno</th>\n",
       "      <th id=\"T_9a523_level0_col1\" class=\"col_heading level0 col1\" >Name</th>\n",
       "      <th id=\"T_9a523_level0_col2\" class=\"col_heading level0 col2\" >Mark</th>\n",
       "      <th id=\"T_9a523_level0_col3\" class=\"col_heading level0 col3\" >Total</th>\n",
       "      <th id=\"T_9a523_level0_col4\" class=\"col_heading level0 col4\" >City</th>\n",
       "    </tr>\n",
       "  </thead>\n",
       "  <tbody>\n",
       "    <tr>\n",
       "      <th id=\"T_9a523_level0_row0\" class=\"row_heading level0 row0\" >0</th>\n",
       "      <td id=\"T_9a523_row0_col0\" class=\"data row0 col0\" >1</td>\n",
       "      <td id=\"T_9a523_row0_col1\" class=\"data row0 col1\" >Ram</td>\n",
       "      <td id=\"T_9a523_row0_col2\" class=\"data row0 col2\" >78</td>\n",
       "      <td id=\"T_9a523_row0_col3\" class=\"data row0 col3\" >95</td>\n",
       "      <td id=\"T_9a523_row0_col4\" class=\"data row0 col4\" >Chennai</td>\n",
       "    </tr>\n",
       "    <tr>\n",
       "      <th id=\"T_9a523_level0_row1\" class=\"row_heading level0 row1\" >1</th>\n",
       "      <td id=\"T_9a523_row1_col0\" class=\"data row1 col0\" >2</td>\n",
       "      <td id=\"T_9a523_row1_col1\" class=\"data row1 col1\" >Priya</td>\n",
       "      <td id=\"T_9a523_row1_col2\" class=\"data row1 col2\" >85</td>\n",
       "      <td id=\"T_9a523_row1_col3\" class=\"data row1 col3\" >100</td>\n",
       "      <td id=\"T_9a523_row1_col4\" class=\"data row1 col4\" >Mumbai</td>\n",
       "    </tr>\n",
       "    <tr>\n",
       "      <th id=\"T_9a523_level0_row2\" class=\"row_heading level0 row2\" >2</th>\n",
       "      <td id=\"T_9a523_row2_col0\" class=\"data row2 col0\" >3</td>\n",
       "      <td id=\"T_9a523_row2_col1\" class=\"data row2 col1\" >Kumar</td>\n",
       "      <td id=\"T_9a523_row2_col2\" class=\"data row2 col2\" >67</td>\n",
       "      <td id=\"T_9a523_row2_col3\" class=\"data row2 col3\" >80</td>\n",
       "      <td id=\"T_9a523_row2_col4\" class=\"data row2 col4\" >Delhi</td>\n",
       "    </tr>\n",
       "    <tr>\n",
       "      <th id=\"T_9a523_level0_row3\" class=\"row_heading level0 row3\" >3</th>\n",
       "      <td id=\"T_9a523_row3_col0\" class=\"data row3 col0\" >4</td>\n",
       "      <td id=\"T_9a523_row3_col1\" class=\"data row3 col1\" >Anita</td>\n",
       "      <td id=\"T_9a523_row3_col2\" class=\"data row3 col2\" >92</td>\n",
       "      <td id=\"T_9a523_row3_col3\" class=\"data row3 col3\" >98</td>\n",
       "      <td id=\"T_9a523_row3_col4\" class=\"data row3 col4\" >Bangalore</td>\n",
       "    </tr>\n",
       "    <tr>\n",
       "      <th id=\"T_9a523_level0_row4\" class=\"row_heading level0 row4\" >4</th>\n",
       "      <td id=\"T_9a523_row4_col0\" class=\"data row4 col0\" >5</td>\n",
       "      <td id=\"T_9a523_row4_col1\" class=\"data row4 col1\" >Vijay</td>\n",
       "      <td id=\"T_9a523_row4_col2\" class=\"data row4 col2\" >88</td>\n",
       "      <td id=\"T_9a523_row4_col3\" class=\"data row4 col3\" >92</td>\n",
       "      <td id=\"T_9a523_row4_col4\" class=\"data row4 col4\" >Hyderabad</td>\n",
       "    </tr>\n",
       "    <tr>\n",
       "      <th id=\"T_9a523_level0_row5\" class=\"row_heading level0 row5\" >5</th>\n",
       "      <td id=\"T_9a523_row5_col0\" class=\"data row5 col0\" >6</td>\n",
       "      <td id=\"T_9a523_row5_col1\" class=\"data row5 col1\" >Meena</td>\n",
       "      <td id=\"T_9a523_row5_col2\" class=\"data row5 col2\" >74</td>\n",
       "      <td id=\"T_9a523_row5_col3\" class=\"data row5 col3\" >88</td>\n",
       "      <td id=\"T_9a523_row5_col4\" class=\"data row5 col4\" >Pune</td>\n",
       "    </tr>\n",
       "  </tbody>\n",
       "</table>\n"
      ],
      "text/plain": [
       "<pandas.io.formats.style.Styler at 0x1f0a4c79d10>"
      ]
     },
     "execution_count": 29,
     "metadata": {},
     "output_type": "execute_result"
    }
   ],
   "source": [
    "# Custom color gradient\n",
    "df.style.background_gradient(cmap='coolwarm')"
   ]
  },
  {
   "cell_type": "markdown",
   "id": "85d4bcd2-11f8-4919-8b97-bedbc31d7f6f",
   "metadata": {},
   "source": [
    "# 🧠 13. Bonus — Interactive Widgets"
   ]
  },
  {
   "cell_type": "code",
   "execution_count": 31,
   "id": "56709f35-fe64-4399-8582-bab317d8052d",
   "metadata": {},
   "outputs": [
    {
     "data": {
      "application/vnd.jupyter.widget-view+json": {
       "model_id": "a6ec667fc0b4469a94ce19c400ed80a1",
       "version_major": 2,
       "version_minor": 0
      },
      "text/plain": [
       "interactive(children=(Text(value='Superman', description='name'), Output()), _dom_classes=('widget-interact',)…"
      ]
     },
     "metadata": {},
     "output_type": "display_data"
    },
    {
     "data": {
      "text/plain": [
       "<function __main__.greet(name)>"
      ]
     },
     "execution_count": 31,
     "metadata": {},
     "output_type": "execute_result"
    }
   ],
   "source": [
    "from ipywidgets import interact\n",
    "\n",
    "def greet(name):\n",
    "    print(f\"Hello, {name}!\")\n",
    "\n",
    "interact(greet, name=\"Superman\")\n"
   ]
  },
  {
   "cell_type": "code",
   "execution_count": null,
   "id": "21e3e352-e43f-4bd7-ab4e-bec89bf7e171",
   "metadata": {},
   "outputs": [],
   "source": []
  }
 ],
 "metadata": {
  "kernelspec": {
   "display_name": "Python 3 (ipykernel)",
   "language": "python",
   "name": "python3"
  },
  "language_info": {
   "codemirror_mode": {
    "name": "ipython",
    "version": 3
   },
   "file_extension": ".py",
   "mimetype": "text/x-python",
   "name": "python",
   "nbconvert_exporter": "python",
   "pygments_lexer": "ipython3",
   "version": "3.13.7"
  }
 },
 "nbformat": 4,
 "nbformat_minor": 5
}
