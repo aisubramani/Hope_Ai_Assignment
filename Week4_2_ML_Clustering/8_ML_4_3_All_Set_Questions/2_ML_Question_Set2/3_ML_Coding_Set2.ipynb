{
 "cells": [
  {
   "cell_type": "code",
   "execution_count": 7,
   "id": "dd6e461b",
   "metadata": {},
   "outputs": [
    {
     "name": "stdout",
     "output_type": "stream",
     "text": [
      "Customer Purchase Frequency:\n",
      "    Customer_ID  Purchase_Count\n",
      "0          101               3\n",
      "1          102               3\n",
      "2          103               2\n",
      "3          104               1\n",
      "4          105               1\n",
      "\n",
      "Top 3 Frequent Customers:\n",
      "    Customer_ID  Purchase_Count\n",
      "0          101               3\n",
      "1          102               3\n",
      "2          103               2\n"
     ]
    }
   ],
   "source": [
    "#1.Identify Customers with High Purchase Frequency\n",
    "'''import pandas as pd\n",
    "data = {'Customer_ID': [101, 102, 103, 101, 104, 102, 101, 105, 102, 103],\n",
    "        'Purchase_Amount': [200, 150, 180, 220, 300, 200, 100, 400, 250, 300]}\n",
    "\n",
    "df = pd.DataFrame(data)\n",
    "\n",
    "\n",
    "Task:\n",
    "Group customers by Customer_ID and count the number of purchases per customer.\n",
    "\n",
    "Identify the top 3 customers with the highest number of purchases.\n",
    "\n",
    "Expected Output:\n",
    "    Customer Purchase Frequency:\n",
    "   Customer_ID  Purchase_Count\n",
    "0         101               3\n",
    "1         102               3\n",
    "2         103               2\n",
    "3         104               1\n",
    "4         105               1\n",
    "\n",
    "Top 3 Frequent Customers:\n",
    "   Customer_ID  Purchase_Count\n",
    "0         101               3\n",
    "1         102               3\n",
    "2         103               2'''\n",
    "import pandas as pd\n",
    "data = {'Customer_ID': [101, 102, 103, 101, 104, 102, 101, 105, 102, 103],\n",
    "        'Purchase_Amount': [200, 150, 180, 220, 300, 200, 100, 400, 250, 300]}\n",
    "df = pd.DataFrame(data)\n",
    "c_group=df.groupby('Customer_ID')['Purchase_Amount'].count().reset_index(name=\"Purchase_Count\")\n",
    "print(\"Customer Purchase Frequency:\\n\",c_group)\n",
    "c_sort=c_group.sort_values(by=\"Purchase_Count\",ascending=False).head(3)\n",
    "print(\"\\nTop 3 Frequent Customers:\\n\",c_sort)"
   ]
  },
  {
   "cell_type": "code",
   "execution_count": 17,
   "id": "95f1ca8c",
   "metadata": {},
   "outputs": [
    {
     "name": "stdout",
     "output_type": "stream",
     "text": [
      "Average Exam Scores per Student:\n",
      "    Student_ID  Avg_Score\n",
      "0         201  84.333333\n",
      "1         202  88.666667\n",
      "2         203  81.000000\n",
      "3         204  92.000000\n",
      "4         205  95.000000\n",
      "Top 3 Students:\n",
      "\n",
      "    Student_ID  Avg_Score\n",
      "4         205  95.000000\n",
      "3         204  92.000000\n",
      "1         202  88.666667\n"
     ]
    }
   ],
   "source": [
    "#2. Find Students with the Highest Average Exam Scores\n",
    "'''import pandas as pd\n",
    "\n",
    "data = {'Student_ID': [201, 202, 203, 201, 204, 202, 201, 205, 202, 203],\n",
    "        'Exam_Score': [85, 90, 78, 88, 92, 87, 80, 95, 89, 84]}\n",
    "\n",
    "df = pd.DataFrame(data)\n",
    "\n",
    "Task:\n",
    "Calculate the average exam score per student.\n",
    "\n",
    "Display the top 3 students with the highest average scores.\n",
    "\n",
    "Expected Output:\n",
    "\n",
    "Average Exam Scores per Student:\n",
    "   Student_ID  Avg_Score\n",
    "0        201   84.33\n",
    "1        202   88.67\n",
    "2        203   81.00\n",
    "3        204   92.00\n",
    "4        205   95.00\n",
    "\n",
    "Top 3 Students:\n",
    "   Student_ID  Avg_Score\n",
    "0        205   95.00\n",
    "1        204   92.00\n",
    "2        202   88.67'''\n",
    "import pandas as pd\n",
    "data = {'Student_ID': [201, 202, 203, 201, 204, 202, 201, 205, 202, 203],\n",
    "        'Exam_Score': [85, 90, 78, 88, 92, 87, 80, 95, 89, 84]}\n",
    "df = pd.DataFrame(data)\n",
    "Avg_Score=df.groupby('Student_ID')['Exam_Score'].mean().reset_index(name='Avg_Score')\n",
    "print(\"Average Exam Scores per Student:\\n\",Avg_Score)\n",
    "s_top=Avg_Score.sort_values(by='Avg_Score',ascending=False).head(3)\n",
    "print(\"Top 3 Students:\\n\\n\",s_top)"
   ]
  },
  {
   "cell_type": "code",
   "execution_count": 31,
   "id": "59d2c212",
   "metadata": {},
   "outputs": [
    {
     "name": "stdout",
     "output_type": "stream",
     "text": [
      "Predicted Price for 2800 sqft: $516491.60\n"
     ]
    },
    {
     "name": "stderr",
     "output_type": "stream",
     "text": [
      "C:\\Anaconda3\\envs\\ssai\\Lib\\site-packages\\sklearn\\utils\\validation.py:2749: UserWarning: X does not have valid feature names, but LinearRegression was fitted with feature names\n",
      "  warnings.warn(\n"
     ]
    }
   ],
   "source": [
    "#3. Predict House Prices Using Linear Regression\n",
    "'''Dataset:\n",
    "\n",
    "import pandas as pd\n",
    "\n",
    "data = {'Size_sqft': [1500, 1800, 2400, 3000, 3500, 4000],\n",
    "        'Price': [300000, 350000, 450000, 550000, 650000, 700000]}\n",
    "\n",
    ")\n",
    "Task:\n",
    "Train a Linear Regression model to predict house prices based on Size_sqft.\n",
    "\n",
    "Predict the price of a house of size 2800 sqft.\n",
    "\n",
    "Expected Output:\n",
    "Predicted Price for 2800 sqft: $516491'''\n",
    "\n",
    "import pandas as pd\n",
    "data = {'Size_sqft': [1500, 1800, 2400, 3000, 3500, 4000],\n",
    "        'Price': [300000, 350000, 450000, 550000, 650000, 700000]}\n",
    "df = pd.DataFrame(data)\n",
    "from sklearn.linear_model import LinearRegression\n",
    "X=df[['Size_sqft']]\n",
    "y=df['Price']\n",
    "model=LinearRegression()\n",
    "model.fit(X,y)\n",
    "new=2800\n",
    "y_predict=model.predict([[new]])\n",
    "print(f\"Predicted Price for {new} sqft: ${y_predict[0]:.2f}\")"
   ]
  },
  {
   "cell_type": "code",
   "execution_count": 37,
   "id": "fe1e60a4",
   "metadata": {},
   "outputs": [
    {
     "name": "stdout",
     "output_type": "stream",
     "text": [
      "Product Purchase Counts:\n",
      "   Product_ID  Total_Purchases\n",
      "0       P101               14\n",
      "1       P102               11\n",
      "2       P103                9\n",
      "3       P104                1\n",
      "4       P105                3\n",
      "\n",
      "Top 3 Purchased Products:\n",
      "   Product_ID  Total_Purchases\n",
      "0       P101               14\n",
      "1       P102               11\n",
      "2       P103                9\n"
     ]
    }
   ],
   "source": [
    "#4. Identify the Most Commonly Purchased Products\n",
    "'''dataset:\n",
    "import pandas as pd\n",
    "\n",
    "data = {'Product_ID': ['P101', 'P102', 'P103', 'P101', 'P104', 'P102', 'P101', 'P105', 'P102', 'P103'],\n",
    "        'Purchase_Count': [5, 3, 4, 2, 1, 6, 7, 3, 2, 5]}\n",
    "\n",
    "df = pd.DataFrame(data)\n",
    "Task:\n",
    "Group products by Product_ID and sum their Purchase_Count.\n",
    "\n",
    "Identify the top 3 most purchased products.\n",
    "\n",
    "Expected Output:\n",
    "\n",
    "Product Purchase Counts:\n",
    "   Product_ID  Total_Purchases\n",
    "0       P101               14\n",
    "1       P102               11\n",
    "2       P103                9\n",
    "3       P104                1\n",
    "4       P105                3\n",
    "\n",
    "Top 3 Purchased Products:\n",
    "   Product_ID  Total_Purchases\n",
    "0       P101               14\n",
    "1       P102               11\n",
    "2       P103                9'''\n",
    "import pandas as pd\n",
    "data = {'Product_ID': ['P101', 'P102', 'P103', 'P101', 'P104', 'P102', 'P101', 'P105', 'P102', 'P103'],\n",
    "        'Purchase_Count': [5, 3, 4, 2, 1, 6, 7, 3, 2, 5]}\n",
    "df=pd.DataFrame(data)\n",
    "Total_Purchases=df.groupby('Product_ID')['Purchase_Count'].sum().reset_index(name=\"Total_Purchases\")\n",
    "print(\"Product Purchase Counts:\\n\",Total_Purchases)\n",
    "top_Purchases=Total_Purchases.sort_values(by=\"Total_Purchases\",ascending=False).head(3)\n",
    "print(\"\\nTop 3 Purchased Products:\\n\",top_Purchases)"
   ]
  },
  {
   "cell_type": "code",
   "execution_count": 45,
   "id": "71d4ea54",
   "metadata": {},
   "outputs": [
    {
     "name": "stdout",
     "output_type": "stream",
     "text": [
      "Customer Clusters:\n",
      "    Customer_ID  Total_Spend  Cluster_Label\n",
      "0            1          500              2\n",
      "1            2         1500              2\n",
      "2            3         2000              0\n",
      "3            4         2500              0\n",
      "4            5         3000              1\n",
      "5            6         3500              1\n",
      "6            7         4000              1\n",
      "7            8         1000              2\n",
      "8            9         1200              2\n",
      "9           10         2700              0\n"
     ]
    }
   ],
   "source": [
    "#5. Cluster Customers Based on Their Purchase Amounts\n",
    "'''Dataset:\n",
    "import pandas as pd\n",
    "\n",
    "data = {'Customer_ID': [1, 2, 3, 4, 5, 6, 7, 8, 9, 10],\n",
    "        'Total_Spend': [500, 1500, 2000, 2500, 3000, 3500, 4000, 1000, 1200, 2700]}\n",
    "\n",
    "df = pd.DataFrame(data)\n",
    "\n",
    "Task:\n",
    "Apply K-Means Clustering to segment customers into 3 clusters.\n",
    "\n",
    "Print the cluster labels for each customer.\n",
    "\n",
    "Expected Output:\n",
    "Customer Clusters:\n",
    "   Customer_ID  Total_Spend  Cluster_Label\n",
    "0            1          500              1\n",
    "1            2         1500              1\n",
    "2            3         2000              2\n",
    "3            4         2500              2\n",
    "4            5         3000              2\n",
    "5            6         3500              0\n",
    "6            7         4000              0\n",
    "7            8         1000              1\n",
    "8            9         1200              1\n",
    "9           10         2700              2'''\n",
    "import pandas as pd\n",
    "data = {'Customer_ID': [1, 2, 3, 4, 5, 6, 7, 8, 9, 10],\n",
    "        'Total_Spend': [500, 1500, 2000, 2500, 3000, 3500, 4000, 1000, 1200, 2700]}\n",
    "df = pd.DataFrame(data)\n",
    "from sklearn.cluster import KMeans\n",
    "model=KMeans(n_clusters=3)\n",
    "df['Cluster_Label']=model.fit_predict(df)\n",
    "print(\"Customer Clusters:\\n\",df)"
   ]
  },
  {
   "cell_type": "code",
   "execution_count": null,
   "id": "bf02fcd6",
   "metadata": {},
   "outputs": [],
   "source": []
  }
 ],
 "metadata": {
  "kernelspec": {
   "display_name": "Python 3 (ipykernel)",
   "language": "python",
   "name": "python3"
  },
  "language_info": {
   "codemirror_mode": {
    "name": "ipython",
    "version": 3
   },
   "file_extension": ".py",
   "mimetype": "text/x-python",
   "name": "python",
   "nbconvert_exporter": "python",
   "pygments_lexer": "ipython3",
   "version": "3.13.7"
  }
 },
 "nbformat": 4,
 "nbformat_minor": 5
}
