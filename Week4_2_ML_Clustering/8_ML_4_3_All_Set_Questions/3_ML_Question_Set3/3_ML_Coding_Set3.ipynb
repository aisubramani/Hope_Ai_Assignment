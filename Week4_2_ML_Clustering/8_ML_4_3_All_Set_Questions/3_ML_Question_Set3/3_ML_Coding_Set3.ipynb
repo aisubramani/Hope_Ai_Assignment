{
 "cells": [
  {
   "cell_type": "code",
   "execution_count": 51,
   "id": "aabdcd34-4ebd-440e-a5dc-c926dcfc57ff",
   "metadata": {},
   "outputs": [
    {
     "name": "stdout",
     "output_type": "stream",
     "text": [
      "Logistic Regression Accuracy: 1.00\n",
      "Decision Tree Accuracy: 1.00\n",
      "Random Forest Accuracy: 1.00\n"
     ]
    }
   ],
   "source": [
    "#1.Q: Train Logistic Regression, Decision Tree, and Random Forest on the fruits.csv dataset and compare accuracy.\n",
    "import pandas as pd\n",
    "data = {\n",
    "    \"Weight (grams)\": [150, 170, 200, 210, 180],\n",
    "    \"Size (cm)\": [7.5, 8.0, 9.0, 9.5, 8.5],\n",
    "    \"Color Score\": [0.8, 0.7, 0.6, 0.5, 0.6],\n",
    "    \"Fruit Type\": [\"Apple\", \"Apple\", \"Orange\", \"Orange\", \"Apple\"]\n",
    "}\n",
    "#data collection\n",
    "df = pd.DataFrame(data)\n",
    "df.columns\n",
    "#split X, y\n",
    "X=df[['Weight (grams)', 'Size (cm)', 'Color Score']]\n",
    "y=df['Fruit Type']\n",
    "#split train and test\n",
    "from sklearn.model_selection import train_test_split\n",
    "X_train,X_test,y_train,y_test=train_test_split(X,y,test_size=0.20,random_state=42)\n",
    "\n",
    "#model creation\n",
    "from sklearn.linear_model import LogisticRegression\n",
    "from sklearn.tree import DecisionTreeClassifier\n",
    "from sklearn.ensemble import RandomForestClassifier\n",
    "from sklearn.metrics import accuracy_score\n",
    "\n",
    "models = {\n",
    "    \"Logistic Regression\": LogisticRegression(),\n",
    "    \"Decision Tree\": DecisionTreeClassifier(),\n",
    "    \"Random Forest\": RandomForestClassifier()\n",
    "}\n",
    "# Evaluate models\n",
    "for name, model in models.items():\n",
    "    model.fit(X_train, y_train)\n",
    "    y_pred = model.predict(X_test)\n",
    "    print(f\"{name} Accuracy: {accuracy_score(y_test, y_pred):.2f}\")"
   ]
  },
  {
   "cell_type": "code",
   "execution_count": 58,
   "id": "c9667c7a",
   "metadata": {},
   "outputs": [
    {
     "name": "stdout",
     "output_type": "stream",
     "text": [
      "K-Means Cluster Counts: 2\n",
      "DBSCAN Cluster Counts: 1\n",
      "Agglomerative Cluster Counts: 2\n"
     ]
    }
   ],
   "source": [
    "#2.Apply K-Means, DBSCAN, and Agglomerative Clustering on the following dataset and print cluster counts.\n",
    "import pandas as pd\n",
    "import numpy as np\n",
    "data = {\n",
    "    \"Annual_Income\": [50, 55, 60, 65, 70],\n",
    "    \"Spending_Score\": [40, 35, 70, 75, 80]\n",
    "}\n",
    "# Define dataset\n",
    "df = pd.DataFrame(data)\n",
    "\n",
    "# Train clustering models\n",
    "from sklearn.cluster import KMeans, DBSCAN, AgglomerativeClustering\n",
    "models = {\n",
    "    \"K-Means\": KMeans(n_clusters=2, random_state=42),\n",
    "    \"DBSCAN\": DBSCAN(eps=5, min_samples=2),\n",
    "    \"Agglomerative\": AgglomerativeClustering(n_clusters=2)\n",
    "}\n",
    "\n",
    "for name, model in models.items():\n",
    "    labels = model.fit_predict(df)\n",
    "    counts = len(np.unique(labels))\n",
    "    print(f\"{name} Cluster Counts: {counts}\")"
   ]
  },
  {
   "cell_type": "code",
   "execution_count": 53,
   "id": "31536ae9",
   "metadata": {},
   "outputs": [
    {
     "name": "stdout",
     "output_type": "stream",
     "text": [
      "Linear Regression r2 score: 0.99\n",
      "Decision Tree r2 score: 0.89\n",
      "Random Forest r2 score: 0.97\n"
     ]
    }
   ],
   "source": [
    "#3.\n",
    "#The dataset below contains information about houses. \n",
    "#Train and compare three regression models (Linear Regression, Decision Tree, Random Forest) to predict Price.\n",
    "import pandas as pd\n",
    "data = {\n",
    "    \"Area (sqft)\": [850, 900, 1200, 1500, 1750, 2000, 2500, 2750, 3000],\n",
    "    \"Bedrooms\": [2, 2, 3, 3, 4, 4, 4, 5, 5],\n",
    "    \"Age (years)\": [5, 10, 8, 15, 20, 18, 12, 30, 25],\n",
    "    \"Price\": [150000, 170000, 210000, 250000, 275000, 300000, 350000, 375000, 400000]\n",
    "}\n",
    "#data collection\n",
    "df = pd.DataFrame(data)\n",
    "df.columns\n",
    "#split X, y\n",
    "X=df[['Area (sqft)', 'Bedrooms', 'Age (years)']]\n",
    "y=df['Price']\n",
    "#split train and test\n",
    "from sklearn.model_selection import train_test_split\n",
    "X_train,X_test,y_train,y_test=train_test_split(X,y,test_size=0.20,random_state=42)\n",
    "#Model Creation\n",
    "from sklearn.linear_model import LinearRegression\n",
    "from sklearn.tree import DecisionTreeRegressor\n",
    "from sklearn.ensemble import RandomForestRegressor\n",
    "from sklearn.metrics import r2_score\n",
    "models = {\n",
    "    \"Linear Regression\": LinearRegression(),\n",
    "    \"Decision Tree\": DecisionTreeRegressor(),\n",
    "    \"Random Forest\": RandomForestRegressor()\n",
    "}\n",
    "# Train & evaluate\n",
    "for name, model in models.items():\n",
    "    model.fit(X_train, y_train)\n",
    "    y_pred = model.predict(X_test)\n",
    "    r_score=r2_score(y_test,y_pred)\n",
    "    print(f\"{name} r2 score: {r_score:.2f}\")\n"
   ]
  },
  {
   "cell_type": "code",
   "execution_count": 54,
   "id": "851ae56f",
   "metadata": {},
   "outputs": [
    {
     "name": "stdout",
     "output_type": "stream",
     "text": [
      "\n",
      "Decision Tree\n",
      "    Credit Score  Income ($)  Loan Amount Loan Status\n",
      "7           550       30000        20000    Rejected\n",
      "1           650       50000        25000    Approved\n",
      "\n",
      "Random Forest\n",
      "    Credit Score  Income ($)  Loan Amount Loan Status\n",
      "7           550       30000        20000    Rejected\n",
      "1           650       50000        25000    Approved\n"
     ]
    }
   ],
   "source": [
    "#4.Decision Tree, Random Forest) to predict if a loan will be approved (1) or rejected (0).\n",
    "data = {\n",
    "    \"Credit Score\": [600, 650, 700, 750, 800, 850, 500, 550, 580],\n",
    "    \"Income ($)\": [40000, 50000, 60000, 80000, 100000, 120000, 25000, 30000, 35000],\n",
    "    \"Loan Amount\": [20000, 25000, 30000, 35000, 40000, 45000, 15000, 20000, 22000],\n",
    "    \"Approval\": [0, 0, 1, 1, 1, 1, 0, 0, 1]\n",
    "}\n",
    "#data collection\n",
    "import pandas as pd\n",
    "df = pd.DataFrame(data)\n",
    "df.columns\n",
    "#split X, y\n",
    "X=df[['Credit Score', 'Income ($)', 'Loan Amount']]\n",
    "y=df['Approval']\n",
    "#split train and test\n",
    "from sklearn.model_selection import train_test_split\n",
    "X_train,X_test,y_train,y_test=train_test_split(X,y,test_size=0.20,random_state=42)\n",
    "\n",
    "#model creation\n",
    "from sklearn.tree import DecisionTreeClassifier\n",
    "from sklearn.ensemble import RandomForestClassifier\n",
    "\n",
    "models = {\n",
    "    \"Decision Tree\": DecisionTreeClassifier(),\n",
    "    \"Random Forest\": RandomForestClassifier()\n",
    "}\n",
    "# Print models result\n",
    "for name, model in models.items():\n",
    "    model.fit(X_train, y_train)\n",
    "    y_pred = model.predict(X_test)\n",
    "    status_map = {0: \"Rejected\", 1: \"Approved\"}\n",
    "    temp_X = X_test.copy()\n",
    "    temp_X[\"Loan Status\"] = [status_map[val] for val in y_pred]\n",
    "    print(f\"\\n{name}\\n\", temp_X)"
   ]
  },
  {
   "cell_type": "code",
   "execution_count": 55,
   "id": "77956dd8",
   "metadata": {},
   "outputs": [
    {
     "name": "stdout",
     "output_type": "stream",
     "text": [
      "\n",
      "SVM Model, r2 score: 1.00 \n",
      "    Transaction Amount ($)  Transaction Type Loan Status\n",
      "7                   50000                 1       Fraud\n",
      "1                     500                 1        Good\n",
      "\n",
      "Logistic Regression Model, r2 score: 1.00 \n",
      "    Transaction Amount ($)  Transaction Type Loan Status\n",
      "7                   50000                 1       Fraud\n",
      "1                     500                 1        Good\n",
      "\n",
      "Random Forest Model, r2 score: 1.00 \n",
      "    Transaction Amount ($)  Transaction Type Loan Status\n",
      "7                   50000                 1       Fraud\n",
      "1                     500                 1        Good\n"
     ]
    }
   ],
   "source": [
    "#5.Classify transactions as fraudulent (1) or non-fraudulent (0) using three classification models (SVM, Logistic Regression, Random Forest).\n",
    "data = {\n",
    "    \"Transaction Amount ($)\": [10, 500, 3000, 50, 7000, 25000, 100, 50000, 200],\n",
    "    \"Transaction Type\": [0, 1, 1, 0, 1, 1, 0, 1, 0],  # 0: Normal, 1: High-Risk\n",
    "    \"Fraud\": [0, 0, 1, 0, 1, 1, 0, 1, 0]\n",
    "}\n",
    "#data collection\n",
    "import pandas as pd\n",
    "df = pd.DataFrame(data)\n",
    "df.columns\n",
    "#split X, y\n",
    "X = df.drop(columns=[\"Fraud\"])\n",
    "y = df[\"Fraud\"]\n",
    "#split train and test\n",
    "from sklearn.model_selection import train_test_split\n",
    "X_train,X_test,y_train,y_test=train_test_split(X,y,test_size=0.20,random_state=42)\n",
    "\n",
    "#model creation\n",
    "from sklearn.svm import SVC\n",
    "from sklearn.linear_model import LogisticRegression\n",
    "from sklearn.tree import DecisionTreeClassifier\n",
    "\n",
    "models = {\n",
    "    \"SVM\": SVC(),\n",
    "    \"Logistic Regression\": LogisticRegression(),\n",
    "    \"Random Forest\": RandomForestClassifier()\n",
    "}\n",
    "# Print models result\n",
    "for name, model in models.items():\n",
    "    model.fit(X_train, y_train)\n",
    "    y_pred = model.predict(X_test)\n",
    "    r_score=r2_score(y_test,y_pred)\n",
    "    status_map = {0: \"Good\", 1: \"Fraud\"}\n",
    "    temp_X = X_test.copy()\n",
    "    temp_X[\"Loan Status\"] = [status_map[val] for val in y_pred]\n",
    "    print(f\"\\n{name} Model, r2 score: {r_score:.2f} \\n\", temp_X)"
   ]
  },
  {
   "cell_type": "code",
   "execution_count": null,
   "id": "5dcd44b0-95f2-427a-bfaa-51a1ea00027e",
   "metadata": {},
   "outputs": [],
   "source": []
  }
 ],
 "metadata": {
  "kernelspec": {
   "display_name": "Python 3 (ipykernel)",
   "language": "python",
   "name": "python3"
  },
  "language_info": {
   "codemirror_mode": {
    "name": "ipython",
    "version": 3
   },
   "file_extension": ".py",
   "mimetype": "text/x-python",
   "name": "python",
   "nbconvert_exporter": "python",
   "pygments_lexer": "ipython3",
   "version": "3.13.7"
  }
 },
 "nbformat": 4,
 "nbformat_minor": 5
}
