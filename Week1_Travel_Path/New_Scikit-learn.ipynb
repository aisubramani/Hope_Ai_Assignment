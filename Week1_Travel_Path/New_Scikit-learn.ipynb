{
 "cells": [
  {
   "cell_type": "code",
   "execution_count": 2,
   "id": "57d0382f-4ae0-4cfc-a07f-c33fc552ab1f",
   "metadata": {},
   "outputs": [
    {
     "name": "stdout",
     "output_type": "stream",
     "text": [
      "['cat']\n",
      "['dog']\n",
      "['tiger']\n"
     ]
    }
   ],
   "source": [
    "from sklearn.tree import DecisionTreeClassifier\n",
    "X_train = [[1, 2], [3, 4], [5, 6]]\n",
    "y_train = [\"cat\", \"dog\", \"tiger\"]  # Error: String labels not allowed\n",
    "model = DecisionTreeClassifier()\n",
    "model.fit(X_train, y_train)\n",
    "print(model.predict([[1, 2]]))  \n",
    "print(model.predict([[3, 4]]))  \n",
    "print(model.predict([[5, 6]]))"
   ]
  },
  {
   "cell_type": "code",
   "execution_count": 11,
   "id": "b1fe2577-c999-4064-aee6-bb1ad3e3fe85",
   "metadata": {},
   "outputs": [
    {
     "name": "stdout",
     "output_type": "stream",
     "text": [
      "['yes']\n"
     ]
    }
   ],
   "source": [
    "from sklearn.linear_model import LogisticRegression\n",
    "X_train = [[1, 2], [3, 4], [5, 6]]\n",
    "dataset = pd.DataFrame(X_train)\n",
    "y_train = [\"yes\", \"no\", \"yes\"]  # Error: LogisticRegression expects numerical labels\n",
    "model = LogisticRegression()\n",
    "model.fit(dataset, y_train)\n",
    "print(model.predict([[2, 3]]))"
   ]
  },
  {
   "cell_type": "code",
   "execution_count": 5,
   "id": "7f5f48f3-09d3-4461-9ca7-a1c4e098cb0b",
   "metadata": {},
   "outputs": [
    {
     "name": "stdout",
     "output_type": "stream",
     "text": [
      "Prediction for email with 200 words: spam\n"
     ]
    },
    {
     "name": "stderr",
     "output_type": "stream",
     "text": [
      "C:\\Anaconda3\\envs\\hopeai\\Lib\\site-packages\\sklearn\\utils\\validation.py:2749: UserWarning: X does not have valid feature names, but LogisticRegression was fitted with feature names\n",
      "  warnings.warn(\n"
     ]
    }
   ],
   "source": [
    "import pandas as pd\n",
    "data = {'word_count': [100, 150, 200, 120, 180, 220], \n",
    "        'is_spam': ['ham', 'spam', 'spam', 'ham', 'spam', 'spam']}\n",
    "dataset = pd.DataFrame(data)\n",
    "X=dataset[['word_count']]\n",
    "y=dataset['is_spam']\n",
    "from sklearn.linear_model import LogisticRegression\n",
    "classifier=LogisticRegression()\n",
    "classifier.fit(X, y)\n",
    "predicted2=classifier.predict([[200]])\n",
    "print(f\"Prediction for email with 200 words: {predicted2[0]}\")"
   ]
  },
  {
   "cell_type": "code",
   "execution_count": 12,
   "id": "accef35e-d50e-4573-bcb8-1808edaab894",
   "metadata": {},
   "outputs": [
    {
     "name": "stdout",
     "output_type": "stream",
     "text": [
      "['Spam' 'Not Spam' 'Spam' 'Not Spam']\n"
     ]
    }
   ],
   "source": [
    "import pandas as pd\n",
    "from sklearn.ensemble import RandomForestClassifier\n",
    "\n",
    "# Features with categorical column\n",
    "df = pd.DataFrame({\n",
    "    \"Color\": [\"Red\", \"Blue\", \"Green\", \"Red\"],\n",
    "    \"Size\": [\"S\", \"M\", \"L\", \"XL\"],\n",
    "    \"Label\": [\"Spam\", \"Not Spam\", \"Spam\", \"Not Spam\"]\n",
    "})\n",
    "\n",
    "X = pd.get_dummies(df[[\"Color\", \"Size\"]])  # Encode features\n",
    "y = df[\"Label\"]  # Target can stay as string\n",
    "\n",
    "model = RandomForestClassifier()\n",
    "model.fit(X, y)\n",
    "\n",
    "print(model.predict(X))"
   ]
  },
  {
   "cell_type": "code",
   "execution_count": null,
   "id": "b34d2fdc-e36a-4891-a118-179c0ba8891e",
   "metadata": {},
   "outputs": [],
   "source": []
  }
 ],
 "metadata": {
  "kernelspec": {
   "display_name": "Python 3 (ipykernel)",
   "language": "python",
   "name": "python3"
  },
  "language_info": {
   "codemirror_mode": {
    "name": "ipython",
    "version": 3
   },
   "file_extension": ".py",
   "mimetype": "text/x-python",
   "name": "python",
   "nbconvert_exporter": "python",
   "pygments_lexer": "ipython3",
   "version": "3.13.7"
  }
 },
 "nbformat": 4,
 "nbformat_minor": 5
}
