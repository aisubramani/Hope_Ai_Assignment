{
 "cells": [
  {
   "cell_type": "markdown",
   "id": "35eee8e1-44ca-43e1-8112-7fd958ba0f42",
   "metadata": {},
   "source": [
    "# <h1 style=\"color:red\"> Hypothesis Test </h1>\n",
    "<h2 style=\"color:purple\">1️⃣ Null Hypothesis (H₀) </h2>\n",
    "The null hypothesis is a statement that there is no effect or no difference.\n",
    "H₀: \"The new teaching method does not improve student scores.\"\n",
    "<h2 style=\"color:purple\">2️⃣ Alternate Hypothesis (H₁) </h2>\n",
    "The alternate hypothesis is a statement that there is an effect or a difference.\n",
    "H₁: \"The new teaching method improves student scores.\"\n",
    "<h2 style=\"color:purple\">3️⃣ Example in Statistics </h2>\n",
    "Imagine you have two groups of students:\n",
    "\n",
    "1. Group A: Traditional method\n",
    "\n",
    "2. Group B: New method"
   ]
  },
  {
   "cell_type": "code",
   "execution_count": 1,
   "id": "678809cd-37d5-4067-8a93-d6e95bebc489",
   "metadata": {},
   "outputs": [
    {
     "name": "stdout",
     "output_type": "stream",
     "text": [
      "t-statistic: 5.2712582484652195\n",
      "one-tailed p-value: 0.00037707209397450623\n",
      "Reject H0: The new teaching method significantly improves scores.\n"
     ]
    }
   ],
   "source": [
    "import numpy as np\n",
    "from scipy import stats\n",
    "\n",
    "# Scores of two groups of students\n",
    "traditional_method = np.array([70, 72, 68, 65, 74])\n",
    "new_method = np.array([78, 80, 82, 77, 79])\n",
    "\n",
    "# Null Hypothesis H0: No difference in means (traditional = new)\n",
    "# Alternate Hypothesis H1: New method improves scores (mean_new > mean_traditional)\n",
    "\n",
    "# Perform independent two-sample t-test (one-tailed)\n",
    "t_stat, p_value = stats.ttest_ind(new_method, traditional_method)\n",
    "\n",
    "# For one-tailed test, divide p-value by 2\n",
    "p_value_one_tailed = p_value / 2\n",
    "\n",
    "print(\"t-statistic:\", t_stat)\n",
    "print(\"one-tailed p-value:\", p_value_one_tailed)\n",
    "\n",
    "# Decision\n",
    "alpha = 0.05  # significance level\n",
    "if (t_stat > 0) and (p_value_one_tailed < alpha):\n",
    "    print(\"Reject H0: The new teaching method significantly improves scores.\")\n",
    "else:\n",
    "    print(\"Fail to reject H0: No significant improvement detected.\")\n"
   ]
  },
  {
   "cell_type": "code",
   "execution_count": null,
   "id": "a4128240-7435-4eb5-8054-5e6a4ce2b808",
   "metadata": {},
   "outputs": [],
   "source": []
  }
 ],
 "metadata": {
  "kernelspec": {
   "display_name": "Python 3 (ipykernel)",
   "language": "python",
   "name": "python3"
  },
  "language_info": {
   "codemirror_mode": {
    "name": "ipython",
    "version": 3
   },
   "file_extension": ".py",
   "mimetype": "text/x-python",
   "name": "python",
   "nbconvert_exporter": "python",
   "pygments_lexer": "ipython3",
   "version": "3.13.7"
  }
 },
 "nbformat": 4,
 "nbformat_minor": 5
}
