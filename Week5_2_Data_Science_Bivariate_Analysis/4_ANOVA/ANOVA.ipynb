{
 "cells": [
  {
   "cell_type": "markdown",
   "id": "35eee8e1-44ca-43e1-8112-7fd958ba0f42",
   "metadata": {},
   "source": [
    "# <h1 style=\"color:red\"> 🧠 What is ANOVA? </h1>\n",
    "<b>ANOVA (Analysis of Variance)</b> helps us check if different groups have different averages (means).\n",
    "\n",
    "“Are all group means the same, or is at least one different?”\n",
    "<h2 style=\"color:purple\">1️⃣ One-Way ANOVA (Single Independent Variable) </h2>\n",
    "👉 Use when you have one independent variable (one factor) and one dependent variable.\n",
    "\n",
    "🎯 Example:\n",
    "| Teaching Method | Scores     |\n",
    "| --------------- | ---------- |\n",
    "| Method A        | 80, 85, 90 |\n",
    "| Method B        | 78, 82, 88 |\n",
    "| Method C        | 70, 75, 78 |\n",
    "\n",
    "<b>Independent variable:</b> Teaching Method (A, B, C)\n",
    "\n",
    "<b>Dependent variable:</b> Student Score\n",
    "\n",
    "<b>Question:</b>\n",
    "Do students score differently based on the teaching method?\n",
    "\n",
    "🧩 If p-value < 0.05, → yes, at least one group mean is different.\n",
    "\n",
    "🐍 Python Example (One-Way ANOVA)"
   ]
  },
  {
   "cell_type": "code",
   "execution_count": 8,
   "id": "a4128240-7435-4eb5-8054-5e6a4ce2b808",
   "metadata": {},
   "outputs": [
    {
     "name": "stdout",
     "output_type": "stream",
     "text": [
      "F = 4.245000000000001  P = 0.07099840540243904\n"
     ]
    },
    {
     "data": {
      "text/plain": [
       "A    85.000000\n",
       "B    82.666667\n",
       "C    74.333333\n",
       "dtype: float64"
      ]
     },
     "execution_count": 8,
     "metadata": {},
     "output_type": "execute_result"
    }
   ],
   "source": [
    "from scipy import stats\n",
    "import pandas as pd\n",
    "\n",
    "data={'A' : [80, 85, 90],\n",
    "'B' : [78, 82, 88],\n",
    "'C' :[70, 75, 78]}\n",
    "df=pd.DataFrame(data)\n",
    "\n",
    "f, p = stats.f_oneway(df['A'], df['B'], df['C'])\n",
    "print(\"F =\", f, \" P =\", p)\n",
    "df.mean()"
   ]
  },
  {
   "cell_type": "markdown",
   "id": "3b46f01c-3943-40d1-8448-6348d8ba3953",
   "metadata": {},
   "source": [
    "<h1 style=\"color:red\">P = 0.0709 Accept H₀ Null hypothesis </h1> \n",
    "<b>There is No significant difference between A B C teaching method</b>\n",
    "\n",
    "\n",
    "Compare p-value\n",
    "\n",
    "1. If p < 0.05 → Reject H₀ Null hypothesis → Accept H₁ alteante hypothesis\n",
    "\n",
    "2. If p ≥ 0.05 → Accept H₀ Null hypothesis → Reject H₁ alteante hypothesis"
   ]
  },
  {
   "cell_type": "markdown",
   "id": "a5c4de9d-78d6-4782-bbb8-709f6e47d982",
   "metadata": {},
   "source": [
    "<h2 style=\"color:purple\">2️⃣ Two-Way ANOVA (Two Independent Variables) </h2>\n",
    "👉 Use when you have two independent variables (Factors). \n",
    "one dependent variable\n",
    "\n",
    "It checks:\n",
    "1. Effect of Factor A\n",
    "\n",
    "2. Effect of Factor B\n",
    "\n",
    "3. Interaction effect between A and B\n",
    "\n",
    "🎯 Example:\n",
    "You want to see if student scores depend on:\n",
    "\n",
    "Teaching Method (A, B, C)\n",
    "\n",
    "Gender (Male, Female)\n",
    "\n",
    "| Method | Gender | Score |\n",
    "| ------ | ------ | ----- |\n",
    "| A      | Male   | 85    |\n",
    "| A      | Female | 90    |\n",
    "| B      | Male   | 80    |\n",
    "| B      | Female | 88    |\n",
    "| C      | Male   | 70    |\n",
    "| C      | Female | 78    |\n",
    "\n",
    "Independent variables:\n",
    "\n",
    "Method\n",
    "\n",
    "Gender\n",
    "\n",
    "Dependent variable:\n",
    "\n",
    "Score\n",
    "\n",
    "🧩 Questions Two-Way ANOVA answers:\n",
    "\n",
    "1. Does method affect score?\n",
    "\n",
    "2. Does gender affect score?\n",
    "\n",
    "3. Does the combination (method × gender) affect score?\n",
    "\n",
    "🐍 Python Example (Two-Way ANOVA)"
   ]
  },
  {
   "cell_type": "code",
   "execution_count": 16,
   "id": "14372064-ad98-4bfb-a751-fa129e20b29a",
   "metadata": {},
   "outputs": [
    {
     "data": {
      "text/html": [
       "<div>\n",
       "<style scoped>\n",
       "    .dataframe tbody tr th:only-of-type {\n",
       "        vertical-align: middle;\n",
       "    }\n",
       "\n",
       "    .dataframe tbody tr th {\n",
       "        vertical-align: top;\n",
       "    }\n",
       "\n",
       "    .dataframe thead th {\n",
       "        text-align: right;\n",
       "    }\n",
       "</style>\n",
       "<table border=\"1\" class=\"dataframe\">\n",
       "  <thead>\n",
       "    <tr style=\"text-align: right;\">\n",
       "      <th></th>\n",
       "      <th>sum_sq</th>\n",
       "      <th>df</th>\n",
       "      <th>F</th>\n",
       "      <th>PR(&gt;F)</th>\n",
       "    </tr>\n",
       "  </thead>\n",
       "  <tbody>\n",
       "    <tr>\n",
       "      <th>C(method_col)</th>\n",
       "      <td>332.666667</td>\n",
       "      <td>2.0</td>\n",
       "      <td>133.066667</td>\n",
       "      <td>0.000011</td>\n",
       "    </tr>\n",
       "    <tr>\n",
       "      <th>C(gender_col)</th>\n",
       "      <td>126.750000</td>\n",
       "      <td>1.0</td>\n",
       "      <td>101.400000</td>\n",
       "      <td>0.000056</td>\n",
       "    </tr>\n",
       "    <tr>\n",
       "      <th>C(method_col):C(gender_col)</th>\n",
       "      <td>2.000000</td>\n",
       "      <td>2.0</td>\n",
       "      <td>0.800000</td>\n",
       "      <td>0.492054</td>\n",
       "    </tr>\n",
       "    <tr>\n",
       "      <th>Residual</th>\n",
       "      <td>7.500000</td>\n",
       "      <td>6.0</td>\n",
       "      <td>NaN</td>\n",
       "      <td>NaN</td>\n",
       "    </tr>\n",
       "  </tbody>\n",
       "</table>\n",
       "</div>"
      ],
      "text/plain": [
       "                                 sum_sq   df           F    PR(>F)\n",
       "C(method_col)                332.666667  2.0  133.066667  0.000011\n",
       "C(gender_col)                126.750000  1.0  101.400000  0.000056\n",
       "C(method_col):C(gender_col)    2.000000  2.0    0.800000  0.492054\n",
       "Residual                       7.500000  6.0         NaN       NaN"
      ]
     },
     "execution_count": 16,
     "metadata": {},
     "output_type": "execute_result"
    }
   ],
   "source": [
    "import pandas as pd\n",
    "import statsmodels.api as sm\n",
    "from statsmodels.formula.api import ols\n",
    "\n",
    "# Create dataframe\n",
    "df = pd.DataFrame({\n",
    "    'method_col': ['A','A','B','B','C','C'] * 2,\n",
    "    'gender_col': ['Male','Female'] * 6,\n",
    "    'score_col': [85,90,80,88,70,78,83,89,79,86,72,77]\n",
    "})\n",
    "\n",
    "# Fit two-way ANOVA model\n",
    "model = ols('score_col ~ C(method_col) + C(gender_col) + C(method_col):C(gender_col)', data=df).fit()\n",
    "anova_table = sm.stats.anova_lm(model, typ=2)\n",
    "nova_table"
   ]
  },
  {
   "cell_type": "code",
   "execution_count": null,
   "id": "3f1595d1-cb1f-422e-8e57-3ea6bb50ff13",
   "metadata": {},
   "outputs": [],
   "source": [
    "| Term                    | Meaning                | Interpretation                                             |\n",
    "| ----------------------- | ---------------------- | ---------------------------------------------------------- |\n",
    "| **C(Method)**           | Teaching method effect | ✅ Significant (p < 0.05) → Methods differ in mean score    |\n",
    "| **C(Gender)**           | Gender effect          | ✅ Significant (p < 0.05) → Gender influences scores        |\n",
    "| **C(Method):C(Gender)** | Interaction            | ❌ Not significant → Method effect doesn’t depend on gender |\n"
   ]
  }
 ],
 "metadata": {
  "kernelspec": {
   "display_name": "Python 3 (ipykernel)",
   "language": "python",
   "name": "python3"
  },
  "language_info": {
   "codemirror_mode": {
    "name": "ipython",
    "version": 3
   },
   "file_extension": ".py",
   "mimetype": "text/x-python",
   "name": "python",
   "nbconvert_exporter": "python",
   "pygments_lexer": "ipython3",
   "version": "3.13.7"
  }
 },
 "nbformat": 4,
 "nbformat_minor": 5
}
