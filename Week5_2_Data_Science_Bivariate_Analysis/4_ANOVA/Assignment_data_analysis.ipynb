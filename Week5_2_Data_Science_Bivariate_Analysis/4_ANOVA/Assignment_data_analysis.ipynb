{
 "cells": [
  {
   "cell_type": "markdown",
   "id": "b1b4cd8a-0298-4f24-9b77-47deb40cb4a6",
   "metadata": {},
   "source": [
    "# <h1 style=\"color:red\"> Inferential Analysis - Question and Answer with Python </h1>\n",
    "<b>Justification or answer summary needed for every question</b> \n",
    "\n",
    "<h2 style=\"color:purple\">Download the dataset </h2>\n",
    "<h4 style=\"color:Blue\"> Data Collection </h4>"
   ]
  },
  {
   "cell_type": "code",
   "execution_count": 123,
   "id": "f7cdb420-8bfc-4b73-9712-8e718b4a65d0",
   "metadata": {},
   "outputs": [
    {
     "data": {
      "text/html": [
       "<div>\n",
       "<style scoped>\n",
       "    .dataframe tbody tr th:only-of-type {\n",
       "        vertical-align: middle;\n",
       "    }\n",
       "\n",
       "    .dataframe tbody tr th {\n",
       "        vertical-align: top;\n",
       "    }\n",
       "\n",
       "    .dataframe thead th {\n",
       "        text-align: right;\n",
       "    }\n",
       "</style>\n",
       "<table border=\"1\" class=\"dataframe\">\n",
       "  <thead>\n",
       "    <tr style=\"text-align: right;\">\n",
       "      <th></th>\n",
       "      <th>sl_no</th>\n",
       "      <th>gender</th>\n",
       "      <th>ssc_p</th>\n",
       "      <th>ssc_b</th>\n",
       "      <th>hsc_p</th>\n",
       "      <th>hsc_b</th>\n",
       "      <th>hsc_s</th>\n",
       "      <th>degree_p</th>\n",
       "      <th>degree_t</th>\n",
       "      <th>workex</th>\n",
       "      <th>etest_p</th>\n",
       "      <th>specialisation</th>\n",
       "      <th>mba_p</th>\n",
       "      <th>status</th>\n",
       "      <th>salary</th>\n",
       "    </tr>\n",
       "  </thead>\n",
       "  <tbody>\n",
       "    <tr>\n",
       "      <th>0</th>\n",
       "      <td>1</td>\n",
       "      <td>M</td>\n",
       "      <td>67.00</td>\n",
       "      <td>Others</td>\n",
       "      <td>91.00</td>\n",
       "      <td>Others</td>\n",
       "      <td>Commerce</td>\n",
       "      <td>58.00</td>\n",
       "      <td>Sci&amp;Tech</td>\n",
       "      <td>No</td>\n",
       "      <td>55.0</td>\n",
       "      <td>Mkt&amp;HR</td>\n",
       "      <td>58.80</td>\n",
       "      <td>Placed</td>\n",
       "      <td>270000.0</td>\n",
       "    </tr>\n",
       "    <tr>\n",
       "      <th>1</th>\n",
       "      <td>2</td>\n",
       "      <td>M</td>\n",
       "      <td>79.33</td>\n",
       "      <td>Central</td>\n",
       "      <td>78.33</td>\n",
       "      <td>Others</td>\n",
       "      <td>Science</td>\n",
       "      <td>77.48</td>\n",
       "      <td>Sci&amp;Tech</td>\n",
       "      <td>Yes</td>\n",
       "      <td>86.5</td>\n",
       "      <td>Mkt&amp;Fin</td>\n",
       "      <td>66.28</td>\n",
       "      <td>Placed</td>\n",
       "      <td>200000.0</td>\n",
       "    </tr>\n",
       "    <tr>\n",
       "      <th>2</th>\n",
       "      <td>3</td>\n",
       "      <td>M</td>\n",
       "      <td>65.00</td>\n",
       "      <td>Central</td>\n",
       "      <td>68.00</td>\n",
       "      <td>Central</td>\n",
       "      <td>Arts</td>\n",
       "      <td>64.00</td>\n",
       "      <td>Comm&amp;Mgmt</td>\n",
       "      <td>No</td>\n",
       "      <td>75.0</td>\n",
       "      <td>Mkt&amp;Fin</td>\n",
       "      <td>57.80</td>\n",
       "      <td>Placed</td>\n",
       "      <td>250000.0</td>\n",
       "    </tr>\n",
       "    <tr>\n",
       "      <th>3</th>\n",
       "      <td>4</td>\n",
       "      <td>M</td>\n",
       "      <td>56.00</td>\n",
       "      <td>Central</td>\n",
       "      <td>52.00</td>\n",
       "      <td>Central</td>\n",
       "      <td>Science</td>\n",
       "      <td>52.00</td>\n",
       "      <td>Sci&amp;Tech</td>\n",
       "      <td>No</td>\n",
       "      <td>66.0</td>\n",
       "      <td>Mkt&amp;HR</td>\n",
       "      <td>59.43</td>\n",
       "      <td>Not Placed</td>\n",
       "      <td>NaN</td>\n",
       "    </tr>\n",
       "    <tr>\n",
       "      <th>4</th>\n",
       "      <td>5</td>\n",
       "      <td>M</td>\n",
       "      <td>85.80</td>\n",
       "      <td>Central</td>\n",
       "      <td>73.60</td>\n",
       "      <td>Central</td>\n",
       "      <td>Commerce</td>\n",
       "      <td>73.30</td>\n",
       "      <td>Comm&amp;Mgmt</td>\n",
       "      <td>No</td>\n",
       "      <td>96.8</td>\n",
       "      <td>Mkt&amp;Fin</td>\n",
       "      <td>55.50</td>\n",
       "      <td>Placed</td>\n",
       "      <td>425000.0</td>\n",
       "    </tr>\n",
       "    <tr>\n",
       "      <th>...</th>\n",
       "      <td>...</td>\n",
       "      <td>...</td>\n",
       "      <td>...</td>\n",
       "      <td>...</td>\n",
       "      <td>...</td>\n",
       "      <td>...</td>\n",
       "      <td>...</td>\n",
       "      <td>...</td>\n",
       "      <td>...</td>\n",
       "      <td>...</td>\n",
       "      <td>...</td>\n",
       "      <td>...</td>\n",
       "      <td>...</td>\n",
       "      <td>...</td>\n",
       "      <td>...</td>\n",
       "    </tr>\n",
       "    <tr>\n",
       "      <th>210</th>\n",
       "      <td>211</td>\n",
       "      <td>M</td>\n",
       "      <td>80.60</td>\n",
       "      <td>Others</td>\n",
       "      <td>82.00</td>\n",
       "      <td>Others</td>\n",
       "      <td>Commerce</td>\n",
       "      <td>77.60</td>\n",
       "      <td>Comm&amp;Mgmt</td>\n",
       "      <td>No</td>\n",
       "      <td>91.0</td>\n",
       "      <td>Mkt&amp;Fin</td>\n",
       "      <td>74.49</td>\n",
       "      <td>Placed</td>\n",
       "      <td>400000.0</td>\n",
       "    </tr>\n",
       "    <tr>\n",
       "      <th>211</th>\n",
       "      <td>212</td>\n",
       "      <td>M</td>\n",
       "      <td>58.00</td>\n",
       "      <td>Others</td>\n",
       "      <td>60.00</td>\n",
       "      <td>Others</td>\n",
       "      <td>Science</td>\n",
       "      <td>72.00</td>\n",
       "      <td>Sci&amp;Tech</td>\n",
       "      <td>No</td>\n",
       "      <td>74.0</td>\n",
       "      <td>Mkt&amp;Fin</td>\n",
       "      <td>53.62</td>\n",
       "      <td>Placed</td>\n",
       "      <td>275000.0</td>\n",
       "    </tr>\n",
       "    <tr>\n",
       "      <th>212</th>\n",
       "      <td>213</td>\n",
       "      <td>M</td>\n",
       "      <td>67.00</td>\n",
       "      <td>Others</td>\n",
       "      <td>67.00</td>\n",
       "      <td>Others</td>\n",
       "      <td>Commerce</td>\n",
       "      <td>73.00</td>\n",
       "      <td>Comm&amp;Mgmt</td>\n",
       "      <td>Yes</td>\n",
       "      <td>59.0</td>\n",
       "      <td>Mkt&amp;Fin</td>\n",
       "      <td>69.72</td>\n",
       "      <td>Placed</td>\n",
       "      <td>295000.0</td>\n",
       "    </tr>\n",
       "    <tr>\n",
       "      <th>213</th>\n",
       "      <td>214</td>\n",
       "      <td>F</td>\n",
       "      <td>74.00</td>\n",
       "      <td>Others</td>\n",
       "      <td>66.00</td>\n",
       "      <td>Others</td>\n",
       "      <td>Commerce</td>\n",
       "      <td>58.00</td>\n",
       "      <td>Comm&amp;Mgmt</td>\n",
       "      <td>No</td>\n",
       "      <td>70.0</td>\n",
       "      <td>Mkt&amp;HR</td>\n",
       "      <td>60.23</td>\n",
       "      <td>Placed</td>\n",
       "      <td>204000.0</td>\n",
       "    </tr>\n",
       "    <tr>\n",
       "      <th>214</th>\n",
       "      <td>215</td>\n",
       "      <td>M</td>\n",
       "      <td>62.00</td>\n",
       "      <td>Central</td>\n",
       "      <td>58.00</td>\n",
       "      <td>Others</td>\n",
       "      <td>Science</td>\n",
       "      <td>53.00</td>\n",
       "      <td>Comm&amp;Mgmt</td>\n",
       "      <td>No</td>\n",
       "      <td>89.0</td>\n",
       "      <td>Mkt&amp;HR</td>\n",
       "      <td>60.22</td>\n",
       "      <td>Not Placed</td>\n",
       "      <td>NaN</td>\n",
       "    </tr>\n",
       "  </tbody>\n",
       "</table>\n",
       "<p>215 rows × 15 columns</p>\n",
       "</div>"
      ],
      "text/plain": [
       "     sl_no gender  ssc_p    ssc_b  hsc_p    hsc_b  ... workex  etest_p specialisation  mba_p      status    salary\n",
       "0        1      M  67.00   Others  91.00   Others  ...     No     55.0         Mkt&HR  58.80      Placed  270000.0\n",
       "1        2      M  79.33  Central  78.33   Others  ...    Yes     86.5        Mkt&Fin  66.28      Placed  200000.0\n",
       "2        3      M  65.00  Central  68.00  Central  ...     No     75.0        Mkt&Fin  57.80      Placed  250000.0\n",
       "3        4      M  56.00  Central  52.00  Central  ...     No     66.0         Mkt&HR  59.43  Not Placed       NaN\n",
       "4        5      M  85.80  Central  73.60  Central  ...     No     96.8        Mkt&Fin  55.50      Placed  425000.0\n",
       "..     ...    ...    ...      ...    ...      ...  ...    ...      ...            ...    ...         ...       ...\n",
       "210    211      M  80.60   Others  82.00   Others  ...     No     91.0        Mkt&Fin  74.49      Placed  400000.0\n",
       "211    212      M  58.00   Others  60.00   Others  ...     No     74.0        Mkt&Fin  53.62      Placed  275000.0\n",
       "212    213      M  67.00   Others  67.00   Others  ...    Yes     59.0        Mkt&Fin  69.72      Placed  295000.0\n",
       "213    214      F  74.00   Others  66.00   Others  ...     No     70.0         Mkt&HR  60.23      Placed  204000.0\n",
       "214    215      M  62.00  Central  58.00   Others  ...     No     89.0         Mkt&HR  60.22  Not Placed       NaN\n",
       "\n",
       "[215 rows x 15 columns]"
      ]
     },
     "execution_count": 123,
     "metadata": {},
     "output_type": "execute_result"
    }
   ],
   "source": [
    "import pandas as pd\n",
    "import numpy as np\n",
    "dataset=pd.read_csv(\"Placement.csv\")\n",
    "dataset"
   ]
  },
  {
   "cell_type": "code",
   "execution_count": 124,
   "id": "1865dd2d-aa56-43fc-a795-e301832dd01b",
   "metadata": {},
   "outputs": [
    {
     "data": {
      "text/plain": [
       "Index(['sl_no', 'gender', 'ssc_p', 'ssc_b', 'hsc_p', 'hsc_b', 'hsc_s',\n",
       "       'degree_p', 'degree_t', 'workex', 'etest_p', 'specialisation', 'mba_p',\n",
       "       'status', 'salary'],\n",
       "      dtype='object')"
      ]
     },
     "execution_count": 124,
     "metadata": {},
     "output_type": "execute_result"
    }
   ],
   "source": [
    "dataset.columns"
   ]
  },
  {
   "cell_type": "markdown",
   "id": "8ab4c719-de6e-4e85-a710-5eeda5dabfcb",
   "metadata": {},
   "source": [
    "<h3 style=\"color:green\">✅  The Placement dataset has 215 rows × 15 columns.</h3>"
   ]
  },
  {
   "cell_type": "markdown",
   "id": "cc23e2f1-1ba3-4387-a54a-ba58be36e0aa",
   "metadata": {},
   "source": [
    "<h2 style=\"color:purple\">❓ 1. Replace the NaN values with correct value. And justify why you have\n",
    "chosen the same.</h2>"
   ]
  },
  {
   "cell_type": "code",
   "execution_count": 125,
   "id": "77af1a0c-a20d-4416-bd5d-cd50441d6e39",
   "metadata": {},
   "outputs": [
    {
     "data": {
      "text/plain": [
       "sl_no              0\n",
       "gender             0\n",
       "ssc_p              0\n",
       "ssc_b              0\n",
       "hsc_p              0\n",
       "hsc_b              0\n",
       "hsc_s              0\n",
       "degree_p           0\n",
       "degree_t           0\n",
       "workex             0\n",
       "etest_p            0\n",
       "specialisation     0\n",
       "mba_p              0\n",
       "status             0\n",
       "salary            67\n",
       "dtype: int64"
      ]
     },
     "execution_count": 125,
     "metadata": {},
     "output_type": "execute_result"
    }
   ],
   "source": [
    "# Check null value\n",
    "dataset.isnull().sum()"
   ]
  },
  {
   "cell_type": "markdown",
   "id": "f0eb820f-95d7-4f52-9522-39475a5ca11b",
   "metadata": {},
   "source": [
    "\n",
    "👉 In the dataset, 67 students are not placed, so their salary values are missing. Since these students did not receive a salary, we can fill the missing values with zero.\n",
    "\n",
    "Missing values can generally be handled using various methods such as:\n",
    "\n",
    "1. Mean imputation\n",
    "\n",
    "2. Median imputation\n",
    "\n",
    "3. Mode imputation\n",
    "\n",
    "4. KNN or predictive model imputation\n",
    "\n",
    "5. Constant value imputation\n",
    "\n",
    "\n",
    "In this case, we use a <b>constant value (zero)</b> because it accurately reflects that unplaced students have no salary."
   ]
  },
  {
   "cell_type": "code",
   "execution_count": 126,
   "id": "3851b1db-f0ad-426e-bfee-34bddf34910b",
   "metadata": {},
   "outputs": [
    {
     "data": {
      "text/plain": [
       "np.int64(0)"
      ]
     },
     "execution_count": 126,
     "metadata": {},
     "output_type": "execute_result"
    }
   ],
   "source": [
    "# Fill missing salary values with zero\n",
    "dataset['salary'] = dataset['salary'].fillna(0)\n",
    "#recheck null values\n",
    "dataset['salary'].isnull().sum()"
   ]
  },
  {
   "cell_type": "markdown",
   "id": "86d2b49f-ba31-4d79-9c8d-20bf60c16b32",
   "metadata": {},
   "source": [
    "<h3 style=\"color:green\"> ✅ Replaced-67 null values to zero in the salary column </h3>"
   ]
  },
  {
   "cell_type": "markdown",
   "id": "d0d94813-6903-4f23-b297-47e55a9c0a0c",
   "metadata": {},
   "source": [
    "<h2 style=\"color:purple\">❓ 2) How many of them are not placed?</h2>"
   ]
  },
  {
   "cell_type": "code",
   "execution_count": 127,
   "id": "c8312275-457a-41d9-a949-64d78e7f26ef",
   "metadata": {},
   "outputs": [
    {
     "name": "stdout",
     "output_type": "stream",
     "text": [
      "Count of placed vs not placed:\n",
      " status\n",
      "Placed        148\n",
      "Not Placed     67\n",
      "Name: count, dtype: int64\n",
      "\n",
      "Percentage % of placed vs not placed:\n",
      " status\n",
      "Placed        68.84\n",
      "Not Placed    31.16\n",
      "Name: proportion, dtype: float64\n"
     ]
    }
   ],
   "source": [
    "# Count of each category\n",
    "counts = dataset['status'].value_counts()\n",
    "print(\"Count of placed vs not placed:\\n\", counts)\n",
    "\n",
    "# Percentage of each category\n",
    "percentages = dataset['status'].value_counts(normalize=True) * 100\n",
    "print(\"\\nPercentage % of placed vs not placed:\\n\", percentages.round(2))"
   ]
  },
  {
   "cell_type": "markdown",
   "id": "1d8f7493-4001-41b2-b576-b52afdc5b990",
   "metadata": {},
   "source": [
    "<h3 style=\"color:green\">✅  67 students (31.16%) were not placed </h3>"
   ]
  },
  {
   "cell_type": "markdown",
   "id": "0ae08c40-3e29-43f9-b5a7-7ede56ee72c2",
   "metadata": {},
   "source": [
    "<h2 style=\"color:purple\">❓ 3. Find the reason for non placement from the dataset?\n",
    "</h2>"
   ]
  },
  {
   "cell_type": "markdown",
   "id": "4e09d685-4ff4-46d8-87d2-cf3e371f1b12",
   "metadata": {},
   "source": [
    "<h2 style=\"color:blue\">Compare numeric features</h2>"
   ]
  },
  {
   "cell_type": "code",
   "execution_count": 128,
   "id": "16ba3eb1-a9f9-4a0d-8afc-58a6b4389bac",
   "metadata": {},
   "outputs": [
    {
     "data": {
      "text/html": [
       "<div>\n",
       "<style scoped>\n",
       "    .dataframe tbody tr th:only-of-type {\n",
       "        vertical-align: middle;\n",
       "    }\n",
       "\n",
       "    .dataframe tbody tr th {\n",
       "        vertical-align: top;\n",
       "    }\n",
       "\n",
       "    .dataframe thead th {\n",
       "        text-align: right;\n",
       "    }\n",
       "</style>\n",
       "<table border=\"1\" class=\"dataframe\">\n",
       "  <thead>\n",
       "    <tr style=\"text-align: right;\">\n",
       "      <th></th>\n",
       "      <th>ssc_p</th>\n",
       "      <th>hsc_p</th>\n",
       "      <th>degree_p</th>\n",
       "      <th>mba_p</th>\n",
       "      <th>etest_p</th>\n",
       "    </tr>\n",
       "    <tr>\n",
       "      <th>status</th>\n",
       "      <th></th>\n",
       "      <th></th>\n",
       "      <th></th>\n",
       "      <th></th>\n",
       "      <th></th>\n",
       "    </tr>\n",
       "  </thead>\n",
       "  <tbody>\n",
       "    <tr>\n",
       "      <th>Not Placed</th>\n",
       "      <td>57.544030</td>\n",
       "      <td>58.395522</td>\n",
       "      <td>61.134179</td>\n",
       "      <td>61.612836</td>\n",
       "      <td>69.587910</td>\n",
       "    </tr>\n",
       "    <tr>\n",
       "      <th>Placed</th>\n",
       "      <td>71.721486</td>\n",
       "      <td>69.926554</td>\n",
       "      <td>68.740541</td>\n",
       "      <td>62.579392</td>\n",
       "      <td>73.238041</td>\n",
       "    </tr>\n",
       "  </tbody>\n",
       "</table>\n",
       "</div>"
      ],
      "text/plain": [
       "                ssc_p      hsc_p   degree_p      mba_p    etest_p\n",
       "status                                                           \n",
       "Not Placed  57.544030  58.395522  61.134179  61.612836  69.587910\n",
       "Placed      71.721486  69.926554  68.740541  62.579392  73.238041"
      ]
     },
     "execution_count": 128,
     "metadata": {},
     "output_type": "execute_result"
    }
   ],
   "source": [
    "numeric_cols = ['ssc_p','hsc_p','degree_p','mba_p','etest_p']\n",
    "# Mean comparison\n",
    "dataset.groupby('status')[numeric_cols].mean()"
   ]
  },
  {
   "cell_type": "markdown",
   "id": "a6a7e7f3-a84b-423f-8616-6ae49bcf7364",
   "metadata": {},
   "source": [
    "<h2 style=\"color:green\"><li>✅ Lower 10th/12th/degree/mba marks or etest scores may correlate with Not Placed.<li>10th and 12th mark are major factor for not placed </h2>"
   ]
  },
  {
   "cell_type": "markdown",
   "id": "5b76ff3f-1b5d-45ad-a8c2-1c97bd50a9fc",
   "metadata": {},
   "source": [
    "<h2 style=\"color:blue\">Compare categorical features</h2>"
   ]
  },
  {
   "cell_type": "code",
   "execution_count": 129,
   "id": "33d6875d-ebdc-489a-ae4a-8e5dd5e6a227",
   "metadata": {},
   "outputs": [
    {
     "name": "stdout",
     "output_type": "stream",
     "text": [
      "\n",
      "Column: gender\n",
      "status  Not Placed  Placed  Difference\n",
      "gender                                \n",
      "F            36.84   63.16       26.32\n",
      "M            28.06   71.94       43.88\n",
      "\n",
      "Column: ssc_b\n",
      "status   Not Placed  Placed  Difference\n",
      "ssc_b                                  \n",
      "Central       32.76   67.24       34.48\n",
      "Others        29.29   70.71       41.41\n",
      "\n",
      "Column: hsc_b\n",
      "status   Not Placed  Placed  Difference\n",
      "hsc_b                                  \n",
      "Central       32.14   67.86       35.71\n",
      "Others        30.53   69.47       38.93\n",
      "\n",
      "Column: hsc_s\n",
      "status    Not Placed  Placed  Difference\n",
      "hsc_s                                   \n",
      "Arts           45.45   54.55        9.09\n",
      "Commerce       30.09   69.91       39.82\n",
      "Science        30.77   69.23       38.46\n",
      "\n",
      "Column: degree_t\n",
      "status     Not Placed  Placed  Difference\n",
      "degree_t                                 \n",
      "Comm&Mgmt       29.66   70.34       40.69\n",
      "Others          54.55   45.45       -9.09\n",
      "Sci&Tech        30.51   69.49       38.98\n",
      "\n",
      "Column: workex\n",
      "status  Not Placed  Placed  Difference\n",
      "workex                                \n",
      "No           40.43   59.57       19.15\n",
      "Yes          13.51   86.49       72.97\n",
      "\n",
      "Column: specialisation\n",
      "status          Not Placed  Placed  Difference\n",
      "specialisation                                \n",
      "Mkt&Fin              20.83   79.17       58.33\n",
      "Mkt&HR               44.21   55.79       11.58\n"
     ]
    }
   ],
   "source": [
    "categorical_cols = ['gender','ssc_b','hsc_b','hsc_s','degree_t','workex','specialisation']\n",
    "\n",
    "for col in categorical_cols:\n",
    "    print(f\"\\nColumn: {col}\")\n",
    "    \n",
    "    # Create crosstab with percentages\n",
    "    ctab = pd.crosstab(dataset[col], dataset['status'], normalize='index') * 100\n",
    "    \n",
    "    # Add a column for difference between 'Placed' and 'Not Placed' percentages\n",
    "    if 'Placed' in ctab.columns and 'Not Placed' in ctab.columns:\n",
    "        ctab['Difference'] = ctab['Placed'] - ctab['Not Placed']\n",
    "    elif 'Placed' in ctab.columns:\n",
    "        ctab['Difference'] = ctab['Placed']\n",
    "    elif 'Not Placed' in ctab.columns:\n",
    "        ctab['Difference'] = -ctab['Not Placed']\n",
    "    \n",
    "    print(ctab.round(2))"
   ]
  },
  {
   "cell_type": "markdown",
   "id": "fb7b2959-9d21-4878-9621-86dc41ee2722",
   "metadata": {},
   "source": [
    "<h2 style=\"color:blue\">plot view</h2>"
   ]
  },
  {
   "cell_type": "code",
   "execution_count": 130,
   "id": "f541dbb0-88df-4161-97f4-3b3119f1262b",
   "metadata": {},
   "outputs": [
    {
     "data": {
      "image/png": "[encoded data removed]",
      "text/plain": [
       "<Figure size 1800x1000 with 7 Axes>"
      ]
     },
     "metadata": {},
     "output_type": "display_data"
    }
   ],
   "source": [
    "import pandas as pd\n",
    "import matplotlib.pyplot as plt\n",
    "\n",
    "# Columns to analyze\n",
    "columns = ['gender', 'ssc_b', 'hsc_b', 'hsc_s', 'degree_t', 'workex', 'specialisation']\n",
    "\n",
    "# Create 3x3 grid (9 subplots, but we'll use only 7)\n",
    "fig, axs = plt.subplots(3, 3, figsize=(18, 10))\n",
    "axs = axs.flatten()  # Flatten for easy iteration\n",
    "\n",
    "# Define colors\n",
    "colors = {'Placed': 'green', 'Not Placed': 'red'}\n",
    "\n",
    "# Loop through all columns\n",
    "for i, col in enumerate(columns):\n",
    "    # Crosstab as percentages\n",
    "    ctab = pd.crosstab(dataset[col], dataset['status'], normalize='index') * 100\n",
    "    \n",
    "    # Plot stacked bar chart\n",
    "    ctab.plot(\n",
    "        kind='bar',\n",
    "        stacked=True,\n",
    "        ax=axs[i],\n",
    "        color=[colors.get(x, 'gray') for x in ctab.columns]\n",
    "    )\n",
    "    \n",
    "    axs[i].set_title(f\"{col} vs Status\", fontsize=12)\n",
    "    axs[i].set_ylabel(\"Percentage (%)\")\n",
    "    axs[i].legend(title='Status', bbox_to_anchor=(1.05, 1), loc='upper left')\n",
    "\n",
    "# Remove any unused subplots\n",
    "for j in range(len(columns), len(axs)):\n",
    "    fig.delaxes(axs[j])\n",
    "\n",
    "plt.tight_layout()\n",
    "plt.show()\n"
   ]
  },
  {
   "cell_type": "markdown",
   "id": "40920139-3560-4067-ab3d-dffde60f0edd",
   "metadata": {},
   "source": [
    "✅ This shows, for example:\n",
    "\n",
    "1. If workexepriance = No, % of Not Placed may be higher.\n",
    "2. If specialisation  = Mkt&HR, % of Not Placed may be Moderate.\n",
    "3. If hsc_s = Arts group, % of Not Placed may be Lower.\n",
    "3. If degree_t = other group, % of Not Placed may be Lower."
   ]
  },
  {
   "cell_type": "markdown",
   "id": "4e4dab7f-b052-4fda-91ca-e0f77446ce59",
   "metadata": {},
   "source": [
    "<h3 style=\"color:green\">✅  Conclusion (from initial analysis):</h3>\n",
    "\n",
    "<b>No work experience is a major factor.</b>\n",
    "\n",
    "<b>Lower exam scores (ssc_p, hsc_p, degree_p, etest_p, mba_p) contribute.</b>\n",
    "\n",
    "<b>Certain specialisations,hsc_s' Arts group might have lower placement rates. </b>"
   ]
  },
  {
   "cell_type": "markdown",
   "id": "9e847566-9908-4a1e-b03e-7525ef63fa1d",
   "metadata": {},
   "source": [
    "<h2 style=\"color:purple\">❓4) What kind of relation between salary and mba_p</h2>"
   ]
  },
  {
   "cell_type": "code",
   "execution_count": 131,
   "id": "d947e9ce-e0cd-4c2b-9a8d-62c78a857b67",
   "metadata": {},
   "outputs": [
    {
     "data": {
      "text/html": [
       "<div>\n",
       "<style scoped>\n",
       "    .dataframe tbody tr th:only-of-type {\n",
       "        vertical-align: middle;\n",
       "    }\n",
       "\n",
       "    .dataframe tbody tr th {\n",
       "        vertical-align: top;\n",
       "    }\n",
       "\n",
       "    .dataframe thead th {\n",
       "        text-align: right;\n",
       "    }\n",
       "</style>\n",
       "<table border=\"1\" class=\"dataframe\">\n",
       "  <thead>\n",
       "    <tr style=\"text-align: right;\">\n",
       "      <th></th>\n",
       "      <th>mba_p</th>\n",
       "      <th>salary</th>\n",
       "    </tr>\n",
       "  </thead>\n",
       "  <tbody>\n",
       "    <tr>\n",
       "      <th>mba_p</th>\n",
       "      <td>1.000000</td>\n",
       "      <td>0.139823</td>\n",
       "    </tr>\n",
       "    <tr>\n",
       "      <th>salary</th>\n",
       "      <td>0.139823</td>\n",
       "      <td>1.000000</td>\n",
       "    </tr>\n",
       "  </tbody>\n",
       "</table>\n",
       "</div>"
      ],
      "text/plain": [
       "           mba_p    salary\n",
       "mba_p   1.000000  0.139823\n",
       "salary  0.139823  1.000000"
      ]
     },
     "execution_count": 131,
     "metadata": {},
     "output_type": "execute_result"
    }
   ],
   "source": [
    "#Correlation\n",
    "dataset[['mba_p','salary']].corr()"
   ]
  },
  {
   "cell_type": "markdown",
   "id": "7a16e873-efbc-4f30-b5ba-edd60ae20616",
   "metadata": {},
   "source": [
    "<h3 style=\"color:green\">✅ 'mba_p' vs 'salary' Correlation = 00.139823 , low degree of +ve correlation</h3>"
   ]
  },
  {
   "cell_type": "markdown",
   "id": "6217f8e9-3d47-41a9-88b7-8526a47ec91d",
   "metadata": {},
   "source": [
    "<h2 style=\"color:purple\">❓5) Which specialization is getting minimum salary?</h2>"
   ]
  },
  {
   "cell_type": "code",
   "execution_count": 132,
   "id": "873511f2-258b-464f-b569-e2b880ee4545",
   "metadata": {},
   "outputs": [
    {
     "name": "stdout",
     "output_type": "stream",
     "text": [
      "The specialization with the minimum average salary is 'Mkt&HR' with an average salary of 150842.11.\n"
     ]
    }
   ],
   "source": [
    "# Find specialization with minimum average salary\n",
    "min_salary_spec = dataset.groupby('specialisation')['salary'].mean().idxmin()\n",
    "min_salary_value = dataset.groupby('specialisation')['salary'].mean().min()\n",
    "\n",
    "print(f\"The specialization with the minimum average salary is '{min_salary_spec}' with an average salary of {min_salary_value:.2f}.\")\n"
   ]
  },
  {
   "cell_type": "markdown",
   "id": "d3f61381-adf7-4407-b082-b440cfa0e48e",
   "metadata": {},
   "source": [
    "<h3 style=\"color:green\">✅ The specialization with the minimum average salary is 'Mkt&HR' with an average salary of 150842</h3>"
   ]
  },
  {
   "cell_type": "markdown",
   "id": "287307a2-87e7-438d-af7a-70100430c63a",
   "metadata": {},
   "source": [
    "<h2 style=\"color:purple\">❓ 6) How many of them getting above 500000 salary? </h2>"
   ]
  },
  {
   "cell_type": "code",
   "execution_count": 133,
   "id": "a1a0fc21-de58-4356-9d7e-35d0de9a7278",
   "metadata": {},
   "outputs": [
    {
     "name": "stdout",
     "output_type": "stream",
     "text": [
      "119    940000.0\n",
      "150    690000.0\n",
      "177    650000.0\n",
      "Name: salary, dtype: float64\n"
     ]
    },
    {
     "data": {
      "text/plain": [
       "np.int64(3)"
      ]
     },
     "execution_count": 133,
     "metadata": {},
     "output_type": "execute_result"
    }
   ],
   "source": [
    "#gettinabove 5,00,00 salary\n",
    "print(dataset[dataset['salary'] > 500000]['salary'])\n",
    "dataset[dataset['salary'] > 500000]['salary'].count()"
   ]
  },
  {
   "cell_type": "markdown",
   "id": "cd078265-ce2c-440b-a4e6-37c32a8587bf",
   "metadata": {},
   "source": [
    "<h3 style=\"color:green\">✅  3 of them getting above 500000 salary </h3>"
   ]
  },
  {
   "cell_type": "code",
   "execution_count": null,
   "id": "d669c479-698f-45f2-82bd-beac71fcb05a",
   "metadata": {},
   "outputs": [],
   "source": []
  },
  {
   "cell_type": "code",
   "execution_count": null,
   "id": "9c693747-013d-4c6e-b0ab-9aaf87ab22f1",
   "metadata": {},
   "outputs": [],
   "source": []
  },
  {
   "cell_type": "code",
   "execution_count": null,
   "id": "776ca937-45a6-45ef-9f85-10ebf9154022",
   "metadata": {},
   "outputs": [],
   "source": []
  },
  {
   "cell_type": "code",
   "execution_count": null,
   "id": "50f3d5a3-b4a8-475a-b10f-9ecb44a3d23e",
   "metadata": {},
   "outputs": [],
   "source": [
    "<h2 style=\"color:purple\">❓  </h2>\n",
    "<h3 style=\"color:green\">✅  </h3>"
   ]
  }
 ],
 "metadata": {
  "kernelspec": {
   "display_name": "Python 3 (ipykernel)",
   "language": "python",
   "name": "python3"
  },
  "language_info": {
   "codemirror_mode": {
    "name": "ipython",
    "version": 3
   },
   "file_extension": ".py",
   "mimetype": "text/x-python",
   "name": "python",
   "nbconvert_exporter": "python",
   "pygments_lexer": "ipython3",
   "version": "3.13.7"
  }
 },
 "nbformat": 4,
 "nbformat_minor": 5
}
