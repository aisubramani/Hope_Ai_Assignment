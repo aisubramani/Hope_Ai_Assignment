{
 "cells": [
  {
   "cell_type": "markdown",
   "id": "50a2f2b9-23dc-42af-89e1-3ad4afa4ca40",
   "metadata": {},
   "source": [
    "## Question 1:"
   ]
  },
  {
   "cell_type": "code",
   "execution_count": null,
   "id": "ce467d85-478b-4391-b132-b948e2d21dcf",
   "metadata": {},
   "outputs": [],
   "source": [
    "Question 1:\n",
    " \n",
    "A retail store wants to identify customers who make frequent purchases. Given the dataset below, write a code to:\n",
    "1.\tGroup customers by their IDs.\n",
    "2.\tCalculate the total number of purchases per customer.\n",
    "3.\tIdentify the top 3 frequent customers.\n",
    "Dataset:\n",
    "data = {'Customer_ID': [101, 102, 103, 101, 104, 102, 101, 105, 102, 103],\n",
    "        'Purchase_Amount': [200, 150, 180, 220, 300, 200, 100, 400, 250, 300]}\n",
    "\n",
    "Expected Output:\n",
    "\n",
    "Total Purchases per Customer:\n",
    "   Customer_ID  Purchase_Amount\n",
    "0          101              520\n",
    "1          102              600\n",
    "2          103              480\n",
    "3          104              300\n",
    "4          105              400\n",
    "\n",
    "Top 3 Frequent Customers:\n",
    "   Customer_ID  Purchase_Amount\n",
    "1          102              600\n",
    "0          101              520\n",
    "2          103              480\n"
   ]
  },
  {
   "cell_type": "code",
   "execution_count": 6,
   "id": "5436ea68-5308-4c96-b065-ea2d2dd6ecbe",
   "metadata": {},
   "outputs": [
    {
     "name": "stdout",
     "output_type": "stream",
     "text": [
      "Total Purchases per Customer:\n",
      "    Customer_ID  Purchase_Total\n",
      "0          101             520\n",
      "1          102             600\n",
      "2          103             480\n",
      "3          104             300\n",
      "4          105             400\n",
      "\n",
      "Top 3 Frequent Customers:\n",
      "    Customer_ID  Purchase_Total\n",
      "1          102             600\n",
      "0          101             520\n",
      "2          103             480\n"
     ]
    }
   ],
   "source": [
    "#Answer 1:\n",
    "import pandas as pd\n",
    "import warnings\n",
    "warnings.filterwarnings('ignore')\n",
    "data = {'Customer_ID': [101, 102, 103, 101, 104, 102, 101, 105, 102, 103],\n",
    "        'Purchase_Amount': [200, 150, 180, 220, 300, 200, 100, 400, 250, 300]}\n",
    "\n",
    "df = pd.DataFrame(data)\n",
    "\n",
    "#1.\tGroup customers by their IDs.\n",
    "# Grouping by Customer_ID and calculating total purchases\n",
    "total_purchases = df.groupby('Customer_ID')['Purchase_Amount'].sum().reset_index(name='Purchase_Total') \n",
    "print(\"Total Purchases per Customer:\\n\",total_purchases)\n",
    "\n",
    "#2.\tIdentify the top 3 frequent customers.\n",
    "top=total_purchases.sort_values(\"Purchase_Total\", ascending=False).head(3)\n",
    "print(\"\\nTop 3 Frequent Customers:\\n\",top)"
   ]
  },
  {
   "cell_type": "markdown",
   "id": "1cfb3eb9-a35a-4a88-a6c5-1d6b2ab4166d",
   "metadata": {},
   "source": [
    "## Question 2:"
   ]
  },
  {
   "cell_type": "code",
   "execution_count": null,
   "id": "bd0aa43f-b186-457f-8a99-05159dd99ac6",
   "metadata": {},
   "outputs": [],
   "source": [
    "Question 2:\n",
    "A company tracks the daily sales of a product over a month. You are tasked with identifying any abnormal sales data using the IQR (Interquartile Range) method.\n",
    "Dataset (Daily Sales in Units):\n",
    "\n",
    "data = {'Day': range(1, 31),\n",
    "        'Sales': [25, 30, 28, 45, 55, 60, 22, 80, 95, 120,\n",
    "                  33, 29, 27, 35, 40, 50, 85, 110, 105, 92,\n",
    "                  30, 34, 31, 33, 36, 42, 44, 48, 90, 200]}\n",
    "\n",
    "Tasks:\n",
    "1. Calculate the Q1 (25th percentile) and Q3 (75th percentile).\n",
    "2. Determine the IQR.\n",
    "3. Identify the Lower Bound and Upper Bound.\n",
    "4. Detect and display the outliers.\n",
    "5. Replace the Outliers with the Median Value.\n",
    "Expected Output:\n",
    "Q1: 31.5, Q3: 83.75, IQR: 52.25\n",
    "Lower Bound: -46.875, Upper Bound: 162.125\n",
    "Outliers Detected:\n",
    "    Day  Sales\n",
    "29   30    200\n",
    "Data After Replacing Outliers with Median:\n",
    "    Day  Sales\n",
    "0     1   25.0\n",
    "1     2   30.0\n",
    "2     3   28.0\n",
    "3     4   45.0\n",
    "4     5   55.0\n",
    "5     6   60.0\n",
    "6     7   22.0\n",
    "7     8   80.0\n",
    "8     9   95.0\n",
    "9    10  120.0\n",
    "10   11   33.0\n",
    "11   12   29.0\n",
    "12   13   27.0\n",
    "13   14   35.0\n",
    "14   15   40.0\n",
    "15   16   50.0\n",
    "16   17   85.0\n",
    "17   18  110.0\n",
    "18   19  105.0\n",
    "19   20   92.0\n",
    "20   21   30.0\n",
    "21   22   34.0\n",
    "22   23   31.0\n",
    "23   24   33.0\n",
    "24   25   36.0\n",
    "25   26   42.0\n",
    "26   27   44.0\n",
    "27   28   48.0\n",
    "28   29   90.0\n",
    "29   30   43.0\n"
   ]
  },
  {
   "cell_type": "code",
   "execution_count": 23,
   "id": "9fa6f7c0-e595-4acd-8e71-5206ce609e8f",
   "metadata": {},
   "outputs": [
    {
     "name": "stdout",
     "output_type": "stream",
     "text": [
      "Q1: 31.5, Q3: 83.75, IQR: 52.25\n",
      "Lower Bound: 162.125, Upper Bound: -46.875\n",
      "Outliers Detected:\n",
      "     Day  Sales\n",
      "0     1    -50\n",
      "29   30    200\n",
      "Data After Replacing Outliers with Median: 43.0\n",
      "     Day  Sales\n",
      "0     1   43.0\n",
      "1     2   30.0\n",
      "2     3   28.0\n",
      "3     4   45.0\n",
      "4     5   55.0\n",
      "5     6   60.0\n",
      "6     7   22.0\n",
      "7     8   80.0\n",
      "8     9   95.0\n",
      "9    10  120.0\n",
      "10   11   33.0\n",
      "11   12   29.0\n",
      "12   13   27.0\n",
      "13   14   35.0\n",
      "14   15   40.0\n",
      "15   16   50.0\n",
      "16   17   85.0\n",
      "17   18  110.0\n",
      "18   19  105.0\n",
      "19   20   92.0\n",
      "20   21   30.0\n",
      "21   22   34.0\n",
      "22   23   31.0\n",
      "23   24   33.0\n",
      "24   25   36.0\n",
      "25   26   42.0\n",
      "26   27   44.0\n",
      "27   28   48.0\n",
      "28   29   90.0\n",
      "29   30   43.0\n"
     ]
    }
   ],
   "source": [
    "# 2. Answer\n",
    "\n",
    "import pandas as pd\n",
    "import numpy as np\n",
    "import warnings\n",
    "warnings.filterwarnings('ignore')\n",
    "\n",
    "# Creating the DataFrame\n",
    "data = {'Day': range(1, 31),\n",
    "        'Sales': [-50, 30, 28, 45, 55, 60, 22, 80, 95, 120,\n",
    "                  33, 29, 27, 35, 40, 50, 85, 110, 105, 92,\n",
    "                  30, 34, 31, 33, 36, 42, 44, 48, 90, 200]}\n",
    "\n",
    "df = pd.DataFrame(data)\n",
    "# IQR Calculation\n",
    "q1, q3 = np.percentile(df[\"Sales\"], [25, 75])\n",
    "iqr = q3 - q1\n",
    "upper_bound = q3 + 1.5 * iqr\n",
    "lower_bound = q1 - 1.5 * iqr\n",
    "# Detect outliers\n",
    "outlier = df[(df[\"Sales\"] > upper_bound) | (df[\"Sales\"] < lower_bound)]\n",
    "\n",
    "#replace outliers with the median value\n",
    "#np.where(condition, value_if_true, value_if_false)\n",
    "median_value = df['Sales'].median()\n",
    "df['Sales'] = np.where((df[\"Sales\"] > upper_bound) | (df[\"Sales\"] < lower_bound), median_value, df['Sales'])\n",
    "\n",
    "print(f\"Q1: {q1}, Q3: {q3}, IQR: {iqr}\")\n",
    "print(f\"Lower Bound: {upper_bound}, Upper Bound: {lower_bound}\")\n",
    "print(\"Outliers Detected:\\n\",outlier)\n",
    "print(f\"Data After Replacing Outliers with Median: {median_value}\\n\",df)\n"
   ]
  },
  {
   "cell_type": "markdown",
   "id": "4fd90143-a7fc-498d-b001-368b2b0a6102",
   "metadata": {},
   "source": [
    "## Question 3:"
   ]
  },
  {
   "cell_type": "code",
   "execution_count": null,
   "id": "a6f3b564-0f04-4876-a8a3-bf3229e3c0cb",
   "metadata": {},
   "outputs": [],
   "source": [
    "Question 3:\n",
    " \n",
    "A pharmaceutical company is testing the effectiveness of a new drug to reduce blood pressure. Two groups of patients were selected:\n",
    "Group 1 (Treatment): Received the drug\n",
    "Group 2 (Control): Received a placebo\n",
    "The company wants to check if there is a significant difference in the blood pressure levels between the two groups using an Independent T-Test.\n",
    "Dataset:\n",
    "data = {'Group': ['Treatment']*10 + ['Control']*10,\n",
    "        'Blood_Pressure': [120, 115, 118, 123, 122, 119, 124, 117, 116, 121,\n",
    "                            130, 135, 140, 138, 142, 136, 139, 134, 137, 141]}\n",
    "Tasks:\n",
    "1.\tPerform an Independent T-Test.\n",
    "2.\tState the null and alternative hypotheses.\n",
    "3.\tCalculate the p-value.\n",
    "4.\tConclude whether the drug has a significant effect.\n",
    "Expected Output:\n",
    "T-Statistic: -11.870553692962726\n",
    "P-Value: 6.008066605173374e-10\n",
    "Reject the Null Hypothesis: The drug has a significant effect.\n"
   ]
  },
  {
   "cell_type": "code",
   "execution_count": 31,
   "id": "e11ef363-d3a2-404d-ad32-c3843f98858f",
   "metadata": {},
   "outputs": [
    {
     "name": "stdout",
     "output_type": "stream",
     "text": [
      "t-statistic: -11.870553692962726\n",
      "p-value: 6.008066605173374e-10\n",
      "Reject the Null Hypothesis: The drug has a significant effect.\n"
     ]
    },
    {
     "data": {
      "image/png": "[encoded data removed]",
      "text/plain": [
       "<Figure size 640x480 with 1 Axes>"
      ]
     },
     "metadata": {},
     "output_type": "display_data"
    }
   ],
   "source": [
    "# 3. Answer\n",
    "\n",
    "import pandas as pd\n",
    "import numpy as np\n",
    "import warnings\n",
    "warnings.filterwarnings('ignore')\n",
    "from scipy import stats\n",
    "\n",
    "# Creating the DataFrame\n",
    "data = {'Group': ['Treatment']*10 + ['Control']*10,\n",
    "        'Blood_Pressure': [120, 115, 118, 123, 122, 119, 124, 117, 116, 121,\n",
    "                            130, 135, 140, 138, 142, 136, 139, 134, 137, 141]}\n",
    "\n",
    "df = pd.DataFrame(data)\n",
    "treatment_group=df[df['Group']=='Treatment']['Blood_Pressure']\n",
    "control_group=df[df['Group']=='Control']['Blood_Pressure']\n",
    "treatment_group\n",
    "\n",
    "# Perform Independent T-Test\n",
    "t_stat, p_value = stats.ttest_ind(treatment_group, control_group)\n",
    "print(\"t-statistic:\", t_stat)\n",
    "print(\"p-value:\", p_value)\n",
    "\n",
    "# Conclusion\n",
    "alpha = 0.05\n",
    "if p_value < alpha:\n",
    "    print(\"Reject the Null Hypothesis: The drug has a significant effect.\")\n",
    "else:\n",
    "    print(\"Fail to Reject the Null Hypothesis: The drug has no significant effect.\")\n",
    "\n",
    "import seaborn as sns\n",
    "sns.boxplot(x='Group', y='Blood_Pressure', data=df)\n",
    "plt.title(\"Treatment vs Control - Blood Pressure Comparison\")\n",
    "plt.show()"
   ]
  },
  {
   "cell_type": "markdown",
   "id": "e1533ec6-72ff-4386-a523-1fbb5ebb4343",
   "metadata": {},
   "source": [
    "## Question 4:"
   ]
  },
  {
   "cell_type": "code",
   "execution_count": null,
   "id": "473019c5-f5dc-40e4-bd19-c9d8b0867f05",
   "metadata": {},
   "outputs": [],
   "source": [
    "Question 4:\n",
    "GlobalMart is a large retailer conducting advertisement campaigns in different regions. The company spends money on two types of advertisements: TV Ads and Social Media Ads\n",
    "They want to analyze how these ads influence their sales.\n",
    "Your task is to calculate the Covariance and Correlation to determine which type of ad has a stronger impact on sales.\n",
    "Tasks :\n",
    "1.\tCalculate the Covariance between ad budgets and sales to measure the direction of the relationship.\n",
    "2.\tCalculate the Correlation to measure the strength of the relationship.\n",
    "3.\tDetermine which type of ad is more effective for increasing sales.\n",
    " \n",
    "# Creating DataFrame\n",
    "data = {\n",
    "    'Region': ['North', 'South', 'East', 'West', 'Central'],\n",
    "    'TV_Ad_Budget': [200, 300, 400, 500, 600],\n",
    "    'Social_Media_Budget': [150, 250, 300, 450, 500],\n",
    "    'Sales': [20, 35, 50, 60, 80]\n",
    "}\n",
    "    \n",
    "Expected Output:\n",
    "Covariance (TV vs Sales): 3625.0\n",
    "Covariance (Social Media vs Sales): 3225.0\n",
    "Correlation (TV vs Sales): 0.9958640886279954\n",
    "Correlation (Social Media vs Sales): 0.9724846021568381\n",
    "TV Ads have a stronger impact on Sales.\n",
    "\n"
   ]
  },
  {
   "cell_type": "code",
   "execution_count": 33,
   "id": "e16f947c-cfd8-4c19-8f3f-2b913920d377",
   "metadata": {},
   "outputs": [
    {
     "name": "stdout",
     "output_type": "stream",
     "text": [
      "Covariance (TV vs Sales): 3625.0\n",
      "Covariance (Social Media vs Sales): 3225.0\n",
      "Correlation (TV vs Sales): 0.9958640886279954\n",
      "Correlation (Social Media vs Sales): 0.9724846021568381\n",
      "TV Ads have a stronger impact on Sales.\n"
     ]
    }
   ],
   "source": [
    "#4. Answer\n",
    "\n",
    "import pandas as pd\n",
    "import numpy as np\n",
    "\n",
    "# Creating DataFrame\n",
    "data = {\n",
    "    'Region': ['North', 'South', 'East', 'West', 'Central'],\n",
    "    'TV_Ad_Budget': [200, 300, 400, 500, 600],\n",
    "    'Social_Media_Budget': [150, 250, 300, 450, 500],\n",
    "    'Sales': [20, 35, 50, 60, 80]\n",
    "}\n",
    "df = pd.DataFrame(data)\n",
    "\n",
    "# Calculate Covariance\n",
    "cov_tv = df['TV_Ad_Budget'].cov(df['Sales'])\n",
    "cov_social = df['Social_Media_Budget'].cov(df['Sales'])\n",
    "\n",
    "# Calculate Correlation\n",
    "corr_tv = df['TV_Ad_Budget'].corr(df['Sales'])\n",
    "corr_social = df['Social_Media_Budget'].corr(df['Sales'])\n",
    "\n",
    "\n",
    "print(f\"Covariance (TV vs Sales): {cov_tv}\")\n",
    "print(f\"Covariance (Social Media vs Sales): {cov_social}\")\n",
    "print(f\"Correlation (TV vs Sales): {corr_tv}\")\n",
    "print(f\"Correlation (Social Media vs Sales): {corr_social}\")\n",
    "\n",
    "# Conclusion\n",
    "if abs(corr_tv) > abs(corr_social):\n",
    "    print(\"TV Ads have a stronger impact on Sales.\")\n",
    "else:\n",
    "    print(\"Social Media Ads have a stronger impact on Sales.\")"
   ]
  },
  {
   "cell_type": "markdown",
   "id": "acac8c6b-15fd-499f-9d61-d2e27a957487",
   "metadata": {},
   "source": [
    "## Question 5:"
   ]
  },
  {
   "cell_type": "code",
   "execution_count": null,
   "id": "abae884d-79d9-41df-bb36-6651bf62a1a2",
   "metadata": {},
   "outputs": [],
   "source": [
    "Question 5:\n",
    "A company tracks the delivery time (in minutes) for its online orders. You are given the delivery times for 50 orders.\n",
    "●\tCalculate the mean and standard deviation of the delivery times.\n",
    "●\tPlot the Probability Density Function (PDF) to visualize the distribution.\n",
    "Dataset (Delivery Times in Minutes):\n",
    " \n",
    "[25, 30, 28, 45, 55, 60, 22, 80, 95, 120, 33, 29, 27, 35, 40, 50, 85, 110, 105, 92, 30, 34, 31, 33, 36, 42, 44, 48, 90, 200, 20, 25, 27, 32, 38, 41, 47, 58, 62, 77, 80, 84, 90, 110, 123, 145, 150, 160]\n",
    "You can try implementing this using libraries like numpy, matplotlib, and scipy\n",
    "Expected Output:\n",
    "\n",
    "Mean Delivery Time: 65.0625\n",
    "Standard Deviation of Delivery Time: 41.718504212759115\n"
   ]
  },
  {
   "cell_type": "code",
   "execution_count": 36,
   "id": "2e3f718f-3919-4562-a27b-9b8b841cee55",
   "metadata": {},
   "outputs": [
    {
     "name": "stdout",
     "output_type": "stream",
     "text": [
      "Mean Delivery Time: 65.0625\n",
      "Standard Deviation of Delivery Time: 41.718504212759115\n"
     ]
    },
    {
     "data": {
      "image/png": "[encoded data removed]",
      "text/plain": [
       "<Figure size 1000x500 with 1 Axes>"
      ]
     },
     "metadata": {},
     "output_type": "display_data"
    }
   ],
   "source": [
    "# 5. Answer\n",
    "import numpy as np\n",
    "import matplotlib.pyplot as plt\n",
    "from scipy.stats import norm\n",
    "\n",
    "# Dataset: Delivery Times in Minutes\n",
    "delivery_times = [25, 30, 28, 45, 55, 60, 22, 80, 95, 120, 33, 29, 27, 35, 40, 50, \n",
    "                   85, 110, 105, 92, 30, 34, 31, 33, 36, 42, 44, 48, 90, 200, 20, \n",
    "                   25, 27, 32, 38, 41, 47, 58, 62, 77, 80, 84, 90, 110, 123, 145, \n",
    "                   150, 160]\n",
    "\n",
    "# Calculate Mean and Standard Deviation\n",
    "mean_delivery = np.mean(delivery_times)\n",
    "std_dev_delivery = np.std(delivery_times)\n",
    "\n",
    "print(f\"Mean Delivery Time: {mean_delivery}\")\n",
    "print(f\"Standard Deviation of Delivery Time: {std_dev_delivery}\")\n",
    "\n",
    "# Plotting PDF\n",
    "x = np.linspace(min(delivery_times), max(delivery_times), 100)\n",
    "pdf = norm.pdf(x, mean_delivery, std_dev_delivery)\n",
    "\n",
    "plt.figure(figsize=(10, 5))\n",
    "plt.plot(x, pdf, color='red', label='Normal Distribution (PDF)')\n",
    "plt.xlabel('Delivery Time (minutes)')\n",
    "plt.ylabel('Density')\n",
    "plt.title('Probability Density Function (PDF)')\n",
    "plt.legend()\n",
    "plt.show()"
   ]
  }
 ],
 "metadata": {
  "kernelspec": {
   "display_name": "Python 3 (ipykernel)",
   "language": "python",
   "name": "python3"
  },
  "language_info": {
   "codemirror_mode": {
    "name": "ipython",
    "version": 3
   },
   "file_extension": ".py",
   "mimetype": "text/x-python",
   "name": "python",
   "nbconvert_exporter": "python",
   "pygments_lexer": "ipython3",
   "version": "3.13.7"
  }
 },
 "nbformat": 4,
 "nbformat_minor": 5
}
