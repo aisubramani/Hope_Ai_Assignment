{
 "cells": [
  {
   "cell_type": "code",
   "execution_count": 2,
   "id": "e8c475cb-56b9-4a15-a16f-f505fe0505dd",
   "metadata": {},
   "outputs": [
    {
     "name": "stdout",
     "output_type": "stream",
     "text": [
      "Average Age: 30.0\n"
     ]
    }
   ],
   "source": [
    "import pandas as pd  \n",
    "\n",
    "data = {'Name': ['Alice', 'Bob', 'Charlie'], \n",
    "        'Age': [25, 30, 35],  \n",
    "        'Gender': ['F', 'M', 'M']}  \n",
    "\n",
    "df = pd.DataFrame(data)\n",
    "\n",
    "average_age = df['Age'].mean()\n",
    "\n",
    "print(f\"Average Age: {average_age}\")\n"
   ]
  },
  {
   "cell_type": "code",
   "execution_count": 5,
   "id": "7aa49932-e2fe-47cc-beca-06db74a5acff",
   "metadata": {},
   "outputs": [
    {
     "data": {
      "text/plain": [
       "(np.float64(3.25), np.float64(7.75))"
      ]
     },
     "execution_count": 5,
     "metadata": {},
     "output_type": "execute_result"
    }
   ],
   "source": [
    "import numpy as np\n",
    "\n",
    "data = [1, 2, 3, 4, 5, 6, 7, 8, 9, 10]\n",
    "\n",
    "q1, q3 = np.percentile(data, [25, 75])\n",
    "\n",
    "q1, q3"
   ]
  },
  {
   "cell_type": "code",
   "execution_count": 18,
   "id": "069ea87a-a971-4b8d-8869-d9782e16b235",
   "metadata": {},
   "outputs": [
    {
     "data": {
      "text/plain": [
       "[100]"
      ]
     },
     "execution_count": 18,
     "metadata": {},
     "output_type": "execute_result"
    }
   ],
   "source": [
    "import numpy as np\n",
    "from scipy.stats import zscore\n",
    "\n",
    "data = [1, 2, 3, 100, 5, 6, 7, 8, 9]\n",
    "\n",
    "z_scores = zscore(data)  # array of Z-scores\n",
    "outliers = [data[i] for i in range(len(data)) if abs(z_scores[i]) > 2]\n",
    "\n",
    "outliers"
   ]
  },
  {
   "cell_type": "code",
   "execution_count": 20,
   "id": "54f69e53-e308-4703-9eaa-9fd04077173a",
   "metadata": {},
   "outputs": [
    {
     "data": {
      "text/plain": [
       "[1, 2, 3, np.float64(6.0), 5, 6, 7, 8, 9]"
      ]
     },
     "execution_count": 20,
     "metadata": {},
     "output_type": "execute_result"
    }
   ],
   "source": [
    "import numpy as np\n",
    "from scipy.stats import zscore\n",
    "\n",
    "data = [1, 2, 3, 100, 5, 6, 7, 8, 9]\n",
    "median = np.median(data)\n",
    "\n",
    "# Calculate Z-scores for the whole dataset\n",
    "z_scores = zscore(data)\n",
    "\n",
    "# Replace outliers with median\n",
    "data_cleaned = [median if abs(z_scores[i]) > 2 else data[i] for i in range(len(data))]\n",
    "\n",
    "data_cleaned "
   ]
  },
  {
   "cell_type": "code",
   "execution_count": 22,
   "id": "aa83855c-039a-4e43-91f9-a8e0c0505936",
   "metadata": {},
   "outputs": [
    {
     "data": {
      "text/plain": [
       "np.float64(0.05399096651318806)"
      ]
     },
     "execution_count": 22,
     "metadata": {},
     "output_type": "execute_result"
    }
   ],
   "source": [
    "from scipy.stats import norm\n",
    "\n",
    "pdf_val = norm.pdf(2, loc=0, scale=1)\n",
    "pdf_val\n"
   ]
  },
  {
   "cell_type": "code",
   "execution_count": 27,
   "id": "5aeb4991-cd9a-4926-8cbd-2e42e2771dc7",
   "metadata": {},
   "outputs": [
    {
     "data": {
      "text/plain": [
       "<seaborn.axisgrid.PairGrid at 0x2a23e9002b0>"
      ]
     },
     "execution_count": 27,
     "metadata": {},
     "output_type": "execute_result"
    },
    {
     "data": {
      "image/png": "[encoded data removed]",
      "text/plain": [
       "<Figure size 270.736x250 with 2 Axes>"
      ]
     },
     "metadata": {},
     "output_type": "display_data"
    }
   ],
   "source": [
    "import seaborn as sns\n",
    "import pandas as pd\n",
    "\n",
    "df = pd.DataFrame({'A': [1, 2, 3], 'B': [4, 5, 6]})\n",
    "sns.pairplot(df, hue='B')\n"
   ]
  },
  {
   "cell_type": "code",
   "execution_count": 30,
   "id": "6a04f0f5-e775-49bb-8c3d-0b205b9a3406",
   "metadata": {},
   "outputs": [
    {
     "data": {
      "text/plain": [
       "array([[1.66666667, 3.33333333],\n",
       "       [3.33333333, 6.66666667]])"
      ]
     },
     "execution_count": 30,
     "metadata": {},
     "output_type": "execute_result"
    }
   ],
   "source": [
    "import numpy as np\n",
    "\n",
    "x = [1, 2, 3, 4]\n",
    "y = [2, 4, 6, 8]\n",
    "\n",
    "cov_matrix = np.cov(x,y)\n",
    "cov_matrix"
   ]
  },
  {
   "cell_type": "code",
   "execution_count": 32,
   "id": "a1e8b82e-7a16-4d9e-a773-db9552ab992c",
   "metadata": {},
   "outputs": [
    {
     "name": "stdout",
     "output_type": "stream",
     "text": [
      "Mean: 6.0\n"
     ]
    }
   ],
   "source": [
    "import numpy as np\n",
    "\n",
    "data = [2, 4, 6, 8, 10]\n",
    "\n",
    "mean_value = np.mean(data)\n",
    "print(f\"Mean: {mean_value}\")\n"
   ]
  },
  {
   "cell_type": "code",
   "execution_count": 34,
   "id": "b64dfbf5-a897-447f-a319-778c5b4268f3",
   "metadata": {},
   "outputs": [
    {
     "name": "stdout",
     "output_type": "stream",
     "text": [
      "     A    B\n",
      "0  1.0  0.0\n",
      "1  2.0  5.0\n",
      "2  0.0  6.0\n",
      "3  4.0  0.0\n"
     ]
    }
   ],
   "source": [
    "import pandas as pd\n",
    "import numpy as np\n",
    "\n",
    "data = {'A': [1, 2, np.nan, 4], 'B': [np.nan, 5, 6, np.nan]}\n",
    "df = pd.DataFrame(data)\n",
    "\n",
    "df.replace(np.nan, 0, inplace=True)  \n",
    "print(df)"
   ]
  },
  {
   "cell_type": "code",
   "execution_count": 36,
   "id": "5aacc208-8ab3-4850-a1bb-3495e32a0472",
   "metadata": {},
   "outputs": [
    {
     "name": "stdout",
     "output_type": "stream",
     "text": [
      "Correlation:\n",
      " 1.0\n"
     ]
    }
   ],
   "source": [
    "import numpy as np\n",
    "import pandas as pd\n",
    "\n",
    "data = {'A': [1, 2, 3, 4], 'B': [5, 6, 7, 8]}\n",
    "df = pd.DataFrame(data)\n",
    "\n",
    "correlation = np.corrcoef(df['A'])\n",
    "print(\"Correlation:\\n\", correlation)\n"
   ]
  },
  {
   "cell_type": "code",
   "execution_count": null,
   "id": "de620cdd-0e68-42e9-868e-7c042d41b15b",
   "metadata": {},
   "outputs": [],
   "source": []
  }
 ],
 "metadata": {
  "kernelspec": {
   "display_name": "Python 3 (ipykernel)",
   "language": "python",
   "name": "python3"
  },
  "language_info": {
   "codemirror_mode": {
    "name": "ipython",
    "version": 3
   },
   "file_extension": ".py",
   "mimetype": "text/x-python",
   "name": "python",
   "nbconvert_exporter": "python",
   "pygments_lexer": "ipython3",
   "version": "3.13.7"
  }
 },
 "nbformat": 4,
 "nbformat_minor": 5
}
