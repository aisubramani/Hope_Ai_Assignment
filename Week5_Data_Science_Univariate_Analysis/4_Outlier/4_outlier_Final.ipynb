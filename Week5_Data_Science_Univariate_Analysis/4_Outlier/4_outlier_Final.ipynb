{
 "cells": [
  {
   "cell_type": "markdown",
   "id": "a4cbb0f7-b720-4d1e-91fd-9320ddee2bb4",
   "metadata": {},
   "source": [
    "# With Outliers Data"
   ]
  },
  {
   "cell_type": "code",
   "execution_count": 1,
   "id": "240c6e72-533e-405e-96ee-52f869e308f1",
   "metadata": {},
   "outputs": [
    {
     "name": "stdout",
     "output_type": "stream",
     "text": [
      "Lower outlier in :'hsc_p' value : 37.0\n",
      "Upper outlier in :'hsc_p' value : 97.7\n",
      "Upper outlier in :'degree_p' value : 91.0\n",
      "Upper outlier in :'salary' value : 940000.0\n",
      "['hsc_p'] ['hsc_p', 'degree_p', 'salary']\n"
     ]
    }
   ],
   "source": [
    "import pandas as pd\n",
    "import numpy as np\n",
    "#data collection\n",
    "dataset=pd.read_csv(\"Placement.csv\")\n",
    "#collect Quan & Qual data\n",
    "quan=[x for x in dataset if dataset[x].dtype!=object]\n",
    "qual=[x for x in dataset if dataset[x].dtype==object]\n",
    "#remove s1_no\n",
    "quan.remove(\"sl_no\")\n",
    "\n",
    "#create New Table for central Tendency & descriptive\n",
    "descriptive=pd.DataFrame(index=[\"Mean\",\"Median\",\"Mode\",\n",
    "                                \"Q0-Min-0%\",\"Q1-25%\",\"Q2-50%\",\"Q3-75%\",\"Q4-Max-100%\",\n",
    "                               \"IQR\",\"1.5-Rule\",\"Lower-Bound\",\"Upper-Bound\"]\n",
    "                         ,columns=quan)\n",
    "for x in quan:\n",
    "    #print(x)\n",
    "    descriptive.loc[\"Mean\", x] = round(dataset[x].mean(), 2)\n",
    "    descriptive.loc[\"Median\", x] = dataset[x].median()\n",
    "    descriptive.loc[\"Mode\", x] = round(dataset[x].mode()[0], 2)\n",
    "    descriptive.loc[\"Q0-Min-0%\",x]=dataset.describe().loc['min',x]\n",
    "    descriptive.loc[\"Q1-25%\",x]=dataset.describe().loc['25%',x]\n",
    "    descriptive.loc[\"Q2-50%\",x]=dataset.describe().loc['50%',x]\n",
    "    descriptive.loc[\"Q3-75%\",x]=dataset.describe().loc['75%',x]\n",
    "    descriptive.loc[\"Q4-Max-100%\",x]=dataset.describe().loc['max',x]\n",
    "    descriptive.loc[\"IQR\",x]=descriptive.loc[\"Q3-75%\",x]-descriptive.loc[\"Q1-25%\",x]\n",
    "    descriptive.loc[\"1.5-Rule\",x]=1.5*descriptive.loc[\"IQR\",x]\n",
    "    descriptive.loc[\"Lower-Bound\",x]=descriptive.loc[\"Q1-25%\",x]-descriptive.loc[\"1.5-Rule\",x]\n",
    "    descriptive.loc[\"Upper-Bound\",x]=descriptive.loc[\"Q3-75%\",x]+descriptive.loc[\"1.5-Rule\",x]\n",
    "descriptive\n",
    "\n",
    "lesser=[]\n",
    "greater=[]\n",
    "for x in quan:\n",
    "    if descriptive.loc[\"Q0-Min-0%\",x]<descriptive.loc[\"Lower-Bound\",x]:\n",
    "        lesser.append(x)\n",
    "        print(f\"Lower outlier in :'{x}' value :\", descriptive.loc[\"Q0-Min-0%\",x])\n",
    "    if descriptive.loc[\"Q4-Max-100%\",x]>descriptive.loc[\"Upper-Bound\",x]:\n",
    "        greater.append(x)\n",
    "        print(f\"Upper outlier in :'{x}' value :\", descriptive.loc[\"Q4-Max-100%\",x])\n",
    "print(lesser,greater)"
   ]
  },
  {
   "cell_type": "markdown",
   "id": "c3f61d85-5ba3-4dfb-ba7d-b1a7f345860e",
   "metadata": {},
   "source": [
    "# Replace outliers with lower and upper bound "
   ]
  },
  {
   "cell_type": "code",
   "execution_count": 3,
   "id": "87995531-5243-491c-93db-19cc99166750",
   "metadata": {},
   "outputs": [
    {
     "name": "stdout",
     "output_type": "stream",
     "text": [
      "ssc_p: Outliers replaced → lower < 37.95, upper > 98.35\n",
      "hsc_p: Outliers replaced → lower < 42.75, upper > 91.15\n",
      "degree_p: Outliers replaced → lower < 44.50, upper > 88.50\n",
      "etest_p: Outliers replaced → lower < 24.75, upper > 118.75\n",
      "mba_p: Outliers replaced → lower < 45.48, upper > 78.72\n",
      "salary: Outliers replaced → lower < 150000.00, upper > 390000.00\n",
      "    gender  ssc_p    ssc_b  hsc_p    hsc_b     hsc_s  degree_p   degree_t  \\\n",
      "0        M  67.00   Others  91.00   Others  Commerce     58.00   Sci&Tech   \n",
      "1        M  79.33  Central  78.33   Others   Science     77.48   Sci&Tech   \n",
      "2        M  65.00  Central  68.00  Central      Arts     64.00  Comm&Mgmt   \n",
      "3        M  56.00  Central  52.00  Central   Science     52.00   Sci&Tech   \n",
      "4        M  85.80  Central  73.60  Central  Commerce     73.30  Comm&Mgmt   \n",
      "..     ...    ...      ...    ...      ...       ...       ...        ...   \n",
      "210      M  80.60   Others  82.00   Others  Commerce     77.60  Comm&Mgmt   \n",
      "211      M  58.00   Others  60.00   Others   Science     72.00   Sci&Tech   \n",
      "212      M  67.00   Others  67.00   Others  Commerce     73.00  Comm&Mgmt   \n",
      "213      F  74.00   Others  66.00   Others  Commerce     58.00  Comm&Mgmt   \n",
      "214      M  62.00  Central  58.00   Others   Science     53.00  Comm&Mgmt   \n",
      "\n",
      "    workex  etest_p specialisation  mba_p      status    salary  \n",
      "0       No     55.0         Mkt&HR  58.80      Placed  270000.0  \n",
      "1      Yes     86.5        Mkt&Fin  66.28      Placed  200000.0  \n",
      "2       No     75.0        Mkt&Fin  57.80      Placed  250000.0  \n",
      "3       No     66.0         Mkt&HR  59.43  Not Placed       NaN  \n",
      "4       No     96.8        Mkt&Fin  55.50      Placed  390000.0  \n",
      "..     ...      ...            ...    ...         ...       ...  \n",
      "210     No     91.0        Mkt&Fin  74.49      Placed  390000.0  \n",
      "211     No     74.0        Mkt&Fin  53.62      Placed  275000.0  \n",
      "212    Yes     59.0        Mkt&Fin  69.72      Placed  295000.0  \n",
      "213     No     70.0         Mkt&HR  60.23      Placed  204000.0  \n",
      "214     No     89.0         Mkt&HR  60.22  Not Placed       NaN  \n",
      "\n",
      "[215 rows x 14 columns]\n"
     ]
    }
   ],
   "source": [
    "import pandas as pd\n",
    "import numpy as np\n",
    "\n",
    "# Load dataset\n",
    "dataset = pd.read_csv(\"Placement.csv\")\n",
    "\n",
    "# Function to replace outliers using np.percentile\n",
    "def replace_outliers(df):\n",
    "    for col in df.select_dtypes(exclude=\"object\").columns:\n",
    "        # Q1 (25th percentile) and Q3 (75th percentile)\n",
    "        #dropna() removes missing values (NaN) before calculating, \n",
    "        #Q1 = df[col].quantile(0.25) # other way in panda calculate Q1, Q2\n",
    "        #Q3 = df[col].quantile(0.75)\n",
    "        Q1 = np.percentile(df[col].dropna(), 25)\n",
    "        Q3 = np.percentile(df[col].dropna(), 75)\n",
    "        IQR = Q3 - Q1\n",
    "\n",
    "        # Bounds\n",
    "        lower_bound = Q1 - 1.5 * IQR\n",
    "        upper_bound = Q3 + 1.5 * IQR\n",
    "\n",
    "        # Replace lower outliers with lower bound\n",
    "        df.loc[df[col] < lower_bound, col] = lower_bound\n",
    "        \n",
    "        # Replace higher outliers with upper bound\n",
    "        df.loc[df[col] > upper_bound, col] = upper_bound\n",
    "\n",
    "        print(f\"{col}: Outliers replaced → lower < {lower_bound:.2f}, upper > {upper_bound:.2f}\")\n",
    "\n",
    "    return df\n",
    "\n",
    "# Apply function\n",
    "cleaned_dataset = dataset.copy()\n",
    "cleaned_dataset = cleaned_dataset.drop(\"sl_no\", axis=1)  # drop unwanted column\n",
    "cleaned_dataset = replace_outliers(cleaned_dataset)\n",
    "\n",
    "# Print cleaned dataset\n",
    "print(cleaned_dataset)"
   ]
  },
  {
   "cell_type": "markdown",
   "id": "3f4f4139-5b98-4d01-aee2-9b94f8232a1e",
   "metadata": {},
   "source": [
    "# cleaned Data without outlier"
   ]
  },
  {
   "cell_type": "code",
   "execution_count": 4,
   "id": "ad616e3d-94d5-4fc0-bf19-bfc297de94ed",
   "metadata": {},
   "outputs": [
    {
     "name": "stdout",
     "output_type": "stream",
     "text": [
      "             ssc_p  hsc_p degree_p etest_p   mba_p     salary\n",
      "Mean          67.3  66.33    66.36    72.1   62.28  277648.65\n",
      "Median        67.0   65.0     66.0    71.0    62.0   265000.0\n",
      "Mode          62.0   63.0     65.0    60.0    56.7   300000.0\n",
      "Min          40.89  42.75     50.0    50.0   51.21   200000.0\n",
      "Q1-25%        60.6   60.9     61.0    60.0  57.945   240000.0\n",
      "Q2-50%        67.0   65.0     66.0    71.0    62.0   265000.0\n",
      "Q3-75%        75.7   73.0     72.0    83.5  66.255   300000.0\n",
      "Max           89.4  91.15     88.5    98.0   77.89   390000.0\n",
      "IQR           15.1   12.1     11.0    23.5    8.31    60000.0\n",
      "1.5-Rule     22.65  18.15     16.5   35.25  12.465    90000.0\n",
      "Lower-Bound  37.95  42.75     44.5   24.75   45.48   150000.0\n",
      "Upper-Bound  98.35  91.15     88.5  118.75   78.72   390000.0\n",
      "[] []\n"
     ]
    }
   ],
   "source": [
    "#collect Quan & Qual data\n",
    "quan=[x for x in cleaned_dataset if cleaned_dataset[x].dtype!=object]\n",
    "qual=[x for x in cleaned_dataset if cleaned_dataset[x].dtype==object]\n",
    "\n",
    "\n",
    "#create New Table for central Tendency & descriptive\n",
    "descriptive=pd.DataFrame(index=[\"Mean\",\"Median\",\"Mode\",\n",
    "                                \"Min\",\"Q1-25%\",\"Q2-50%\",\"Q3-75%\",\"Max\",\n",
    "                               \"IQR\",\"1.5-Rule\",\"Lower-Bound\",\"Upper-Bound\"]\n",
    "                         ,columns=quan)\n",
    "for x in quan:\n",
    "    #print(x)\n",
    "    descriptive.loc[\"Mean\", x] = round(cleaned_dataset[x].mean(), 2)\n",
    "    descriptive.loc[\"Median\", x] = cleaned_dataset[x].median()\n",
    "    descriptive.loc[\"Mode\", x] = round(cleaned_dataset[x].mode()[0], 2)\n",
    "    descriptive.loc[\"Min\",x]=cleaned_dataset.describe().loc['min',x]\n",
    "    descriptive.loc[\"Q1-25%\",x]=cleaned_dataset.describe().loc['25%',x]\n",
    "    descriptive.loc[\"Q2-50%\",x]=cleaned_dataset.describe().loc['50%',x]\n",
    "    descriptive.loc[\"Q3-75%\",x]=cleaned_dataset.describe().loc['75%',x]\n",
    "    descriptive.loc[\"Max\",x]=cleaned_dataset.describe().loc['max',x]\n",
    "    descriptive.loc[\"IQR\",x]=descriptive.loc[\"Q3-75%\",x]-descriptive.loc[\"Q1-25%\",x]\n",
    "    descriptive.loc[\"1.5-Rule\",x]=1.5*descriptive.loc[\"IQR\",x]\n",
    "    descriptive.loc[\"Lower-Bound\",x]=descriptive.loc[\"Q1-25%\",x]-descriptive.loc[\"1.5-Rule\",x]\n",
    "    descriptive.loc[\"Upper-Bound\",x]=descriptive.loc[\"Q3-75%\",x]+descriptive.loc[\"1.5-Rule\",x]\n",
    "print(descriptive)\n",
    "lesser=[]\n",
    "greater=[]\n",
    "for x in quan:\n",
    "    if descriptive.loc[\"Min\",x]<descriptive.loc[\"Lower-Bound\",x]:\n",
    "        lesser.append(x)\n",
    "        print(f\"Lower outlier in :'{x}' value :\", descriptive.loc[\"Min\",x])\n",
    "    if descriptive.loc[\"Max\",x]>descriptive.loc[\"Upper-Bound\",x]:\n",
    "        greater.append(x)\n",
    "        print(f\"Upper outlier in :'{x}' value :\", descriptive.loc[\"Max\",x])\n",
    "print(lesser,greater)"
   ]
  },
  {
   "cell_type": "code",
   "execution_count": null,
   "id": "b3e2fd68-01c0-4ce7-b12a-70882515bb12",
   "metadata": {},
   "outputs": [],
   "source": []
  }
 ],
 "metadata": {
  "kernelspec": {
   "display_name": "Python 3 (ipykernel)",
   "language": "python",
   "name": "python3"
  },
  "language_info": {
   "codemirror_mode": {
    "name": "ipython",
    "version": 3
   },
   "file_extension": ".py",
   "mimetype": "text/x-python",
   "name": "python",
   "nbconvert_exporter": "python",
   "pygments_lexer": "ipython3",
   "version": "3.13.7"
  }
 },
 "nbformat": 4,
 "nbformat_minor": 5
}
