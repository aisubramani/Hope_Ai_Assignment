{
 "cells": [
  {
   "cell_type": "code",
   "execution_count": 35,
   "id": "fe73e0dd-599b-4850-8d8a-a50049005eb4",
   "metadata": {},
   "outputs": [
    {
     "name": "stdout",
     "output_type": "stream",
     "text": [
      "mean: 4.071428571428571\n",
      "median: 4.5\n",
      "mode: 0    1\n",
      "Name: val, dtype: int64\n",
      "percentile 1.25\n",
      "percentile 1.25\n"
     ]
    }
   ],
   "source": [
    "import numpy as np\n",
    "import pandas as pd\n",
    "data={\"val\":[-20,1,3,2,4,8,5,6,7,9,1,5,1,25]}\n",
    "data=pd.DataFrame(data)\n",
    "#data\n",
    "print(\"mean:\",data['val'].mean())\n",
    "print(\"median:\",data['val'].median())\n",
    "print(\"mode:\",data['val'].mode())\n",
    "print(\"percentile\",data['val'].quantile(0.25))\n",
    "print(\"percentile\",np.percentile(data['val'],25))"
   ]
  },
  {
   "cell_type": "code",
   "execution_count": 50,
   "id": "46972258-48fd-4f6e-ba28-64721d11f884",
   "metadata": {},
   "outputs": [
    {
     "name": "stdout",
     "output_type": "stream",
     "text": [
      "Q1: 1.25\n",
      "Q3: 6.75\n",
      "IQR: 5.5\n",
      "upperbound: 15.0\n",
      "lowerbound: -7.0\n",
      "outliers:     val\n",
      "0   -20\n",
      "13   25\n"
     ]
    }
   ],
   "source": [
    "#meaure of location of the datq\n",
    "q1=np.percentile(data['val'],25)\n",
    "q3=np.percentile(data['val'],75)\n",
    "iqr=q3-q1\n",
    "upperbound=q3+1.5*iqr\n",
    "lowerbound=q1-1.5*iqr\n",
    "outliers=data[(data['val']<lowerbound) | (data['val']>upperbound)]\n",
    "print(\"Q1:\",q1)\n",
    "print(\"Q3:\",q3)\n",
    "print(\"IQR:\",iqr)\n",
    "print(\"upperbound:\",upperbound)\n",
    "print(\"lowerbound:\",lowerbound)\n",
    "print(\"outliers:\",outliers)"
   ]
  },
  {
   "cell_type": "code",
   "execution_count": 70,
   "id": "93e9f614-6bc7-4958-843b-b97882987ab5",
   "metadata": {},
   "outputs": [
    {
     "data": {
      "text/html": [
       "<div>\n",
       "<style scoped>\n",
       "    .dataframe tbody tr th:only-of-type {\n",
       "        vertical-align: middle;\n",
       "    }\n",
       "\n",
       "    .dataframe tbody tr th {\n",
       "        vertical-align: top;\n",
       "    }\n",
       "\n",
       "    .dataframe thead th {\n",
       "        text-align: right;\n",
       "    }\n",
       "</style>\n",
       "<table border=\"1\" class=\"dataframe\">\n",
       "  <thead>\n",
       "    <tr style=\"text-align: right;\">\n",
       "      <th></th>\n",
       "      <th>uni_val</th>\n",
       "      <th>feq</th>\n",
       "      <th>cum_feq</th>\n",
       "      <th>rel_freq</th>\n",
       "      <th>cum_rel_freq</th>\n",
       "    </tr>\n",
       "  </thead>\n",
       "  <tbody>\n",
       "    <tr>\n",
       "      <th>0</th>\n",
       "      <td>1</td>\n",
       "      <td>3</td>\n",
       "      <td>3</td>\n",
       "      <td>0.214286</td>\n",
       "      <td>0.214286</td>\n",
       "    </tr>\n",
       "    <tr>\n",
       "      <th>1</th>\n",
       "      <td>5</td>\n",
       "      <td>2</td>\n",
       "      <td>5</td>\n",
       "      <td>0.142857</td>\n",
       "      <td>0.357143</td>\n",
       "    </tr>\n",
       "    <tr>\n",
       "      <th>2</th>\n",
       "      <td>-20</td>\n",
       "      <td>1</td>\n",
       "      <td>6</td>\n",
       "      <td>0.071429</td>\n",
       "      <td>0.428571</td>\n",
       "    </tr>\n",
       "    <tr>\n",
       "      <th>3</th>\n",
       "      <td>3</td>\n",
       "      <td>1</td>\n",
       "      <td>7</td>\n",
       "      <td>0.071429</td>\n",
       "      <td>0.500000</td>\n",
       "    </tr>\n",
       "    <tr>\n",
       "      <th>4</th>\n",
       "      <td>2</td>\n",
       "      <td>1</td>\n",
       "      <td>8</td>\n",
       "      <td>0.071429</td>\n",
       "      <td>0.571429</td>\n",
       "    </tr>\n",
       "    <tr>\n",
       "      <th>5</th>\n",
       "      <td>4</td>\n",
       "      <td>1</td>\n",
       "      <td>9</td>\n",
       "      <td>0.071429</td>\n",
       "      <td>0.642857</td>\n",
       "    </tr>\n",
       "    <tr>\n",
       "      <th>6</th>\n",
       "      <td>8</td>\n",
       "      <td>1</td>\n",
       "      <td>10</td>\n",
       "      <td>0.071429</td>\n",
       "      <td>0.714286</td>\n",
       "    </tr>\n",
       "    <tr>\n",
       "      <th>7</th>\n",
       "      <td>6</td>\n",
       "      <td>1</td>\n",
       "      <td>11</td>\n",
       "      <td>0.071429</td>\n",
       "      <td>0.785714</td>\n",
       "    </tr>\n",
       "    <tr>\n",
       "      <th>8</th>\n",
       "      <td>7</td>\n",
       "      <td>1</td>\n",
       "      <td>12</td>\n",
       "      <td>0.071429</td>\n",
       "      <td>0.857143</td>\n",
       "    </tr>\n",
       "    <tr>\n",
       "      <th>9</th>\n",
       "      <td>9</td>\n",
       "      <td>1</td>\n",
       "      <td>13</td>\n",
       "      <td>0.071429</td>\n",
       "      <td>0.928571</td>\n",
       "    </tr>\n",
       "    <tr>\n",
       "      <th>10</th>\n",
       "      <td>25</td>\n",
       "      <td>1</td>\n",
       "      <td>14</td>\n",
       "      <td>0.071429</td>\n",
       "      <td>1.000000</td>\n",
       "    </tr>\n",
       "  </tbody>\n",
       "</table>\n",
       "</div>"
      ],
      "text/plain": [
       "    uni_val  feq  cum_feq  rel_freq  cum_rel_freq\n",
       "0         1    3        3  0.214286      0.214286\n",
       "1         5    2        5  0.142857      0.357143\n",
       "2       -20    1        6  0.071429      0.428571\n",
       "3         3    1        7  0.071429      0.500000\n",
       "4         2    1        8  0.071429      0.571429\n",
       "5         4    1        9  0.071429      0.642857\n",
       "6         8    1       10  0.071429      0.714286\n",
       "7         6    1       11  0.071429      0.785714\n",
       "8         7    1       12  0.071429      0.857143\n",
       "9         9    1       13  0.071429      0.928571\n",
       "10       25    1       14  0.071429      1.000000"
      ]
     },
     "execution_count": 70,
     "metadata": {},
     "output_type": "execute_result"
    }
   ],
   "source": [
    "#feq\n",
    "freq_table=data[\"val\"].value_counts().reset_index()\n",
    "freq_table.columns=['uni_val','feq']\n",
    "freq_table['cum_feq']=freq_table['feq'].cumsum()\n",
    "freq_table['rel_freq']=freq_table['feq']/freq_table['feq'].sum()\n",
    "freq_table['cum_rel_freq']=freq_table['rel_freq'].cumsum()\n",
    "\n",
    "freq_table"
   ]
  },
  {
   "cell_type": "code",
   "execution_count": 71,
   "id": "bc68f536-3b12-4605-b20c-f1e456162973",
   "metadata": {},
   "outputs": [
    {
     "data": {
      "text/plain": [
       "np.float64(-0.534139625640503)"
      ]
     },
     "execution_count": 71,
     "metadata": {},
     "output_type": "execute_result"
    }
   ],
   "source": [
    "kewness → “Which side is the data leaning?”\n",
    "Skewness\n",
    "\n",
    "Definition: Measures asymmetry of a data distribution around its mean.\n",
    "\n",
    "Interpretation:\n",
    "\n",
    "Skewness = 0 → perfectly symmetric (like normal distribution)\n",
    "\n",
    "Skewness > 0 → right-skewed (long tail on the right)\n",
    "\n",
    "Skewness < 0 → left-skewed (long tail on the left)\n"
   ]
  },
  {
   "cell_type": "code",
   "execution_count": 76,
   "id": "5a7ff36d-539b-4adb-91dd-2f3bde86de00",
   "metadata": {},
   "outputs": [
    {
     "name": "stdout",
     "output_type": "stream",
     "text": [
      "kew : -0.534139625640503\n"
     ]
    }
   ],
   "source": [
    "print(\"kew :\",data['val'].skew())"
   ]
  },
  {
   "cell_type": "code",
   "execution_count": 72,
   "id": "0975667d-0c84-482b-b3e3-1c0c800a74b4",
   "metadata": {},
   "outputs": [
    {
     "data": {
      "text/plain": [
       "np.float64(5.11703214023562)"
      ]
     },
     "execution_count": 72,
     "metadata": {},
     "output_type": "execute_result"
    }
   ],
   "source": [
    "Kurtosis → “How heavy or light are the tails / outliers?”\n",
    "Definition: Measures the tailedness / peak of a distribution.\n",
    "\n",
    "Interpretation:\n",
    "\n",
    "Kurtosis ≈ 3 (mesokurtic) → normal distribution\n",
    "\n",
    "Kurtosis > 3 (leptokurtic) → heavy tails, higher chance of outliers\n",
    "\n",
    "Kurtosis < 3 (platykurtic) → light tails, flatter distribution\n",
    "    \n"
   ]
  },
  {
   "cell_type": "code",
   "execution_count": 78,
   "id": "4ea9bf8e-4175-4902-be69-a1fc4c978ee2",
   "metadata": {},
   "outputs": [
    {
     "name": "stdout",
     "output_type": "stream",
     "text": [
      "kurtosis: 5.11703214023562\n"
     ]
    }
   ],
   "source": [
    "print(\"kurtosis:\",data['val'].kurtosis())"
   ]
  },
  {
   "cell_type": "code",
   "execution_count": 79,
   "id": "c5b8bf6c-d41a-446b-b386-15a3c930860d",
   "metadata": {},
   "outputs": [
    {
     "name": "stdout",
     "output_type": "stream",
     "text": [
      "outliers: 84.99450549450549\n"
     ]
    }
   ],
   "source": [
    "print(\"Variance:\",data['val'].var())"
   ]
  },
  {
   "cell_type": "code",
   "execution_count": 80,
   "id": "1a6ecb64-46d7-498f-8d76-308160bc21dd",
   "metadata": {},
   "outputs": [
    {
     "name": "stdout",
     "output_type": "stream",
     "text": [
      "Standard Diviation: 9.219246471079156\n"
     ]
    }
   ],
   "source": [
    "print(\"Standard Diviation:\",data['val'].std())"
   ]
  },
  {
   "cell_type": "code",
   "execution_count": 81,
   "id": "9b07ef20-2c9b-4d63-8033-c5cceeddb8ab",
   "metadata": {
    "scrolled": true
   },
   "outputs": [
    {
     "name": "stdout",
     "output_type": "stream",
     "text": [
      "Normal Distbution:\n"
     ]
    },
    {
     "name": "stderr",
     "output_type": "stream",
     "text": [
      "C:\\Users\\15016\\AppData\\Local\\Temp\\ipykernel_35804\\1844820425.py:3: UserWarning: \n",
      "\n",
      "`distplot` is a deprecated function and will be removed in seaborn v0.14.0.\n",
      "\n",
      "Please adapt your code to use either `displot` (a figure-level function with\n",
      "similar flexibility) or `histplot` (an axes-level function for histograms).\n",
      "\n",
      "For a guide to updating your code to use the new functions, please see\n",
      "https://gist.github.com/mwaskom/de44147ed2974457ad6372750bbe5751\n",
      "\n",
      "  sns.distplot(data['val'])\n"
     ]
    },
    {
     "data": {
      "text/plain": [
       "<Axes: xlabel='val', ylabel='Density'>"
      ]
     },
     "execution_count": 81,
     "metadata": {},
     "output_type": "execute_result"
    },
    {
     "data": {
      "image/png": "[encoded data removed]",
      "text/plain": [
       "<Figure size 640x480 with 1 Axes>"
      ]
     },
     "metadata": {},
     "output_type": "display_data"
    }
   ],
   "source": [
    "print(\"Normal Distbution:\")\n",
    "import seaborn as sns\n",
    "sns.distplot(data['val'])"
   ]
  },
  {
   "cell_type": "code",
   "execution_count": 84,
   "id": "7d2b3114-aa08-4486-ae55-f1357eb4c1e5",
   "metadata": {},
   "outputs": [
    {
     "name": "stderr",
     "output_type": "stream",
     "text": [
      "C:\\Users\\15016\\AppData\\Local\\Temp\\ipykernel_35804\\3340075074.py:6: UserWarning: \n",
      "\n",
      "`distplot` is a deprecated function and will be removed in seaborn v0.14.0.\n",
      "\n",
      "Please adapt your code to use either `displot` (a figure-level function with\n",
      "similar flexibility) or `histplot` (an axes-level function for histograms).\n",
      "\n",
      "For a guide to updating your code to use the new functions, please see\n",
      "https://gist.github.com/mwaskom/de44147ed2974457ad6372750bbe5751\n",
      "\n",
      "  sns.distplot(data[\"z_score\"], kde=True)\n"
     ]
    },
    {
     "data": {
      "text/plain": [
       "<Axes: xlabel='z_score', ylabel='Density'>"
      ]
     },
     "execution_count": 84,
     "metadata": {},
     "output_type": "execute_result"
    },
    {
     "data": {
      "image/png": "[encoded data removed]",
      "text/plain": [
       "<Figure size 640x480 with 1 Axes>"
      ]
     },
     "metadata": {},
     "output_type": "display_data"
    }
   ],
   "source": [
    "# Calculate Z-score\n",
    "from scipy.stats import zscore\n",
    "data[\"z_score\"] = zscore(data['val'])\n",
    "data\n",
    "import seaborn as sns\n",
    "sns.distplot(data[\"z_score\"], kde=True)"
   ]
  },
  {
   "cell_type": "code",
   "execution_count": null,
   "id": "30e58aeb-0799-4b98-b0d2-19d843645bbc",
   "metadata": {},
   "outputs": [],
   "source": []
  }
 ],
 "metadata": {
  "kernelspec": {
   "display_name": "Python 3 (ipykernel)",
   "language": "python",
   "name": "python3"
  },
  "language_info": {
   "codemirror_mode": {
    "name": "ipython",
    "version": 3
   },
   "file_extension": ".py",
   "mimetype": "text/x-python",
   "name": "python",
   "nbconvert_exporter": "python",
   "pygments_lexer": "ipython3",
   "version": "3.13.7"
  }
 },
 "nbformat": 4,
 "nbformat_minor": 5
}
