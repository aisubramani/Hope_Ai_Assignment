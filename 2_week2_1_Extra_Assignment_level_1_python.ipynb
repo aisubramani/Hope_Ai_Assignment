{
 "cells": [
  {
   "cell_type": "code",
   "execution_count": 10,
   "id": "dc7b0421-e88a-4bf6-a04d-ed0a9cb517bb",
   "metadata": {},
   "outputs": [
    {
     "name": "stdout",
     "output_type": "stream",
     "text": [
      "HOPI AI week 2 Extra Assignment Level 1 Python\n"
     ]
    }
   ],
   "source": [
    "#print\n",
    "print (\"HOPI AI week 2 Extra Assignment Level 1 Python\")"
   ]
  },
  {
   "cell_type": "code",
   "execution_count": 2,
   "id": "7c5dfbab-e292-4be5-bdf3-31154d285377",
   "metadata": {},
   "outputs": [
    {
     "name": "stdin",
     "output_type": "stream",
     "text": [
      "Enter your institute name?: Subramani\n"
     ]
    }
   ],
   "source": [
    "#Buy Input\n",
    "my_name=str(input(\"Enter your institute name?:\"))"
   ]
  },
  {
   "cell_type": "code",
   "execution_count": 5,
   "id": "3e4dfefd-c0b7-47bf-926c-1449d69c27e9",
   "metadata": {},
   "outputs": [
    {
     "name": "stdin",
     "output_type": "stream",
     "text": [
      "Enter your name: Subramani\n",
      "Enter your age: 25\n",
      "Enter your school Name: Kongunadu\n",
      "Enter your degree: MSc\n"
     ]
    }
   ],
   "source": [
    "#Buy Inputs\n",
    "my_name=str(input(\"Enter your name:\"))\n",
    "my_age=int(input(\"Enter your age:\"))\n",
    "my_school=str(input(\"Enter your school Name:\"))\n",
    "my_degree=str(input(\"Enter your degree:\"))"
   ]
  },
  {
   "cell_type": "code",
   "execution_count": 7,
   "id": "a3244ea1-71b1-4efb-896d-20892990af51",
   "metadata": {},
   "outputs": [
    {
     "name": "stdin",
     "output_type": "stream",
     "text": [
      "a = 25\n",
      "b = 75\n"
     ]
    },
    {
     "name": "stdout",
     "output_type": "stream",
     "text": [
      "Addition = 100\n"
     ]
    }
   ],
   "source": [
    "#Addition\n",
    "my_a=int(input(\"a =\"))\n",
    "my_b=int(input(\"b =\"))\n",
    "print(\"Addition =\",my_a+my_b)"
   ]
  },
  {
   "cell_type": "code",
   "execution_count": 9,
   "id": "2fd78e91-5556-4947-ba21-47a57bc88798",
   "metadata": {},
   "outputs": [
    {
     "name": "stdin",
     "output_type": "stream",
     "text": [
      "a = 40\n",
      "b = 60\n"
     ]
    },
    {
     "name": "stdout",
     "output_type": "stream",
     "text": [
      "Subtraction = -20\n"
     ]
    }
   ],
   "source": [
    "#Subtraction\n",
    "my_a=int(input(\"a =\"))\n",
    "my_b=int(input(\"b =\"))\n",
    "print(\"Subtraction =\",my_a-my_b)"
   ]
  },
  {
   "cell_type": "code",
   "execution_count": 11,
   "id": "536301b9-0b14-4ede-b791-a2e43e9acc54",
   "metadata": {},
   "outputs": [
    {
     "name": "stdin",
     "output_type": "stream",
     "text": [
      "a = 10\n",
      "b = 3\n"
     ]
    },
    {
     "name": "stdout",
     "output_type": "stream",
     "text": [
      "Multiplication = 30\n"
     ]
    }
   ],
   "source": [
    "#Multiplication\n",
    "my_a=int(input(\"a =\"))\n",
    "my_b=int(input(\"b =\"))\n",
    "print(\"Multiplication =\",my_a*my_b)"
   ]
  },
  {
   "cell_type": "code",
   "execution_count": 14,
   "id": "870f037e-06b5-4645-b357-b31c518024b1",
   "metadata": {},
   "outputs": [
    {
     "name": "stdin",
     "output_type": "stream",
     "text": [
      "a = 7\n",
      "b = 3\n"
     ]
    },
    {
     "name": "stdout",
     "output_type": "stream",
     "text": [
      "Float Division = 2.3333333333333335\n"
     ]
    }
   ],
   "source": [
    "#Division\n",
    "my_a=int(input(\"a =\"))\n",
    "my_b=int(input(\"b =\"))\n",
    "print(\"Float Division =\",my_a/my_b)"
   ]
  },
  {
   "cell_type": "code",
   "execution_count": 15,
   "id": "6f767282-d857-4849-bba8-0b27e45c6013",
   "metadata": {},
   "outputs": [
    {
     "name": "stdin",
     "output_type": "stream",
     "text": [
      "a = 7\n",
      "b = 3\n"
     ]
    },
    {
     "name": "stdout",
     "output_type": "stream",
     "text": [
      "Floor Division = 2\n"
     ]
    }
   ],
   "source": [
    "#Floor Division\n",
    "my_a=int(input(\"a =\"))\n",
    "my_b=int(input(\"b =\"))\n",
    "print(\"Floor Division =\",my_a//my_b)"
   ]
  },
  {
   "cell_type": "code",
   "execution_count": 16,
   "id": "46aaf4d4-8829-473d-946b-bbb57856429f",
   "metadata": {},
   "outputs": [
    {
     "name": "stdin",
     "output_type": "stream",
     "text": [
      "a = 7\n",
      "b = 3\n"
     ]
    },
    {
     "name": "stdout",
     "output_type": "stream",
     "text": [
      "Modulo= 1\n"
     ]
    }
   ],
   "source": [
    "#Modulo\n",
    "my_a=int(input(\"a =\"))\n",
    "my_b=int(input(\"b =\"))\n",
    "print(\"Modulo=\",my_a%my_b)"
   ]
  },
  {
   "cell_type": "code",
   "execution_count": 18,
   "id": "1b7196da-ae7a-4dbf-9b1f-014c15edbfc5",
   "metadata": {},
   "outputs": [
    {
     "name": "stdin",
     "output_type": "stream",
     "text": [
      "a = 5\n",
      "b = 3\n"
     ]
    },
    {
     "name": "stdout",
     "output_type": "stream",
     "text": [
      "Power= 125\n"
     ]
    }
   ],
   "source": [
    "#Power\n",
    "my_a=int(input(\"a =\"))\n",
    "my_b=int(input(\"b =\"))\n",
    "print(\"Power=\",my_a**my_b)"
   ]
  },
  {
   "cell_type": "code",
   "execution_count": null,
   "id": "3d326546-a07c-409b-8b74-49121268d6ca",
   "metadata": {},
   "outputs": [],
   "source": []
  }
 ],
 "metadata": {
  "kernelspec": {
   "display_name": "Python [conda env:base] *",
   "language": "python",
   "name": "conda-base-py"
  },
  "language_info": {
   "codemirror_mode": {
    "name": "ipython",
    "version": 3
   },
   "file_extension": ".py",
   "mimetype": "text/x-python",
   "name": "python",
   "nbconvert_exporter": "python",
   "pygments_lexer": "ipython3",
   "version": "3.13.5"
  }
 },
 "nbformat": 4,
 "nbformat_minor": 5
}
