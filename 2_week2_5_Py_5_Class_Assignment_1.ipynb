{
 "cells": [
  {
   "cell_type": "code",
   "execution_count": null,
   "id": "55b174ed-a7e2-4d28-978b-a08f3dd71a9e",
   "metadata": {},
   "outputs": [],
   "source": [
    "#python Class Assignment 1"
   ]
  },
  {
   "cell_type": "code",
   "execution_count": 4,
   "id": "42755893-0b88-41b0-b6f2-332539e418fd",
   "metadata": {},
   "outputs": [
    {
     "name": "stdout",
     "output_type": "stream",
     "text": [
      "Sub-fields in AI are:\n",
      " Machine Learning\n",
      " Neural Networks\n",
      " Vision\n",
      " Robotics\n",
      " Speech Processing\n",
      " Natural Language Processing\n"
     ]
    }
   ],
   "source": [
    "#Subfields using Class\n",
    "\n",
    "class SubfieldsInAI():\n",
    "    def subfields():\n",
    "        print(\"Sub-fields in AI are:\")\n",
    "        print(\" Machine Learning\")\n",
    "        print(\" Neural Networks\")\n",
    "        print(\" Vision\")\n",
    "        print(\" Robotics\")\n",
    "        print(\" Speech Processing\")\n",
    "        print(\" Natural Language Processing\")\n",
    "\n",
    "SubfieldsInAI.subfields()"
   ]
  },
  {
   "cell_type": "code",
   "execution_count": 7,
   "id": "72f29215-b7c4-4db3-b5fe-7c33b15e4d69",
   "metadata": {},
   "outputs": [
    {
     "name": "stdin",
     "output_type": "stream",
     "text": [
      "Enter a number: 144323\n"
     ]
    },
    {
     "name": "stdout",
     "output_type": "stream",
     "text": [
      "144323 is Odd Number\n"
     ]
    }
   ],
   "source": [
    "#Create a function that checks whether the given number is Odd or Even\n",
    "class oddEvenclass():\n",
    "    def oddEven():\n",
    "        my_number=int(input(\"Enter a number:\"))\n",
    "        if((my_number%2)==0):\n",
    "            out= str(my_number)+' is Even Number';\n",
    "        else:\n",
    "            out= str(my_number)+' is Odd Number';\n",
    "        print(out)\n",
    "    \n",
    "oddEvenclass.oddEven()"
   ]
  },
  {
   "cell_type": "code",
   "execution_count": 8,
   "id": "5425cd8f-d5b3-45e7-8c4a-4dae5ccb4605",
   "metadata": {},
   "outputs": [
    {
     "name": "stdin",
     "output_type": "stream",
     "text": [
      "Your Gender: female\n",
      "Your Age: 17\n"
     ]
    },
    {
     "name": "stdout",
     "output_type": "stream",
     "text": [
      "FEMALE 17 age is NOT Eligible\n"
     ]
    }
   ],
   "source": [
    "# Create a function that tells elegibility of marriage \n",
    "#for male and female according to their age limit \n",
    "#like 21 for male and 18 for female\n",
    "\n",
    "class ElegiblityForMarriage():\n",
    "    def MarriageElegible():\n",
    "        gender=str(input(\"Your Gender:\"))\n",
    "        age=int(input(\"Your Age:\"))\n",
    "        if(gender.lower()==\"male\"):\n",
    "            if(age<21):\n",
    "                print(gender.upper(),age,\"age is NOT Eligible\")\n",
    "            else:\n",
    "                print(gender.upper(),age,\"age is Eligible\")\n",
    "                \n",
    "        if(gender.lower()==\"female\"):\n",
    "            if(age<18):\n",
    "                print(gender.upper(),age,\"age is NOT Eligible\")\n",
    "            else:\n",
    "                print(gender.upper(),age,\"age is Eligible\")\n",
    "\n",
    "        \n",
    "ElegiblityForMarriage.MarriageElegible()\n"
   ]
  },
  {
   "cell_type": "code",
   "execution_count": 9,
   "id": "14ba8abb-10fe-4861-8762-31ce15310012",
   "metadata": {},
   "outputs": [
    {
     "name": "stdin",
     "output_type": "stream",
     "text": [
      "Subject1=  98\n",
      "Subject2=  87\n",
      "Subject3=  95\n",
      "Subject4=  46\n",
      "Subject5=  79\n"
     ]
    },
    {
     "name": "stdout",
     "output_type": "stream",
     "text": [
      "Total :  405\n",
      "Percentage : 81.0 %\n"
     ]
    }
   ],
   "source": [
    "# class calculate the percentage of your 10th mar\n",
    "class FindPercent():\n",
    "    def percentage():\n",
    "        total=0\n",
    "        for i in range(1,6):\n",
    "            subjectMark=int(input(\"Subject\"+str(i)+\"= \"))\n",
    "            total+=subjectMark\n",
    "        print(\"Total : \",total)\n",
    "        print(\"Percentage :\",round((total/500)*100,2), \"%\")\n",
    "\n",
    "FindPercent.percentage()"
   ]
  },
  {
   "cell_type": "code",
   "execution_count": 11,
   "id": "fc9cb878-2608-4fd3-8c63-5b45dec54b1d",
   "metadata": {},
   "outputs": [
    {
     "name": "stdout",
     "output_type": "stream",
     "text": [
      "Height: 32\n",
      "Breadth: 34\n",
      "Area formula:(Height*Breadth)/2\n",
      "Area of Triangle: 544.0\n",
      "Height1: 2\n",
      "Height2: 4\n",
      "Breadth: 4\n",
      "Perimeter formula: Height1+Height2+Breadth\n",
      "Perimeter of Triangle: 10\n"
     ]
    }
   ],
   "source": [
    "#print area and perimeter of triangle using class and functions\n",
    "class triangle():\n",
    "    def Areaformula(Height,Breadth):\n",
    "        print(\"Height:\",Height)\n",
    "        print(\"Breadth:\",Breadth)\n",
    "        print(\"Area formula:(Height*Breadth)/2\")\n",
    "        print(\"Area of Triangle:\",(Height*Breadth)/2)\n",
    "    \n",
    "    def Perimeter(Height1,Height2,Breadth):\n",
    "        print(\"Height1:\",Height1)\n",
    "        print(\"Height2:\",Height2)\n",
    "        print(\"Breadth:\",Breadth)\n",
    "        print(\"Perimeter formula: Height1+Height2+Breadth\")\n",
    "        print(\"Perimeter of Triangle:\", Height1+Height2+Breadth)\n",
    "    \n",
    "triangle.Areaformula(32,34)\n",
    "triangle.Perimeter(2,4,4)"
   ]
  },
  {
   "cell_type": "code",
   "execution_count": null,
   "id": "68f75825-5145-47f9-a724-585650176b49",
   "metadata": {},
   "outputs": [],
   "source": []
  }
 ],
 "metadata": {
  "kernelspec": {
   "display_name": "Python [conda env:base] *",
   "language": "python",
   "name": "conda-base-py"
  },
  "language_info": {
   "codemirror_mode": {
    "name": "ipython",
    "version": 3
   },
   "file_extension": ".py",
   "mimetype": "text/x-python",
   "name": "python",
   "nbconvert_exporter": "python",
   "pygments_lexer": "ipython3",
   "version": "3.13.5"
  }
 },
 "nbformat": 4,
 "nbformat_minor": 5
}
