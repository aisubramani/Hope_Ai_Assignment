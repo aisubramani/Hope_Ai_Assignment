{
 "cells": [
  {
   "cell_type": "markdown",
   "id": "1c18be43-4c51-4bbe-92fc-e2a0eb3ac77e",
   "metadata": {},
   "source": [
    "# Deployment with load Standard Scaler X input, Y output and SVR Model"
   ]
  },
  {
   "cell_type": "code",
   "execution_count": 2,
   "id": "5a28d8a7-26bc-4d49-905c-121bb9bb36c8",
   "metadata": {},
   "outputs": [
    {
     "name": "stdout",
     "output_type": "stream",
     "text": [
      "Pre input after Scaler \n",
      " [[-0.81907079  0.43819566  1.59428492  1.02378711 -0.50466988]]\n",
      "\n",
      " pre output with Standandscaler:  [-0.67564985]\n",
      "------------------------------\n",
      "Insurance Charges:  5209.92\n",
      "------------------------------\n"
     ]
    }
   ],
   "source": [
    "#data collection\n",
    "import numpy as np\n",
    "import matplotlib.pyplot as plt\n",
    "import pandas as pd\n",
    "import joblib\n",
    "import warnings\n",
    "# Suppress all warnings\n",
    "warnings.filterwarnings('ignore')\n",
    "\n",
    "\n",
    "# ⬇️ Load the saved scaler model x\n",
    "sc_x = joblib.load('scaler_model_x.sav')\n",
    "\n",
    "# ⬇️ Load the saved scaler model y\n",
    "sc_y = joblib.load('scaler_model_y.sav')\n",
    "\n",
    "# ⬇️ Load the saved SVR Model\n",
    "loaded_model = joblib.load('final_svr_model_preProc_xy.sav')\n",
    "\n",
    "#example input from dataset\n",
    "# Age  BMI   Children   Male=0,Female=1  Smoker=Yes:0,No:1   charges\n",
    "# 19   27       0         0                  1              16884.924\n",
    "# 18   33       1         1                  0              1725.5523\n",
    "# 28   33       3         1                  0              4449.462\n",
    "\n",
    "#apply StandardScaler to user input x before predict\n",
    "preinput=sc_x.transform([[28,33,3,1,0]])\n",
    "print(\"Pre input after Scaler \\n\",preinput)\n",
    "pre_result=loaded_model.predict(preinput)\n",
    "print(\"\\n pre output with Standandscaler: \",pre_result)\n",
    "\n",
    "result=sc_y.inverse_transform([pre_result])\n",
    "print(\"------------------------------\")\n",
    "print(\"Insurance Charges: \",round(result[0][0],2))\n",
    "print(\"------------------------------\")\n"
   ]
  },
  {
   "cell_type": "code",
   "execution_count": null,
   "id": "77af287e-5ba9-435c-a083-46a8681af469",
   "metadata": {},
   "outputs": [],
   "source": []
  }
 ],
 "metadata": {
  "kernelspec": {
   "display_name": "Python 3 (ipykernel)",
   "language": "python",
   "name": "python3"
  },
  "language_info": {
   "codemirror_mode": {
    "name": "ipython",
    "version": 3
   },
   "file_extension": ".py",
   "mimetype": "text/x-python",
   "name": "python",
   "nbconvert_exporter": "python",
   "pygments_lexer": "ipython3",
   "version": "3.13.7"
  }
 },
 "nbformat": 4,
 "nbformat_minor": 5
}
