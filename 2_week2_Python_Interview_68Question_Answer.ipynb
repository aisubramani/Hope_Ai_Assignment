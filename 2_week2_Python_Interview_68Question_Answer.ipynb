{
 "cells": [
  {
   "cell_type": "code",
   "execution_count": null,
   "id": "b36c1faa-b894-48ca-bd20-adad59299551",
   "metadata": {},
   "outputs": [],
   "source": [
    "\"\"\"\n",
    "        Python Q/A - Python - 68 Interview Question with Answers\n",
    "        -Subramani-\n",
    "\"\"\""
   ]
  },
  {
   "cell_type": "code",
   "execution_count": 135,
   "id": "b713e28a-41d8-4a9d-baa6-bb2e83bd8f4c",
   "metadata": {},
   "outputs": [
    {
     "name": "stdout",
     "output_type": "stream",
     "text": [
      "['a', 'b', 'c']\n"
     ]
    }
   ],
   "source": [
    "'''1.How do you get a list of all the keys in a dictionary?'''\n",
    "dictionary = {\"a\": 1, \"b\": 2, \"c\": 3}\n",
    "keys = list(dictionary.keys()) \n",
    "print(keys)"
   ]
  },
  {
   "cell_type": "code",
   "execution_count": 78,
   "id": "5aa13267-7d56-4fff-bf6f-acea9daf09e5",
   "metadata": {},
   "outputs": [
    {
     "name": "stdout",
     "output_type": "stream",
     "text": [
      "(6, 9, 12)\n"
     ]
    }
   ],
   "source": [
    "'''2. Write a program to filter out the number divisible by 3 from a\n",
    "tuple using lambda function?'''\n",
    "num=(1,2,4,5,6,9,1,12)\n",
    "div_by_3=tuple(filter(lambda x:x%3==0,num))\n",
    "print(div_by_3)"
   ]
  },
  {
   "cell_type": "code",
   "execution_count": 5,
   "id": "02ff11db-51f7-4e58-a017-c0d837c150d9",
   "metadata": {},
   "outputs": [
    {
     "name": "stdout",
     "output_type": "stream",
     "text": [
      "\n"
     ]
    }
   ],
   "source": [
    "'''3. Why do we need different data types in python?\n",
    "Different data types in Python are necessary to handle various\n",
    "kinds of data appropriately, ensuring efficient storage and\n",
    "operations. For example, \n",
    "integers for counting, \n",
    "floats for decimal numbers, \n",
    "strings for text, \n",
    "lists/Tuple for ordered collections, and\n",
    "dictionaries for key-value pairs'''\n",
    "print(\"\")"
   ]
  },
  {
   "cell_type": "code",
   "execution_count": 232,
   "id": "c7eab9f5-b33c-4854-8e40-bc3a2595150b",
   "metadata": {},
   "outputs": [
    {
     "name": "stdout",
     "output_type": "stream",
     "text": [
      "<class 'int'>\n",
      "<class 'float'>\n",
      "<class 'str'>\n",
      "<class 'list'>\n",
      "<class 'tuple'>\n",
      "<class 'dict'>\n"
     ]
    }
   ],
   "source": [
    "'''4.How to check the data type of variable in python?'''\n",
    "print(type(23))\n",
    "print(type(23.3))\n",
    "print(type(\"Hello\"))\n",
    "list1=[1,2,3]\n",
    "print(type(list1))\n",
    "tuple1=(1,2,3)\n",
    "print(type(tuple1))\n",
    "dic={1:\"a\",2:\"b\",3:\"c\"}\n",
    "print(type(dic))"
   ]
  },
  {
   "cell_type": "code",
   "execution_count": 9,
   "id": "f361b3b6-3998-426b-acf9-985c740878da",
   "metadata": {},
   "outputs": [
    {
     "name": "stdout",
     "output_type": "stream",
     "text": [
      "<class 'str'>\n",
      "<class 'int'>\n"
     ]
    }
   ],
   "source": [
    "'''5.Convert a given string to int using a single line of code'''\n",
    "str_val=\"123\"\n",
    "print(type(str_val))\n",
    "my_int=int(str_val)\n",
    "print(type(my_int))"
   ]
  },
  {
   "cell_type": "code",
   "execution_count": null,
   "id": "08956207-a359-4fc9-a6a6-6633c3e09ed2",
   "metadata": {},
   "outputs": [],
   "source": [
    "'''6.What is the difference between mutable and immutable?\n",
    "Mutable: Objects that can be changed after creation (e.g., lists,\n",
    "dictionaries).\n",
    "Immutable: Objects that cannot be changed after creation (e.g.,\n",
    "tuples, strings)"
   ]
  },
  {
   "cell_type": "code",
   "execution_count": 13,
   "id": "e6048fcc-8943-4fbb-951f-09564ee9c07a",
   "metadata": {},
   "outputs": [],
   "source": [
    "'''7.How can you delete a file in Python?'''\n",
    "import os\n",
    "os.remove(\"demofile.txt\")\n"
   ]
  },
  {
   "cell_type": "code",
   "execution_count": 14,
   "id": "a315a7bc-d928-4497-a9e7-78c805d456f8",
   "metadata": {},
   "outputs": [
    {
     "name": "stdout",
     "output_type": "stream",
     "text": [
      "1\n"
     ]
    }
   ],
   "source": [
    "'''8. How to access an element of a list?'''\n",
    "mylist=[1,2,3]\n",
    "print(mylist[0])"
   ]
  },
  {
   "cell_type": "code",
   "execution_count": 22,
   "id": "3e08c9c6-20f4-40d4-871e-5d78fcaf61d5",
   "metadata": {},
   "outputs": [
    {
     "name": "stdout",
     "output_type": "stream",
     "text": [
      "[2, 3, 5, 7]\n",
      "[3, 5, 7]\n",
      "[3, 5]\n"
     ]
    }
   ],
   "source": [
    "'''9.Discuss different ways of deleting an element from a list.?'''\n",
    "mylist=[1,2,3,5,7]\n",
    "del mylist[0]\n",
    "print(mylist)\n",
    "mylist.remove(2)\n",
    "print(mylist)\n",
    "mylist.pop()\n",
    "print(mylist)"
   ]
  },
  {
   "cell_type": "code",
   "execution_count": 27,
   "id": "90d5191b-296b-4fcf-af54-f1fd96b7a0c7",
   "metadata": {},
   "outputs": [],
   "source": [
    "'''10.Write a code snippet to delete an entire list.?'''\n",
    "mylist=[1,2,3,5,7]\n",
    "del mylist"
   ]
  },
  {
   "cell_type": "code",
   "execution_count": 32,
   "id": "fbd920f5-c96e-44d1-b471-41071468ec48",
   "metadata": {},
   "outputs": [
    {
     "name": "stdout",
     "output_type": "stream",
     "text": [
      "[1, 2, 3, 5, 7]\n",
      "[7, 5, 3, 2, 1]\n"
     ]
    }
   ],
   "source": [
    "'''11.Write a code snippet to reverse an array'''\n",
    "import array\n",
    "# Creating an array of signed integers ('i' type code)\n",
    "myarray=array.array(\"i\",[1,2,3,4])\n",
    "print(type(myarray))\n",
    "print(myarray)\n",
    "myarray.reverse()\n",
    "print(myarray)"
   ]
  },
  {
   "cell_type": "code",
   "execution_count": 53,
   "id": "c5fd1b1a-b6a0-4cf0-9300-2742e28c2477",
   "metadata": {},
   "outputs": [
    {
     "name": "stdout",
     "output_type": "stream",
     "text": [
      "<class 'array.array'>\n",
      "array('i', [1, 2, 3, 5, 7])\n",
      "2\n",
      "array('i', [1, 2, 5, 7])\n",
      "array('i', [10, 2, 5, 7])\n"
     ]
    }
   ],
   "source": [
    "'''12.Write a code snippet to get an element, delete an element,\n",
    "and update an element in an array.?'''\n",
    "import array\n",
    "myarray=array.array(\"i\",[1,2,3,5,7])\n",
    "print(type(my_array))\n",
    "print(myarray) \n",
    "#get\n",
    "print(myarray[1])\n",
    "#delete\n",
    "del myarray[2]\n",
    "print(myarray) \n",
    "#update\n",
    "myarray[0]=10\n",
    "print(myarray) "
   ]
  },
  {
   "cell_type": "code",
   "execution_count": 81,
   "id": "cf7b40c6-711f-40ba-9cf1-03ed6aa32808",
   "metadata": {},
   "outputs": [
    {
     "name": "stdout",
     "output_type": "stream",
     "text": [
      "[1, 3, 4, 5, 6]\n",
      "[1, 9, 16, 25, 36]\n",
      "[1, 7, 4, 5, 6]\n",
      "[1, 49, 16, 25, 36]\n"
     ]
    }
   ],
   "source": [
    "'''13. Write a code snippet to generate the square of every element\n",
    "of a list.?'''\n",
    "mylist=[1,3,4,5,6]\n",
    "sqlist=[x**2 for x in mylist]\n",
    "print(mylist)\n",
    "print(sqlist)\n",
    "#or\n",
    "mylist=[1,7,4,5,6]\n",
    "sqlist=list(map(lambda x:x**2,mylist))\n",
    "print(mylist)\n",
    "print(sqlist)"
   ]
  },
  {
   "cell_type": "code",
   "execution_count": 83,
   "id": "7e658232-5e68-4066-a065-40d0146f0e89",
   "metadata": {},
   "outputs": [
    {
     "name": "stdout",
     "output_type": "stream",
     "text": [
      "\n"
     ]
    }
   ],
   "source": [
    "'''14. What is the difference between range and xrange?\n",
    "range: returns a list or object(python2),\n",
    "xrange:returns a xrange object (python2), \n",
    "print(range(5))   # [0, 1, 2, 3, 4] consumes a lot of memory\n",
    "print(xrange(5))  # xrange(0, 5) memory efficient\n",
    "\n",
    "xrange was removed python 3 \n",
    "range() now behaves like xrange() in python 3\n",
    "'''"
   ]
  },
  {
   "cell_type": "code",
   "execution_count": null,
   "id": "2f0a2d2f-1a52-48c7-b9f8-76a088f0eead",
   "metadata": {},
   "outputs": [],
   "source": [
    "'''15.Which is faster, Python list or Numpy arrays, and why?\n",
    "NumPy arrays are faster than Python lists because they are\n",
    "implemented in C and optimized for numerical operations,\n",
    "allowing for efficient memory usage and faster execution of\n",
    "mathematical functions.\n",
    "\n",
    "NumPy arrays are faster because they use contiguous memory, fixed data types, and vectorized C-based operations\n",
    "'''"
   ]
  },
  {
   "cell_type": "code",
   "execution_count": null,
   "id": "abbd8666-b530-48cd-80f2-073251e65d2f",
   "metadata": {},
   "outputs": [],
   "source": [
    "'''\n",
    "16.What is the difference between a Python list and a tuple?\n",
    "List: Mutable, can be changed and slower performance\n",
    "Tuple: Immutable, cannot be changed and faster Performance\n",
    "'''"
   ]
  },
  {
   "cell_type": "code",
   "execution_count": null,
   "id": "33c55ce3-b226-4ef3-842b-a06cd4a57688",
   "metadata": {},
   "outputs": [],
   "source": [
    "'''\n",
    "17.What are Python sets? Explain some of the properties of sets.\n",
    "Set: Unordered collection of unique elements.\n",
    "Properties:\n",
    "No duplicates.\n",
    "Unordered.\n",
    "Mutable, but elements must be immutable.\n",
    "\n",
    "Sets are used for:\n",
    "Removing duplicates\n",
    "Performing mathematical set operations\n",
    "Fast membership tests\n",
    "Efficient storage of unique items\n",
    "''"
   ]
  },
  {
   "cell_type": "code",
   "execution_count": 99,
   "id": "8f49b9ba-1a92-4df9-ac35-7e920d968b24",
   "metadata": {},
   "outputs": [
    {
     "name": "stdout",
     "output_type": "stream",
     "text": [
      "True\n",
      "False\n",
      "True\n",
      "False\n",
      "False\n",
      "True\n"
     ]
    }
   ],
   "source": [
    "'''\n",
    "18.Explain the logical operations in Python?'''\n",
    "#and: Logical AND\n",
    "#or: Logical OR\n",
    "#not: Logical NOT\n",
    "\n",
    "# and:Returns True if both conditions are True.\n",
    "print(True and True) #True\n",
    "print(True and False) #False\n",
    "# or:Returns True if at least one condition is True\n",
    "print(True or False) #True\n",
    "print(False or False) #False\n",
    "# not:Reverses (negates) the condition.\n",
    "print(not True)#False\n",
    "print(not False)#True\n"
   ]
  },
  {
   "cell_type": "code",
   "execution_count": null,
   "id": "58ea4a3b-45ee-4d7e-a3b0-edeaa2f12927",
   "metadata": {},
   "outputs": [],
   "source": [
    "'''\n",
    "19. What are immutable and mutable data types?\n",
    "immutable:strings,integer,floats,tuples\n",
    "mutable:lists,dictionaries,sets,arrays\n",
    "\n",
    "'''"
   ]
  },
  {
   "cell_type": "code",
   "execution_count": 102,
   "id": "048ba512-dfd5-4386-8aca-33e45f5284e4",
   "metadata": {},
   "outputs": [
    {
     "name": "stdout",
     "output_type": "stream",
     "text": [
      "Inside: 10\n",
      "Inside: 20\n",
      "Outside: 20\n"
     ]
    }
   ],
   "source": [
    "'''\n",
    "20.What are global and local variables in Python?\n",
    "Global Variables: Declared outside of functions and accessible\n",
    "everywhere.\n",
    "Local Variables: Declared inside a function and accessible only\n",
    "within that function.'''\n",
    "def my_func():\n",
    "    x = 10   # local variable\n",
    "    print(\"Inside:\", x)\n",
    "\n",
    "my_func()\n",
    "#print(x)  # ❌ Error: x not defined outside\n",
    "#------------------------\n",
    "y = 20   # global variable\n",
    "def my_func():\n",
    "    print(\"Inside:\", y)  # can access global variable\n",
    "\n",
    "my_func()\n",
    "print(\"Outside:\", y)     # accessible everywhere"
   ]
  },
  {
   "cell_type": "code",
   "execution_count": null,
   "id": "2924afe8-9c35-4721-bbab-d905e1e85775",
   "metadata": {},
   "outputs": [],
   "source": [
    "'''\n",
    "21. What is an ordered dictionary?\n",
    "An Ordered Dictionary (OrderedDict) is a dictionary subclass that\n",
    "remembers the order in which items were inserted.'''"
   ]
  },
  {
   "cell_type": "code",
   "execution_count": 103,
   "id": "49057e80-8c39-4fb2-abb4-ae9a2455f514",
   "metadata": {},
   "outputs": [
    {
     "name": "stdout",
     "output_type": "stream",
     "text": [
      "7\n"
     ]
    }
   ],
   "source": [
    "'''\n",
    "22. What are lambda functions in Python, and why are they\n",
    "important?\n",
    "Lambda functions are small anonymous functions defined using\n",
    "the lambda keyword. They are used for creating small, one-time,\n",
    "and inline functions.'''\n",
    "add=lambda x,y:x+y\n",
    "print(add(3,4))"
   ]
  },
  {
   "cell_type": "code",
   "execution_count": null,
   "id": "ebab0ebe-d517-4d81-8dd4-4a23e7b28f38",
   "metadata": {},
   "outputs": [],
   "source": [
    "'''\n",
    "23.Explain the difference between modules and packages in\n",
    "Python?\n",
    "Module: A single file containing Python code.\n",
    "Package: A directory containing multiple modules, typically with an __init__.py file.'''"
   ]
  },
  {
   "cell_type": "code",
   "execution_count": null,
   "id": "69e9d64f-6dc3-4b50-9d62-63a9cdd6ff51",
   "metadata": {},
   "outputs": [],
   "source": [
    "'''\n",
    "24.Explain the difference between list and array.\n",
    "List: A collection of items that can hold different data types.\n",
    "Array: Typically used for numerical operations and can hold\n",
    "elements of the same data type.'''"
   ]
  },
  {
   "cell_type": "code",
   "execution_count": null,
   "id": "de1622b9-7730-4685-af83-0dcfbeb5427a",
   "metadata": {},
   "outputs": [],
   "source": [
    "'''\n",
    "25.What are the benefits of using function in python\n",
    "Code reusability.\n",
    "Modular code structure.\n",
    "Easier to maintain and debug.\n",
    "'''"
   ]
  },
  {
   "cell_type": "code",
   "execution_count": null,
   "id": "8bc6f9b8-0b46-4c2f-9f1f-301fe7f3b772",
   "metadata": {},
   "outputs": [],
   "source": [
    "'''\n",
    "26.Difference between a list ,tuple and dictionary in python\n",
    "List: Ordered, mutable collection.\n",
    "Tuple: Ordered, immutable collection.\n",
    "Dictionary: Unordered collection of key-value pairs.\n",
    "\n",
    "| Feature         | **List**                    | **Tuple**                     | **Array** (`array` / `numpy`)                 | **Set**                      | **Dictionary**                  |\n",
    "| --------------- | --------------------------- | ----------------------------- | --------------------------------------------- | ---------------------------- | ------------------------------- |\n",
    "| **Definition**  | Ordered, mutable collection | Ordered, immutable collection | Homogeneous numeric collection                | Unordered unique elements    | Key–Value pairs mapping         |\n",
    "| **Syntax**      | `[1, 2, 3]`                 | `(1, 2, 3)`                   | `array('i', [1, 2, 3])` / `np.array([1,2,3])` | `{1, 2, 3}`                  | `{\"a\": 1, \"b\": 2}`              |\n",
    "| **Mutable?**    | ✅ Yes                      | ❌ No                        | ✅ Yes                                        | ✅ Yes                      | ✅ Yes                          |\n",
    "| **Ordered?**    | ✅ Yes                      | ✅ Yes                       | ✅ Yes                                        | ❌ (no index, unordered)    | ✅ (since Python 3.7+)          |\n",
    "| **Indexing**    | ✅ By position              | ✅ By position               | ✅ By position                                | ❌ Not supported            | ✅ By key                       |\n",
    "| **Duplicates?** | ✅ Allowed                  | ✅ Allowed                   | ✅ Allowed                                    | ❌ No duplicates allowed    | ❌ Keys must be unique          |\n",
    "| **Data Types**  | Mixed allowed               | Mixed allowed                 | Usually same type (int/float)                 | Mixed allowed                | Keys & values can be any type   |\n",
    "| **Speed**       | Medium                      | Faster (immutable)            | Fastest for numeric computation               | Very fast membership test    | Very fast key lookup (hashing)  |\n",
    "| **Use Case**    | General collection          | Fixed data (safe)             | Numerical/ML/scientific work                  | Unique items, set operations | Mapping relationships (like DB) |\n",
    "\n",
    "'''"
   ]
  },
  {
   "cell_type": "code",
   "execution_count": 108,
   "id": "8c79155e-67e6-4087-bdea-e722c556cc09",
   "metadata": {},
   "outputs": [
    {
     "name": "stdout",
     "output_type": "stream",
     "text": [
      "[0, 4, 16, 36, 64, 100]\n",
      "[0, 4, 16, 36, 64, 100]\n"
     ]
    }
   ],
   "source": [
    "'''\n",
    "27.How to use list comprehension to simplify code that generate\n",
    "a list of square for all even number from 0 to 10?'''\n",
    "mysquare=[x**2 for x in range(11) if x%2==0]\n",
    "print(mysquare)\n",
    "#print([x**2 for x in range(11) if x%2==0])"
   ]
  },
  {
   "cell_type": "code",
   "execution_count": null,
   "id": "aa368d53-b181-4880-9c92-e10821896526",
   "metadata": {},
   "outputs": [],
   "source": [
    "'''\n",
    "28.What are data structure we have in python?\n",
    "Lists,Tubles,Array,Sets,Dictionary,Strings\n",
    "'''"
   ]
  },
  {
   "cell_type": "code",
   "execution_count": 109,
   "id": "eab2ffc5-0034-4ae2-810f-adf3f38c4c39",
   "metadata": {},
   "outputs": [
    {
     "name": "stdout",
     "output_type": "stream",
     "text": [
      "['W', 'o', 'r', 'l', 'd']\n"
     ]
    }
   ],
   "source": [
    "'''29.Convert string to list?'''\n",
    "mystring=\"World\"\n",
    "mylist=list(mystring)\n",
    "print(mylist)"
   ]
  },
  {
   "cell_type": "code",
   "execution_count": 112,
   "id": "8e54b7e8-9647-42ef-9dba-9fee2432f321",
   "metadata": {},
   "outputs": [
    {
     "name": "stdout",
     "output_type": "stream",
     "text": [
      "<__main__.MyClass object at 0x000002B55F36DE80>\n",
      "John\n"
     ]
    }
   ],
   "source": [
    "'''30.What is class and objection python?\n",
    "Class: Blueprint for creating objects.It defines attributes (variables) and methods (functions)\n",
    "that the objects created from the class will have.\n",
    "Object: Instance of a class, When we create an object, Python allocates memory and initializes \n",
    "it using the class definition.'''\n",
    "\n",
    "class MyClass:\n",
    "    def __init__(self, name):\n",
    "        self.name = name\n",
    "obj = MyClass(\"John\")\n",
    "print(obj)\n",
    "print(obj.name)"
   ]
  },
  {
   "cell_type": "code",
   "execution_count": null,
   "id": "b0a55904-50a5-4059-865b-878f1aad116c",
   "metadata": {},
   "outputs": [],
   "source": [
    "'''\n",
    "31.What are built in types available in python?\n",
    "Integers, floats, strings, lists, tuples, sets, dictionaries, booleans,\n",
    "NoneType.\n",
    "Main built-in types in Python:\n",
    "Numeric → int, float, complex\n",
    "Sequence → str, list, tuple, range\n",
    "Set → set, frozenset\n",
    "Mapping → dict\n",
    "Boolean → bool\n",
    "Binary → bytes, bytearray, memoryview\n",
    "'''"
   ]
  },
  {
   "cell_type": "code",
   "execution_count": 233,
   "id": "add7fb9b-1ea3-4fb3-bada-af42d01d1e13",
   "metadata": {},
   "outputs": [
    {
     "name": "stdout",
     "output_type": "stream",
     "text": [
      "4\n",
      "3\n"
     ]
    }
   ],
   "source": [
    "'''\n",
    "32.What is negative indexing in python?\n",
    "Negative indexing allows access to elements from the end of a list.\n",
    "-1 → last element\n",
    "-2 → second last element\n",
    "'''\n",
    "list1=[1,2,3,4]\n",
    "print(list1[-1])\n",
    "print(list1[-2])"
   ]
  },
  {
   "cell_type": "code",
   "execution_count": null,
   "id": "980ca5f3-12bb-436f-9960-f4b69f9a9480",
   "metadata": {},
   "outputs": [],
   "source": [
    "'''\n",
    "33.Explain errors in python\n",
    "SyntaxError, TypeError, IndexError, KeyError, ValueError,\n",
    "AttributeError, ImportError.\n",
    "| Error Type     | Cause                          |\n",
    "| ---------------|------------------------------  |\n",
    "| SyntaxError    | Code syntax is invalid         | print(\"Hello\"  # missing parenthesis\n",
    "| KeyError       | Dictionary key not found       | data = {\"name\": \"Superman\"} print(data[\"age\"]) #non-existent key in a dictionary\n",
    "| TypeError      | Wrong type used in operation   | print(\"2\" + 2)  # string + int not allowed\n",
    "| IndexError     | List/tuple index out of range  | nums = [10, 20, 30] print(nums[5]) #list index out of range.\n",
    "| ValueError     | Wrong value (but correct type) | num = int(\"abc\")   # cannot convert letters to int\n",
    "| AttributeError | Attribute/method doesn’t exist | x = 10  x.append(5)   # int has no append method\n",
    "| ImportError    | Failed to import module        | import my_fake_module #No module named 'my_fake_module'\n",
    "\n",
    "'''"
   ]
  },
  {
   "cell_type": "code",
   "execution_count": null,
   "id": "c9cac455-d7b8-43cc-909d-cac041e5e91c",
   "metadata": {},
   "outputs": [],
   "source": [
    "'''\n",
    "34.Explain oops concept in python\n",
    "Class and Objects, Inheritance, Polymorphism, Encapsulation,\n",
    "Abstraction\n",
    "\n",
    "OOPs (Object-Oriented Programming system) in Python\n",
    "OOP is a way of writing programs by creating objects that have:\n",
    "Data (variables → attributes)\n",
    "Behavior (functions → methods)\n",
    "\n",
    "Class → A blueprint (template) for creating objects.\n",
    "Object → An instance of a class (real thing created from the class).\n",
    "Encapsulation → Hide data, use methods\n",
    "Inheritance → Reuse code from parent class\n",
    "Polymorphism → Same method, different behavior\n",
    "\n",
    "'''"
   ]
  },
  {
   "cell_type": "code",
   "execution_count": 196,
   "id": "4aa2b655-b94b-4c11-8c61-d364adb63154",
   "metadata": {},
   "outputs": [
    {
     "name": "stdout",
     "output_type": "stream",
     "text": [
      "True\n",
      "2 3 5 7 11 13 "
     ]
    }
   ],
   "source": [
    "'''35.Prime'''\n",
    "import math\n",
    "def prime_find(n):\n",
    "    if n<=1:\n",
    "        return False\n",
    "    #for i in range(2,int(math.sqrt(n))+1):\n",
    "    for i in range(2,int(n**0.5)+1):\n",
    "        if n%i==0:\n",
    "            return False\n",
    "    return True\n",
    "\n",
    "print(prime_find(5))\n",
    "for i in range(15):\n",
    "    if(prime_find(i)):\n",
    "        print(i,end=\" \")"
   ]
  },
  {
   "cell_type": "code",
   "execution_count": 204,
   "id": "8a7a1fa0-7282-4e5c-bc7a-780f12c01749",
   "metadata": {},
   "outputs": [
    {
     "name": "stdout",
     "output_type": "stream",
     "text": [
      "120\n",
      "1 factorial 1\n",
      "2 factorial 2\n",
      "3 factorial 6\n",
      "4 factorial 24\n",
      "5 factorial 120\n"
     ]
    }
   ],
   "source": [
    "'''36.Factorial'''\n",
    "def myfactorial(n):\n",
    "    if n==1:\n",
    "        return 1\n",
    "    else:\n",
    "        return n*myfactorial(n-1)\n",
    "\n",
    "print(myfactorial(5))\n",
    "for i in range(1,6):\n",
    "    print(i,\"factorial\",myfactorial(i))"
   ]
  },
  {
   "cell_type": "code",
   "execution_count": 201,
   "id": "0b7170b1-a3ad-4430-b1d3-308e2862023f",
   "metadata": {},
   "outputs": [
    {
     "name": "stdout",
     "output_type": "stream",
     "text": [
      "2.23606797749979\n",
      "1 1.0\n",
      "2 1.4142135623730951\n",
      "3 1.7320508075688772\n",
      "4 2.0\n"
     ]
    }
   ],
   "source": [
    "'''37.Square root'''\n",
    "import math\n",
    "print(math.sqrt(5))\n",
    "for i in range(1,5):\n",
    "    print(i,math.sqrt(i))"
   ]
  },
  {
   "cell_type": "code",
   "execution_count": 207,
   "id": "004562ca-cb68-4bfb-a61c-511261be8ad8",
   "metadata": {},
   "outputs": [
    {
     "name": "stdout",
     "output_type": "stream",
     "text": [
      "Leaf Year\n",
      "Not Leaf Year\n"
     ]
    }
   ],
   "source": [
    "'''38.Leap year'''\n",
    "def is_leaf_year(year):\n",
    "    if((((year%4 == 0) and (year%100 != 0)) or (year%400 ==0))==True):\n",
    "        return \"Leaf Year\"\n",
    "    else:\n",
    "        return \"Not Leaf Year\"\n",
    "\n",
    "print(is_leaf_year(2024))\n",
    "print(is_leaf_year(2025))    "
   ]
  },
  {
   "cell_type": "code",
   "execution_count": 234,
   "id": "5f684f03-e81c-492c-803a-2607e6c036bc",
   "metadata": {},
   "outputs": [
    {
     "name": "stdout",
     "output_type": "stream",
     "text": [
      "madam Palindrome\n",
      "cool -No-\n",
      "noon Palindrome\n"
     ]
    }
   ],
   "source": [
    "'''39.Palindrome'''\n",
    "def is_palindrome(s):\n",
    "    if((s==s[::-1])==True):\n",
    "        return \"Palindrome\"\n",
    "    else:\n",
    "        return \"-No-\"\n",
    "list1=[\"madam\",\"cool\",\"noon\"]\n",
    "for name in list1:\n",
    "    print(name,is_palindrome(name))"
   ]
  },
  {
   "cell_type": "code",
   "execution_count": 214,
   "id": "1eb45163-a54e-4db7-8c4c-7b9b78e4a222",
   "metadata": {},
   "outputs": [
    {
     "name": "stdout",
     "output_type": "stream",
     "text": [
      "[2, 4, 6, 8, 10]\n"
     ]
    }
   ],
   "source": [
    "'''\n",
    "40.List comphrension\n",
    "A short way to create lists using a single line of code with an\n",
    "expression and a loop.\n",
    "[expression for item in iterable if condition]\n",
    "'''\n",
    "evenlist=[x for x in range(1,11) if x%2==0]\n",
    "print(evenlist)"
   ]
  },
  {
   "cell_type": "code",
   "execution_count": 216,
   "id": "c76504a9-b4a8-4462-bfcd-ce18ca78eb8b",
   "metadata": {},
   "outputs": [
    {
     "name": "stdout",
     "output_type": "stream",
     "text": [
      "<class 'array.array'>\n"
     ]
    }
   ],
   "source": [
    "'''\n",
    "41.Which is faster, python list or Numpy arrays, and why?\n",
    "NumPy arrays are faster due to efficient memory storage,\n",
    "optimized C-based operations and fixed data types'''\n",
    "import array\n",
    "ar=array.array(\"i\",[2,3,4,6])\n",
    "print(type(ar))"
   ]
  },
  {
   "cell_type": "code",
   "execution_count": 218,
   "id": "6ece5e13-2120-402a-8034-99864aa80280",
   "metadata": {},
   "outputs": [],
   "source": [
    "'''42.What is the difference between a python list and a tuple?\n",
    "List: Mutable, dynamic size, slower.\n",
    "Tuple: Immutable, fixed size, faster.'''\n",
    "my_list=[1,2,5]\n",
    "my_tuple=(1,2,3)"
   ]
  },
  {
   "cell_type": "code",
   "execution_count": null,
   "id": "023ccda5-d4e5-49ad-9633-a3c8afb03104",
   "metadata": {},
   "outputs": [],
   "source": [
    "'''\n",
    "43.What are python sets? Explain some of the properties of sets.?\n",
    "A set in Python is an unordered collection of unique elements.\n",
    "Sets are defined using curly braces {} or the set() function. They\n",
    "are useful for storing items where duplication is not desired and\n",
    "for performing various mathematical set operations like union,\n",
    "intersection, difference, and symmetric difference.\n",
    "✅ In short:\n",
    "Set = unordered, unique, mutable collection.\n",
    "Useful for removing duplicates and doing set theory operations.\n",
    "'''"
   ]
  },
  {
   "cell_type": "code",
   "execution_count": 227,
   "id": "3d997a46-147a-497b-8ba4-5252f9f57198",
   "metadata": {},
   "outputs": [
    {
     "name": "stdout",
     "output_type": "stream",
     "text": [
      "5\n",
      "hello WORLD\n",
      "hello world\n",
      "hello Python\n",
      "['apple', 'banana', 'orange']\n"
     ]
    }
   ],
   "source": [
    "'''44. Explain the top 5 functions used for python strings.'''\n",
    "# len() → Length of string\n",
    "print(len(\"hello\"))\n",
    "#lower() and upper() → Case conversion\n",
    "print(\"HELLO\".lower(),\"world\".upper())\n",
    "#strip() Remove spaces both side\n",
    "print(\"   hello world  \".strip())\n",
    "#replace() Replace substring.\n",
    "print(\"hello C\".replace(\"C\",\"Python\"))\n",
    "#split Split string into list\n",
    "print(\"apple,banana,orange\".split(\",\"))"
   ]
  },
  {
   "cell_type": "code",
   "execution_count": null,
   "id": "c662d3f4-eda8-45f5-a3b0-5361d09186d7",
   "metadata": {},
   "outputs": [],
   "source": [
    "'''45.What are immutable and mutable data types?\n",
    "Immutable: Data types that cannot be changed after creation.\n",
    "Examples include:\n",
    "Strings: str\n",
    "Tuples: tuple\n",
    "Integers: int\n",
    "Floats: float\n",
    "Mutable: Data types that can be changed after creation. Examples\n",
    "include:\n",
    "Lists: list\n",
    "Dictionaries: dict\n",
    "Sets: set\n",
    "'''"
   ]
  },
  {
   "cell_type": "code",
   "execution_count": null,
   "id": "d2dada6d-4993-4ca0-a07e-b2cd24d286b0",
   "metadata": {},
   "outputs": [],
   "source": [
    "'''46.What are python functions, and how do they help in code\n",
    "optimization?\n",
    "A function in Python is a block of reusable code that performs a specific task.\n",
    "Functions are defined using the def keyword.\n",
    "\n",
    "How do functions help in Code Optimization?\n",
    "Reusability → Write once, use multiple times (avoids code duplication).\n",
    "Readability → Code becomes easier to read, structured, and organized.\n",
    "Maintainability → Easier to fix or update logic in one place instead of everywhere.\n",
    "Modularity → Breaks a large program into smaller, manageable parts.\n",
    "Efficiency → Reduces development time and chance of errors.\n",
    "'''"
   ]
  },
  {
   "cell_type": "code",
   "execution_count": null,
   "id": "8444a3dc-2d1a-4924-8b9e-0fe614e80374",
   "metadata": {},
   "outputs": [],
   "source": [
    "'''\n",
    "47.What is an ordered dictionary?\n",
    "An Ordered Dictionary (OrderedDict) is a dictionary subclass that\n",
    "remembers the order in which items were inserted.\n",
    "In Python 3.7+, normal dict also preserves insertion order,\n",
    "but OrderedDict provides extra features (like move_to_end()).\n",
    "'''\n",
    "'''"
   ]
  },
  {
   "cell_type": "code",
   "execution_count": 237,
   "id": "96591995-e4fc-456d-8e4b-b3fd9159b8fa",
   "metadata": {},
   "outputs": [
    {
     "name": "stdout",
     "output_type": "stream",
     "text": [
      "25\n",
      "[2, 4, 6]\n",
      "[1, 4, 9, 16]\n",
      "120\n"
     ]
    }
   ],
   "source": [
    "'''\n",
    "48.What are lambda functions in python, and why are they\n",
    "important?\n",
    "Lambda functions are small anonymous functions defined with the\n",
    "lambda keyword. They are important for:\n",
    "Writing concise and readable code. Defining simple functions inline\n",
    "without formally declaring them.\n",
    "Syntax: lambda arguments: expression\n",
    "Lambda → small anonymous function\n",
    "filter() → select items based on condition\n",
    "map() → transform each item\n",
    "reduce() → combine all items into one result\n",
    "'''\n",
    "square = lambda x: x * x\n",
    "print(square(5))   # 25\n",
    "\n",
    "n = [1, 2, 3, 4, 5, 6]\n",
    "even = filter(lambda x: x % 2 == 0, n)\n",
    "print(list(even))\n",
    "\n",
    "nums = [1, 2, 3, 4]\n",
    "squares = list(map(lambda x: x**2, nums))\n",
    "print(squares)   # [1, 4, 9, 16]\n",
    "\n",
    "from functools import reduce\n",
    "nums = [1, 2, 3, 4, 5]\n",
    "product = reduce(lambda x, y: x * y, nums)\n",
    "print(product)   # 120"
   ]
  },
  {
   "cell_type": "code",
   "execution_count": 247,
   "id": "5f4686dc-55cf-4cea-bba2-179d559fe40d",
   "metadata": {},
   "outputs": [
    {
     "name": "stdout",
     "output_type": "stream",
     "text": [
      "Second highest salary 3000 to ['Rani', 'Siva']\n"
     ]
    }
   ],
   "source": [
    "\"49.Find the second-highest salary\"\n",
    "#sample salary data\n",
    "sal_dic={'Ram':1000, 'Raj':2000, 'Rani':3000, 'Mani':4000,'Siva':3000}\n",
    "#find second highest salary\n",
    "sec_high=sorted(set(sal_dic.values()))[-2]\n",
    "print(\"Second highest salary\",sec_high,end=\" to \")\n",
    "print([key for key,value in sal_dic.items() if value==sec_high])"
   ]
  },
  {
   "cell_type": "code",
   "execution_count": 249,
   "id": "effcc39e-5e5e-4a57-abee-20747dc76f83",
   "metadata": {},
   "outputs": [
    {
     "name": "stdout",
     "output_type": "stream",
     "text": [
      "a@eg.com is 3 times\n",
      "b@eg.com is 2 times\n"
     ]
    }
   ],
   "source": [
    "'''50. Find the duplicate emails?'''\n",
    "from collections import Counter\n",
    "#Email list\n",
    "emails=['a@eg.com', 'b@eg.com','a@eg.com', 'c@eg.com','a@eg.com','b@eg.com']\n",
    "#dict contain emails vs count\n",
    "e_count=Counter(emails)\n",
    "for email,ecount in e_count.items():\n",
    "    if ecount>1:\n",
    "        print(f\"{email} is {ecount} times\")"
   ]
  },
  {
   "cell_type": "code",
   "execution_count": 251,
   "id": "6e017133-ef87-44f6-9e26-60c015e75214",
   "metadata": {},
   "outputs": [
    {
     "name": "stdout",
     "output_type": "stream",
     "text": [
      "Bucket\n",
      "<50      42.857143\n",
      "<75      71.428571\n",
      "<90      85.714286\n",
      "<100    100.000000\n",
      "Name: proportion, dtype: float64\n"
     ]
    }
   ],
   "source": [
    "'''\n",
    "51.Given a dataset of test scores, write pandas code to return the\n",
    "cumulative percentage of students that received scores within the\n",
    "buckets of <50, <75, <90, <100.\n",
    "'''\n",
    "import pandas as pd\n",
    "# Sample data\n",
    "data = {'Score': [10, 20, 40, 50, 70, 80, 90, 100]}\n",
    "df = pd.DataFrame(data)\n",
    "# Define the bins and labels\n",
    "bins = [0, 50, 75, 90, 100]\n",
    "labels = ['<50', '<75', '<90', '<100']\n",
    "# Create a new column with the bucket labels\n",
    "df['Bucket'] = pd.cut(df['Score'], bins=bins, labels=labels, right=False)\n",
    "# Calculate cumulative percentage\n",
    "cumulative_percentage =df['Bucket'].value_counts(normalize=True).sort_index().cumsum() *100\n",
    "print(cumulative_percentage)"
   ]
  },
  {
   "cell_type": "code",
   "execution_count": 256,
   "id": "7a27c26d-5974-47e6-ba1f-74da367c387a",
   "metadata": {},
   "outputs": [
    {
     "name": "stdout",
     "output_type": "stream",
     "text": [
      "[1, 2, 3, [6, 7]]\n",
      "[1, 2, 3, 6, 7]\n"
     ]
    }
   ],
   "source": [
    "'''52.What is the difference between append() and extend()\n",
    "methods??'''\n",
    "#append() adds a single object at the end.\n",
    "a=[1,2,3]\n",
    "a.append([6,7])\n",
    "print(a)\n",
    "#extend() adds multiple elements from an iterable at the end.\n",
    "b=[1,2,3]\n",
    "b.extend([6,7])\n",
    "print(b)"
   ]
  },
  {
   "cell_type": "code",
   "execution_count": 258,
   "id": "ac6266a1-5fcc-4b9f-95fc-00500512c7db",
   "metadata": {},
   "outputs": [
    {
     "name": "stdout",
     "output_type": "stream",
     "text": [
      "['ab', 'cd'] lengh 2\n"
     ]
    }
   ],
   "source": [
    "'''53.What is the output of the following? x = [ ‘ab’, ‘cd’ ]'''\n",
    "x = ['ab','cd']\n",
    "print(x,\"lengh\",len(x))"
   ]
  },
  {
   "cell_type": "code",
   "execution_count": 259,
   "id": "acc8c98c-e2c6-4a7a-a33d-cb053f677267",
   "metadata": {},
   "outputs": [
    {
     "name": "stdout",
     "output_type": "stream",
     "text": [
      "[]\n"
     ]
    }
   ],
   "source": [
    "'''54.How would you create an empty NumPy array?'''\n",
    "import numpy as np\n",
    "empty_array=np.array([])\n",
    "print(empty_array)"
   ]
  },
  {
   "cell_type": "code",
   "execution_count": 260,
   "id": "3324aeeb-12dd-4868-af24-81949ef501d9",
   "metadata": {},
   "outputs": [
    {
     "name": "stdout",
     "output_type": "stream",
     "text": [
      "       A      B\n",
      "0  False  False\n",
      "1  False   True\n",
      "2   True  False\n"
     ]
    }
   ],
   "source": [
    "'''\n",
    "55.What is the default missing value marker in pandas, and how\n",
    "can you detect all missing values in a DataFrame?'''\n",
    "import pandas as pd\n",
    "import numpy as np\n",
    "# Sample DataFrame with missing values\n",
    "df = pd.DataFrame({'A': [1, 2, np.nan], 'B': [4, np.nan, 6]})\n",
    "# Detect missing values\n",
    "missing_values = df.isnull()\n",
    "print(missing_values)"
   ]
  },
  {
   "cell_type": "code",
   "execution_count": 266,
   "id": "0d0526de-d663-44c8-a617-fc8ecd44d37d",
   "metadata": {},
   "outputs": [
    {
     "name": "stdout",
     "output_type": "stream",
     "text": [
      "a    1\n",
      "b    2\n",
      "c    3\n",
      "dtype: int64\n"
     ]
    }
   ],
   "source": [
    "'''56. How will you create a series from dict in Pandas?'''\n",
    "import pandas as pd\n",
    "data = {'a': 1, 'b': 2, 'c': 3}\n",
    "series = pd.Series(data)\n",
    "print(series)"
   ]
  },
  {
   "cell_type": "code",
   "execution_count": 262,
   "id": "3d073e80-d20c-4959-864f-1865b83241b0",
   "metadata": {},
   "outputs": [
    {
     "name": "stdout",
     "output_type": "stream",
     "text": [
      "Empty DataFrame\n",
      "Columns: []\n",
      "Index: []\n"
     ]
    }
   ],
   "source": [
    "'''57.How will you create an empty DataFrame in Pandas?'''\n",
    "import pandas as pd\n",
    "empty_df = pd.DataFrame()\n",
    "print(empty_df)"
   ]
  },
  {
   "cell_type": "code",
   "execution_count": 263,
   "id": "50176489-dbce-49f6-af6e-74f7d9ae4c77",
   "metadata": {},
   "outputs": [
    {
     "name": "stdout",
     "output_type": "stream",
     "text": [
      "3    3\n",
      "2    2\n",
      "1    1\n",
      "Name: count, dtype: int64\n"
     ]
    }
   ],
   "source": [
    "'''58.How to get frequency counts of unique items of a series?'''\n",
    "import pandas as pd\n",
    "series = pd.Series([1, 2, 2, 3, 3, 3])\n",
    "frequency_counts = series.value_counts()\n",
    "print(frequency_counts)"
   ]
  },
  {
   "cell_type": "code",
   "execution_count": 265,
   "id": "91692d55-354e-4a55-b905-fdc1ed05a9d2",
   "metadata": {},
   "outputs": [
    {
     "name": "stdout",
     "output_type": "stream",
     "text": [
      "   A  B  C\n",
      "0  1  2  3\n",
      "1  4  5  6\n"
     ]
    }
   ],
   "source": [
    "'''59.How to convert a numpy array to a dataframe of given shape?'''\n",
    "import numpy as np\n",
    "import pandas as pd\n",
    "# Example NumPy array\n",
    "array1 = np.array([[1, 2, 3], [4, 5, 6]])\n",
    "# Convert to DataFrame\n",
    "df = pd.DataFrame(array1, columns=['A', 'B', 'C'])\n",
    "print(df)"
   ]
  },
  {
   "cell_type": "code",
   "execution_count": null,
   "id": "4992ea54-1ae7-4bf5-ae44-3b92ce81924e",
   "metadata": {},
   "outputs": [],
   "source": [
    "'''A Pandas Index is an immutable array-like object that labels the axes\n",
    "(rows and columns) of a DataFrame or Series. It helps in accessing\n",
    "data, aligning data, and performing operations like indexing and\n",
    "slicing.'''"
   ]
  },
  {
   "cell_type": "code",
   "execution_count": 268,
   "id": "e80cfe2e-2762-4e27-96bd-77350210c357",
   "metadata": {},
   "outputs": [
    {
     "name": "stdout",
     "output_type": "stream",
     "text": [
      "     A  B\n",
      "0  foo  1\n",
      "1  bar  2\n",
      "2  foo  3\n",
      "3  bar  4\n",
      "     B\n",
      "A     \n",
      "bar  6\n",
      "foo  4\n"
     ]
    }
   ],
   "source": [
    "'''61.Define GroupBy in Pandas?'''\n",
    "# Sample DataFrame\n",
    "df = pd.DataFrame({'A': ['foo', 'bar', 'foo', 'bar'], 'B': [1, 2, 3, 4]})\n",
    "print(df)\n",
    "# Group by column 'A' and calculate the sum of 'B' for each group\n",
    "grouped = df.groupby('A').sum()\n",
    "print(grouped)"
   ]
  },
  {
   "cell_type": "code",
   "execution_count": 269,
   "id": "b762875e-9f63-4349-80cf-bc94292bea49",
   "metadata": {},
   "outputs": [
    {
     "name": "stdout",
     "output_type": "stream",
     "text": [
      "a    1\n",
      "b    2\n",
      "c    3\n",
      "dtype: int64\n",
      "  index  0\n",
      "0     a  1\n",
      "1     b  2\n",
      "2     c  3\n"
     ]
    }
   ],
   "source": [
    "'''62.How to convert the index of a series into a column of a dataframe?'''\n",
    "import pandas as pd\n",
    "# Sample Series\n",
    "series = pd.Series([1, 2, 3], index=['a', 'b', 'c'])\n",
    "print(series)\n",
    "# Convert index to column\n",
    "df = series.reset_index()\n",
    "print(df)"
   ]
  },
  {
   "cell_type": "code",
   "execution_count": null,
   "id": "5dc6d7f9-a0be-410b-bfac-29af4e21621d",
   "metadata": {},
   "outputs": [],
   "source": [
    "'''\n",
    "63.Tuple Vs list Vs dictionary\n",
    "| Feature         | **List**                       | **Tuple**                               | **Dictionary**                                 |\n",
    "| --------------- | ------------------------------ | --------------------------------------- | ---------------------------------------------- |\n",
    "| **Syntax**      | `[1, 2, 3]`                    | `(1, 2, 3)`                             | `{'a': 1, 'b': 2}`                             |\n",
    "| **Type**        | Ordered collection of elements | Ordered, immutable collection           | Key–Value pairs                                |\n",
    "| **Mutable?**    | ✅ Yes (can change values)     | ❌ No (immutable)                      | ✅ Yes (values mutable, keys fixed)             |\n",
    "| **Indexing**    | ✅ Yes (by position)           | ✅ Yes (by position)                   | ✅ By keys (not position)                       |\n",
    "| **Duplicates?** | ✅ Allowed                     | ✅ Allowed                             | ❌ Keys must be unique (values can repeat)      |\n",
    "| **Performance** | Slower than tuple              | Faster (due to immutability)            | Slower lookup than tuple, but fast via hashing |\n",
    "| **Use Case**    | When you need a dynamic list   | When you need fixed data (constant set) | When you need mapping (key → value)            |\n",
    "\n",
    "'''"
   ]
  },
  {
   "cell_type": "code",
   "execution_count": 272,
   "id": "3fb3c890-4a38-471b-82e3-853c1ea9f03f",
   "metadata": {},
   "outputs": [
    {
     "name": "stdout",
     "output_type": "stream",
     "text": [
      "[5 4 3 2 1]\n"
     ]
    }
   ],
   "source": [
    "'''\n",
    "64.How would you reverse a numpy array?'''\n",
    "import numpy as np\n",
    "myarr=np.array([1,2,3,4,5])\n",
    "myarr_rev=myarr[::-1]\n",
    "print(myarr_rev)"
   ]
  },
  {
   "cell_type": "code",
   "execution_count": null,
   "id": "22af3e6f-d7c4-4043-be5c-eea00f7722f4",
   "metadata": {},
   "outputs": [],
   "source": [
    "'''\n",
    "65.What is the difference between mutation and crossover?\n",
    "Mutation: In genetic algorithms, mutation involves randomly\n",
    "altering the value of a part of an individual solution to introduce\n",
    "genetic diversity.\n",
    "Crossover: In genetic algorithms, crossover involves combining the\n",
    "genetic information of two parent solutions to generate new\n",
    "offspring.'''"
   ]
  },
  {
   "cell_type": "code",
   "execution_count": 275,
   "id": "317c09f9-d5a7-4f33-a03b-9ff22bb86661",
   "metadata": {},
   "outputs": [
    {
     "name": "stdout",
     "output_type": "stream",
     "text": [
      "0\n",
      "1\n",
      "2\n",
      "3\n",
      "4\n"
     ]
    }
   ],
   "source": [
    "'''\n",
    "66.What is difference between range and xrange function in\n",
    "python?\n",
    "range: returns a list or object(python2),\n",
    "xrange:returns a xrange object (python2), \n",
    "print(range(5))   # [0, 1, 2, 3, 4] consumes a lot of memory\n",
    "print(xrange(5))  # xrange(0, 5) memory efficient\n",
    "\n",
    "xrange was removed python 3 \n",
    "range() now behaves like xrange() in python 3\n",
    "'''\n",
    "for i in range(5):\n",
    "    print(i)"
   ]
  },
  {
   "cell_type": "code",
   "execution_count": 277,
   "id": "e90c1ffd-454d-4be5-af17-12156fb708f7",
   "metadata": {},
   "outputs": [
    {
     "name": "stdout",
     "output_type": "stream",
     "text": [
      "               value\n",
      "number letter       \n",
      "1      a           1\n",
      "       b           2\n",
      "2      a           3\n",
      "       b           4\n"
     ]
    }
   ],
   "source": [
    "'''67.Explain what is multi-indexing in pandas?'''\n",
    "import pandas as pd\n",
    "arrays = [[1,1,2,2], ['a','b','a','b']]\n",
    "index = pd.MultiIndex.from_arrays(arrays, names=('number','letter'))\n",
    "df = pd.DataFrame({'value': [1,2,3,4]}, index=index)\n",
    "print(df)"
   ]
  },
  {
   "cell_type": "code",
   "execution_count": 279,
   "id": "27392d2a-1cf1-4dd7-8efb-345c228e1ccf",
   "metadata": {},
   "outputs": [
    {
     "name": "stdout",
     "output_type": "stream",
     "text": [
      "0 1 3\n",
      "1 2 4\n",
      "0 1 3\n",
      "1 2 4\n"
     ]
    }
   ],
   "source": [
    "'''68.How would you iterate over rows in a dataframe in pandas?'''\n",
    "import pandas as pd\n",
    "df = pd.DataFrame({'A': [1, 2], 'B': [3, 4]})\n",
    "for index, row in df.iterrows():\n",
    "    print(index, row['A'], row['B'])\n",
    "for row in df.itertuples(index=True, name='Pandas'):\n",
    "    print(row.Index, row.A, row.B)"
   ]
  },
  {
   "cell_type": "code",
   "execution_count": null,
   "id": "61f58227-3e12-4af9-b0cb-0893f82705e3",
   "metadata": {},
   "outputs": [],
   "source": []
  }
 ],
 "metadata": {
  "kernelspec": {
   "display_name": "Python [conda env:base] *",
   "language": "python",
   "name": "conda-base-py"
  },
  "language_info": {
   "codemirror_mode": {
    "name": "ipython",
    "version": 3
   },
   "file_extension": ".py",
   "mimetype": "text/x-python",
   "name": "python",
   "nbconvert_exporter": "python",
   "pygments_lexer": "ipython3",
   "version": "3.13.5"
  }
 },
 "nbformat": 4,
 "nbformat_minor": 5
}
