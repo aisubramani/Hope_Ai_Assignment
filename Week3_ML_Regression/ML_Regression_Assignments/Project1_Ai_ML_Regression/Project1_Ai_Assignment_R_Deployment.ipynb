{
 "cells": [
  {
   "cell_type": "code",
   "execution_count": 4,
   "id": "fca29563-29bd-4b95-bf35-09d3abe300ee",
   "metadata": {},
   "outputs": [
    {
     "name": "stdout",
     "output_type": "stream",
     "text": [
      "insurance charge: [16948.09]\n"
     ]
    },
    {
     "name": "stderr",
     "output_type": "stream",
     "text": [
      "C:\\Anaconda3\\Lib\\site-packages\\sklearn\\utils\\validation.py:2739: UserWarning: X does not have valid feature names, but RandomForestRegressor was fitted with feature names\n",
      "  warnings.warn(\n"
     ]
    }
   ],
   "source": [
    "# Deployment\n",
    "#pickle is library for save model \n",
    "import pickle\n",
    "#load the model\n",
    "load_model=pickle.load(open(\"4_Best_Model_Random_Forest_Regression.sav\",\"rb\"))\n",
    "\n",
    "#Get inputs from user for predict the model\n",
    "result=load_model.predict([[19,27,0,0,1]])\n",
    "print(\"insurance charge:\",result)"
   ]
  },
  {
   "cell_type": "code",
   "execution_count": 3,
   "id": "3316ff51-d74b-4da6-b5b3-cec973d1badb",
   "metadata": {},
   "outputs": [
    {
     "name": "stdout",
     "output_type": "stream",
     "text": [
      "insurance charge: [16948.09]\n"
     ]
    },
    {
     "name": "stderr",
     "output_type": "stream",
     "text": [
      "C:\\Anaconda3\\Lib\\site-packages\\sklearn\\utils\\validation.py:2739: UserWarning: X does not have valid feature names, but RandomForestRegressor was fitted with feature names\n",
      "  warnings.warn(\n"
     ]
    }
   ],
   "source": []
  },
  {
   "cell_type": "code",
   "execution_count": null,
   "id": "77af287e-5ba9-435c-a083-46a8681af469",
   "metadata": {},
   "outputs": [],
   "source": []
  }
 ],
 "metadata": {
  "kernelspec": {
   "display_name": "Python [conda env:base] *",
   "language": "python",
   "name": "conda-base-py"
  },
  "language_info": {
   "codemirror_mode": {
    "name": "ipython",
    "version": 3
   },
   "file_extension": ".py",
   "mimetype": "text/x-python",
   "name": "python",
   "nbconvert_exporter": "python",
   "pygments_lexer": "ipython3",
   "version": "3.13.5"
  }
 },
 "nbformat": 4,
 "nbformat_minor": 5
}
