{
 "cells": [
  {
   "cell_type": "code",
   "execution_count": null,
   "id": "a7b57a67-dfa1-4925-8175-3655078e3976",
   "metadata": {},
   "outputs": [],
   "source": [
    "#import lib\n",
    "import pandas as pd\n",
    "#read the file\n",
    "#-----------\n",
    "#  YearsExperience\tSalary\n",
    "#0\t1.1\t39343.0\n",
    "#1\t1.3\t46205.0\n",
    "#--------------\n",
    "#data collection and preposssing\n",
    "dataset=pd.read_csv(\"Salary_Data.csv\")\n",
    "#assign the table single coloum to one variable\n",
    "#two coloum\n",
    "#independent=dataset[[\"YearsExperience\",\"Salary\"]]\n",
    "\n",
    "#split input data x\n",
    "independent=dataset[[\"YearsExperience\"]]\n",
    "#split output data y\n",
    "dependent=dataset[[\"Salary\"]]\n",
    "\n",
    "#import lib ML supprot for split train & test\n",
    "from sklearn.model_selection import train_test_split\n",
    "#call assign x-input y=output train test\n",
    "x_train,x_test,y_train,y_test=train_test_split(independent, dependent, test_size=0.30, random_state=0)"
   ]
  },
  {
   "cell_type": "code",
   "execution_count": 3,
   "id": "40a4978b-3601-4a05-ac74-177428b518b6",
   "metadata": {},
   "outputs": [],
   "source": [
    "import pandas as pd\n",
    "#data collection\n",
    "dataset=pd.read_csv(\"Salary_Data.csv\")\n",
    "#input/output split \n",
    "inputdata=dataset[[\"YearsExperience\"]]\n",
    "outputdata=dataset[[\"Salary\"]]\n",
    "#train test split\n",
    "from sklearn.model_selection import train_test_split\n",
    "x_train,x_test,y_train,y_test=train_test_split(inputdata,outputdata,test_size=0.30,random_state=0)"
   ]
  },
  {
   "cell_type": "code",
   "execution_count": 6,
   "id": "187b13cd-908b-45a4-8936-c3054ad97754",
   "metadata": {},
   "outputs": [
    {
     "data": {
      "text/html": [
       "<div>\n",
       "<style scoped>\n",
       "    .dataframe tbody tr th:only-of-type {\n",
       "        vertical-align: middle;\n",
       "    }\n",
       "\n",
       "    .dataframe tbody tr th {\n",
       "        vertical-align: top;\n",
       "    }\n",
       "\n",
       "    .dataframe thead th {\n",
       "        text-align: right;\n",
       "    }\n",
       "</style>\n",
       "<table border=\"1\" class=\"dataframe\">\n",
       "  <thead>\n",
       "    <tr style=\"text-align: right;\">\n",
       "      <th></th>\n",
       "      <th>Salary</th>\n",
       "    </tr>\n",
       "  </thead>\n",
       "  <tbody>\n",
       "    <tr>\n",
       "      <th>2</th>\n",
       "      <td>37731.0</td>\n",
       "    </tr>\n",
       "    <tr>\n",
       "      <th>28</th>\n",
       "      <td>122391.0</td>\n",
       "    </tr>\n",
       "    <tr>\n",
       "      <th>13</th>\n",
       "      <td>57081.0</td>\n",
       "    </tr>\n",
       "    <tr>\n",
       "      <th>10</th>\n",
       "      <td>63218.0</td>\n",
       "    </tr>\n",
       "    <tr>\n",
       "      <th>26</th>\n",
       "      <td>116969.0</td>\n",
       "    </tr>\n",
       "    <tr>\n",
       "      <th>24</th>\n",
       "      <td>109431.0</td>\n",
       "    </tr>\n",
       "    <tr>\n",
       "      <th>27</th>\n",
       "      <td>112635.0</td>\n",
       "    </tr>\n",
       "    <tr>\n",
       "      <th>11</th>\n",
       "      <td>55794.0</td>\n",
       "    </tr>\n",
       "    <tr>\n",
       "      <th>17</th>\n",
       "      <td>83088.0</td>\n",
       "    </tr>\n",
       "  </tbody>\n",
       "</table>\n",
       "</div>"
      ],
      "text/plain": [
       "      Salary\n",
       "2    37731.0\n",
       "28  122391.0\n",
       "13   57081.0\n",
       "10   63218.0\n",
       "26  116969.0\n",
       "24  109431.0\n",
       "27  112635.0\n",
       "11   55794.0\n",
       "17   83088.0"
      ]
     },
     "execution_count": 6,
     "metadata": {},
     "output_type": "execute_result"
    }
   ],
   "source": [
    "y_test"
   ]
  },
  {
   "cell_type": "code",
   "execution_count": 13,
   "id": "c46467d0-7c0e-43a4-a8c7-d20018b9009a",
   "metadata": {},
   "outputs": [
    {
     "data": {
      "text/plain": [
       "0.9740993407213511"
      ]
     },
     "execution_count": 13,
     "metadata": {},
     "output_type": "execute_result"
    }
   ],
   "source": [
    "#data collection\n",
    "import pandas as pd\n",
    "dataset=pd.read_csv(\"Salary_Data.csv\")\n",
    "#input output split\n",
    "input1=dataset[[\"YearsExperience\"]]\n",
    "output1=dataset[[\"Salary\"]]\n",
    "\n",
    "#train test split\n",
    "from sklearn.model_selection import train_test_split \n",
    "x_train,x_test,y_tain,y_test=train_test_split(input1,output1,test_size=0.30,random_state=0)\n",
    "\n",
    "#model creation\n",
    "from sklearn.linear_model import LinearRegression\n",
    "regressor=LinearRegression()\n",
    "regressor.fit(x_train,y_train)\n",
    "\n",
    "#weight print\n",
    "weight=regressor.coef_\n",
    "weight\n",
    "\n",
    "#bais print\n",
    "bais=regressor.intercept_\n",
    "bais\n",
    "\n",
    "#metrics\n",
    "y_pred=regressor.predict(x_test)\n",
    "from sklearn.metrics import r2_score\n",
    "r_score=r2_score(y_test,y_pred)\n",
    "r_score"
   ]
  },
  {
   "cell_type": "code",
   "execution_count": null,
   "id": "e40de134-a728-4076-8af3-a5624dd2844d",
   "metadata": {},
   "outputs": [],
   "source": []
  }
 ],
 "metadata": {
  "kernelspec": {
   "display_name": "Python [conda env:base] *",
   "language": "python",
   "name": "conda-base-py"
  },
  "language_info": {
   "codemirror_mode": {
    "name": "ipython",
    "version": 3
   },
   "file_extension": ".py",
   "mimetype": "text/x-python",
   "name": "python",
   "nbconvert_exporter": "python",
   "pygments_lexer": "ipython3",
   "version": "3.13.5"
  }
 },
 "nbformat": 4,
 "nbformat_minor": 5
}
