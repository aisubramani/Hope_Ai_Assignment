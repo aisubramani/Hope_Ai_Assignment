{
 "cells": [
  {
   "cell_type": "code",
   "execution_count": 8,
   "id": "c713630b-8515-4d8c-a4d9-025afdb2ed39",
   "metadata": {},
   "outputs": [
    {
     "name": "stderr",
     "output_type": "stream",
     "text": [
      "C:\\Anaconda3\\Lib\\site-packages\\xgboost\\training.py:183: UserWarning: [13:13:20] WARNING: C:\\actions-runner\\_work\\xgboost\\xgboost\\src\\learner.cc:738: \n",
      "Parameters: { \"earning_rate\" } are not used.\n",
      "\n",
      "  bst.update(dtrain, iteration=i, fobj=obj)\n"
     ]
    },
    {
     "data": {
      "text/plain": [
       "0.8837963342666626"
      ]
     },
     "execution_count": 8,
     "metadata": {},
     "output_type": "execute_result"
    }
   ],
   "source": [
    "#Data collection\n",
    "import pandas as pd\n",
    "dataset=pd.read_csv(\"insurance_pre.csv\")\n",
    "\n",
    "#data preprocessing\n",
    "dataset=pd.get_dummies(dataset,drop_first=True).astype(int)\n",
    "\n",
    "#split input and output\n",
    "independent=dataset[['age', 'bmi', 'children', 'sex_male','smoker_yes']]\n",
    "dependent=dataset[['charges']]\n",
    "\n",
    "#split Train and test set\n",
    "from sklearn.model_selection import train_test_split\n",
    "X_train,X_test,y_train,y_test=train_test_split(independent, dependent, test_size=0.30, random_state=0)\n",
    "\n",
    "#model Creation: XGBoost Regressor\n",
    "# number of boosting rounds # step size shrinkage # depth of trees\n",
    "import xgboost as xgb\n",
    "regressor = xgb.XGBRegressor(n_estimators = 50, random_state = 0, earning_rate=0.1, max_depth=3)\n",
    "regressor.fit(X_train, y_train)\n",
    "\n",
    "#Evaluation Metrics\n",
    "y_pred=regressor.predict(X_test)\n",
    "from sklearn.metrics import r2_score\n",
    "r_score=r2_score(y_test,y_pred)\n",
    "r_score"
   ]
  },
  {
   "cell_type": "code",
   "execution_count": 9,
   "id": "67c9534f-b94b-45fd-b6dd-1bc744b0c644",
   "metadata": {},
   "outputs": [
    {
     "data": {
      "text/plain": [
       "array([17892.59], dtype=float32)"
      ]
     },
     "execution_count": 9,
     "metadata": {},
     "output_type": "execute_result"
    }
   ],
   "source": [
    "#save the Best Model\n",
    "import pickle\n",
    "filename=\"Best_Model_XGBoost_Regression.sav\"\n",
    "pickle.dump(regressor,open(filename,'wb'))\n",
    "result=regressor.predict([[19,27,0,0,1]])\n",
    "result"
   ]
  },
  {
   "cell_type": "code",
   "execution_count": null,
   "id": "fbd839a5-3ba2-4fde-ac43-cb10b20d3004",
   "metadata": {},
   "outputs": [],
   "source": []
  }
 ],
 "metadata": {
  "kernelspec": {
   "display_name": "Python [conda env:base] *",
   "language": "python",
   "name": "conda-base-py"
  },
  "language_info": {
   "codemirror_mode": {
    "name": "ipython",
    "version": 3
   },
   "file_extension": ".py",
   "mimetype": "text/x-python",
   "name": "python",
   "nbconvert_exporter": "python",
   "pygments_lexer": "ipython3",
   "version": "3.13.5"
  }
 },
 "nbformat": 4,
 "nbformat_minor": 5
}
