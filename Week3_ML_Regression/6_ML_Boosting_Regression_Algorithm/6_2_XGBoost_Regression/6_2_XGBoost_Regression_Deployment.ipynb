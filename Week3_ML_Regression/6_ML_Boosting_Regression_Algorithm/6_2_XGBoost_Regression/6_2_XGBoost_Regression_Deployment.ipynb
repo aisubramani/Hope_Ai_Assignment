{
 "cells": [
  {
   "cell_type": "code",
   "execution_count": 1,
   "id": "fca29563-29bd-4b95-bf35-09d3abe300ee",
   "metadata": {},
   "outputs": [
    {
     "name": "stdout",
     "output_type": "stream",
     "text": [
      "insurance charge: [17892.59]\n"
     ]
    }
   ],
   "source": [
    "# Deployment\n",
    "#pickle is library for save model \n",
    "import pickle\n",
    "#load the model\n",
    "load_model=pickle.load(open(\"Best_Model_XGBoost_Regression.sav\",\"rb\"))\n",
    "\n",
    "#Get inputs from user for predict the model\n",
    "result=load_model.predict([[19,27,0,0,1]])\n",
    "print(\"insurance charge:\",result)"
   ]
  },
  {
   "cell_type": "code",
   "execution_count": null,
   "id": "77af287e-5ba9-435c-a083-46a8681af469",
   "metadata": {},
   "outputs": [],
   "source": []
  }
 ],
 "metadata": {
  "kernelspec": {
   "display_name": "Python [conda env:base] *",
   "language": "python",
   "name": "conda-base-py"
  },
  "language_info": {
   "codemirror_mode": {
    "name": "ipython",
    "version": 3
   },
   "file_extension": ".py",
   "mimetype": "text/x-python",
   "name": "python",
   "nbconvert_exporter": "python",
   "pygments_lexer": "ipython3",
   "version": "3.13.5"
  }
 },
 "nbformat": 4,
 "nbformat_minor": 5
}
