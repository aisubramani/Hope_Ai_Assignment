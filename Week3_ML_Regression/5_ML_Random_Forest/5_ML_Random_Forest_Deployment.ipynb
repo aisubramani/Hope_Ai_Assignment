{
 "cells": [
  {
   "cell_type": "code",
   "execution_count": 1,
   "id": "fca29563-29bd-4b95-bf35-09d3abe300ee",
   "metadata": {},
   "outputs": [],
   "source": [
    "# Deployment\n",
    "#-----------\n",
    "#pickle is library for save model \n",
    "import pickle\n",
    "#7. load the model\n",
    "#-----------------\n",
    "#load the model from file.sav :r-read, b binary\n",
    "load_model=pickle.load(open(\"finalized_Random_Forest_Model.sav\",\"rb\"))"
   ]
  },
  {
   "cell_type": "code",
   "execution_count": 2,
   "id": "3316ff51-d74b-4da6-b5b3-cec973d1badb",
   "metadata": {},
   "outputs": [
    {
     "name": "stdout",
     "output_type": "stream",
     "text": [
      "Profit  [48486.93333333]\n",
      "Profit  [189426.51666667]\n"
     ]
    },
    {
     "name": "stderr",
     "output_type": "stream",
     "text": [
      "C:\\Anaconda3\\Lib\\site-packages\\sklearn\\utils\\validation.py:2739: UserWarning: X does not have valid feature names, but RandomForestRegressor was fitted with feature names\n",
      "  warnings.warn(\n",
      "C:\\Anaconda3\\Lib\\site-packages\\sklearn\\utils\\validation.py:2739: UserWarning: X does not have valid feature names, but RandomForestRegressor was fitted with feature names\n",
      "  warnings.warn(\n"
     ]
    }
   ],
   "source": [
    "#8.get inputs from user for predict the model\n",
    "result=load_model.predict([[1234,345,4565,1,0]])\n",
    "print(\"Profit \",result)\n",
    "result=load_model.predict([[165349,136897,471784,0,1]])\n",
    "print(\"Profit \",result)\n",
    "#Profit  [49490.]\n",
    "#Profit  [192261.]"
   ]
  },
  {
   "cell_type": "code",
   "execution_count": null,
   "id": "77af287e-5ba9-435c-a083-46a8681af469",
   "metadata": {},
   "outputs": [],
   "source": []
  }
 ],
 "metadata": {
  "kernelspec": {
   "display_name": "Python [conda env:base] *",
   "language": "python",
   "name": "conda-base-py"
  },
  "language_info": {
   "codemirror_mode": {
    "name": "ipython",
    "version": 3
   },
   "file_extension": ".py",
   "mimetype": "text/x-python",
   "name": "python",
   "nbconvert_exporter": "python",
   "pygments_lexer": "ipython3",
   "version": "3.13.5"
  }
 },
 "nbformat": 4,
 "nbformat_minor": 5
}
