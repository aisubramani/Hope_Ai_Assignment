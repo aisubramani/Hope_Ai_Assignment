{
 "cells": [
  {
   "cell_type": "code",
   "execution_count": 16,
   "id": "fca29563-29bd-4b95-bf35-09d3abe300ee",
   "metadata": {},
   "outputs": [
    {
     "name": "stdout",
     "output_type": "stream",
     "text": [
      "[[-0.81907079  0.43819566  1.59428492  1.02378711 -0.50466988]]\n",
      "insurance charge: [[5208.12388935]]\n",
      "insurance charge: [[30982.80776699]]\n"
     ]
    },
    {
     "name": "stderr",
     "output_type": "stream",
     "text": [
      "C:\\Anaconda3\\Lib\\site-packages\\sklearn\\utils\\validation.py:2739: UserWarning: X does not have valid feature names, but StandardScaler was fitted with feature names\n",
      "  warnings.warn(\n",
      "C:\\Anaconda3\\Lib\\site-packages\\sklearn\\utils\\validation.py:2739: UserWarning: X does not have valid feature names, but StandardScaler was fitted with feature names\n",
      "  warnings.warn(\n"
     ]
    }
   ],
   "source": [
    "#data collection\n",
    "import numpy as np\n",
    "import matplotlib.pyplot as plt\n",
    "import pandas as pd\n",
    "dataset=pd.read_csv(\"insurance_pre.csv\")\n",
    "#preprocessing\n",
    "dataset=pd.get_dummies(dataset,drop_first=True).astype(int)\n",
    "#split input & out put\n",
    "independent=dataset[['age', 'bmi', 'children','sex_male', 'smoker_yes']]\n",
    "dependent=dataset['charges']\n",
    "#split train and test\n",
    "from sklearn.model_selection import train_test_split\n",
    "#call \n",
    "x_train,x_test,y_train,y_test=train_test_split(independent, dependent, test_size=0.30, random_state=0)\n",
    "#standardistion X input \n",
    "from sklearn.preprocessing import StandardScaler\n",
    "sc=StandardScaler()\n",
    "x_train=sc.fit_transform(x_train)\n",
    "x_test=sc.transform(x_test)\n",
    "#standardistion y output\n",
    "scy=StandardScaler()\n",
    "y_train=scy.fit_transform(y_train.values.reshape(-1,1))\n",
    "y_test=scy.transform(y_test.values.reshape(-1,1))\n",
    "\n",
    "# Deployment\n",
    "#pickle is library for save model \n",
    "import pickle\n",
    "#load the model\n",
    "load_model=pickle.load(open(\"final_Prepro_XY_model_SVR.sav\",\"rb\"))\n",
    "\n",
    "#example input from dataset\n",
    "# Age  BMI   Children   Male=0,Female=1  Smoker=Yes:0,No:1   charges\n",
    "# 19   27       0         0                  1              16884.924\n",
    "# 18   33       1         1                  0              1725.5523\n",
    "# 28   33       3         1                  0              4449.462\n",
    " \n",
    "#apply StandardScaler to user input\n",
    "preinput=sc.transform([[28,33,3,1,0]])\n",
    "print(preinput)\n",
    "result=load_model.predict(preinput)\n",
    "#apply StandardScaler to output\n",
    "preoutput=scy.inverse_transform([result])\n",
    "print(\"insurance charge:\",preoutput)\n",
    "\n",
    "preinput=sc.transform([[19,27,0,0,1]])\n",
    "result=load_model.predict(preinput)\n",
    "preoutput=scy.inverse_transform([result])\n",
    "print(\"insurance charge:\",preoutput)\n"
   ]
  },
  {
   "cell_type": "code",
   "execution_count": null,
   "id": "77af287e-5ba9-435c-a083-46a8681af469",
   "metadata": {},
   "outputs": [],
   "source": []
  },
  {
   "cell_type": "code",
   "execution_count": null,
   "id": "ebc83fee-06bf-484f-a149-7f9d16c2338b",
   "metadata": {},
   "outputs": [],
   "source": []
  }
 ],
 "metadata": {
  "kernelspec": {
   "display_name": "Python [conda env:base] *",
   "language": "python",
   "name": "conda-base-py"
  },
  "language_info": {
   "codemirror_mode": {
    "name": "ipython",
    "version": 3
   },
   "file_extension": ".py",
   "mimetype": "text/x-python",
   "name": "python",
   "nbconvert_exporter": "python",
   "pygments_lexer": "ipython3",
   "version": "3.13.5"
  }
 },
 "nbformat": 4,
 "nbformat_minor": 5
}
